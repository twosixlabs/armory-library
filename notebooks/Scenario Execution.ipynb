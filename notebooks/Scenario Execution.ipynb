{
 "cells": [
  {
   "cell_type": "code",
   "execution_count": 1,
   "id": "a43b824a-4e29-4cc1-b8c8-39ccf7dfb33b",
   "metadata": {},
   "outputs": [
    {
     "name": "stdout",
     "output_type": "stream",
     "text": [
      "2022-04-25 21:14:46  5s \u001b[1mINFO    \u001b[0m \u001b[36mart.config\u001b[0m:\u001b[36mset_data_path\u001b[0m:\u001b[36m55\u001b[0m set ART_DATA_PATH to /tmp/.art/data\n",
      "2022-04-25 21:14:47  6s \u001b[1mINFO    \u001b[0m \u001b[36mart.config\u001b[0m:\u001b[36mset_data_path\u001b[0m:\u001b[36m55\u001b[0m set ART_DATA_PATH to /armory/saved_models/art\n",
      "2022-04-25 21:14:48  6s \u001b[1mINFO    \u001b[0m \u001b[36marmory.scenarios.main\u001b[0m:\u001b[36m_scenario_setup\u001b[0m:\u001b[36m49\u001b[0m armory outputs and logs will be written to /armory/outputs/2022-04-25T211217.290316\n"
     ]
    },
    {
     "name": "stderr",
     "output_type": "stream",
     "text": [
      "/opt/conda/lib/python3.8/site-packages/urllib3/connectionpool.py:1013: InsecureRequestWarning: Unverified HTTPS request is being made to host 'api.github.com'. Adding certificate verification is strongly advised. See: https://urllib3.readthedocs.io/en/1.26.x/advanced-usage.html#ssl-warnings\n",
      "  warnings.warn(\n"
     ]
    },
    {
     "name": "stdout",
     "output_type": "stream",
     "text": [
      "2022-04-25 21:14:49  7s \u001b[1mINFO    \u001b[0m \u001b[36marmory.utils.external_repo\u001b[0m:\u001b[36mdownload_and_extract_repo\u001b[0m:\u001b[36m129\u001b[0m Downloading external repo: colour-science/colour@v0.3.16\n"
     ]
    },
    {
     "name": "stderr",
     "output_type": "stream",
     "text": [
      "/opt/conda/lib/python3.8/site-packages/urllib3/connectionpool.py:1013: InsecureRequestWarning: Unverified HTTPS request is being made to host 'codeload.github.com'. Adding certificate verification is strongly advised. See: https://urllib3.readthedocs.io/en/1.26.x/advanced-usage.html#ssl-warnings\n",
      "  warnings.warn(\n"
     ]
    },
    {
     "name": "stdout",
     "output_type": "stream",
     "text": [
      "2022-04-25 21:14:50  8s \u001b[1mINFO    \u001b[0m \u001b[36marmory.data.utils\u001b[0m:\u001b[36mmaybe_download_weights_from_s3\u001b[0m:\u001b[36m47\u001b[0m Using available carla_rgb_weights.pt in Armory `saved_model_dir`\n",
      "2022-04-25 21:14:54 13s \u001b[1mINFO    \u001b[0m \u001b[36mmatplotlib.font_manager\u001b[0m:\u001b[36m_load_fontmanager\u001b[0m:\u001b[36m1443\u001b[0m generated new fontManager\n",
      "2022-04-25 21:14:55 13s \u001b[1mINFO    \u001b[0m \u001b[36marmory.scenarios.scenario\u001b[0m:\u001b[36mload_dataset\u001b[0m:\u001b[36m189\u001b[0m Loading test dataset carla_obj_det_dev...\n"
     ]
    }
   ],
   "source": [
    "# Load scenario, following instructions logged to console\n",
    "from armory.scenarios.main import get as get_scenario\n",
    "s = get_scenario(\"/armory/tmp/2022-04-25T211217.290316/interactive-config.json\").load()"
   ]
  },
  {
   "cell_type": "code",
   "execution_count": 2,
   "id": "29c4c85c-d819-4da8-a0e5-aaa3457ac792",
   "metadata": {},
   "outputs": [
    {
     "name": "stdout",
     "output_type": "stream",
     "text": [
      "2022-04-25 21:18:17 3m36s \u001b[1mINFO    \u001b[0m \u001b[36marmory.data.utils\u001b[0m:\u001b[36mmaybe_download_weights_from_s3\u001b[0m:\u001b[36m47\u001b[0m Using available carla_rgb_weights.pt in Armory `saved_model_dir`\n",
      "2022-04-25 21:18:18 3m36s \u001b[1mINFO    \u001b[0m \u001b[36marmory.scenarios.scenario\u001b[0m:\u001b[36mload_dataset\u001b[0m:\u001b[36m189\u001b[0m Loading test dataset carla_obj_det_dev...\n"
     ]
    },
    {
     "data": {
      "text/plain": [
       "<armory.scenarios.carla_object_detection.CarlaObjectDetectionTask at 0x7efdad4a1f70>"
      ]
     },
     "execution_count": 2,
     "metadata": {},
     "output_type": "execute_result"
    }
   ],
   "source": [
    "# calling load() will load all pieces needed to run the scenario: model, attack, dataset, etc.\n",
    "s.load()"
   ]
  },
  {
   "cell_type": "code",
   "execution_count": 3,
   "id": "d3167e3b-f527-445f-a581-dee861713c5c",
   "metadata": {},
   "outputs": [],
   "source": [
    "# calling next() grabs the next batch from the dataset\n",
    "s.next()"
   ]
  },
  {
   "cell_type": "code",
   "execution_count": 5,
   "id": "c9e8b9e2-e85e-40ee-92fa-91e335c66e82",
   "metadata": {},
   "outputs": [
    {
     "data": {
      "text/plain": [
       "(1, 600, 800, 3)"
      ]
     },
     "execution_count": 5,
     "metadata": {},
     "output_type": "execute_result"
    }
   ],
   "source": [
    "# we can now inspect x and y\n",
    "s.x.shape"
   ]
  },
  {
   "cell_type": "code",
   "execution_count": 6,
   "id": "44eba4c6-cbbd-46c7-98f4-275f937af875",
   "metadata": {},
   "outputs": [
    {
     "data": {
      "text/plain": [
       "[{'area': array([   68,   390,   221,     1,     5,     1, 24966]),\n",
       "  'boxes': array([[ 226. ,  296. ,  230. ,  313. ],\n",
       "         [ 391. ,  300. ,  404. ,  330. ],\n",
       "         [ 423. ,  301. ,  440. ,  314. ],\n",
       "         [ 231. ,  304. ,  232. ,  305. ],\n",
       "         [ 250. ,  305. ,  251. ,  310. ],\n",
       "         [ 392. ,  310. ,  393. ,  311. ],\n",
       "         [ 618.5,   45.5,  790.5,  192.5]], dtype=float32),\n",
       "  'id': array([908, 909, 910, 911, 912, 913, 914]),\n",
       "  'image_id': array([135, 135, 135, 135, 135, 135, 135]),\n",
       "  'is_crowd': array([False, False, False, False, False, False, False], dtype=bool),\n",
       "  'labels': array([1, 1, 2, 1, 1, 2, 4])}]"
      ]
     },
     "execution_count": 6,
     "metadata": {},
     "output_type": "execute_result"
    }
   ],
   "source": [
    "s.y"
   ]
  },
  {
   "cell_type": "code",
   "execution_count": 7,
   "id": "8fd30f89-65cb-460a-85da-8d80265804b6",
   "metadata": {},
   "outputs": [
    {
     "name": "stderr",
     "output_type": "stream",
     "text": [
      "/opt/conda/lib/python3.8/site-packages/torch/functional.py:445: UserWarning: torch.meshgrid: in an upcoming release, it will be required to pass the indexing argument. (Triggered internally at  /opt/conda/conda-bld/pytorch_1640811806235/work/aten/src/ATen/native/TensorShape.cpp:2157.)\n",
      "  return _VF.meshgrid(tensors, **kwargs)  # type: ignore[attr-defined]\n"
     ]
    },
    {
     "data": {
      "text/plain": [
       "[{'boxes': array([[ 423.51212,  302.28876,  440.1471 ,  313.57446],\n",
       "         [ 391.30304,  299.27673,  403.08627,  331.5911 ],\n",
       "         [ 226.25038,  295.24564,  232.24677,  314.92917],\n",
       "         [ 258.00345,  296.3208 ,  261.2475 ,  309.08154]], dtype=float32),\n",
       "  'labels': array([2, 1, 1, 1]),\n",
       "  'scores': array([ 0.99977905,  0.9994931 ,  0.98838913,  0.37197328], dtype=float32)}]"
      ]
     },
     "execution_count": 7,
     "metadata": {},
     "output_type": "execute_result"
    }
   ],
   "source": [
    "# the run_benign() method evaluates the model on the benign sample\n",
    "s.run_benign()\n",
    "s.y_pred"
   ]
  },
  {
   "cell_type": "code",
   "execution_count": 8,
   "id": "c3691ae8-1929-433d-bcee-478a77820696",
   "metadata": {},
   "outputs": [
    {
     "ename": "ImportError",
     "evalue": "IProgress not found. Please update jupyter and ipywidgets. See https://ipywidgets.readthedocs.io/en/stable/user_install.html",
     "output_type": "error",
     "traceback": [
      "\u001b[0;31m\u001b[0m",
      "\u001b[0;31mImportError\u001b[0mTraceback (most recent call last)",
      "Input \u001b[0;32mIn [8]\u001b[0m, in \u001b[0;36m<cell line: 2>\u001b[0;34m()\u001b[0m\n\u001b[1;32m      1\u001b[0m \u001b[38;5;66;03m# the run_attack() method generates the adversarial sample and runs the model on this perturbed input\u001b[39;00m\n\u001b[0;32m----> 2\u001b[0m \u001b[43ms\u001b[49m\u001b[38;5;241;43m.\u001b[39;49m\u001b[43mrun_attack\u001b[49m\u001b[43m(\u001b[49m\u001b[43m)\u001b[49m\n\u001b[1;32m      3\u001b[0m s\u001b[38;5;241m.\u001b[39mx_adv\u001b[38;5;241m.\u001b[39mshape\n",
      "File \u001b[0;32m/workspace/armory/scenarios/carla_object_detection.py:64\u001b[0m, in \u001b[0;36mCarlaObjectDetectionTask.run_attack\u001b[0;34m(self)\u001b[0m\n\u001b[1;32m     61\u001b[0m     \u001b[38;5;28;01melse\u001b[39;00m:\n\u001b[1;32m     62\u001b[0m         y_target \u001b[38;5;241m=\u001b[39m \u001b[38;5;28;01mNone\u001b[39;00m\n\u001b[0;32m---> 64\u001b[0m     x_adv \u001b[38;5;241m=\u001b[39m \u001b[38;5;28;43mself\u001b[39;49m\u001b[38;5;241;43m.\u001b[39;49m\u001b[43mattack\u001b[49m\u001b[38;5;241;43m.\u001b[39;49m\u001b[43mgenerate\u001b[49m\u001b[43m(\u001b[49m\n\u001b[1;32m     65\u001b[0m \u001b[43m        \u001b[49m\u001b[43mx\u001b[49m\u001b[38;5;241;43m=\u001b[39;49m\u001b[43mx\u001b[49m\u001b[43m,\u001b[49m\n\u001b[1;32m     66\u001b[0m \u001b[43m        \u001b[49m\u001b[43my\u001b[49m\u001b[38;5;241;43m=\u001b[39;49m\u001b[43my_target\u001b[49m\u001b[43m,\u001b[49m\n\u001b[1;32m     67\u001b[0m \u001b[43m        \u001b[49m\u001b[43my_patch_metadata\u001b[49m\u001b[38;5;241;43m=\u001b[39;49m\u001b[38;5;28;43mself\u001b[39;49m\u001b[38;5;241;43m.\u001b[39;49m\u001b[43my_patch_metadata\u001b[49m\u001b[43m,\u001b[49m\n\u001b[1;32m     68\u001b[0m \u001b[43m        \u001b[49m\u001b[38;5;241;43m*\u001b[39;49m\u001b[38;5;241;43m*\u001b[39;49m\u001b[38;5;28;43mself\u001b[39;49m\u001b[38;5;241;43m.\u001b[39;49m\u001b[43mgenerate_kwargs\u001b[49m\u001b[43m,\u001b[49m\n\u001b[1;32m     69\u001b[0m \u001b[43m    \u001b[49m\u001b[43m)\u001b[49m\n\u001b[1;32m     71\u001b[0m \u001b[38;5;66;03m# Ensure that input sample isn't overwritten by model\u001b[39;00m\n\u001b[1;32m     72\u001b[0m x_adv\u001b[38;5;241m.\u001b[39mflags\u001b[38;5;241m.\u001b[39mwriteable \u001b[38;5;241m=\u001b[39m \u001b[38;5;28;01mFalse\u001b[39;00m\n",
      "File \u001b[0;32m/workspace/armory/art_experimental/attacks/carla_obj_det_patch.py:647\u001b[0m, in \u001b[0;36mCARLADapricotPatch.generate\u001b[0;34m(self, x, y, y_patch_metadata)\u001b[0m\n\u001b[1;32m    644\u001b[0m     \u001b[38;5;28mself\u001b[39m\u001b[38;5;241m.\u001b[39m_patch[:, :, \u001b[38;5;241m3\u001b[39m:] \u001b[38;5;241m=\u001b[39m avg_patch_depth\n\u001b[1;32m    646\u001b[0m \u001b[38;5;28;01mif\u001b[39;00m y \u001b[38;5;129;01mis\u001b[39;00m \u001b[38;5;28;01mNone\u001b[39;00m:\n\u001b[0;32m--> 647\u001b[0m     patch \u001b[38;5;241m=\u001b[39m \u001b[38;5;28;43mself\u001b[39;49m\u001b[38;5;241;43m.\u001b[39;49m\u001b[43minner_generate\u001b[49m\u001b[43m(\u001b[49m\n\u001b[1;32m    648\u001b[0m \u001b[43m        \u001b[49m\u001b[43mnp\u001b[49m\u001b[38;5;241;43m.\u001b[39;49m\u001b[43mexpand_dims\u001b[49m\u001b[43m(\u001b[49m\u001b[43mx\u001b[49m\u001b[43m[\u001b[49m\u001b[43mi\u001b[49m\u001b[43m]\u001b[49m\u001b[43m,\u001b[49m\u001b[43m \u001b[49m\u001b[43maxis\u001b[49m\u001b[38;5;241;43m=\u001b[39;49m\u001b[38;5;241;43m0\u001b[39;49m\u001b[43m)\u001b[49m\n\u001b[1;32m    649\u001b[0m \u001b[43m    \u001b[49m\u001b[43m)\u001b[49m  \u001b[38;5;66;03m# untargeted attack\u001b[39;00m\n\u001b[1;32m    650\u001b[0m \u001b[38;5;28;01melse\u001b[39;00m:\n\u001b[1;32m    651\u001b[0m     patch \u001b[38;5;241m=\u001b[39m \u001b[38;5;28mself\u001b[39m\u001b[38;5;241m.\u001b[39minner_generate(\n\u001b[1;32m    652\u001b[0m         np\u001b[38;5;241m.\u001b[39mexpand_dims(x[i], axis\u001b[38;5;241m=\u001b[39m\u001b[38;5;241m0\u001b[39m), y\u001b[38;5;241m=\u001b[39m[y[i]]\n\u001b[1;32m    653\u001b[0m     )  \u001b[38;5;66;03m# targeted attack\u001b[39;00m\n",
      "File \u001b[0;32m/workspace/armory/art_experimental/attacks/carla_obj_det_patch.py:337\u001b[0m, in \u001b[0;36mCARLADapricotPatch.inner_generate\u001b[0;34m(self, x, y, **kwargs)\u001b[0m\n\u001b[1;32m    329\u001b[0m \u001b[38;5;28;01mif\u001b[39;00m (  \u001b[38;5;66;03m# pragma: no cover\u001b[39;00m\n\u001b[1;32m    330\u001b[0m     \u001b[38;5;28mself\u001b[39m\u001b[38;5;241m.\u001b[39mpatch_location[\u001b[38;5;241m0\u001b[39m] \u001b[38;5;241m+\u001b[39m \u001b[38;5;28mself\u001b[39m\u001b[38;5;241m.\u001b[39mpatch_shape[\u001b[38;5;241m0\u001b[39m]\n\u001b[1;32m    331\u001b[0m     \u001b[38;5;241m>\u001b[39m image_height \u001b[38;5;241m-\u001b[39m \u001b[38;5;28mself\u001b[39m\u001b[38;5;241m.\u001b[39mcrop_range[\u001b[38;5;241m0\u001b[39m]\n\u001b[1;32m    332\u001b[0m     \u001b[38;5;129;01mor\u001b[39;00m \u001b[38;5;28mself\u001b[39m\u001b[38;5;241m.\u001b[39mpatch_location[\u001b[38;5;241m1\u001b[39m] \u001b[38;5;241m+\u001b[39m \u001b[38;5;28mself\u001b[39m\u001b[38;5;241m.\u001b[39mpatch_shape[\u001b[38;5;241m1\u001b[39m]\n\u001b[1;32m    333\u001b[0m     \u001b[38;5;241m>\u001b[39m image_width \u001b[38;5;241m-\u001b[39m \u001b[38;5;28mself\u001b[39m\u001b[38;5;241m.\u001b[39mcrop_range[\u001b[38;5;241m1\u001b[39m]\n\u001b[1;32m    334\u001b[0m ):\n\u001b[1;32m    335\u001b[0m     \u001b[38;5;28;01mraise\u001b[39;00m \u001b[38;5;167;01mValueError\u001b[39;00m(\u001b[38;5;124m\"\u001b[39m\u001b[38;5;124mThe patch (partially) lies outside the cropped image.\u001b[39m\u001b[38;5;124m\"\u001b[39m)\n\u001b[0;32m--> 337\u001b[0m \u001b[38;5;28;01mfor\u001b[39;00m i_step \u001b[38;5;129;01min\u001b[39;00m \u001b[43mtrange\u001b[49m\u001b[43m(\u001b[49m\n\u001b[1;32m    338\u001b[0m \u001b[43m    \u001b[49m\u001b[38;5;28;43mself\u001b[39;49m\u001b[38;5;241;43m.\u001b[39;49m\u001b[43mmax_iter\u001b[49m\u001b[43m,\u001b[49m\u001b[43m \u001b[49m\u001b[43mdesc\u001b[49m\u001b[38;5;241;43m=\u001b[39;49m\u001b[38;5;124;43m\"\u001b[39;49m\u001b[38;5;124;43mRobustDPatch iteration\u001b[39;49m\u001b[38;5;124;43m\"\u001b[39;49m\u001b[43m,\u001b[49m\u001b[43m \u001b[49m\u001b[43mdisable\u001b[49m\u001b[38;5;241;43m=\u001b[39;49m\u001b[38;5;129;43;01mnot\u001b[39;49;00m\u001b[43m \u001b[49m\u001b[38;5;28;43mself\u001b[39;49m\u001b[38;5;241;43m.\u001b[39;49m\u001b[43mverbose\u001b[49m\n\u001b[1;32m    339\u001b[0m \u001b[43m\u001b[49m\u001b[43m)\u001b[49m:\n\u001b[1;32m    340\u001b[0m     num_batches \u001b[38;5;241m=\u001b[39m math\u001b[38;5;241m.\u001b[39mceil(x\u001b[38;5;241m.\u001b[39mshape[\u001b[38;5;241m0\u001b[39m] \u001b[38;5;241m/\u001b[39m \u001b[38;5;28mself\u001b[39m\u001b[38;5;241m.\u001b[39mbatch_size)\n\u001b[1;32m    341\u001b[0m     patch_gradients_old \u001b[38;5;241m=\u001b[39m np\u001b[38;5;241m.\u001b[39mzeros_like(\u001b[38;5;28mself\u001b[39m\u001b[38;5;241m.\u001b[39m_patch)\n",
      "File \u001b[0;32m/opt/conda/lib/python3.8/site-packages/tqdm/auto.py:42\u001b[0m, in \u001b[0;36mtrange\u001b[0;34m(*args, **kwargs)\u001b[0m\n\u001b[1;32m     38\u001b[0m \u001b[38;5;28;01mdef\u001b[39;00m \u001b[38;5;21mtrange\u001b[39m(\u001b[38;5;241m*\u001b[39margs, \u001b[38;5;241m*\u001b[39m\u001b[38;5;241m*\u001b[39mkwargs):\n\u001b[1;32m     39\u001b[0m     \u001b[38;5;124;03m\"\"\"\u001b[39;00m\n\u001b[1;32m     40\u001b[0m \u001b[38;5;124;03m    A shortcut for `tqdm.auto.tqdm(range(*args), **kwargs)`.\u001b[39;00m\n\u001b[1;32m     41\u001b[0m \u001b[38;5;124;03m    \"\"\"\u001b[39;00m\n\u001b[0;32m---> 42\u001b[0m     \u001b[38;5;28;01mreturn\u001b[39;00m \u001b[43mtqdm\u001b[49m\u001b[43m(\u001b[49m\u001b[38;5;28;43mrange\u001b[39;49m\u001b[43m(\u001b[49m\u001b[38;5;241;43m*\u001b[39;49m\u001b[43margs\u001b[49m\u001b[43m)\u001b[49m\u001b[43m,\u001b[49m\u001b[43m \u001b[49m\u001b[38;5;241;43m*\u001b[39;49m\u001b[38;5;241;43m*\u001b[39;49m\u001b[43mkwargs\u001b[49m\u001b[43m)\u001b[49m\n",
      "File \u001b[0;32m/opt/conda/lib/python3.8/site-packages/tqdm/notebook.py:239\u001b[0m, in \u001b[0;36mtqdm_notebook.__init__\u001b[0;34m(self, *args, **kwargs)\u001b[0m\n\u001b[1;32m    237\u001b[0m unit_scale \u001b[38;5;241m=\u001b[39m \u001b[38;5;241m1\u001b[39m \u001b[38;5;28;01mif\u001b[39;00m \u001b[38;5;28mself\u001b[39m\u001b[38;5;241m.\u001b[39munit_scale \u001b[38;5;129;01mis\u001b[39;00m \u001b[38;5;28;01mTrue\u001b[39;00m \u001b[38;5;28;01melse\u001b[39;00m \u001b[38;5;28mself\u001b[39m\u001b[38;5;241m.\u001b[39munit_scale \u001b[38;5;129;01mor\u001b[39;00m \u001b[38;5;241m1\u001b[39m\n\u001b[1;32m    238\u001b[0m total \u001b[38;5;241m=\u001b[39m \u001b[38;5;28mself\u001b[39m\u001b[38;5;241m.\u001b[39mtotal \u001b[38;5;241m*\u001b[39m unit_scale \u001b[38;5;28;01mif\u001b[39;00m \u001b[38;5;28mself\u001b[39m\u001b[38;5;241m.\u001b[39mtotal \u001b[38;5;28;01melse\u001b[39;00m \u001b[38;5;28mself\u001b[39m\u001b[38;5;241m.\u001b[39mtotal\n\u001b[0;32m--> 239\u001b[0m \u001b[38;5;28mself\u001b[39m\u001b[38;5;241m.\u001b[39mcontainer \u001b[38;5;241m=\u001b[39m \u001b[38;5;28;43mself\u001b[39;49m\u001b[38;5;241;43m.\u001b[39;49m\u001b[43mstatus_printer\u001b[49m\u001b[43m(\u001b[49m\u001b[38;5;28;43mself\u001b[39;49m\u001b[38;5;241;43m.\u001b[39;49m\u001b[43mfp\u001b[49m\u001b[43m,\u001b[49m\u001b[43m \u001b[49m\u001b[43mtotal\u001b[49m\u001b[43m,\u001b[49m\u001b[43m \u001b[49m\u001b[38;5;28;43mself\u001b[39;49m\u001b[38;5;241;43m.\u001b[39;49m\u001b[43mdesc\u001b[49m\u001b[43m,\u001b[49m\u001b[43m \u001b[49m\u001b[38;5;28;43mself\u001b[39;49m\u001b[38;5;241;43m.\u001b[39;49m\u001b[43mncols\u001b[49m\u001b[43m)\u001b[49m\n\u001b[1;32m    240\u001b[0m \u001b[38;5;28mself\u001b[39m\u001b[38;5;241m.\u001b[39mcontainer\u001b[38;5;241m.\u001b[39mpbar \u001b[38;5;241m=\u001b[39m \u001b[38;5;28mself\u001b[39m\n\u001b[1;32m    241\u001b[0m \u001b[38;5;28mself\u001b[39m\u001b[38;5;241m.\u001b[39mdisplayed \u001b[38;5;241m=\u001b[39m \u001b[38;5;28;01mFalse\u001b[39;00m\n",
      "File \u001b[0;32m/opt/conda/lib/python3.8/site-packages/tqdm/notebook.py:112\u001b[0m, in \u001b[0;36mtqdm_notebook.status_printer\u001b[0;34m(_, total, desc, ncols)\u001b[0m\n\u001b[1;32m    103\u001b[0m \u001b[38;5;66;03m# Fallback to text bar if there's no total\u001b[39;00m\n\u001b[1;32m    104\u001b[0m \u001b[38;5;66;03m# DEPRECATED: replaced with an 'info' style bar\u001b[39;00m\n\u001b[1;32m    105\u001b[0m \u001b[38;5;66;03m# if not total:\u001b[39;00m\n\u001b[0;32m   (...)\u001b[0m\n\u001b[1;32m    109\u001b[0m \n\u001b[1;32m    110\u001b[0m \u001b[38;5;66;03m# Prepare IPython progress bar\u001b[39;00m\n\u001b[1;32m    111\u001b[0m \u001b[38;5;28;01mif\u001b[39;00m IProgress \u001b[38;5;129;01mis\u001b[39;00m \u001b[38;5;28;01mNone\u001b[39;00m:  \u001b[38;5;66;03m# #187 #451 #558 #872\u001b[39;00m\n\u001b[0;32m--> 112\u001b[0m     \u001b[38;5;28;01mraise\u001b[39;00m \u001b[38;5;167;01mImportError\u001b[39;00m(\n\u001b[1;32m    113\u001b[0m         \u001b[38;5;124m\"\u001b[39m\u001b[38;5;124mIProgress not found. Please update jupyter and ipywidgets.\u001b[39m\u001b[38;5;124m\"\u001b[39m\n\u001b[1;32m    114\u001b[0m         \u001b[38;5;124m\"\u001b[39m\u001b[38;5;124m See https://ipywidgets.readthedocs.io/en/stable\u001b[39m\u001b[38;5;124m\"\u001b[39m\n\u001b[1;32m    115\u001b[0m         \u001b[38;5;124m\"\u001b[39m\u001b[38;5;124m/user_install.html\u001b[39m\u001b[38;5;124m\"\u001b[39m)\n\u001b[1;32m    116\u001b[0m \u001b[38;5;28;01mif\u001b[39;00m total:\n\u001b[1;32m    117\u001b[0m     pbar \u001b[38;5;241m=\u001b[39m IProgress(\u001b[38;5;28mmin\u001b[39m\u001b[38;5;241m=\u001b[39m\u001b[38;5;241m0\u001b[39m, \u001b[38;5;28mmax\u001b[39m\u001b[38;5;241m=\u001b[39mtotal)\n",
      "\u001b[0;31mImportError\u001b[0m: IProgress not found. Please update jupyter and ipywidgets. See https://ipywidgets.readthedocs.io/en/stable/user_install.html"
     ]
    }
   ],
   "source": [
    "# the run_attack() method generates the adversarial sample and runs the model on this perturbed input\n",
    "s.run_attack()\n",
    "s.x_adv.shape"
   ]
  },
  {
   "cell_type": "code",
   "execution_count": null,
   "id": "7cc12677-c8bf-4c50-b1fd-cba647ac224f",
   "metadata": {},
   "outputs": [],
   "source": []
  }
 ],
 "metadata": {
  "kernelspec": {
   "display_name": "Python 3",
   "language": "python",
   "name": "python3"
  },
  "language_info": {
   "codemirror_mode": {
    "name": "ipython",
    "version": 3
   },
   "file_extension": ".py",
   "mimetype": "text/x-python",
   "name": "python",
   "nbconvert_exporter": "python",
   "pygments_lexer": "ipython3",
   "version": "3.8.10"
  }
 },
 "nbformat": 4,
 "nbformat_minor": 5
}
