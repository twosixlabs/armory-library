{
 "cells": [
  {
   "cell_type": "markdown",
   "metadata": {},
   "source": [
    "## Prerequisite concepts in an Armory context\n",
    "\n",
    "### Dataset\n",
    "\n",
    "A dataset is a collection of images (samples) in a sequence-like structure such as a\n",
    "tuple, map, or numpy array. Each can have a target (label) assigned. Datasets can be\n",
    "imported from a variety of sources such as PyTorch, Hugging Face, or GitHub."
   ]
  },
  {
   "cell_type": "markdown",
   "metadata": {},
   "source": [
    "### Basic\n",
    "\n",
    "The following is a basic example of loading tuple data:"
   ]
  },
  {
   "cell_type": "code",
   "execution_count": null,
   "metadata": {},
   "outputs": [],
   "source": []
  },
  {
   "cell_type": "code",
   "execution_count": 3,
   "metadata": {},
   "outputs": [
    {
     "name": "stdout",
     "output_type": "stream",
     "text": [
      "{'data': [1, 2, 3], 'target': 4}\n"
     ]
    }
   ],
   "source": [
    "from charmory.data import TupleDataset\n",
    "\n",
    "raw_dataset = [\n",
    "        ([1, 2, 3], 4),\n",
    "        ([5, 6, 7], 8),\n",
    "    ]\n",
    "\n",
    "keyed_dataset = TupleDataset(raw_dataset, x_key=\"data\", y_key=\"target\")\n",
    "\n",
    "keyed_dataset[0]\n"
   ]
  }
 ],
 "metadata": {
  "kernelspec": {
   "display_name": "cdao",
   "language": "python",
   "name": "python3"
  },
  "language_info": {
   "codemirror_mode": {
    "name": "ipython",
    "version": 3
   },
   "file_extension": ".py",
   "mimetype": "text/x-python",
   "name": "python",
   "nbconvert_exporter": "python",
   "pygments_lexer": "ipython3",
   "version": "3.10.12"
  }
 },
 "nbformat": 4,
 "nbformat_minor": 2
}
