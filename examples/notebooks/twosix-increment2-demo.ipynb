{
 "cells": [
  {
   "cell_type": "markdown",
   "metadata": {},
   "source": [
    "# TwoSix Armory Increment 2 Demo\n",
    "\n",
    "Demonstrates the cross-model multi-factor analysis of TwoSix/Art Armory evaluations.\n",
    "The dataset is [EuroSAT](https://github.com/phelber/EuroSAT),\n",
    "a land use and land cover classification dataset. The three models in the comparison\n",
    "are imported from HuggingFace's model hub: \n",
    "\n",
    "* nielsr/swin-tiny-patch4-window7-224-finetuned-eurosat\n",
    "* nielsr/vit-finetuned-eurosat-kornia\n",
    "* mrm8488/convnext-tiny-finetuned-eurosat"
   ]
  },
  {
   "cell_type": "code",
   "execution_count": 7,
   "metadata": {},
   "outputs": [
    {
     "name": "stdout",
     "output_type": "stream",
     "text": [
      "<Experiment: artifact_location='s3://gard-mlflow-artifact-store/testing-mar-2023/14', creation_time=1694042447802, experiment_id='14', last_update_time=1694042447802, lifecycle_stage='active', name='eurosat-model-parameter-evaluation', tags={'mlflow.note.content': 'The goal of this file is to evaluate the EuroSAT '\n",
      "                        'dataset using the top 3 fine-tuned models from HF and '\n",
      "                        'measure the effect of epsilon. The evaluation is done '\n",
      "                        'using Armory, and the results are uploaded to MLFlow. '\n",
      "                        'Both the models and benign/adversarial images are '\n",
      "                        'uploaded as artifacts.\\n'\n",
      "                        '\\n'\n",
      "                        'The dataset(s) are:\\n'\n",
      "                        '  - tanganke/EuroSAT\\n'\n",
      "                        '\\n'\n",
      "                        'The model(s) are:\\n'\n",
      "                        '  - '\n",
      "                        'nielsr/swin-tiny-patch4-window7-224-finetuned-eurosat\\n'\n",
      "                        '  - nielsr/vit-finetuned-eurosat-kornia\\n'\n",
      "                        '  - mrm8488/convnext-tiny-finetuned-eurosat\\n'\n",
      "                        '\\n'\n",
      "                        'Documentation:\\n'\n",
      "                        '  - Tracking: '\n",
      "                        'https://gitlab.jatic.net/jatic/twosix/armory/-/blob/jatic/docs/experiment_tracking.md'}>\n",
      "['DEFAULT_EXPERIMENT_NAME',\n",
      " '__class__',\n",
      " '__delattr__',\n",
      " '__dict__',\n",
      " '__dir__',\n",
      " '__doc__',\n",
      " '__eq__',\n",
      " '__format__',\n",
      " '__ge__',\n",
      " '__getattribute__',\n",
      " '__gt__',\n",
      " '__hash__',\n",
      " '__init__',\n",
      " '__init_subclass__',\n",
      " '__iter__',\n",
      " '__le__',\n",
      " '__lt__',\n",
      " '__module__',\n",
      " '__ne__',\n",
      " '__new__',\n",
      " '__reduce__',\n",
      " '__reduce_ex__',\n",
      " '__repr__',\n",
      " '__setattr__',\n",
      " '__sizeof__',\n",
      " '__str__',\n",
      " '__subclasshook__',\n",
      " '__weakref__',\n",
      " '_add_tag',\n",
      " '_artifact_location',\n",
      " '_creation_time',\n",
      " '_experiment_id',\n",
      " '_get_properties_helper',\n",
      " '_last_update_time',\n",
      " '_lifecycle_stage',\n",
      " '_name',\n",
      " '_properties',\n",
      " '_set_creation_time',\n",
      " '_set_last_update_time',\n",
      " '_set_name',\n",
      " '_tags',\n",
      " 'artifact_location',\n",
      " 'creation_time',\n",
      " 'experiment_id',\n",
      " 'from_dictionary',\n",
      " 'from_proto',\n",
      " 'last_update_time',\n",
      " 'lifecycle_stage',\n",
      " 'name',\n",
      " 'tags',\n",
      " 'to_proto']\n"
     ]
    },
    {
     "ename": "AttributeError",
     "evalue": "'MlflowClient' object has no attribute 'list_run_infos'",
     "output_type": "error",
     "traceback": [
      "\u001b[0;31m---------------------------------------------------------------------------\u001b[0m",
      "\u001b[0;31mAttributeError\u001b[0m                            Traceback (most recent call last)",
      "\u001b[1;32m/home/msw/charmory/examples/notebooks/twosix-increment2-demo.ipynb Cell 2\u001b[0m line \u001b[0;36m1\n\u001b[1;32m      <a href='vscode-notebook-cell://wsl%2Bubuntu/home/msw/charmory/examples/notebooks/twosix-increment2-demo.ipynb#W1sdnNjb2RlLXJlbW90ZQ%3D%3D?line=8'>9</a>\u001b[0m pprint(experiment)\n\u001b[1;32m     <a href='vscode-notebook-cell://wsl%2Bubuntu/home/msw/charmory/examples/notebooks/twosix-increment2-demo.ipynb#W1sdnNjb2RlLXJlbW90ZQ%3D%3D?line=9'>10</a>\u001b[0m pprint(\u001b[39mdir\u001b[39m(experiment))\n\u001b[0;32m---> <a href='vscode-notebook-cell://wsl%2Bubuntu/home/msw/charmory/examples/notebooks/twosix-increment2-demo.ipynb#W1sdnNjb2RlLXJlbW90ZQ%3D%3D?line=11'>12</a>\u001b[0m results \u001b[39m=\u001b[39m client\u001b[39m.\u001b[39;49mlist_run_infos(experiment\u001b[39m.\u001b[39mexperiment_id)\n\u001b[1;32m     <a href='vscode-notebook-cell://wsl%2Bubuntu/home/msw/charmory/examples/notebooks/twosix-increment2-demo.ipynb#W1sdnNjb2RlLXJlbW90ZQ%3D%3D?line=13'>14</a>\u001b[0m pprint(results)\n",
      "\u001b[0;31mAttributeError\u001b[0m: 'MlflowClient' object has no attribute 'list_run_infos'"
     ]
    }
   ],
   "source": [
    "from pprint import pprint\n",
    "import mlflow\n",
    "\n",
    "\"\"\"retrieve the run id for the eurosat experiement\"\"\"\n",
    "\n",
    "client = mlflow.tracking.MlflowClient(\"http://mlflow.gardproject.org:5000/\")\n",
    "experiment = client.get_experiment_by_name(\"eurosat-model-parameter-evaluation\")\n",
    "\n",
    "pprint(experiment)\n",
    "pprint(dir(experiment))\n",
    "\n",
    "results = client.get_run(experiment.experiment_id)\n",
    "\n",
    "pprint(results)"
   ]
  },
  {
   "cell_type": "code",
   "execution_count": null,
   "metadata": {},
   "outputs": [],
   "source": []
  }
 ],
 "metadata": {
  "kernelspec": {
   "display_name": "cdao",
   "language": "python",
   "name": "python3"
  },
  "language_info": {
   "codemirror_mode": {
    "name": "ipython",
    "version": 3
   },
   "file_extension": ".py",
   "mimetype": "text/x-python",
   "name": "python",
   "nbconvert_exporter": "python",
   "pygments_lexer": "ipython3",
   "version": "3.10.12"
  },
  "orig_nbformat": 4
 },
 "nbformat": 4,
 "nbformat_minor": 2
}
