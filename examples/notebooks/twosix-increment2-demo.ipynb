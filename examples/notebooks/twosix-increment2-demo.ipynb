{
 "cells": [
  {
   "cell_type": "markdown",
   "metadata": {},
   "source": [
    "# TwoSix Armory Increment 2 Demo\n",
    "\n",
    "Demonstrates the cross-model multi-factor analysis of TwoSix/Art Armory evaluations.\n",
    "The dataset is [EuroSAT](https://github.com/phelber/EuroSAT),\n",
    "a land use and land cover classification dataset. The three models in the comparison\n",
    "are imported from HuggingFace's model hub: \n",
    "\n",
    "* nielsr/swin-tiny-patch4-window7-224-finetuned-eurosat\n",
    "* nielsr/vit-finetuned-eurosat-kornia\n",
    "* mrm8488/convnext-tiny-finetuned-eurosat"
   ]
  },
  {
   "cell_type": "code",
   "execution_count": 10,
   "metadata": {},
   "outputs": [],
   "source": [
    "DEBUG = False\n",
    "import pandas as pd\n",
    "df = pd.read_csv(\"eurosat_model_eval_09102023.csv\")\n",
    "if DEBUG:\n",
    "    df.head()\n"
   ]
  },
  {
   "cell_type": "code",
   "execution_count": null,
   "metadata": {},
   "outputs": [],
   "source": []
  }
 ],
 "metadata": {
  "kernelspec": {
   "display_name": "cdao",
   "language": "python",
   "name": "python3"
  },
  "language_info": {
   "codemirror_mode": {
    "name": "ipython",
    "version": 3
   },
   "file_extension": ".py",
   "mimetype": "text/x-python",
   "name": "python",
   "nbconvert_exporter": "python",
   "pygments_lexer": "ipython3",
   "version": "3.10.12"
  },
  "orig_nbformat": 4
 },
 "nbformat": 4,
 "nbformat_minor": 2
}
