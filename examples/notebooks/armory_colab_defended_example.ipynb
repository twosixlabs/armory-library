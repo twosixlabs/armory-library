{
 "cells": [
  {
   "cell_type": "code",
   "execution_count": 1,
   "metadata": {},
   "outputs": [],
   "source": [
    "from pprint import pprint\n",
    "\n",
    "from art.attacks.evasion import ProjectedGradientDescent\n",
    "from art.estimators.classification import PyTorchClassifier\n",
    "import datasets\n",
    "import torch\n",
    "import torch.nn\n",
    "import torchmetrics.classification\n",
    "from transformers import AutoImageProcessor, AutoModelForImageClassification\n",
    "\n",
    "from armory.metrics.compute import BasicProfiler\n",
    "from charmory.data import ArmoryDataLoader\n",
    "from charmory.engine import EvaluationEngine\n",
    "import charmory.evaluation as ev\n",
    "from charmory.metrics.perturbation import PerturbationNormMetric\n",
    "from charmory.model.image_classification import JaticImageClassificationModel\n",
    "from charmory.perturbation import ArtEvasionAttack\n",
    "from charmory.tasks.image_classification import ImageClassificationTask\n",
    "from charmory.track import track_init_params, track_params\n",
    "from charmory.utils import Unnormalize\n",
    "import mlflow\n",
    "from PIL import  Image\n",
    "import os"
   ]
  },
  {
   "cell_type": "code",
   "execution_count": 2,
   "metadata": {},
   "outputs": [
    {
     "data": {
      "application/vnd.jupyter.widget-view+json": {
       "model_id": "9774302013aa4737a0a7d57db28bdc19",
       "version_major": 2,
       "version_minor": 0
      },
      "text/plain": [
       "config.json:   0%|          | 0.00/985 [00:00<?, ?B/s]"
      ]
     },
     "metadata": {},
     "output_type": "display_data"
    },
    {
     "data": {
      "application/vnd.jupyter.widget-view+json": {
       "model_id": "319e96a850264ec697cd16615f37045d",
       "version_major": 2,
       "version_minor": 0
      },
      "text/plain": [
       "pytorch_model.bin:   0%|          | 0.00/343M [00:00<?, ?B/s]"
      ]
     },
     "metadata": {},
     "output_type": "display_data"
    }
   ],
   "source": [
    "model = JaticImageClassificationModel(\n",
    "    track_params(AutoModelForImageClassification.from_pretrained)(\n",
    "        \"farleyknight-org-username/vit-base-mnist\"\n",
    "    ),\n",
    ")\n",
    "classifier = track_init_params(PyTorchClassifier)(\n",
    "    model,\n",
    "    loss=torch.nn.CrossEntropyLoss(),\n",
    "    optimizer=torch.optim.Adam(model.parameters(), lr=0.003),\n",
    "    input_shape=(3, 224, 224),\n",
    "    channels_first=True,\n",
    "    nb_classes=10,\n",
    "    clip_values=(-1, 1),\n",
    ")"
   ]
  },
  {
   "cell_type": "code",
   "execution_count": 3,
   "metadata": {},
   "outputs": [
    {
     "data": {
      "application/vnd.jupyter.widget-view+json": {
       "model_id": "2f91b8a75f0b4d67ab9f64564bca16d4",
       "version_major": 2,
       "version_minor": 0
      },
      "text/plain": [
       "Downloading data:   0%|          | 0.00/15.6M [00:00<?, ?B/s]"
      ]
     },
     "metadata": {},
     "output_type": "display_data"
    },
    {
     "data": {
      "application/vnd.jupyter.widget-view+json": {
       "model_id": "96343ddfa1b74006bfaffec59be78919",
       "version_major": 2,
       "version_minor": 0
      },
      "text/plain": [
       "Downloading data:   0%|          | 0.00/2.60M [00:00<?, ?B/s]"
      ]
     },
     "metadata": {},
     "output_type": "display_data"
    },
    {
     "data": {
      "application/vnd.jupyter.widget-view+json": {
       "model_id": "cdcaaec272cb45d99e4870f65297b648",
       "version_major": 2,
       "version_minor": 0
      },
      "text/plain": [
       "Generating train split: 0 examples [00:00, ? examples/s]"
      ]
     },
     "metadata": {},
     "output_type": "display_data"
    },
    {
     "data": {
      "application/vnd.jupyter.widget-view+json": {
       "model_id": "343ecf87866142c9affd24d0edbfd480",
       "version_major": 2,
       "version_minor": 0
      },
      "text/plain": [
       "Generating test split: 0 examples [00:00, ? examples/s]"
      ]
     },
     "metadata": {},
     "output_type": "display_data"
    },
    {
     "data": {
      "application/vnd.jupyter.widget-view+json": {
       "model_id": "244ab78e5aea485fbced3e990a163d8b",
       "version_major": 2,
       "version_minor": 0
      },
      "text/plain": [
       "preprocessor_config.json:   0%|          | 0.00/228 [00:00<?, ?B/s]"
      ]
     },
     "metadata": {},
     "output_type": "display_data"
    },
    {
     "name": "stderr",
     "output_type": "stream",
     "text": [
      "Could not find image processor class in the image processor config or the model config. Loading based on pattern matching with the model's feature extractor configuration.\n"
     ]
    }
   ],
   "source": [
    "    dataset = datasets.load_dataset(\"mnist\", split=\"test\")\n",
    "    processor = AutoImageProcessor.from_pretrained(\n",
    "        \"farleyknight-org-username/vit-base-mnist\"\n",
    "    )"
   ]
  },
  {
   "cell_type": "code",
   "execution_count": 4,
   "metadata": {},
   "outputs": [],
   "source": [
    "batch_size = 16\n",
    "def transform(sample):\n",
    "        # Use the HF image processor and convert from BW To RGB\n",
    "        sample[\"image\"] = processor([img.convert(\"RGB\") for img in sample[\"image\"]])[\n",
    "            \"pixel_values\"\n",
    "        ]\n",
    "        return sample\n",
    "\n",
    "dataset.set_transform(transform)\n",
    "dataloader = ArmoryDataLoader(dataset, batch_size=batch_size)"
   ]
  },
  {
   "cell_type": "code",
   "execution_count": 5,
   "metadata": {},
   "outputs": [],
   "source": [
    "    attack = track_init_params(ProjectedGradientDescent)(\n",
    "        classifier,\n",
    "        batch_size=batch_size,\n",
    "        eps=0.031,\n",
    "        eps_step=0.007,\n",
    "        max_iter=20,\n",
    "        num_random_init=1,\n",
    "        random_eps=False,\n",
    "        targeted=False,\n",
    "        verbose=False,\n",
    "    )"
   ]
  },
  {
   "cell_type": "code",
   "execution_count": 6,
   "metadata": {},
   "outputs": [],
   "source": [
    "evaluation = ev.Evaluation(\n",
    "    name=\"mnist-vit-pgd\",\n",
    "    description=\"MNIST image classification using a ViT model and PGD attack\",\n",
    "    author=\"TwoSix\",\n",
    "    dataset=ev.Dataset(\n",
    "        name=\"MNIST\",\n",
    "        x_key=\"image\",\n",
    "        y_key=\"label\",\n",
    "        test_dataloader=dataloader,\n",
    "    ),\n",
    "    model=ev.Model(\n",
    "        name=\"ViT\",\n",
    "        model=classifier,\n",
    "    ),\n",
    "    perturbations={\n",
    "        \"benign\": [],\n",
    "        \"attack\": [\n",
    "            ArtEvasionAttack(\n",
    "                name=\"PGD\",\n",
    "                attack=attack,\n",
    "                use_label_for_untargeted=False,\n",
    "            ),\n",
    "        ],\n",
    "    },\n",
    "    metric=ev.Metric(\n",
    "        profiler=BasicProfiler(),\n",
    "        perturbation={\n",
    "            \"linf_norm\": PerturbationNormMetric(ord=torch.inf),\n",
    "        },\n",
    "        prediction={\n",
    "            \"accuracy\": torchmetrics.classification.Accuracy(\n",
    "                task=\"multiclass\", num_classes=10\n",
    "            ),\n",
    "        },\n",
    "    ),\n",
    ")\n"
   ]
  },
  {
   "cell_type": "code",
   "execution_count": 7,
   "metadata": {},
   "outputs": [
    {
     "name": "stderr",
     "output_type": "stream",
     "text": [
      "INFO: GPU available: True (mps), used: True\n",
      "INFO: TPU available: False, using: 0 TPU cores\n",
      "INFO: IPU available: False, using: 0 IPUs\n",
      "INFO: HPU available: False, using: 0 HPUs\n"
     ]
    }
   ],
   "source": [
    "export_every_n_batches = 10\n",
    "num_batches = 10\n",
    "task = ImageClassificationTask(\n",
    "        evaluation,\n",
    "        export_adapter=Unnormalize(mean=(0.5, 0.5, 0.5), std=(0.5, 0.5, 0.5)),\n",
    "        export_every_n_batches=export_every_n_batches,\n",
    "    )\n",
    "engine = EvaluationEngine(task, limit_test_batches=num_batches)"
   ]
  },
  {
   "cell_type": "code",
   "execution_count": 8,
   "metadata": {},
   "outputs": [
    {
     "name": "stderr",
     "output_type": "stream",
     "text": [
      "WARNING: Experiment with name mnist-vit-pgd not found. Creating it.\n"
     ]
    },
    {
     "name": "stdout",
     "output_type": "stream",
     "text": [
      "2024-01-03 22:11:56 20m53s \u001b[33m\u001b[1mWARNING \u001b[0m \u001b[36mlogging\u001b[0m:\u001b[36mcallHandlers\u001b[0m:\u001b[36m1706\u001b[0m Experiment with name mnist-vit-pgd not found. Creating it.\n"
     ]
    },
    {
     "name": "stderr",
     "output_type": "stream",
     "text": [
      "2024/01/03 22:11:56 WARNING mlflow.system_metrics.system_metrics_monitor: Skip logging GPU metrics because creating `GPUMonitor` failed with error: `pynvml` is not installed, to log GPU metrics please run `pip install pynvml` to install it..\n",
      "2024/01/03 22:11:56 INFO mlflow.system_metrics.system_metrics_monitor: Started monitoring system metrics.\n",
      "/Users/jonathan.prokos/.venv/armory-library/lib/python3.11/site-packages/lightning/pytorch/trainer/connectors/data_connector.py:441: The 'test_dataloader' does not have many workers which may be a bottleneck. Consider increasing the value of the `num_workers` argument` to `num_workers=9` in the `DataLoader` to improve performance.\n"
     ]
    },
    {
     "data": {
      "application/vnd.jupyter.widget-view+json": {
       "model_id": "7bf642ceb24a451fbff593fdcde3bd5d",
       "version_major": 2,
       "version_minor": 0
      },
      "text/plain": [
       "Testing: |          | 0/? [00:00<?, ?it/s]"
      ]
     },
     "metadata": {},
     "output_type": "display_data"
    },
    {
     "name": "stderr",
     "output_type": "stream",
     "text": [
      "/Users/jonathan.prokos/.venv/armory-library/lib/python3.11/site-packages/lightning/pytorch/trainer/call.py:54: Detected KeyboardInterrupt, attempting graceful shutdown...\n",
      "2024/01/03 22:13:03 INFO mlflow.system_metrics.system_metrics_monitor: Stopping system metrics monitoring...\n",
      "2024/01/03 22:13:03 INFO mlflow.system_metrics.system_metrics_monitor: Successfully terminated system metrics monitoring!\n"
     ]
    },
    {
     "name": "stdout",
     "output_type": "stream",
     "text": [
      "{'compute': {'Avg. CPU time (s) for 1 executions of attack/perturbation': 45.86396195899579,\n",
      "             'Avg. CPU time (s) for 1 executions of attack/perturbation/PGD': 45.86395349999657,\n",
      "             'Avg. CPU time (s) for 1 executions of attack/predict': 0.8027910420059925,\n",
      "             'Avg. CPU time (s) for 2 executions of benign/perturbation': 4.579997039400041e-07,\n",
      "             'Avg. CPU time (s) for 2 executions of benign/predict': 0.8021256249994622},\n",
      " 'metrics': {}}\n"
     ]
    }
   ],
   "source": [
    "pprint(engine.run())"
   ]
  },
  {
   "cell_type": "code",
   "execution_count": null,
   "metadata": {},
   "outputs": [],
   "source": []
  }
 ],
 "metadata": {
  "kernelspec": {
   "display_name": "binja",
   "language": "python",
   "name": "python3"
  },
  "language_info": {
   "codemirror_mode": {
    "name": "ipython",
    "version": 3
   },
   "file_extension": ".py",
   "mimetype": "text/x-python",
   "name": "python",
   "nbconvert_exporter": "python",
   "pygments_lexer": "ipython3",
   "version": "3.11.6"
  }
 },
 "nbformat": 4,
 "nbformat_minor": 2
}
