{
 "cells": [
  {
   "cell_type": "code",
   "execution_count": 4,
   "metadata": {},
   "outputs": [
    {
     "name": "stderr",
     "output_type": "stream",
     "text": [
      "2024-01-04 14:40:55.300379: I tensorflow/core/util/port.cc:113] oneDNN custom operations are on. You may see slightly different numerical results due to floating-point round-off errors from different computation orders. To turn them off, set the environment variable `TF_ENABLE_ONEDNN_OPTS=0`.\n",
      "2024-01-04 14:40:55.337046: E external/local_xla/xla/stream_executor/cuda/cuda_dnn.cc:9261] Unable to register cuDNN factory: Attempting to register factory for plugin cuDNN when one has already been registered\n",
      "2024-01-04 14:40:55.337070: E external/local_xla/xla/stream_executor/cuda/cuda_fft.cc:607] Unable to register cuFFT factory: Attempting to register factory for plugin cuFFT when one has already been registered\n",
      "2024-01-04 14:40:55.337985: E external/local_xla/xla/stream_executor/cuda/cuda_blas.cc:1515] Unable to register cuBLAS factory: Attempting to register factory for plugin cuBLAS when one has already been registered\n",
      "2024-01-04 14:40:55.344438: I tensorflow/core/platform/cpu_feature_guard.cc:182] This TensorFlow binary is optimized to use available CPU instructions in performance-critical operations.\n",
      "To enable the following instructions: AVX2 AVX512F AVX512_VNNI FMA, in other operations, rebuild TensorFlow with the appropriate compiler flags.\n",
      "2024-01-04 14:40:56.527623: W tensorflow/compiler/tf2tensorrt/utils/py_utils.cc:38] TF-TRT Warning: Could not find TensorRT\n"
     ]
    }
   ],
   "source": [
    "from pprint import pprint\n",
    "\n",
    "from art.attacks.evasion import ProjectedGradientDescent\n",
    "from art.estimators.classification import PyTorchClassifier\n",
    "import datasets\n",
    "import torch\n",
    "import torch.nn\n",
    "import torchmetrics.classification\n",
    "from transformers import AutoImageProcessor, AutoModelForImageClassification\n",
    "\n",
    "from armory.metrics.compute import BasicProfiler\n",
    "from charmory.data import ArmoryDataLoader\n",
    "from charmory.engine import EvaluationEngine\n",
    "import charmory.evaluation as ev\n",
    "from charmory.metrics.perturbation import PerturbationNormMetric\n",
    "from charmory.model.image_classification import JaticImageClassificationModel\n",
    "from charmory.perturbation import ArtEvasionAttack\n",
    "from charmory.tasks.image_classification import ImageClassificationTask\n",
    "from charmory.track import track_init_params, track_params\n",
    "from charmory.utils import Unnormalize\n",
    "import mlflow\n",
    "from PIL import  Image\n",
    "import os"
   ]
  },
  {
   "cell_type": "code",
   "execution_count": 3,
   "metadata": {},
   "outputs": [
    {
     "data": {
      "application/vnd.jupyter.widget-view+json": {
       "model_id": "3538b148d4f04e4ab978f7c1b33b8a40",
       "version_major": 2,
       "version_minor": 0
      },
      "text/plain": [
       "config.json:   0%|          | 0.00/985 [00:00<?, ?B/s]"
      ]
     },
     "metadata": {},
     "output_type": "display_data"
    },
    {
     "data": {
      "application/vnd.jupyter.widget-view+json": {
       "model_id": "28b47fbadb3346039d079bc1b1e8842e",
       "version_major": 2,
       "version_minor": 0
      },
      "text/plain": [
       "pytorch_model.bin:   0%|          | 0.00/343M [00:00<?, ?B/s]"
      ]
     },
     "metadata": {},
     "output_type": "display_data"
    }
   ],
   "source": [
    "model = JaticImageClassificationModel(\n",
    "    track_params(AutoModelForImageClassification.from_pretrained)(\n",
    "        \"farleyknight-org-username/vit-base-mnist\"\n",
    "    ),\n",
    ")\n",
    "classifier = track_init_params(PyTorchClassifier)(\n",
    "    model,\n",
    "    loss=torch.nn.CrossEntropyLoss(),\n",
    "    optimizer=torch.optim.Adam(model.parameters(), lr=0.003),\n",
    "    input_shape=(3, 224, 224),\n",
    "    channels_first=True,\n",
    "    nb_classes=10,\n",
    "    clip_values=(-1, 1),\n",
    ")"
   ]
  },
  {
   "cell_type": "code",
   "execution_count": 7,
   "metadata": {},
   "outputs": [
    {
     "name": "stderr",
     "output_type": "stream",
     "text": [
      "Could not find image processor class in the image processor config or the model config. Loading based on pattern matching with the model's feature extractor configuration.\n"
     ]
    }
   ],
   "source": [
    "dataset = datasets.load_dataset(\"mnist\", split=\"test\")\n",
    "processor = AutoImageProcessor.from_pretrained(\n",
    "    \"farleyknight-org-username/vit-base-mnist\"\n",
    ")"
   ]
  },
  {
   "cell_type": "code",
   "execution_count": 8,
   "metadata": {},
   "outputs": [],
   "source": [
    "batch_size = 16\n",
    "def transform(sample):\n",
    "        # Use the HF image processor and convert from BW To RGB\n",
    "        sample[\"image\"] = processor([img.convert(\"RGB\") for img in sample[\"image\"]])[\n",
    "            \"pixel_values\"\n",
    "        ]\n",
    "        return sample\n",
    "\n",
    "dataset.set_transform(transform)\n",
    "dataloader = ArmoryDataLoader(dataset, batch_size=batch_size)"
   ]
  },
  {
   "cell_type": "code",
   "execution_count": 11,
   "metadata": {},
   "outputs": [
    {
     "ename": "NameError",
     "evalue": "name 'classifier' is not defined",
     "output_type": "error",
     "traceback": [
      "\u001b[0;31m---------------------------------------------------------------------------\u001b[0m",
      "\u001b[0;31mNameError\u001b[0m                                 Traceback (most recent call last)",
      "Cell \u001b[0;32mIn[11], line 2\u001b[0m\n\u001b[1;32m      1\u001b[0m attack \u001b[38;5;241m=\u001b[39m track_init_params(ProjectedGradientDescent)(\n\u001b[0;32m----> 2\u001b[0m     \u001b[43mclassifier\u001b[49m,\n\u001b[1;32m      3\u001b[0m     batch_size\u001b[38;5;241m=\u001b[39mbatch_size,\n\u001b[1;32m      4\u001b[0m     eps\u001b[38;5;241m=\u001b[39m\u001b[38;5;241m0.031\u001b[39m,\n\u001b[1;32m      5\u001b[0m     eps_step\u001b[38;5;241m=\u001b[39m\u001b[38;5;241m0.007\u001b[39m,\n\u001b[1;32m      6\u001b[0m     max_iter\u001b[38;5;241m=\u001b[39m\u001b[38;5;241m20\u001b[39m,\n\u001b[1;32m      7\u001b[0m     num_random_init\u001b[38;5;241m=\u001b[39m\u001b[38;5;241m1\u001b[39m,\n\u001b[1;32m      8\u001b[0m     random_eps\u001b[38;5;241m=\u001b[39m\u001b[38;5;28;01mFalse\u001b[39;00m,\n\u001b[1;32m      9\u001b[0m     targeted\u001b[38;5;241m=\u001b[39m\u001b[38;5;28;01mFalse\u001b[39;00m,\n\u001b[1;32m     10\u001b[0m     verbose\u001b[38;5;241m=\u001b[39m\u001b[38;5;28;01mFalse\u001b[39;00m,\n\u001b[1;32m     11\u001b[0m )\n",
      "\u001b[0;31mNameError\u001b[0m: name 'classifier' is not defined"
     ]
    }
   ],
   "source": [
    "attack = track_init_params(ProjectedGradientDescent)(\n",
    "    classifier,\n",
    "    batch_size=batch_size,\n",
    "    eps=0.031,\n",
    "    eps_step=0.007,\n",
    "    max_iter=20,\n",
    "    num_random_init=1,\n",
    "    random_eps=False,\n",
    "    targeted=False,\n",
    "    verbose=False,\n",
    ")"
   ]
  },
  {
   "cell_type": "code",
   "execution_count": 7,
   "metadata": {},
   "outputs": [],
   "source": [
    "evaluation = ev.Evaluation(\n",
    "    name=\"mnist-vit-pgd\",\n",
    "    description=\"MNIST image classification using a ViT model and PGD attack\",\n",
    "    author=\"TwoSix\",\n",
    "    dataset=ev.Dataset(\n",
    "        name=\"MNIST\",\n",
    "        x_key=\"image\",\n",
    "        y_key=\"label\",\n",
    "        test_dataloader=dataloader,\n",
    "    ),\n",
    "    model=ev.Model(\n",
    "        name=\"ViT\",\n",
    "        model=classifier,\n",
    "    ),\n",
    "    perturbations={\n",
    "        \"benign\": [],\n",
    "        \"attack\": [\n",
    "            ArtEvasionAttack(\n",
    "                name=\"PGD\",\n",
    "                attack=attack,\n",
    "                use_label_for_untargeted=False,\n",
    "            ),\n",
    "        ],\n",
    "    },\n",
    "    metric=ev.Metric(\n",
    "        profiler=BasicProfiler(),\n",
    "        perturbation={\n",
    "            \"linf_norm\": PerturbationNormMetric(ord=torch.inf),\n",
    "        },\n",
    "        prediction={\n",
    "            \"accuracy\": torchmetrics.classification.Accuracy(\n",
    "                task=\"multiclass\", num_classes=10\n",
    "            ),\n",
    "        },\n",
    "    ),\n",
    ")\n"
   ]
  },
  {
   "cell_type": "code",
   "execution_count": 8,
   "metadata": {},
   "outputs": [
    {
     "name": "stderr",
     "output_type": "stream",
     "text": [
      "INFO: Trainer will use only 1 of 8 GPUs because it is running inside an interactive / notebook environment. You may try to set `Trainer(devices=8)` but please note that multi-GPU inside interactive / notebook environments is considered experimental and unstable. Your mileage may vary.\n",
      "INFO: GPU available: True (cuda), used: True\n",
      "INFO: TPU available: False, using: 0 TPU cores\n",
      "INFO: IPU available: False, using: 0 IPUs\n",
      "INFO: HPU available: False, using: 0 HPUs\n"
     ]
    }
   ],
   "source": [
    "export_every_n_batches = 10\n",
    "num_batches = 10\n",
    "task = ImageClassificationTask(\n",
    "        evaluation,\n",
    "        export_adapter=Unnormalize(mean=(0.5, 0.5, 0.5), std=(0.5, 0.5, 0.5)),\n",
    "        export_every_n_batches=export_every_n_batches,\n",
    "    )\n",
    "engine = EvaluationEngine(task, limit_test_batches=num_batches)"
   ]
  },
  {
   "cell_type": "code",
   "execution_count": 9,
   "metadata": {},
   "outputs": [
    {
     "name": "stderr",
     "output_type": "stream",
     "text": [
      "WARNING: Experiment with name mnist-vit-pgd not found. Creating it.\n"
     ]
    },
    {
     "name": "stdout",
     "output_type": "stream",
     "text": [
      "2024-01-04 03:28:39 22s \u001b[33m\u001b[1mWARNING \u001b[0m \u001b[36mlightning.pytorch.loggers.mlflow\u001b[0m:\u001b[36mexperiment\u001b[0m:\u001b[36m175\u001b[0m Experiment with name mnist-vit-pgd not found. Creating it.\n"
     ]
    },
    {
     "name": "stderr",
     "output_type": "stream",
     "text": [
      "2024/01/04 03:28:39 WARNING mlflow.system_metrics.system_metrics_monitor: Skip logging GPU metrics because creating `GPUMonitor` failed with error: `pynvml` is not installed, to log GPU metrics please run `pip install pynvml` to install it..\n",
      "2024/01/04 03:28:39 INFO mlflow.system_metrics.system_metrics_monitor: Started monitoring system metrics.\n",
      "INFO: LOCAL_RANK: 0 - CUDA_VISIBLE_DEVICES: [0,1,2,3,4,5,6,7]\n",
      "/home/jonathan.prokos/.venv/armory-library/lib/python3.8/site-packages/lightning/pytorch/trainer/connectors/data_connector.py:441: The 'test_dataloader' does not have many workers which may be a bottleneck. Consider increasing the value of the `num_workers` argument` to `num_workers=95` in the `DataLoader` to improve performance.\n"
     ]
    },
    {
     "data": {
      "application/vnd.jupyter.widget-view+json": {
       "model_id": "e4ab9df1939a424b84884c17ff71df0b",
       "version_major": 2,
       "version_minor": 0
      },
      "text/plain": [
       "Testing: |          | 0/? [00:00<?, ?it/s]"
      ]
     },
     "metadata": {},
     "output_type": "display_data"
    },
    {
     "data": {
      "text/html": [
       "<pre style=\"white-space:pre;overflow-x:auto;line-height:normal;font-family:Menlo,'DejaVu Sans Mono',consolas,'Courier New',monospace\">┏━━━━━━━━━━━━━━━━━━━━━━━━━━━┳━━━━━━━━━━━━━━━━━━━━━━━━━━━┓\n",
       "┃<span style=\"font-weight: bold\">        Test metric        </span>┃<span style=\"font-weight: bold\">       DataLoader 0        </span>┃\n",
       "┡━━━━━━━━━━━━━━━━━━━━━━━━━━━╇━━━━━━━━━━━━━━━━━━━━━━━━━━━┩\n",
       "│<span style=\"color: #008080; text-decoration-color: #008080\">      attack/accuracy      </span>│<span style=\"color: #800080; text-decoration-color: #800080\">    0.02500000037252903    </span>│\n",
       "│<span style=\"color: #008080; text-decoration-color: #008080\">     attack/linf_norm      </span>│<span style=\"color: #800080; text-decoration-color: #800080\">    0.03100001811981201    </span>│\n",
       "│<span style=\"color: #008080; text-decoration-color: #008080\">      benign/accuracy      </span>│<span style=\"color: #800080; text-decoration-color: #800080\">            1.0            </span>│\n",
       "│<span style=\"color: #008080; text-decoration-color: #008080\">     benign/linf_norm      </span>│<span style=\"color: #800080; text-decoration-color: #800080\">            0.0            </span>│\n",
       "└───────────────────────────┴───────────────────────────┘\n",
       "</pre>\n"
      ],
      "text/plain": [
       "┏━━━━━━━━━━━━━━━━━━━━━━━━━━━┳━━━━━━━━━━━━━━━━━━━━━━━━━━━┓\n",
       "┃\u001b[1m \u001b[0m\u001b[1m       Test metric       \u001b[0m\u001b[1m \u001b[0m┃\u001b[1m \u001b[0m\u001b[1m      DataLoader 0       \u001b[0m\u001b[1m \u001b[0m┃\n",
       "┡━━━━━━━━━━━━━━━━━━━━━━━━━━━╇━━━━━━━━━━━━━━━━━━━━━━━━━━━┩\n",
       "│\u001b[36m \u001b[0m\u001b[36m     attack/accuracy     \u001b[0m\u001b[36m \u001b[0m│\u001b[35m \u001b[0m\u001b[35m   0.02500000037252903   \u001b[0m\u001b[35m \u001b[0m│\n",
       "│\u001b[36m \u001b[0m\u001b[36m    attack/linf_norm     \u001b[0m\u001b[36m \u001b[0m│\u001b[35m \u001b[0m\u001b[35m   0.03100001811981201   \u001b[0m\u001b[35m \u001b[0m│\n",
       "│\u001b[36m \u001b[0m\u001b[36m     benign/accuracy     \u001b[0m\u001b[36m \u001b[0m│\u001b[35m \u001b[0m\u001b[35m           1.0           \u001b[0m\u001b[35m \u001b[0m│\n",
       "│\u001b[36m \u001b[0m\u001b[36m    benign/linf_norm     \u001b[0m\u001b[36m \u001b[0m│\u001b[35m \u001b[0m\u001b[35m           0.0           \u001b[0m\u001b[35m \u001b[0m│\n",
       "└───────────────────────────┴───────────────────────────┘\n"
      ]
     },
     "metadata": {},
     "output_type": "display_data"
    },
    {
     "name": "stderr",
     "output_type": "stream",
     "text": [
      "2024/01/04 03:29:19 INFO mlflow.system_metrics.system_metrics_monitor: Stopping system metrics monitoring...\n",
      "2024/01/04 03:29:19 INFO mlflow.system_metrics.system_metrics_monitor: Successfully terminated system metrics monitoring!\n"
     ]
    },
    {
     "name": "stdout",
     "output_type": "stream",
     "text": [
      "{'compute': {'Avg. CPU time (s) for 10 executions of attack/perturbation': 3.6825422613183036,\n",
      "             'Avg. CPU time (s) for 10 executions of attack/perturbation/PGD': 3.6825238562189044,\n",
      "             'Avg. CPU time (s) for 10 executions of attack/predict': 0.08591050679096952,\n",
      "             'Avg. CPU time (s) for 10 executions of benign/perturbation': 9.099836461246013e-07,\n",
      "             'Avg. CPU time (s) for 10 executions of benign/predict': 0.11091956939781085},\n",
      " 'metrics': {'attack/accuracy': tensor(0.0250),\n",
      "             'attack/linf_norm': tensor(0.0310),\n",
      "             'benign/accuracy': tensor(1.),\n",
      "             'benign/linf_norm': tensor(0.)}}\n"
     ]
    }
   ],
   "source": [
    "pprint(engine.run())"
   ]
  },
  {
   "cell_type": "code",
   "execution_count": 10,
   "metadata": {},
   "outputs": [],
   "source": [
    "#Simple script to retrieve 1 example of a benign and attacked image from the mlflow artifacts\n",
    "mlflow_var = mlflow.search_experiments(filter_string=\"name = 'mnist-vit-pgd'\")[0]\n",
    "path = mlflow_var.artifact_location[7:] + '/' + engine.run_id + '/artifacts'\n",
    "image_bin, image_adv = None, None\n",
    "for f in os.listdir(path):\n",
    "    if f.endswith(\"ex_0_x_adv.png\"):\n",
    "        image_adv = Image.open(os.path.join(path,f))\n",
    "    elif f.endswith(\"ex_0_x.png\"):\n",
    "        image_bin = Image.open(os.path.join(path,f))"
   ]
  },
  {
   "cell_type": "code",
   "execution_count": 13,
   "metadata": {},
   "outputs": [
    {
     "data": {
      "text/plain": [
       "None"
      ]
     },
     "metadata": {},
     "output_type": "display_data"
    }
   ],
   "source": [
    "display(image_bin)"
   ]
  },
  {
   "cell_type": "code",
   "execution_count": 12,
   "metadata": {},
   "outputs": [],
   "source": [
    "image_adv"
   ]
  },
  {
   "cell_type": "markdown",
   "metadata": {},
   "source": [
    "# defense"
   ]
  },
  {
   "cell_type": "code",
   "execution_count": 1,
   "metadata": {},
   "outputs": [
    {
     "name": "stderr",
     "output_type": "stream",
     "text": [
      "2024-01-04 14:41:40.990945: I tensorflow/core/util/port.cc:113] oneDNN custom operations are on. You may see slightly different numerical results due to floating-point round-off errors from different computation orders. To turn them off, set the environment variable `TF_ENABLE_ONEDNN_OPTS=0`.\n",
      "2024-01-04 14:41:41.028067: E external/local_xla/xla/stream_executor/cuda/cuda_dnn.cc:9261] Unable to register cuDNN factory: Attempting to register factory for plugin cuDNN when one has already been registered\n",
      "2024-01-04 14:41:41.028092: E external/local_xla/xla/stream_executor/cuda/cuda_fft.cc:607] Unable to register cuFFT factory: Attempting to register factory for plugin cuFFT when one has already been registered\n",
      "2024-01-04 14:41:41.029176: E external/local_xla/xla/stream_executor/cuda/cuda_blas.cc:1515] Unable to register cuBLAS factory: Attempting to register factory for plugin cuBLAS when one has already been registered\n",
      "2024-01-04 14:41:41.036981: I tensorflow/core/platform/cpu_feature_guard.cc:182] This TensorFlow binary is optimized to use available CPU instructions in performance-critical operations.\n",
      "To enable the following instructions: AVX2 AVX512F AVX512_VNNI FMA, in other operations, rebuild TensorFlow with the appropriate compiler flags.\n",
      "2024-01-04 14:41:42.011311: W tensorflow/compiler/tf2tensorrt/utils/py_utils.cc:38] TF-TRT Warning: Could not find TensorRT\n"
     ]
    }
   ],
   "source": [
    "import os\n",
    "os.environ[\"CUDA_VISIBLE_DEVICES\"] = \"7\"\n",
    "\n",
    "from pprint import pprint\n",
    "\n",
    "from art.attacks.evasion import ProjectedGradientDescent\n",
    "from art.estimators.classification import PyTorchClassifier\n",
    "import datasets\n",
    "import torch\n",
    "import torch.nn\n",
    "import torchmetrics.classification\n",
    "from transformers import AutoImageProcessor, AutoModelForImageClassification\n",
    "\n",
    "from armory.metrics.compute import BasicProfiler\n",
    "from charmory.data import ArmoryDataLoader\n",
    "from charmory.engine import EvaluationEngine\n",
    "import charmory.evaluation as ev\n",
    "from charmory.metrics.perturbation import PerturbationNormMetric\n",
    "from charmory.model.image_classification import JaticImageClassificationModel\n",
    "from charmory.perturbation import ArtEvasionAttack\n",
    "from charmory.tasks.image_classification import ImageClassificationTask\n",
    "from charmory.track import track_init_params, track_params\n",
    "from charmory.utils import Unnormalize\n",
    "import mlflow\n",
    "from PIL import  Image\n",
    "import os"
   ]
  },
  {
   "cell_type": "code",
   "execution_count": 2,
   "metadata": {},
   "outputs": [],
   "source": [
    "os.environ[\"CUDA_VISIBLE_DEVICES\"] = \"7\""
   ]
  },
  {
   "cell_type": "code",
   "execution_count": 3,
   "metadata": {},
   "outputs": [],
   "source": [
    "from art.defences.preprocessor import JpegCompression\n",
    "import numpy as np\n",
    "\n",
    "\n",
    "class JpegCompressionNormalized(JpegCompression):\n",
    "    \"\"\"\n",
    "    Unnormalize inputs that were normalized during preprocessing,\n",
    "    process use ART JpegCompression, and renormalize\n",
    "    \"\"\"\n",
    "\n",
    "    def __init__(\n",
    "        self,\n",
    "        clip_values,\n",
    "        quality=50,\n",
    "        apply_fit=True,\n",
    "        apply_predict=False,\n",
    "        means=None,\n",
    "        stds=None,\n",
    "        dtype=np.float32,\n",
    "    ):\n",
    "        super().__init__(\n",
    "            clip_values,\n",
    "            quality=quality,\n",
    "            apply_fit=apply_fit,\n",
    "            apply_predict=apply_predict,\n",
    "        )\n",
    "        if means is None:\n",
    "            means = (0.0, 0.0, 0.0)  # identity operation\n",
    "        if len(means) != 3:\n",
    "            raise ValueError(\"means must have 3 values, one per channel\")\n",
    "        self.means = np.array(means, dtype=dtype)\n",
    "\n",
    "        if stds is None:\n",
    "            stds = (1.0, 1.0, 1.0)  # identity operation\n",
    "        if len(stds) != 3:\n",
    "            raise ValueError(\"stds must have 3 values, one per channel\")\n",
    "        self.stds = np.array(stds, dtype=dtype)\n",
    "\n",
    "    def __call__(self, x, y=None):\n",
    "        x = x * self.stds + self.means\n",
    "        x = torch.clamp(x, self.clip_values[0], self.clip_values[1], out=x)\n",
    "        x, _ = super().__call__(x)\n",
    "        x = (x - self.means) / self.stds\n",
    "        return x, y\n"
   ]
  },
  {
   "cell_type": "code",
   "execution_count": 4,
   "metadata": {},
   "outputs": [],
   "source": [
    "defended_model = JaticImageClassificationModel(\n",
    "    track_params(AutoModelForImageClassification.from_pretrained)(\n",
    "        \"farleyknight-org-username/vit-base-mnist\"\n",
    "    ),\n",
    ")\n",
    "defended_classifier = track_init_params(PyTorchClassifier)(\n",
    "    defended_model,\n",
    "    loss=torch.nn.CrossEntropyLoss(),\n",
    "    optimizer=torch.optim.Adam(defended_model.parameters(), lr=0.003),\n",
    "    input_shape=(3, 224, 224),\n",
    "    channels_first=True,\n",
    "    nb_classes=10,\n",
    "    clip_values=(-1, 1),\n",
    "    preprocessing_defences=JpegCompressionNormalized(clip_values=(0, 1)),\n",
    ")"
   ]
  },
  {
   "cell_type": "code",
   "execution_count": 6,
   "metadata": {},
   "outputs": [
    {
     "name": "stderr",
     "output_type": "stream",
     "text": [
      "Could not find image processor class in the image processor config or the model config. Loading based on pattern matching with the model's feature extractor configuration.\n"
     ]
    }
   ],
   "source": [
    "dataset = datasets.load_dataset(\"mnist\", split=\"test\")\n",
    "processor = AutoImageProcessor.from_pretrained(\n",
    "    \"farleyknight-org-username/vit-base-mnist\"\n",
    ")\n",
    "\n",
    "batch_size = 16\n",
    "def transform(sample):\n",
    "        # Use the HF image processor and convert from BW To RGB\n",
    "        sample[\"image\"] = processor([img.convert(\"RGB\") for img in sample[\"image\"]])[\n",
    "            \"pixel_values\"\n",
    "        ]\n",
    "        return sample\n",
    "\n",
    "dataset.set_transform(transform)\n",
    "dataloader = ArmoryDataLoader(dataset, batch_size=batch_size)\n",
    "\n",
    "attack = track_init_params(ProjectedGradientDescent)(\n",
    "    defended_classifier,\n",
    "    batch_size=batch_size,\n",
    "    eps=0.031,\n",
    "    eps_step=0.007,\n",
    "    max_iter=20,\n",
    "    num_random_init=1,\n",
    "    random_eps=False,\n",
    "    targeted=False,\n",
    "    verbose=False,\n",
    ")\n",
    "\n",
    "evaluation = ev.Evaluation(\n",
    "    name=\"mnist-vit-pgd\",\n",
    "    description=\"MNIST image classification using a ViT model and PGD attack\",\n",
    "    author=\"TwoSix\",\n",
    "    dataset=ev.Dataset(\n",
    "        name=\"MNIST\",\n",
    "        x_key=\"image\",\n",
    "        y_key=\"label\",\n",
    "        test_dataloader=dataloader,\n",
    "    ),\n",
    "    model=ev.Model(\n",
    "        name=\"ViT\",\n",
    "        model=defended_classifier,\n",
    "    ),\n",
    "    perturbations={\n",
    "        \"benign\": [],\n",
    "        \"attack\": [\n",
    "            ArtEvasionAttack(\n",
    "                name=\"PGD\",\n",
    "                attack=attack,\n",
    "                use_label_for_untargeted=False,\n",
    "            ),\n",
    "        ],\n",
    "    },\n",
    "    metric=ev.Metric(\n",
    "        profiler=BasicProfiler(),\n",
    "        perturbation={\n",
    "            \"linf_norm\": PerturbationNormMetric(ord=torch.inf),\n",
    "        },\n",
    "        prediction={\n",
    "            \"accuracy\": torchmetrics.classification.Accuracy(\n",
    "                task=\"multiclass\", num_classes=10\n",
    "            ),\n",
    "        },\n",
    "    ),\n",
    ")\n"
   ]
  },
  {
   "cell_type": "code",
   "execution_count": 7,
   "metadata": {},
   "outputs": [
    {
     "name": "stderr",
     "output_type": "stream",
     "text": [
      "INFO: GPU available: True (cuda), used: True\n",
      "INFO: TPU available: False, using: 0 TPU cores\n",
      "INFO: IPU available: False, using: 0 IPUs\n",
      "INFO: HPU available: False, using: 0 HPUs\n"
     ]
    }
   ],
   "source": [
    "export_every_n_batches = 10\n",
    "num_batches = 10\n",
    "task = ImageClassificationTask(\n",
    "        evaluation,\n",
    "        export_adapter=Unnormalize(mean=(0.5, 0.5, 0.5), std=(0.5, 0.5, 0.5)),\n",
    "        export_every_n_batches=export_every_n_batches,\n",
    "    )\n",
    "engine = EvaluationEngine(task, limit_test_batches=num_batches)"
   ]
  },
  {
   "cell_type": "code",
   "execution_count": 8,
   "metadata": {},
   "outputs": [
    {
     "name": "stderr",
     "output_type": "stream",
     "text": [
      "2024/01/04 14:42:06 WARNING mlflow.system_metrics.system_metrics_monitor: Skip logging GPU metrics because creating `GPUMonitor` failed with error: `pynvml` is not installed, to log GPU metrics please run `pip install pynvml` to install it..\n",
      "2024/01/04 14:42:06 INFO mlflow.system_metrics.system_metrics_monitor: Started monitoring system metrics.\n",
      "INFO: LOCAL_RANK: 0 - CUDA_VISIBLE_DEVICES: [7]\n",
      "/home/jonathan.prokos/.venv/armory-library/lib/python3.10/site-packages/lightning/pytorch/trainer/connectors/data_connector.py:441: The 'test_dataloader' does not have many workers which may be a bottleneck. Consider increasing the value of the `num_workers` argument` to `num_workers=95` in the `DataLoader` to improve performance.\n"
     ]
    },
    {
     "data": {
      "application/vnd.jupyter.widget-view+json": {
       "model_id": "15ddc20c68a44520b367e568d6d26eca",
       "version_major": 2,
       "version_minor": 0
      },
      "text/plain": [
       "Testing: |          | 0/? [00:00<?, ?it/s]"
      ]
     },
     "metadata": {},
     "output_type": "display_data"
    },
    {
     "data": {
      "text/html": [
       "<pre style=\"white-space:pre;overflow-x:auto;line-height:normal;font-family:Menlo,'DejaVu Sans Mono',consolas,'Courier New',monospace\">┏━━━━━━━━━━━━━━━━━━━━━━━━━━━┳━━━━━━━━━━━━━━━━━━━━━━━━━━━┓\n",
       "┃<span style=\"font-weight: bold\">        Test metric        </span>┃<span style=\"font-weight: bold\">       DataLoader 0        </span>┃\n",
       "┡━━━━━━━━━━━━━━━━━━━━━━━━━━━╇━━━━━━━━━━━━━━━━━━━━━━━━━━━┩\n",
       "│<span style=\"color: #008080; text-decoration-color: #008080\">      attack/accuracy      </span>│<span style=\"color: #800080; text-decoration-color: #800080\">    0.01875000074505806    </span>│\n",
       "│<span style=\"color: #008080; text-decoration-color: #008080\">     attack/linf_norm      </span>│<span style=\"color: #800080; text-decoration-color: #800080\">    0.03100001811981201    </span>│\n",
       "│<span style=\"color: #008080; text-decoration-color: #008080\">      benign/accuracy      </span>│<span style=\"color: #800080; text-decoration-color: #800080\">            1.0            </span>│\n",
       "│<span style=\"color: #008080; text-decoration-color: #008080\">     benign/linf_norm      </span>│<span style=\"color: #800080; text-decoration-color: #800080\">            0.0            </span>│\n",
       "└───────────────────────────┴───────────────────────────┘\n",
       "</pre>\n"
      ],
      "text/plain": [
       "┏━━━━━━━━━━━━━━━━━━━━━━━━━━━┳━━━━━━━━━━━━━━━━━━━━━━━━━━━┓\n",
       "┃\u001b[1m \u001b[0m\u001b[1m       Test metric       \u001b[0m\u001b[1m \u001b[0m┃\u001b[1m \u001b[0m\u001b[1m      DataLoader 0       \u001b[0m\u001b[1m \u001b[0m┃\n",
       "┡━━━━━━━━━━━━━━━━━━━━━━━━━━━╇━━━━━━━━━━━━━━━━━━━━━━━━━━━┩\n",
       "│\u001b[36m \u001b[0m\u001b[36m     attack/accuracy     \u001b[0m\u001b[36m \u001b[0m│\u001b[35m \u001b[0m\u001b[35m   0.01875000074505806   \u001b[0m\u001b[35m \u001b[0m│\n",
       "│\u001b[36m \u001b[0m\u001b[36m    attack/linf_norm     \u001b[0m\u001b[36m \u001b[0m│\u001b[35m \u001b[0m\u001b[35m   0.03100001811981201   \u001b[0m\u001b[35m \u001b[0m│\n",
       "│\u001b[36m \u001b[0m\u001b[36m     benign/accuracy     \u001b[0m\u001b[36m \u001b[0m│\u001b[35m \u001b[0m\u001b[35m           1.0           \u001b[0m\u001b[35m \u001b[0m│\n",
       "│\u001b[36m \u001b[0m\u001b[36m    benign/linf_norm     \u001b[0m\u001b[36m \u001b[0m│\u001b[35m \u001b[0m\u001b[35m           0.0           \u001b[0m\u001b[35m \u001b[0m│\n",
       "└───────────────────────────┴───────────────────────────┘\n"
      ]
     },
     "metadata": {},
     "output_type": "display_data"
    },
    {
     "name": "stderr",
     "output_type": "stream",
     "text": [
      "2024/01/04 14:42:55 INFO mlflow.system_metrics.system_metrics_monitor: Stopping system metrics monitoring...\n",
      "2024/01/04 14:42:55 INFO mlflow.system_metrics.system_metrics_monitor: Successfully terminated system metrics monitoring!\n"
     ]
    },
    {
     "name": "stdout",
     "output_type": "stream",
     "text": [
      "{'compute': {'Avg. CPU time (s) for 10 executions of attack/perturbation': 4.577530871808994,\n",
      "             'Avg. CPU time (s) for 10 executions of attack/perturbation/PGD': 4.5775056462967765,\n",
      "             'Avg. CPU time (s) for 10 executions of attack/predict': 0.06750844309572131,\n",
      "             'Avg. CPU time (s) for 10 executions of benign/perturbation': 1.0430114343762397e-06,\n",
      "             'Avg. CPU time (s) for 10 executions of benign/predict': 0.09311871371464804},\n",
      " 'metrics': {'attack/accuracy': tensor(0.0188),\n",
      "             'attack/linf_norm': tensor(0.0310),\n",
      "             'benign/accuracy': tensor(1.),\n",
      "             'benign/linf_norm': tensor(0.)}}\n"
     ]
    }
   ],
   "source": [
    "pprint(engine.run())"
   ]
  },
  {
   "cell_type": "code",
   "execution_count": 19,
   "metadata": {},
   "outputs": [
    {
     "name": "stdout",
     "output_type": "stream",
     "text": [
      "['batch_9_ex_8_attack.png', 'batch_9_ex_4_benign.txt', 'batch_9_ex_7_attack.txt', 'batch_9_ex_12_benign.txt', 'batch_9_ex_11_attack.txt', 'batch_9_ex_15_attack.png', 'batch_9_ex_3_attack.png', 'batch_9_ex_0_benign.png', 'batch_9_ex_11_benign.png', 'batch_9_ex_12_attack.png', 'batch_9_ex_8_benign.txt', 'batch_9_ex_7_benign.png', 'batch_9_ex_4_attack.png', 'batch_9_ex_0_attack.txt', 'batch_9_ex_3_benign.txt', 'batch_9_ex_15_benign.txt', 'batch_9_ex_13_attack.txt', 'batch_9_ex_10_benign.txt', 'batch_9_ex_9_benign.png', 'batch_9_ex_5_attack.txt', 'batch_9_ex_6_benign.txt', 'batch_9_ex_2_benign.png', 'batch_9_ex_1_attack.png', 'batch_9_ex_14_benign.png', 'batch_9_ex_9_attack.txt', 'batch_9_ex_6_attack.png', 'batch_9_ex_5_benign.png', 'batch_9_ex_10_attack.png', 'batch_9_ex_13_benign.png', 'batch_9_ex_14_attack.txt', 'batch_9_ex_1_benign.txt', 'batch_9_ex_2_attack.txt', 'batch_9_ex_11_attack.png', 'batch_9_ex_12_benign.png', 'batch_9_ex_7_attack.png', 'batch_9_ex_4_benign.png', 'batch_9_ex_8_attack.txt', 'batch_9_ex_0_benign.txt', 'batch_9_ex_3_attack.txt', 'batch_9_ex_15_attack.txt', 'batch_9_ex_4_attack.txt', 'batch_9_ex_7_benign.txt', 'batch_9_ex_8_benign.png', 'batch_9_ex_12_attack.txt', 'batch_9_ex_11_benign.txt', 'batch_9_ex_15_benign.png', 'batch_9_ex_3_benign.png', 'batch_9_ex_0_attack.png', 'batch_9_ex_6_benign.png', 'batch_9_ex_5_attack.png', 'batch_9_ex_9_benign.txt', 'batch_9_ex_10_benign.png', 'batch_9_ex_13_attack.png', 'batch_9_ex_14_benign.txt', 'batch_9_ex_1_attack.txt', 'batch_9_ex_2_benign.txt', 'batch_9_ex_13_benign.txt', 'batch_9_ex_10_attack.txt', 'batch_9_ex_5_benign.txt', 'batch_9_ex_6_attack.txt', 'batch_9_ex_9_attack.png', 'batch_9_ex_2_attack.png', 'batch_9_ex_1_benign.png', 'batch_9_ex_14_attack.png']\n"
     ]
    }
   ],
   "source": [
    "#Simple script to retrieve 1 example of a benign and attacked image from the mlflow artifacts\n",
    "mlflow_var = mlflow.search_experiments(filter_string=\"name = 'mnist-vit-pgd'\")[0]\n",
    "path = mlflow_var.artifact_location[7:] + '/' + engine.run_id + '/artifacts'\n",
    "image_bin, image_adv = None, None\n",
    "print(os.listdir(path))\n",
    "for f in os.listdir(path):\n",
    "    if f.endswith(\"attack.png\"):\n",
    "        image_adv = Image.open(os.path.join(path,f))\n",
    "    elif f.endswith(\"benign.png\"):\n",
    "        image_bin = Image.open(os.path.join(path,f))\n",
    "    if image_adv is not None and image_bin is not None:\n",
    "        break\n"
   ]
  },
  {
   "cell_type": "code",
   "execution_count": 21,
   "metadata": {},
   "outputs": [
    {
     "data": {
      "image/jpeg": "[encoded data removed]",
      "image/png": "[encoded data removed]",
      "text/plain": [
       "<PIL.PngImagePlugin.PngImageFile image mode=RGB size=224x224>"
      ]
     },
     "execution_count": 21,
     "metadata": {},
     "output_type": "execute_result"
    }
   ],
   "source": [
    "image_adv"
   ]
  },
  {
   "cell_type": "code",
   "execution_count": 22,
   "metadata": {},
   "outputs": [
    {
     "data": {
      "image/jpeg": "[encoded data removed]",
      "image/png": "[encoded data removed]",
      "text/plain": [
       "<PIL.PngImagePlugin.PngImageFile image mode=RGB size=224x224>"
      ]
     },
     "execution_count": 22,
     "metadata": {},
     "output_type": "execute_result"
    }
   ],
   "source": [
    "image_bin"
   ]
  },
  {
   "cell_type": "code",
   "execution_count": null,
   "metadata": {},
   "outputs": [],
   "source": []
  }
 ],
 "metadata": {
  "kernelspec": {
   "display_name": "binja",
   "language": "python",
   "name": "python3"
  },
  "language_info": {
   "codemirror_mode": {
    "name": "ipython",
    "version": 3
   },
   "file_extension": ".py",
   "mimetype": "text/x-python",
   "name": "python",
   "nbconvert_exporter": "python",
   "pygments_lexer": "ipython3",
   "version": "3.10.13"
  }
 },
 "nbformat": 4,
 "nbformat_minor": 2
}
