{
 "cells": [
  {
   "cell_type": "code",
   "execution_count": 1,
   "metadata": {},
   "outputs": [
    {
     "data": {
      "text/html": [
       "<div>\n",
       "<style scoped>\n",
       "    .dataframe tbody tr th:only-of-type {\n",
       "        vertical-align: middle;\n",
       "    }\n",
       "\n",
       "    .dataframe tbody tr th {\n",
       "        vertical-align: top;\n",
       "    }\n",
       "\n",
       "    .dataframe thead th {\n",
       "        text-align: right;\n",
       "    }\n",
       "</style>\n",
       "<table border=\"1\" class=\"dataframe\">\n",
       "  <thead>\n",
       "    <tr style=\"text-align: right;\">\n",
       "      <th></th>\n",
       "      <th>Start Time</th>\n",
       "      <th>Duration</th>\n",
       "      <th>Run ID</th>\n",
       "      <th>Name</th>\n",
       "      <th>Source Type</th>\n",
       "      <th>Source Name</th>\n",
       "      <th>User</th>\n",
       "      <th>Status</th>\n",
       "      <th>JaticVisionDatasetGenerator._func</th>\n",
       "      <th>JaticVisionDatasetGenerator.batch_size</th>\n",
       "      <th>...</th>\n",
       "      <th>load_dataset.provider</th>\n",
       "      <th>load_dataset.split</th>\n",
       "      <th>load_dataset.task</th>\n",
       "      <th>load_model._func</th>\n",
       "      <th>load_model.model_name</th>\n",
       "      <th>load_model.provider</th>\n",
       "      <th>load_model.task</th>\n",
       "      <th>adversarial_mean_categorical_accuracy</th>\n",
       "      <th>benign_mean_categorical_accuracy</th>\n",
       "      <th>perturbation_mean_linf</th>\n",
       "    </tr>\n",
       "  </thead>\n",
       "  <tbody>\n",
       "    <tr>\n",
       "      <th>0</th>\n",
       "      <td>2023-09-07 17:52:50</td>\n",
       "      <td>9.7min</td>\n",
       "      <td>8e67d421ee3a46de947652d213227e7f</td>\n",
       "      <td>grandiose-lynx-117</td>\n",
       "      <td>LOCAL</td>\n",
       "      <td>model_and_parameter_evaluation/mrm8488--convne...</td>\n",
       "      <td>ubuntu</td>\n",
       "      <td>FINISHED</td>\n",
       "      <td>charmory.data.JaticVisionDatasetGenerator.__in...</td>\n",
       "      <td>128</td>\n",
       "      <td>...</td>\n",
       "      <td>huggingface</td>\n",
       "      <td>validation</td>\n",
       "      <td>image-classification</td>\n",
       "      <td>jatic_toolbox._internals.interop.api.load_model</td>\n",
       "      <td>mrm8488/convnext-tiny-finetuned-eurosat</td>\n",
       "      <td>huggingface</td>\n",
       "      <td>image-classification</td>\n",
       "      <td>0.945185</td>\n",
       "      <td>0.985185</td>\n",
       "      <td>0.020000</td>\n",
       "    </tr>\n",
       "    <tr>\n",
       "      <th>1</th>\n",
       "      <td>2023-09-07 17:46:05</td>\n",
       "      <td>6.8min</td>\n",
       "      <td>db92fb7fb8d441cbb604f51c7fd7d624</td>\n",
       "      <td>big-skink-852</td>\n",
       "      <td>LOCAL</td>\n",
       "      <td>model_and_parameter_evaluation/mrm8488--convne...</td>\n",
       "      <td>ubuntu</td>\n",
       "      <td>FINISHED</td>\n",
       "      <td>charmory.data.JaticVisionDatasetGenerator.__in...</td>\n",
       "      <td>128</td>\n",
       "      <td>...</td>\n",
       "      <td>huggingface</td>\n",
       "      <td>validation</td>\n",
       "      <td>image-classification</td>\n",
       "      <td>jatic_toolbox._internals.interop.api.load_model</td>\n",
       "      <td>mrm8488/convnext-tiny-finetuned-eurosat</td>\n",
       "      <td>huggingface</td>\n",
       "      <td>image-classification</td>\n",
       "      <td>0.973704</td>\n",
       "      <td>0.985185</td>\n",
       "      <td>0.020000</td>\n",
       "    </tr>\n",
       "    <tr>\n",
       "      <th>2</th>\n",
       "      <td>2023-09-07 17:37:56</td>\n",
       "      <td>23.7min</td>\n",
       "      <td>995a5112f1d7455da35a9929bbcd62b9</td>\n",
       "      <td>adorable-cow-816</td>\n",
       "      <td>LOCAL</td>\n",
       "      <td>model_and_parameter_evaluation/nielsr--swin-ti...</td>\n",
       "      <td>ubuntu</td>\n",
       "      <td>FINISHED</td>\n",
       "      <td>charmory.data.JaticVisionDatasetGenerator.__in...</td>\n",
       "      <td>128</td>\n",
       "      <td>...</td>\n",
       "      <td>huggingface</td>\n",
       "      <td>validation</td>\n",
       "      <td>image-classification</td>\n",
       "      <td>jatic_toolbox._internals.interop.api.load_model</td>\n",
       "      <td>nielsr/swin-tiny-patch4-window7-224-finetuned-...</td>\n",
       "      <td>huggingface</td>\n",
       "      <td>image-classification</td>\n",
       "      <td>0.805556</td>\n",
       "      <td>0.978148</td>\n",
       "      <td>0.012000</td>\n",
       "    </tr>\n",
       "    <tr>\n",
       "      <th>3</th>\n",
       "      <td>2023-09-07 17:28:24</td>\n",
       "      <td>17.7min</td>\n",
       "      <td>edb723a7442940fb833ce809f13e9b64</td>\n",
       "      <td>hilarious-yak-384</td>\n",
       "      <td>LOCAL</td>\n",
       "      <td>model_and_parameter_evaluation/mrm8488--convne...</td>\n",
       "      <td>ubuntu</td>\n",
       "      <td>FINISHED</td>\n",
       "      <td>charmory.data.JaticVisionDatasetGenerator.__in...</td>\n",
       "      <td>128</td>\n",
       "      <td>...</td>\n",
       "      <td>huggingface</td>\n",
       "      <td>validation</td>\n",
       "      <td>image-classification</td>\n",
       "      <td>jatic_toolbox._internals.interop.api.load_model</td>\n",
       "      <td>mrm8488/convnext-tiny-finetuned-eurosat</td>\n",
       "      <td>huggingface</td>\n",
       "      <td>image-classification</td>\n",
       "      <td>0.835556</td>\n",
       "      <td>0.985185</td>\n",
       "      <td>0.018000</td>\n",
       "    </tr>\n",
       "    <tr>\n",
       "      <th>4</th>\n",
       "      <td>2023-09-07 17:26:41</td>\n",
       "      <td>21.6min</td>\n",
       "      <td>ff28d01c25e144ecb2f682a6280f055c</td>\n",
       "      <td>thundering-robin-603</td>\n",
       "      <td>LOCAL</td>\n",
       "      <td>model_and_parameter_evaluation/nielsr--vit-fin...</td>\n",
       "      <td>ubuntu</td>\n",
       "      <td>FINISHED</td>\n",
       "      <td>charmory.data.JaticVisionDatasetGenerator.__in...</td>\n",
       "      <td>128</td>\n",
       "      <td>...</td>\n",
       "      <td>huggingface</td>\n",
       "      <td>validation</td>\n",
       "      <td>image-classification</td>\n",
       "      <td>jatic_toolbox._internals.interop.api.load_model</td>\n",
       "      <td>nielsr/vit-finetuned-eurosat-kornia</td>\n",
       "      <td>huggingface</td>\n",
       "      <td>image-classification</td>\n",
       "      <td>0.921481</td>\n",
       "      <td>0.966667</td>\n",
       "      <td>0.011997</td>\n",
       "    </tr>\n",
       "  </tbody>\n",
       "</table>\n",
       "<p>5 rows × 40 columns</p>\n",
       "</div>"
      ],
      "text/plain": [
       "            Start Time Duration                            Run ID  \\\n",
       "0  2023-09-07 17:52:50   9.7min  8e67d421ee3a46de947652d213227e7f   \n",
       "1  2023-09-07 17:46:05   6.8min  db92fb7fb8d441cbb604f51c7fd7d624   \n",
       "2  2023-09-07 17:37:56  23.7min  995a5112f1d7455da35a9929bbcd62b9   \n",
       "3  2023-09-07 17:28:24  17.7min  edb723a7442940fb833ce809f13e9b64   \n",
       "4  2023-09-07 17:26:41  21.6min  ff28d01c25e144ecb2f682a6280f055c   \n",
       "\n",
       "                   Name Source Type  \\\n",
       "0    grandiose-lynx-117       LOCAL   \n",
       "1         big-skink-852       LOCAL   \n",
       "2      adorable-cow-816       LOCAL   \n",
       "3     hilarious-yak-384       LOCAL   \n",
       "4  thundering-robin-603       LOCAL   \n",
       "\n",
       "                                         Source Name    User    Status  \\\n",
       "0  model_and_parameter_evaluation/mrm8488--convne...  ubuntu  FINISHED   \n",
       "1  model_and_parameter_evaluation/mrm8488--convne...  ubuntu  FINISHED   \n",
       "2  model_and_parameter_evaluation/nielsr--swin-ti...  ubuntu  FINISHED   \n",
       "3  model_and_parameter_evaluation/mrm8488--convne...  ubuntu  FINISHED   \n",
       "4  model_and_parameter_evaluation/nielsr--vit-fin...  ubuntu  FINISHED   \n",
       "\n",
       "                   JaticVisionDatasetGenerator._func  \\\n",
       "0  charmory.data.JaticVisionDatasetGenerator.__in...   \n",
       "1  charmory.data.JaticVisionDatasetGenerator.__in...   \n",
       "2  charmory.data.JaticVisionDatasetGenerator.__in...   \n",
       "3  charmory.data.JaticVisionDatasetGenerator.__in...   \n",
       "4  charmory.data.JaticVisionDatasetGenerator.__in...   \n",
       "\n",
       "   JaticVisionDatasetGenerator.batch_size  ... load_dataset.provider  \\\n",
       "0                                     128  ...           huggingface   \n",
       "1                                     128  ...           huggingface   \n",
       "2                                     128  ...           huggingface   \n",
       "3                                     128  ...           huggingface   \n",
       "4                                     128  ...           huggingface   \n",
       "\n",
       "   load_dataset.split     load_dataset.task  \\\n",
       "0          validation  image-classification   \n",
       "1          validation  image-classification   \n",
       "2          validation  image-classification   \n",
       "3          validation  image-classification   \n",
       "4          validation  image-classification   \n",
       "\n",
       "                                  load_model._func  \\\n",
       "0  jatic_toolbox._internals.interop.api.load_model   \n",
       "1  jatic_toolbox._internals.interop.api.load_model   \n",
       "2  jatic_toolbox._internals.interop.api.load_model   \n",
       "3  jatic_toolbox._internals.interop.api.load_model   \n",
       "4  jatic_toolbox._internals.interop.api.load_model   \n",
       "\n",
       "                               load_model.model_name  load_model.provider  \\\n",
       "0            mrm8488/convnext-tiny-finetuned-eurosat          huggingface   \n",
       "1            mrm8488/convnext-tiny-finetuned-eurosat          huggingface   \n",
       "2  nielsr/swin-tiny-patch4-window7-224-finetuned-...          huggingface   \n",
       "3            mrm8488/convnext-tiny-finetuned-eurosat          huggingface   \n",
       "4                nielsr/vit-finetuned-eurosat-kornia          huggingface   \n",
       "\n",
       "        load_model.task  adversarial_mean_categorical_accuracy  \\\n",
       "0  image-classification                               0.945185   \n",
       "1  image-classification                               0.973704   \n",
       "2  image-classification                               0.805556   \n",
       "3  image-classification                               0.835556   \n",
       "4  image-classification                               0.921481   \n",
       "\n",
       "   benign_mean_categorical_accuracy  perturbation_mean_linf  \n",
       "0                          0.985185                0.020000  \n",
       "1                          0.985185                0.020000  \n",
       "2                          0.978148                0.012000  \n",
       "3                          0.985185                0.018000  \n",
       "4                          0.966667                0.011997  \n",
       "\n",
       "[5 rows x 40 columns]"
      ]
     },
     "execution_count": 1,
     "metadata": {},
     "output_type": "execute_result"
    }
   ],
   "source": [
    "import pandas as pd\n",
    "from sklearn.preprocessing import StandardScaler\n",
    "import matplotlib.pyplot as plt\n",
    "from sklearn.linear_model import LinearRegression\n",
    "from sklearn.metrics import r2_score\n",
    "df = pd.read_csv(\"eurosat_model_eval_09102023.csv\")\n",
    "df.head()"
   ]
  },
  {
   "cell_type": "code",
   "execution_count": 2,
   "metadata": {},
   "outputs": [],
   "source": [
    "features = ['ProjectedGradientDescent.eps', 'ProjectedGradientDescent.eps_step','ProjectedGradientDescent.max_iter']"
   ]
  },
  {
   "cell_type": "code",
   "execution_count": 3,
   "metadata": {},
   "outputs": [],
   "source": [
    "x = df.loc[:, features].values\n",
    "y = df.loc[:,['adversarial_mean_categorical_accuracy']].values"
   ]
  },
  {
   "cell_type": "code",
   "execution_count": 4,
   "metadata": {},
   "outputs": [],
   "source": [
    "x = StandardScaler().fit_transform(x)"
   ]
  },
  {
   "cell_type": "code",
   "execution_count": 5,
   "metadata": {},
   "outputs": [
    {
     "data": {
      "image/png": "[encoded data removed]",
      "text/plain": [
       "<Figure size 640x480 with 1 Axes>"
      ]
     },
     "metadata": {},
     "output_type": "display_data"
    }
   ],
   "source": [
    "model2 = LinearRegression()\n",
    "model2.fit(x[:,0].reshape(-1, 1), y)\n",
    "\n",
    "plt.scatter(x[:,0].reshape(-1, 1), y.reshape(-1, 1),color='g')\n",
    "plt.plot(x[:,0], model2.predict(x[:,0].reshape(-1, 1)),color='k')\n",
    "plt.title('eps vs adv accuracy')\n",
    "plt.show()"
   ]
  },
  {
   "cell_type": "code",
   "execution_count": 6,
   "metadata": {},
   "outputs": [
    {
     "data": {
      "text/plain": [
       "0.051111365417129795"
      ]
     },
     "execution_count": 6,
     "metadata": {},
     "output_type": "execute_result"
    }
   ],
   "source": [
    "\n",
    "r2_score(y, model2.predict(x[:,0].reshape(-1, 1)),multioutput='variance_weighted')"
   ]
  },
  {
   "cell_type": "code",
   "execution_count": 7,
   "metadata": {},
   "outputs": [
    {
     "data": {
      "image/png": "[encoded data removed]",
      "text/plain": [
       "<Figure size 640x480 with 1 Axes>"
      ]
     },
     "metadata": {},
     "output_type": "display_data"
    }
   ],
   "source": [
    "model1 = LinearRegression()\n",
    "model1.fit(x[:,2].reshape(-1, 1), y)\n",
    "\n",
    "plt.scatter(x[:,2].reshape(-1, 1), y.reshape(-1, 1),color='g')\n",
    "plt.plot(x[:,2], model1.predict(x[:,2].reshape(-1, 1)),color='k')\n",
    "plt.title('max_iter vs adv accuracy')\n",
    "plt.show()"
   ]
  },
  {
   "cell_type": "code",
   "execution_count": 8,
   "metadata": {},
   "outputs": [
    {
     "data": {
      "text/plain": [
       "0.7254045695579221"
      ]
     },
     "execution_count": 8,
     "metadata": {},
     "output_type": "execute_result"
    }
   ],
   "source": [
    "r2_score(y, model1.predict(x[:,2].reshape(-1, 1)),multioutput='variance_weighted')"
   ]
  },
  {
   "cell_type": "code",
   "execution_count": null,
   "metadata": {},
   "outputs": [],
   "source": []
  }
 ],
 "metadata": {
  "kernelspec": {
   "display_name": "pytorch101",
   "language": "python",
   "name": "python3"
  },
  "language_info": {
   "codemirror_mode": {
    "name": "ipython",
    "version": 3
   },
   "file_extension": ".py",
   "mimetype": "text/x-python",
   "name": "python",
   "nbconvert_exporter": "python",
   "pygments_lexer": "ipython3",
   "version": "3.10.12"
  },
  "orig_nbformat": 4
 },
 "nbformat": 4,
 "nbformat_minor": 2
}
