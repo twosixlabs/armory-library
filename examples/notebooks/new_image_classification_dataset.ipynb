{
 "cells": [
  {
   "cell_type": "markdown",
   "source": [
    "# New Image Classification Dataset\n",
    "\n",
    "This notebook describes the process of preparing a user-provided image classification dataset (one not included in Hugging Face or Torchvision) for use in Armory Library."
   ],
   "metadata": {
    "collapsed": false
   },
   "id": "d54701f8d4ec1b88"
  },
  {
   "cell_type": "code",
   "execution_count": 1,
   "outputs": [],
   "source": [
    "import collections\n",
    "from pathlib import Path\n",
    "\n",
    "import datasets\n",
    "import pandas as pd\n",
    "\n",
    "import armory.data\n",
    "import armory.dataset\n",
    "import armory.evaluation\n",
    "import armory.examples"
   ],
   "metadata": {
    "collapsed": false,
    "ExecuteTime": {
     "end_time": "2024-04-29T17:06:17.357154Z",
     "start_time": "2024-04-29T17:06:14.932403Z"
    }
   },
   "id": "initial_id"
  },
  {
   "cell_type": "markdown",
   "source": [
    "[SAMPLE Public Dataset](https://github.com/benjaminlewis-afrl/SAMPLE_dataset_public)\n",
    "\n",
    "The SAMPLE dataset (Synthetic and Measured Paired Labeled Experiment) dataset consists of measured SAR imagery from the MSTAR collection (Moving and Stationary Target Acquisition and Recognition) paired with synthetic SAR imagery. The public version of this dataset contains data with azimuth angles between 10 and 80 degrees.\n",
    "\n",
    "The MSTAR dataset contains SAR imagery of 10 types of military vehicles illustrated in the EO images below.\n",
    "\n",
    "<img src=\"mstar_10_targets.png\"\n",
    "    alt=\"MSTAR 10 Targets\"\n",
    "    width=\"700\">\n",
    "\n",
    "[Song, Haibo & Ji, Kefeng & Zhang, Yunshu & Xing, Xiang & Zou, Huanxin. (2016). Sparse Representation-Based SAR Image Target Classification on the 10-Class MSTAR Data Set. Applied Sciences. 6. 26. 10.3390/app6010026.](https://www.mdpi.com/2076-3417/6/1/26)"
   ],
   "metadata": {
    "collapsed": false
   },
   "id": "4580ee8c3cd391f5"
  },
  {
   "cell_type": "markdown",
   "source": [
    "## Download dataset\n",
    "\n",
    "As a first step, we clone the [SAMPLE dataset repository](https://github.com/benjaminlewis-afrl/SAMPLE_dataset_public) that contains the real and synthetic SAR imagery into a temporary location."
   ],
   "metadata": {
    "collapsed": false
   },
   "id": "9eefc985f04a5361"
  },
  {
   "cell_type": "code",
   "execution_count": 2,
   "outputs": [],
   "source": [
    "tmp_dir = Path('/tmp')\n",
    "sample_dir = tmp_dir / Path('SAMPLE_dataset_public')"
   ],
   "metadata": {
    "collapsed": false,
    "ExecuteTime": {
     "end_time": "2024-04-29T17:06:17.366337Z",
     "start_time": "2024-04-29T17:06:17.357904Z"
    }
   },
   "id": "b136590356225d96"
  },
  {
   "cell_type": "code",
   "execution_count": 3,
   "outputs": [
    {
     "name": "stderr",
     "output_type": "stream",
     "text": [
      "Cloning into '/tmp/SAMPLE_dataset_public'...\n",
      "Updating files: 100% (8073/8073), done.\n"
     ]
    }
   ],
   "source": [
    "%%bash -s $sample_dir\n",
    "\n",
    "if [[ -d $1 ]]\n",
    "then\n",
    "    echo \"$1 exists\"\n",
    "else\n",
    "    git clone https://github.com/benjaminlewis-afrl/SAMPLE_dataset_public $1\n",
    "fi"
   ],
   "metadata": {
    "collapsed": false,
    "ExecuteTime": {
     "end_time": "2024-04-29T17:08:22.158292Z",
     "start_time": "2024-04-29T17:06:17.360490Z"
    }
   },
   "id": "1b8de43c8d2efa1b"
  },
  {
   "cell_type": "markdown",
   "source": [
    "### Dataset structure\n",
    "\n",
    "The SAMPLE dataset is organized according to the [`ImageFolder`](https://huggingface.co/docs/datasets/v2.19.0/en/image_dataset#imagefolder) pattern. The imagery is split into two normalizations -- decibel and quarter power magnitude (QPM). For each normalization type, real and synthetic SAR imagery is partitioned into folders according to vehicle type."
   ],
   "metadata": {
    "collapsed": false
   },
   "id": "aa50c07269b3fe95"
  },
  {
   "cell_type": "code",
   "execution_count": 4,
   "outputs": [
    {
     "name": "stdout",
     "output_type": "stream",
     "text": [
      " |-SAMPLE_dataset_public\r\n",
      " | |-png_images\r\n",
      " | | |-qpm\r\n",
      " | | | |-real\r\n",
      " | | | | |-m1\r\n",
      " | | | | |-t72\r\n",
      " | | | | |-btr70\r\n",
      " | | | | |-m548\r\n",
      " | | | | |-zsu23\r\n",
      " | | | | |-bmp2\r\n",
      " | | | | |-m35\r\n",
      " | | | | |-m2\r\n",
      " | | | | |-m60\r\n",
      " | | | | |-2s1\r\n",
      " | | | |-synth\r\n",
      " | | | | |-m1\r\n",
      " | | | | |-t72\r\n",
      " | | | | |-btr70\r\n",
      " | | | | |-m548\r\n",
      " | | | | |-zsu23\r\n",
      " | | | | |-bmp2\r\n",
      " | | | | |-m35\r\n",
      " | | | | |-m2\r\n",
      " | | | | |-m60\r\n",
      " | | | | |-2s1\r\n",
      " | | |-decibel\r\n",
      " | | | |-real\r\n",
      " | | | | |-m1\r\n",
      " | | | | |-t72\r\n",
      " | | | | |-btr70\r\n",
      " | | | | |-m548\r\n",
      " | | | | |-zsu23\r\n",
      " | | | | |-bmp2\r\n",
      " | | | | |-m35\r\n",
      " | | | | |-m2\r\n",
      " | | | | |-m60\r\n",
      " | | | | |-2s1\r\n",
      " | | | |-synth\r\n",
      " | | | | |-m1\r\n",
      " | | | | |-t72\r\n",
      " | | | | |-btr70\r\n",
      " | | | | |-m548\r\n",
      " | | | | |-zsu23\r\n",
      " | | | | |-bmp2\r\n",
      " | | | | |-m35\r\n",
      " | | | | |-m2\r\n",
      " | | | | |-m60\r\n",
      " | | | | |-2s1\r\n"
     ]
    }
   ],
   "source": [
    "!find $sample_dir -type d -not -path \"$sample_dir/.git*\" -not -path \"$sample_dir/mat_files*\" | sed -e \"s/[^-][^\\/]*\\// |/g\" -e \"s/|\\([^ ]\\)/|-\\1/\""
   ],
   "metadata": {
    "collapsed": false,
    "ExecuteTime": {
     "end_time": "2024-04-29T17:08:22.324998Z",
     "start_time": "2024-04-29T17:08:22.157758Z"
    }
   },
   "id": "bb4cd6502ccbe046"
  },
  {
   "cell_type": "markdown",
   "source": [
    "## Load dataset\n",
    "\n",
    "We load the QPM normalized, real SAR imagery data by calling [`datasets.load_dataset`](https://huggingface.co/docs/datasets/v2.19.0/en/package_reference/loading_methods#datasets.load_dataset) with the [`ImageFolder`](https://huggingface.co/docs/datasets/v2.19.0/en/image_dataset#imagefolder) dataset builder. `ImageFolder` automatically infers the class labels based on the directory names."
   ],
   "metadata": {
    "collapsed": false
   },
   "id": "14c784e82199239a"
  },
  {
   "cell_type": "code",
   "execution_count": 5,
   "outputs": [
    {
     "data": {
      "text/plain": "Resolving data files:   0%|          | 0/1345 [00:00<?, ?it/s]",
      "application/vnd.jupyter.widget-view+json": {
       "version_major": 2,
       "version_minor": 0,
       "model_id": "23689d9bf7d8406ba262dc7c893c945e"
      }
     },
     "metadata": {},
     "output_type": "display_data"
    },
    {
     "data": {
      "text/plain": "Generating train split:   0%|          | 0/1345 [00:00<?, ? examples/s]",
      "application/vnd.jupyter.widget-view+json": {
       "version_major": 2,
       "version_minor": 0,
       "model_id": "983585b0eda14bb888843d5204b4c6d3"
      }
     },
     "metadata": {},
     "output_type": "display_data"
    },
    {
     "data": {
      "text/plain": "DatasetDict({\n    train: Dataset({\n        features: ['image', 'label'],\n        num_rows: 1345\n    })\n})"
     },
     "execution_count": 5,
     "metadata": {},
     "output_type": "execute_result"
    }
   ],
   "source": [
    "data_dir = sample_dir / Path(\"png_images\", \"qpm\", \"real\")\n",
    "raw_dataset = datasets.load_dataset('imagefolder', data_dir=data_dir)\n",
    "raw_dataset"
   ],
   "metadata": {
    "collapsed": false,
    "ExecuteTime": {
     "end_time": "2024-04-29T17:08:24.194774Z",
     "start_time": "2024-04-29T17:08:22.308005Z"
    }
   },
   "id": "87b9eedb54bff483"
  },
  {
   "cell_type": "markdown",
   "source": [
    "### Verify dataset\n",
    "\n",
    "Check that image labels have been inferred correctly."
   ],
   "metadata": {
    "collapsed": false
   },
   "id": "da1cfd9fb801f035"
  },
  {
   "cell_type": "code",
   "execution_count": 6,
   "outputs": [
    {
     "data": {
      "text/plain": "['2s1', 'bmp2', 'btr70', 'm1', 'm2', 'm35', 'm548', 'm60', 't72', 'zsu23']"
     },
     "execution_count": 6,
     "metadata": {},
     "output_type": "execute_result"
    }
   ],
   "source": [
    "mstar_labels = raw_dataset['train'].features['label'].names\n",
    "mstar_labels"
   ],
   "metadata": {
    "collapsed": false,
    "ExecuteTime": {
     "end_time": "2024-04-29T17:08:24.203665Z",
     "start_time": "2024-04-29T17:08:24.195644Z"
    }
   },
   "id": "ef77377f9d52bb63"
  },
  {
   "cell_type": "markdown",
   "source": [
    "Since the SAR imagery is monochrome, we define a transform to convert the images to RBG format and apply it using the Hugging Face [`map`](https://huggingface.co/docs/datasets/v2.19.0/en/image_process#map) function that applies the transform over an entire dataset."
   ],
   "metadata": {
    "collapsed": false
   },
   "id": "27bb13a6c9f1d2b7"
  },
  {
   "cell_type": "code",
   "execution_count": 7,
   "outputs": [
    {
     "data": {
      "text/plain": "Map:   0%|          | 0/1345 [00:00<?, ? examples/s]",
      "application/vnd.jupyter.widget-view+json": {
       "version_major": 2,
       "version_minor": 0,
       "model_id": "c9867be6b0964030b04bbb1965d01e95"
      }
     },
     "metadata": {},
     "output_type": "display_data"
    }
   ],
   "source": [
    "def transforms(examples):\n",
    "    examples[\"image\"] = [image.convert(\"RGB\") for image in examples[\"image\"]]\n",
    "    return examples\n",
    "\n",
    "raw_dataset = raw_dataset.map(transforms, batched=True)"
   ],
   "metadata": {
    "collapsed": false,
    "ExecuteTime": {
     "end_time": "2024-04-29T17:08:33.560611Z",
     "start_time": "2024-04-29T17:08:24.199125Z"
    }
   },
   "id": "637a594d2e28585f"
  },
  {
   "cell_type": "markdown",
   "source": [
    "Display a SAR image annotated with the image format and label."
   ],
   "metadata": {
    "collapsed": false
   },
   "id": "32fd5520350b9b3b"
  },
  {
   "cell_type": "code",
   "execution_count": 8,
   "outputs": [
    {
     "data": {
      "text/plain": "<PIL.PngImagePlugin.PngImageFile image mode=RGB size=128x128>",
      "image/png": "[encoded data removed]",
      "image/jpeg": "[encoded data removed]"
     },
     "metadata": {},
     "output_type": "display_data"
    },
    {
     "name": "stdout",
     "output_type": "stream",
     "text": [
      "mode RGB\n",
      "label 2s1\n"
     ]
    }
   ],
   "source": [
    "mstar_example = raw_dataset['train'][0]\n",
    "\n",
    "display(mstar_example['image'])\n",
    "print(f\"mode {mstar_example['image'].mode}\")\n",
    "print(f\"label {mstar_labels[mstar_example['label']]}\")"
   ],
   "metadata": {
    "collapsed": false,
    "ExecuteTime": {
     "end_time": "2024-04-29T17:08:33.575289Z",
     "start_time": "2024-04-29T17:08:33.561283Z"
    }
   },
   "id": "df65e1db98ae6bea"
  },
  {
   "cell_type": "markdown",
   "source": [
    "### Define train, validation and test splits\n",
    "\n",
    "The `datasets.load_dataset` function creates a `train` split by default. By applying the [`datasets.Dataset.train_test_split`](https://huggingface.co/docs/datasets/v2.19.0/en/package_reference/main_classes#datasets.Dataset.train_test_split) method we can partition the dataset defined above into `train`, `valid` and `test` splits that are contained in a [`datasets.DatasetDict`](https://huggingface.co/docs/datasets/v2.19.0/en/package_reference/main_classes#datasets.DatasetDict)."
   ],
   "metadata": {
    "collapsed": false
   },
   "id": "cbe3d4da77c5a48e"
  },
  {
   "cell_type": "code",
   "execution_count": 9,
   "outputs": [
    {
     "data": {
      "text/plain": "DatasetDict({\n    train: Dataset({\n        features: ['image', 'label'],\n        num_rows: 941\n    })\n    valid: Dataset({\n        features: ['image', 'label'],\n        num_rows: 134\n    })\n    test: Dataset({\n        features: ['image', 'label'],\n        num_rows: 270\n    })\n})"
     },
     "execution_count": 9,
     "metadata": {},
     "output_type": "execute_result"
    }
   ],
   "source": [
    "train_dataset = raw_dataset['train'].train_test_split(\n",
    "    test_size=3/10,\n",
    "    stratify_by_column='label'\n",
    ")\n",
    "\n",
    "test_dataset = train_dataset['test'].train_test_split(\n",
    "    test_size=2/3,\n",
    "    stratify_by_column='label'\n",
    ")\n",
    "\n",
    "mstar_dataset = datasets.DatasetDict(\n",
    "    {\n",
    "        'train': train_dataset['train'],\n",
    "        'valid': test_dataset['train'],\n",
    "        'test': test_dataset['test']\n",
    "    }\n",
    ")\n",
    "\n",
    "mstar_dataset"
   ],
   "metadata": {
    "collapsed": false,
    "ExecuteTime": {
     "end_time": "2024-04-29T17:08:33.609575Z",
     "start_time": "2024-04-29T17:08:33.569402Z"
    }
   },
   "id": "4a0b20dbdabc1491"
  },
  {
   "cell_type": "markdown",
   "source": [
    "### Dataset statistics\n",
    "\n",
    "Using the Hugging Face [`map`](https://huggingface.co/docs/datasets/v2.19.0/en/image_process#map) function that can apply a transform over an entire dataset, we can produce simple statistics that summarize the data. For example, the `count_labels` function accumulates counts per split of the number of objects of each category that are then used to create a Pandas dataframe."
   ],
   "metadata": {
    "collapsed": false
   },
   "id": "b144cf8be32bda7a"
  },
  {
   "cell_type": "code",
   "execution_count": 10,
   "outputs": [
    {
     "data": {
      "text/plain": "Map:   0%|          | 0/941 [00:00<?, ? examples/s]",
      "application/vnd.jupyter.widget-view+json": {
       "version_major": 2,
       "version_minor": 0,
       "model_id": "eb0ae43a6daa4fef80c6408e70ac8967"
      }
     },
     "metadata": {},
     "output_type": "display_data"
    },
    {
     "data": {
      "text/plain": "Map:   0%|          | 0/134 [00:00<?, ? examples/s]",
      "application/vnd.jupyter.widget-view+json": {
       "version_major": 2,
       "version_minor": 0,
       "model_id": "5162c9126b464738a56e63457aa58ef6"
      }
     },
     "metadata": {},
     "output_type": "display_data"
    },
    {
     "data": {
      "text/plain": "Map:   0%|          | 0/270 [00:00<?, ? examples/s]",
      "application/vnd.jupyter.widget-view+json": {
       "version_major": 2,
       "version_minor": 0,
       "model_id": "a5327a51bb634d468c792ff6dc02d294"
      }
     },
     "metadata": {},
     "output_type": "display_data"
    },
    {
     "data": {
      "text/plain": "       train  valid  test\n2s1      122     17    35\nbmp2      75     11    21\nbtr70     64      9    19\nm1        90     13    26\nm2        90     13    25\nm35       90     13    26\nm548      89     13    26\nm60      123     17    36\nt72       76     11    21\nzsu23    122     17    35",
      "text/html": "<div>\n<style scoped>\n    .dataframe tbody tr th:only-of-type {\n        vertical-align: middle;\n    }\n\n    .dataframe tbody tr th {\n        vertical-align: top;\n    }\n\n    .dataframe thead th {\n        text-align: right;\n    }\n</style>\n<table border=\"1\" class=\"dataframe\">\n  <thead>\n    <tr style=\"text-align: right;\">\n      <th></th>\n      <th>train</th>\n      <th>valid</th>\n      <th>test</th>\n    </tr>\n  </thead>\n  <tbody>\n    <tr>\n      <th>2s1</th>\n      <td>122</td>\n      <td>17</td>\n      <td>35</td>\n    </tr>\n    <tr>\n      <th>bmp2</th>\n      <td>75</td>\n      <td>11</td>\n      <td>21</td>\n    </tr>\n    <tr>\n      <th>btr70</th>\n      <td>64</td>\n      <td>9</td>\n      <td>19</td>\n    </tr>\n    <tr>\n      <th>m1</th>\n      <td>90</td>\n      <td>13</td>\n      <td>26</td>\n    </tr>\n    <tr>\n      <th>m2</th>\n      <td>90</td>\n      <td>13</td>\n      <td>25</td>\n    </tr>\n    <tr>\n      <th>m35</th>\n      <td>90</td>\n      <td>13</td>\n      <td>26</td>\n    </tr>\n    <tr>\n      <th>m548</th>\n      <td>89</td>\n      <td>13</td>\n      <td>26</td>\n    </tr>\n    <tr>\n      <th>m60</th>\n      <td>123</td>\n      <td>17</td>\n      <td>36</td>\n    </tr>\n    <tr>\n      <th>t72</th>\n      <td>76</td>\n      <td>11</td>\n      <td>21</td>\n    </tr>\n    <tr>\n      <th>zsu23</th>\n      <td>122</td>\n      <td>17</td>\n      <td>35</td>\n    </tr>\n  </tbody>\n</table>\n</div>"
     },
     "execution_count": 10,
     "metadata": {},
     "output_type": "execute_result"
    }
   ],
   "source": [
    "def count_labels(ds: datasets.Dataset) -> list[int]:\n",
    "    ctr = collections.Counter()\n",
    "    def inc_label(l: int) -> None:\n",
    "        ctr[mstar_labels[l]] += 1\n",
    "    ds.map(inc_label, input_columns=['label'])\n",
    "    counts = [ctr[l] for l in mstar_labels]\n",
    "    return counts\n",
    "\n",
    "df = pd.DataFrame(\n",
    "    {split: count_labels(mstar_dataset[split]) for split in mstar_dataset.keys()},\n",
    "    index=mstar_labels\n",
    ")\n",
    "df"
   ],
   "metadata": {
    "collapsed": false,
    "ExecuteTime": {
     "end_time": "2024-04-29T17:08:33.663524Z",
     "start_time": "2024-04-29T17:08:33.604251Z"
    }
   },
   "id": "c2c1e90c72d364fe"
  },
  {
   "cell_type": "markdown",
   "source": [
    "A bar chart of the category counts clearly reveals the real MSTAR data is fairly balanced."
   ],
   "metadata": {
    "collapsed": false
   },
   "id": "8cb434b32cab1ad5"
  },
  {
   "cell_type": "code",
   "execution_count": 11,
   "outputs": [
    {
     "data": {
      "text/plain": "<Axes: title={'center': 'MSTAR Class Counts'}>"
     },
     "execution_count": 11,
     "metadata": {},
     "output_type": "execute_result"
    },
    {
     "data": {
      "text/plain": "<Figure size 640x480 with 1 Axes>",
      "image/png": "[encoded data removed]"
     },
     "metadata": {},
     "output_type": "display_data"
    }
   ],
   "source": [
    "df.plot(kind='bar', \n",
    "        stacked=False, \n",
    "        title='MSTAR Class Counts') "
   ],
   "metadata": {
    "collapsed": false,
    "ExecuteTime": {
     "end_time": "2024-04-29T17:08:34.048183Z",
     "start_time": "2024-04-29T17:08:33.662356Z"
    }
   },
   "id": "af422110da78cf0b"
  },
  {
   "cell_type": "markdown",
   "source": [
    "### Saving to Disk or Uploading to S3 Bucket\n",
    "\n",
    "The new MSTAR dataset may be [saved to disk](https://huggingface.co/docs/datasets/v2.19.0/en/package_reference/main_classes#datasets.Dataset.save_to_disk) among other options."
   ],
   "metadata": {
    "collapsed": false
   },
   "id": "fde3d7f3f7f80748"
  },
  {
   "cell_type": "code",
   "execution_count": 12,
   "outputs": [
    {
     "data": {
      "text/plain": "Saving the dataset (0/1 shards):   0%|          | 0/941 [00:00<?, ? examples/s]",
      "application/vnd.jupyter.widget-view+json": {
       "version_major": 2,
       "version_minor": 0,
       "model_id": "c974e0ebc1b84be4823a626a4bef7f4f"
      }
     },
     "metadata": {},
     "output_type": "display_data"
    },
    {
     "data": {
      "text/plain": "Saving the dataset (0/1 shards):   0%|          | 0/134 [00:00<?, ? examples/s]",
      "application/vnd.jupyter.widget-view+json": {
       "version_major": 2,
       "version_minor": 0,
       "model_id": "005b87224cd14b0588280f888b28d3eb"
      }
     },
     "metadata": {},
     "output_type": "display_data"
    },
    {
     "data": {
      "text/plain": "Saving the dataset (0/1 shards):   0%|          | 0/270 [00:00<?, ? examples/s]",
      "application/vnd.jupyter.widget-view+json": {
       "version_major": 2,
       "version_minor": 0,
       "model_id": "7d34d50f815441db93e7b4679f010ff3"
      }
     },
     "metadata": {},
     "output_type": "display_data"
    },
    {
     "name": "stdout",
     "output_type": "stream",
     "text": [
      "Loading the dataset\n",
      "DatasetDict({\n",
      "    train: Dataset({\n",
      "        features: ['image', 'label'],\n",
      "        num_rows: 941\n",
      "    })\n",
      "    valid: Dataset({\n",
      "        features: ['image', 'label'],\n",
      "        num_rows: 134\n",
      "    })\n",
      "    test: Dataset({\n",
      "        features: ['image', 'label'],\n",
      "        num_rows: 270\n",
      "    })\n",
      "})\n"
     ]
    }
   ],
   "source": [
    "mstar_path =  Path('mstar_10.hf')    \n",
    "mstar_dataset.save_to_disk(mstar_path)\n",
    "    \n",
    "print(\"Loading the dataset\")\n",
    "print(datasets.load_from_disk(mstar_path))"
   ],
   "metadata": {
    "collapsed": false,
    "ExecuteTime": {
     "end_time": "2024-04-29T17:08:34.313210Z",
     "start_time": "2024-04-29T17:08:34.048903Z"
    }
   },
   "id": "8e69045cc7bdd81e"
  },
  {
   "cell_type": "markdown",
   "source": [
    "## Integrate into Armory\n",
    "\n",
    "Having imported a SAMPLE subset as a Hugging Face dataset, we are ready to plug our new dataset into the Armory Library framework. This consists of creating an `armory.dataset.ObjectDetectionDataLoader` that defines the underlying [PyTorch dataloader](https://pytorch.org/docs/stable/data.html#torch.utils.data.DataLoader). Note that the `armory.data.Scale` object defines the type and scale of the data. The Armory dataloader is then wrapped by an `armory.evaluation.Dataset`."
   ],
   "metadata": {
    "collapsed": false
   },
   "id": "18670209a94e8bac"
  },
  {
   "cell_type": "code",
   "execution_count": 13,
   "outputs": [
    {
     "data": {
      "text/plain": "Dataset(name='MSTAR-qpm-real', dataloader=<armory.dataset.ImageClassificationDataLoader object at 0x2ce0530d0>)"
     },
     "execution_count": 13,
     "metadata": {},
     "output_type": "execute_result"
    }
   ],
   "source": [
    "batch_size = 16\n",
    "shuffle = False\n",
    "\n",
    "unnormalized_scale = armory.data.Scale(\n",
    "    dtype=armory.data.DataType.UINT8,\n",
    "    max=255,\n",
    ")\n",
    "\n",
    "mstar_dataloader = armory.dataset.ImageClassificationDataLoader(\n",
    "    mstar_dataset['train'],\n",
    "    dim=armory.data.ImageDimensions.CHW,\n",
    "    scale=unnormalized_scale,\n",
    "    image_key=\"image\",\n",
    "    label_key=\"label\",\n",
    "    batch_size=batch_size,\n",
    "    shuffle=shuffle,\n",
    ")\n",
    "\n",
    "armory_dataset = armory.evaluation.Dataset(\n",
    "    name=\"MSTAR-qpm-real\",\n",
    "    dataloader=mstar_dataloader,\n",
    ")\n",
    "\n",
    "armory_dataset"
   ],
   "metadata": {
    "collapsed": false,
    "ExecuteTime": {
     "end_time": "2024-04-29T17:08:34.313510Z",
     "start_time": "2024-04-29T17:08:34.306670Z"
    }
   },
   "id": "6a958a898c3e4aba"
  },
  {
   "cell_type": "markdown",
   "source": [
    "## Resources\n",
    "- [SAMPLE Public Dataset](https://github.com/benjaminlewis-afrl/SAMPLE_dataset_public)\n",
    "\n",
    "- [Lewis, B., Scarnati, T., Sudkamp, E., Nehrbass, J., Rosencrantz, S., & Zelnio, E. (2019, May). A SAR dataset for ATR development: the Synthetic and Measured Paired Labeled Experiment (SAMPLE). In Algorithms for Synthetic Aperture Radar Imagery XXVI (Vol. 10987, pp. 39-54). SPIE.](https://github.com/benjaminlewis-afrl/SAMPLE_dataset_public/blob/master/sample_public.pdf)\n"
   ],
   "metadata": {
    "collapsed": false
   },
   "id": "2ed3b9c13f56bc79"
  }
 ],
 "metadata": {
  "kernelspec": {
   "name": "armory-library-venv",
   "language": "python",
   "display_name": "armory-library-venv"
  },
  "language_info": {
   "codemirror_mode": {
    "name": "ipython",
    "version": 2
   },
   "file_extension": ".py",
   "mimetype": "text/x-python",
   "name": "python",
   "nbconvert_exporter": "python",
   "pygments_lexer": "ipython2",
   "version": "2.7.6"
  }
 },
 "nbformat": 4,
 "nbformat_minor": 5
}
