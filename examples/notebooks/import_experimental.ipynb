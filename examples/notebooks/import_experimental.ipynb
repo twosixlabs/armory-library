{
 "cells": [
  {
   "cell_type": "markdown",
   "metadata": {},
   "source": [
    "The charmory and armory-examples packages have been installed with\n",
    "\n",
    "    pip install -e .[all]\n",
    "    pip install -e examples[all]\n",
    "\n",
    "where the `all` is important. We confirm their installation with:"
   ]
  },
  {
   "cell_type": "code",
   "execution_count": 5,
   "metadata": {},
   "outputs": [
    {
     "name": "stdout",
     "output_type": "stream",
     "text": [
      "\u001b[01;31m\u001b[Karm\u001b[m\u001b[Kory-examples                23.8.post0+gb5668ede.d20230828 /home/msw/ch\u001b[01;31m\u001b[Karm\u001b[m\u001b[Kory/examples\n",
      "ch\u001b[01;31m\u001b[Karm\u001b[m\u001b[Kory                       23.8.post0+gb5668ede.d20230828 /home/msw/ch\u001b[01;31m\u001b[Karm\u001b[m\u001b[Kory\n"
     ]
    }
   ],
   "source": [
    "! python -m pip list | grep arm"
   ]
  },
  {
   "cell_type": "markdown",
   "metadata": {},
   "source": [
    "Import using package name. That is, we load the feature *module* and then \n",
    "call a method from that module"
   ]
  },
  {
   "cell_type": "code",
   "execution_count": 6,
   "metadata": {},
   "outputs": [
    {
     "name": "stdout",
     "output_type": "stream",
     "text": [
      "short and stout\n"
     ]
    }
   ],
   "source": [
    "import charmory.experimental.feature as feature\n",
    "print(feature.a_little_teapot(n=1))"
   ]
  },
  {
   "cell_type": "markdown",
   "metadata": {},
   "source": [
    "Now import a single method from the module"
   ]
  },
  {
   "cell_type": "code",
   "execution_count": 7,
   "metadata": {},
   "outputs": [
    {
     "name": "stdout",
     "output_type": "stream",
     "text": [
      "kookaburra sits in the old gum tree\n"
     ]
    }
   ],
   "source": [
    "from charmory.experimental.feature import kookaburra\n",
    "print(feature.kookaburra())\n"
   ]
  },
  {
   "cell_type": "markdown",
   "metadata": {},
   "source": [
    "Remember: if you are working on a notebook and add a new method to feature.py,\n",
    "you must restart the Ipython kernel in order that it can see the new code."
   ]
  }
 ],
 "metadata": {
  "kernelspec": {
   "display_name": "cdao",
   "language": "python",
   "name": "python3"
  },
  "language_info": {
   "codemirror_mode": {
    "name": "ipython",
    "version": 3
   },
   "file_extension": ".py",
   "mimetype": "text/x-python",
   "name": "python",
   "nbconvert_exporter": "python",
   "pygments_lexer": "ipython3",
   "version": "3.10.12"
  },
  "orig_nbformat": 4
 },
 "nbformat": 4,
 "nbformat_minor": 2
}
