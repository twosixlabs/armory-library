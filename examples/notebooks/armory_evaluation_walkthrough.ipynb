{
 "cells": [
  {
   "cell_type": "markdown",
   "metadata": {},
   "source": [
    "# Armory-Library Tutorial"
   ]
  },
  {
   "cell_type": "markdown",
   "metadata": {},
   "source": [
    "In this tutorial, we will demonstrate how to run an example in armory-library\n",
    "with an example model and dataset. In this tutorial we will use the mnist\n",
    "dataset for simplicity and a model via HuggingFace that was pre-trained on the\n",
    "mnist dataset."
   ]
  },
  {
   "cell_type": "markdown",
   "metadata": {
    "id": "HLVcyZgR41Gi"
   },
   "source": [
    "## Package Installs\n",
    "\n",
    "In addition to the `armory-library` package, we install the `datasets` package\n",
    "because we will use it later to retrieve a dataset from the HuggingFace hub. "
   ]
  },
  {
   "cell_type": "code",
   "execution_count": null,
   "metadata": {
    "colab": {
     "base_uri": "https://localhost:8080/"
    },
    "id": "eFB-V0Y1RYJ3",
    "outputId": "ee82d90c-bf14-4f46-866a-41f2b80e228b"
   },
   "outputs": [
    {
     "name": "stdout",
     "output_type": "stream",
     "text": [
      "Requirement already satisfied: armory-library in /home/kyle-treubig/Code/jatic/armory/.venv-3.11/lib/python3.11/site-packages (24.1.post72+g08fb62fc.d20240207)\n",
      "Requirement already satisfied: adversarial-robustness-toolbox==1.16.0 in /home/kyle-treubig/Code/jatic/armory/.venv-3.11/lib/python3.11/site-packages (from armory-library) (1.16.0)\n",
      "Requirement already satisfied: boto3 in /home/kyle-treubig/Code/jatic/armory/.venv-3.11/lib/python3.11/site-packages (from armory-library) (1.28.77)\n",
      "Requirement already satisfied: botocore in /home/kyle-treubig/Code/jatic/armory/.venv-3.11/lib/python3.11/site-packages (from armory-library) (1.31.77)\n",
      "Requirement already satisfied: ffmpeg-python in /home/kyle-treubig/Code/jatic/armory/.venv-3.11/lib/python3.11/site-packages (from armory-library) (0.2.0)\n",
      "Requirement already satisfied: lightning in /home/kyle-treubig/Code/jatic/armory/.venv-3.11/lib/python3.11/site-packages (from armory-library) (2.1.0)\n",
      "Requirement already satisfied: loguru in /home/kyle-treubig/Code/jatic/armory/.venv-3.11/lib/python3.11/site-packages (from armory-library) (0.7.2)\n",
      "Requirement already satisfied: matplotlib in /home/kyle-treubig/Code/jatic/armory/.venv-3.11/lib/python3.11/site-packages (from armory-library) (3.8.1)\n",
      "Requirement already satisfied: mlflow in /home/kyle-treubig/Code/jatic/armory/.venv-3.11/lib/python3.11/site-packages (from armory-library) (2.8.0)\n",
      "Requirement already satisfied: numpy in /home/kyle-treubig/Code/jatic/armory/.venv-3.11/lib/python3.11/site-packages (from armory-library) (1.26.1)\n",
      "Requirement already satisfied: pandas in /home/kyle-treubig/Code/jatic/armory/.venv-3.11/lib/python3.11/site-packages (from armory-library) (2.1.2)\n",
      "Requirement already satisfied: pillow in /home/kyle-treubig/Code/jatic/armory/.venv-3.11/lib/python3.11/site-packages (from armory-library) (10.0.1)\n",
      "Requirement already satisfied: pydub in /home/kyle-treubig/Code/jatic/armory/.venv-3.11/lib/python3.11/site-packages (from armory-library) (0.25.1)\n",
      "Requirement already satisfied: pyyaml>=6 in /home/kyle-treubig/Code/jatic/armory/.venv-3.11/lib/python3.11/site-packages (from armory-library) (6.0.1)\n",
      "Requirement already satisfied: requests in /home/kyle-treubig/Code/jatic/armory/.venv-3.11/lib/python3.11/site-packages (from armory-library) (2.31.0)\n",
      "Requirement already satisfied: scikit-learn<1.2.0 in /home/kyle-treubig/Code/jatic/armory/.venv-3.11/lib/python3.11/site-packages (from armory-library) (1.1.3)\n",
      "Requirement already satisfied: scipy in /home/kyle-treubig/Code/jatic/armory/.venv-3.11/lib/python3.11/site-packages (from armory-library) (1.11.3)\n",
      "Requirement already satisfied: tensorboardx in /home/kyle-treubig/Code/jatic/armory/.venv-3.11/lib/python3.11/site-packages (from armory-library) (2.6.2.2)\n",
      "Requirement already satisfied: tensorflow>=2.11.0 in /home/kyle-treubig/Code/jatic/armory/.venv-3.11/lib/python3.11/site-packages (from armory-library) (2.14.0)\n",
      "Requirement already satisfied: tf-models-official in /home/kyle-treubig/Code/jatic/armory/.venv-3.11/lib/python3.11/site-packages (from armory-library) (2.14.2)\n",
      "Requirement already satisfied: tidecv in /home/kyle-treubig/Code/jatic/armory/.venv-3.11/lib/python3.11/site-packages (from armory-library) (1.0.1)\n",
      "Requirement already satisfied: torch>=2.0.0 in /home/kyle-treubig/Code/jatic/armory/.venv-3.11/lib/python3.11/site-packages (from armory-library) (2.1.0)\n",
      "Requirement already satisfied: torchaudio>=2.0.1 in /home/kyle-treubig/Code/jatic/armory/.venv-3.11/lib/python3.11/site-packages (from armory-library) (2.1.0)\n",
      "Requirement already satisfied: torchmetrics in /home/kyle-treubig/Code/jatic/armory/.venv-3.11/lib/python3.11/site-packages (from armory-library) (1.2.0)\n",
      "Requirement already satisfied: torchvision>=0.15.1 in /home/kyle-treubig/Code/jatic/armory/.venv-3.11/lib/python3.11/site-packages (from armory-library) (0.16.0)\n",
      "Requirement already satisfied: tqdm in /home/kyle-treubig/Code/jatic/armory/.venv-3.11/lib/python3.11/site-packages (from armory-library) (4.66.1)\n",
      "Requirement already satisfied: transformers in /home/kyle-treubig/Code/jatic/armory/.venv-3.11/lib/python3.11/site-packages (from armory-library) (4.36.2)\n",
      "Requirement already satisfied: six in /home/kyle-treubig/Code/jatic/armory/.venv-3.11/lib/python3.11/site-packages (from adversarial-robustness-toolbox==1.16.0->armory-library) (1.16.0)\n",
      "Requirement already satisfied: setuptools in /home/kyle-treubig/Code/jatic/armory/.venv-3.11/lib/python3.11/site-packages (from adversarial-robustness-toolbox==1.16.0->armory-library) (65.5.0)\n",
      "Requirement already satisfied: joblib>=1.0.0 in /home/kyle-treubig/Code/jatic/armory/.venv-3.11/lib/python3.11/site-packages (from scikit-learn<1.2.0->armory-library) (1.3.2)\n",
      "Requirement already satisfied: threadpoolctl>=2.0.0 in /home/kyle-treubig/Code/jatic/armory/.venv-3.11/lib/python3.11/site-packages (from scikit-learn<1.2.0->armory-library) (3.2.0)\n",
      "Requirement already satisfied: absl-py>=1.0.0 in /home/kyle-treubig/Code/jatic/armory/.venv-3.11/lib/python3.11/site-packages (from tensorflow>=2.11.0->armory-library) (1.4.0)\n",
      "Requirement already satisfied: astunparse>=1.6.0 in /home/kyle-treubig/Code/jatic/armory/.venv-3.11/lib/python3.11/site-packages (from tensorflow>=2.11.0->armory-library) (1.6.3)\n",
      "Requirement already satisfied: flatbuffers>=23.5.26 in /home/kyle-treubig/Code/jatic/armory/.venv-3.11/lib/python3.11/site-packages (from tensorflow>=2.11.0->armory-library) (23.5.26)\n",
      "Requirement already satisfied: gast!=0.5.0,!=0.5.1,!=0.5.2,>=0.2.1 in /home/kyle-treubig/Code/jatic/armory/.venv-3.11/lib/python3.11/site-packages (from tensorflow>=2.11.0->armory-library) (0.5.4)\n",
      "Requirement already satisfied: google-pasta>=0.1.1 in /home/kyle-treubig/Code/jatic/armory/.venv-3.11/lib/python3.11/site-packages (from tensorflow>=2.11.0->armory-library) (0.2.0)\n",
      "Requirement already satisfied: h5py>=2.9.0 in /home/kyle-treubig/Code/jatic/armory/.venv-3.11/lib/python3.11/site-packages (from tensorflow>=2.11.0->armory-library) (3.10.0)\n",
      "Requirement already satisfied: libclang>=13.0.0 in /home/kyle-treubig/Code/jatic/armory/.venv-3.11/lib/python3.11/site-packages (from tensorflow>=2.11.0->armory-library) (16.0.6)\n",
      "Requirement already satisfied: ml-dtypes==0.2.0 in /home/kyle-treubig/Code/jatic/armory/.venv-3.11/lib/python3.11/site-packages (from tensorflow>=2.11.0->armory-library) (0.2.0)\n",
      "Requirement already satisfied: opt-einsum>=2.3.2 in /home/kyle-treubig/Code/jatic/armory/.venv-3.11/lib/python3.11/site-packages (from tensorflow>=2.11.0->armory-library) (3.3.0)\n",
      "Requirement already satisfied: packaging in /home/kyle-treubig/Code/jatic/armory/.venv-3.11/lib/python3.11/site-packages (from tensorflow>=2.11.0->armory-library) (23.2)\n",
      "Requirement already satisfied: protobuf!=4.21.0,!=4.21.1,!=4.21.2,!=4.21.3,!=4.21.4,!=4.21.5,<5.0.0dev,>=3.20.3 in /home/kyle-treubig/Code/jatic/armory/.venv-3.11/lib/python3.11/site-packages (from tensorflow>=2.11.0->armory-library) (3.20.3)\n",
      "Requirement already satisfied: termcolor>=1.1.0 in /home/kyle-treubig/Code/jatic/armory/.venv-3.11/lib/python3.11/site-packages (from tensorflow>=2.11.0->armory-library) (2.3.0)\n",
      "Requirement already satisfied: typing-extensions>=3.6.6 in /home/kyle-treubig/Code/jatic/armory/.venv-3.11/lib/python3.11/site-packages (from tensorflow>=2.11.0->armory-library) (4.5.0)\n",
      "Requirement already satisfied: wrapt<1.15,>=1.11.0 in /home/kyle-treubig/Code/jatic/armory/.venv-3.11/lib/python3.11/site-packages (from tensorflow>=2.11.0->armory-library) (1.14.1)\n",
      "Requirement already satisfied: tensorflow-io-gcs-filesystem>=0.23.1 in /home/kyle-treubig/Code/jatic/armory/.venv-3.11/lib/python3.11/site-packages (from tensorflow>=2.11.0->armory-library) (0.34.0)\n",
      "Requirement already satisfied: grpcio<2.0,>=1.24.3 in /home/kyle-treubig/Code/jatic/armory/.venv-3.11/lib/python3.11/site-packages (from tensorflow>=2.11.0->armory-library) (1.59.2)\n",
      "Requirement already satisfied: tensorboard<2.15,>=2.14 in /home/kyle-treubig/Code/jatic/armory/.venv-3.11/lib/python3.11/site-packages (from tensorflow>=2.11.0->armory-library) (2.14.1)\n",
      "Requirement already satisfied: tensorflow-estimator<2.15,>=2.14.0 in /home/kyle-treubig/Code/jatic/armory/.venv-3.11/lib/python3.11/site-packages (from tensorflow>=2.11.0->armory-library) (2.14.0)\n",
      "Requirement already satisfied: keras<2.15,>=2.14.0 in /home/kyle-treubig/Code/jatic/armory/.venv-3.11/lib/python3.11/site-packages (from tensorflow>=2.11.0->armory-library) (2.14.0)\n",
      "Requirement already satisfied: filelock in /home/kyle-treubig/Code/jatic/armory/.venv-3.11/lib/python3.11/site-packages (from torch>=2.0.0->armory-library) (3.13.1)\n",
      "Requirement already satisfied: sympy in /home/kyle-treubig/Code/jatic/armory/.venv-3.11/lib/python3.11/site-packages (from torch>=2.0.0->armory-library) (1.12)\n",
      "Requirement already satisfied: networkx in /home/kyle-treubig/Code/jatic/armory/.venv-3.11/lib/python3.11/site-packages (from torch>=2.0.0->armory-library) (3.2.1)\n",
      "Requirement already satisfied: jinja2 in /home/kyle-treubig/Code/jatic/armory/.venv-3.11/lib/python3.11/site-packages (from torch>=2.0.0->armory-library) (3.1.2)\n",
      "Requirement already satisfied: fsspec in /home/kyle-treubig/Code/jatic/armory/.venv-3.11/lib/python3.11/site-packages (from torch>=2.0.0->armory-library) (2023.10.0)\n",
      "Requirement already satisfied: nvidia-cuda-nvrtc-cu12==12.1.105 in /home/kyle-treubig/Code/jatic/armory/.venv-3.11/lib/python3.11/site-packages (from torch>=2.0.0->armory-library) (12.1.105)\n",
      "Requirement already satisfied: nvidia-cuda-runtime-cu12==12.1.105 in /home/kyle-treubig/Code/jatic/armory/.venv-3.11/lib/python3.11/site-packages (from torch>=2.0.0->armory-library) (12.1.105)\n",
      "Requirement already satisfied: nvidia-cuda-cupti-cu12==12.1.105 in /home/kyle-treubig/Code/jatic/armory/.venv-3.11/lib/python3.11/site-packages (from torch>=2.0.0->armory-library) (12.1.105)\n",
      "Requirement already satisfied: nvidia-cudnn-cu12==8.9.2.26 in /home/kyle-treubig/Code/jatic/armory/.venv-3.11/lib/python3.11/site-packages (from torch>=2.0.0->armory-library) (8.9.2.26)\n",
      "Requirement already satisfied: nvidia-cublas-cu12==12.1.3.1 in /home/kyle-treubig/Code/jatic/armory/.venv-3.11/lib/python3.11/site-packages (from torch>=2.0.0->armory-library) (12.1.3.1)\n",
      "Requirement already satisfied: nvidia-cufft-cu12==11.0.2.54 in /home/kyle-treubig/Code/jatic/armory/.venv-3.11/lib/python3.11/site-packages (from torch>=2.0.0->armory-library) (11.0.2.54)\n",
      "Requirement already satisfied: nvidia-curand-cu12==10.3.2.106 in /home/kyle-treubig/Code/jatic/armory/.venv-3.11/lib/python3.11/site-packages (from torch>=2.0.0->armory-library) (10.3.2.106)\n",
      "Requirement already satisfied: nvidia-cusolver-cu12==11.4.5.107 in /home/kyle-treubig/Code/jatic/armory/.venv-3.11/lib/python3.11/site-packages (from torch>=2.0.0->armory-library) (11.4.5.107)\n",
      "Requirement already satisfied: nvidia-cusparse-cu12==12.1.0.106 in /home/kyle-treubig/Code/jatic/armory/.venv-3.11/lib/python3.11/site-packages (from torch>=2.0.0->armory-library) (12.1.0.106)\n",
      "Requirement already satisfied: nvidia-nccl-cu12==2.18.1 in /home/kyle-treubig/Code/jatic/armory/.venv-3.11/lib/python3.11/site-packages (from torch>=2.0.0->armory-library) (2.18.1)\n",
      "Requirement already satisfied: nvidia-nvtx-cu12==12.1.105 in /home/kyle-treubig/Code/jatic/armory/.venv-3.11/lib/python3.11/site-packages (from torch>=2.0.0->armory-library) (12.1.105)\n",
      "Requirement already satisfied: triton==2.1.0 in /home/kyle-treubig/Code/jatic/armory/.venv-3.11/lib/python3.11/site-packages (from torch>=2.0.0->armory-library) (2.1.0)\n",
      "Requirement already satisfied: nvidia-nvjitlink-cu12 in /home/kyle-treubig/Code/jatic/armory/.venv-3.11/lib/python3.11/site-packages (from nvidia-cusolver-cu12==11.4.5.107->torch>=2.0.0->armory-library) (12.3.52)\n",
      "Requirement already satisfied: jmespath<2.0.0,>=0.7.1 in /home/kyle-treubig/Code/jatic/armory/.venv-3.11/lib/python3.11/site-packages (from boto3->armory-library) (1.0.1)\n",
      "Requirement already satisfied: s3transfer<0.8.0,>=0.7.0 in /home/kyle-treubig/Code/jatic/armory/.venv-3.11/lib/python3.11/site-packages (from boto3->armory-library) (0.7.0)\n",
      "Requirement already satisfied: python-dateutil<3.0.0,>=2.1 in /home/kyle-treubig/Code/jatic/armory/.venv-3.11/lib/python3.11/site-packages (from botocore->armory-library) (2.8.2)\n",
      "Requirement already satisfied: urllib3<2.1,>=1.25.4 in /home/kyle-treubig/Code/jatic/armory/.venv-3.11/lib/python3.11/site-packages (from botocore->armory-library) (2.0.7)\n",
      "Requirement already satisfied: future in /home/kyle-treubig/Code/jatic/armory/.venv-3.11/lib/python3.11/site-packages (from ffmpeg-python->armory-library) (0.18.3)\n",
      "Requirement already satisfied: lightning-utilities<2.0,>=0.8.0 in /home/kyle-treubig/Code/jatic/armory/.venv-3.11/lib/python3.11/site-packages (from lightning->armory-library) (0.9.0)\n",
      "Requirement already satisfied: pytorch-lightning in /home/kyle-treubig/Code/jatic/armory/.venv-3.11/lib/python3.11/site-packages (from lightning->armory-library) (2.1.0)\n",
      "Requirement already satisfied: contourpy>=1.0.1 in /home/kyle-treubig/Code/jatic/armory/.venv-3.11/lib/python3.11/site-packages (from matplotlib->armory-library) (1.2.0)\n",
      "Requirement already satisfied: cycler>=0.10 in /home/kyle-treubig/Code/jatic/armory/.venv-3.11/lib/python3.11/site-packages (from matplotlib->armory-library) (0.10.0)\n",
      "Requirement already satisfied: fonttools>=4.22.0 in /home/kyle-treubig/Code/jatic/armory/.venv-3.11/lib/python3.11/site-packages (from matplotlib->armory-library) (4.44.0)\n",
      "Requirement already satisfied: kiwisolver>=1.3.1 in /home/kyle-treubig/Code/jatic/armory/.venv-3.11/lib/python3.11/site-packages (from matplotlib->armory-library) (1.4.5)\n",
      "Requirement already satisfied: pyparsing>=2.3.1 in /home/kyle-treubig/Code/jatic/armory/.venv-3.11/lib/python3.11/site-packages (from matplotlib->armory-library) (2.4.7)\n",
      "Requirement already satisfied: click<9,>=7.0 in /home/kyle-treubig/Code/jatic/armory/.venv-3.11/lib/python3.11/site-packages (from mlflow->armory-library) (8.1.7)\n",
      "Requirement already satisfied: cloudpickle<3 in /home/kyle-treubig/Code/jatic/armory/.venv-3.11/lib/python3.11/site-packages (from mlflow->armory-library) (2.2.1)\n",
      "Requirement already satisfied: databricks-cli<1,>=0.8.7 in /home/kyle-treubig/Code/jatic/armory/.venv-3.11/lib/python3.11/site-packages (from mlflow->armory-library) (0.18.0)\n",
      "Requirement already satisfied: entrypoints<1 in /home/kyle-treubig/Code/jatic/armory/.venv-3.11/lib/python3.11/site-packages (from mlflow->armory-library) (0.4)\n",
      "Requirement already satisfied: gitpython<4,>=2.1.0 in /home/kyle-treubig/Code/jatic/armory/.venv-3.11/lib/python3.11/site-packages (from mlflow->armory-library) (3.1.40)\n",
      "Requirement already satisfied: pytz<2024 in /home/kyle-treubig/Code/jatic/armory/.venv-3.11/lib/python3.11/site-packages (from mlflow->armory-library) (2023.3.post1)\n",
      "Requirement already satisfied: importlib-metadata!=4.7.0,<7,>=3.7.0 in /home/kyle-treubig/Code/jatic/armory/.venv-3.11/lib/python3.11/site-packages (from mlflow->armory-library) (6.8.0)\n",
      "Requirement already satisfied: sqlparse<1,>=0.4.0 in /home/kyle-treubig/Code/jatic/armory/.venv-3.11/lib/python3.11/site-packages (from mlflow->armory-library) (0.4.4)\n",
      "Requirement already satisfied: alembic!=1.10.0,<2 in /home/kyle-treubig/Code/jatic/armory/.venv-3.11/lib/python3.11/site-packages (from mlflow->armory-library) (1.12.1)\n",
      "Requirement already satisfied: docker<7,>=4.0.0 in /home/kyle-treubig/Code/jatic/armory/.venv-3.11/lib/python3.11/site-packages (from mlflow->armory-library) (6.1.3)\n",
      "Requirement already satisfied: Flask<4 in /home/kyle-treubig/Code/jatic/armory/.venv-3.11/lib/python3.11/site-packages (from mlflow->armory-library) (3.0.0)\n",
      "Requirement already satisfied: querystring-parser<2 in /home/kyle-treubig/Code/jatic/armory/.venv-3.11/lib/python3.11/site-packages (from mlflow->armory-library) (1.2.4)\n",
      "Requirement already satisfied: sqlalchemy<3,>=1.4.0 in /home/kyle-treubig/Code/jatic/armory/.venv-3.11/lib/python3.11/site-packages (from mlflow->armory-library) (2.0.23)\n",
      "Requirement already satisfied: pyarrow<14,>=4.0.0 in /home/kyle-treubig/Code/jatic/armory/.venv-3.11/lib/python3.11/site-packages (from mlflow->armory-library) (13.0.0)\n",
      "Requirement already satisfied: markdown<4,>=3.3 in /home/kyle-treubig/Code/jatic/armory/.venv-3.11/lib/python3.11/site-packages (from mlflow->armory-library) (3.5.1)\n",
      "Requirement already satisfied: psutil<6 in /home/kyle-treubig/Code/jatic/armory/.venv-3.11/lib/python3.11/site-packages (from mlflow->armory-library) (5.9.6)\n",
      "Requirement already satisfied: gunicorn<22 in /home/kyle-treubig/Code/jatic/armory/.venv-3.11/lib/python3.11/site-packages (from mlflow->armory-library) (21.2.0)\n",
      "Requirement already satisfied: tzdata>=2022.1 in /home/kyle-treubig/Code/jatic/armory/.venv-3.11/lib/python3.11/site-packages (from pandas->armory-library) (2023.3)\n",
      "Requirement already satisfied: charset-normalizer<4,>=2 in /home/kyle-treubig/Code/jatic/armory/.venv-3.11/lib/python3.11/site-packages (from requests->armory-library) (3.3.2)\n",
      "Requirement already satisfied: idna<4,>=2.5 in /home/kyle-treubig/Code/jatic/armory/.venv-3.11/lib/python3.11/site-packages (from requests->armory-library) (2.10)\n",
      "Requirement already satisfied: certifi>=2017.4.17 in /home/kyle-treubig/Code/jatic/armory/.venv-3.11/lib/python3.11/site-packages (from requests->armory-library) (2022.12.7)\n",
      "Requirement already satisfied: Cython in /home/kyle-treubig/Code/jatic/armory/.venv-3.11/lib/python3.11/site-packages (from tf-models-official->armory-library) (3.0.5)\n",
      "Requirement already satisfied: gin-config in /home/kyle-treubig/Code/jatic/armory/.venv-3.11/lib/python3.11/site-packages (from tf-models-official->armory-library) (0.5.0)\n",
      "Requirement already satisfied: google-api-python-client>=1.6.7 in /home/kyle-treubig/Code/jatic/armory/.venv-3.11/lib/python3.11/site-packages (from tf-models-official->armory-library) (2.106.0)\n",
      "Requirement already satisfied: immutabledict in /home/kyle-treubig/Code/jatic/armory/.venv-3.11/lib/python3.11/site-packages (from tf-models-official->armory-library) (3.0.0)\n",
      "Requirement already satisfied: kaggle>=1.3.9 in /home/kyle-treubig/Code/jatic/armory/.venv-3.11/lib/python3.11/site-packages (from tf-models-official->armory-library) (1.5.16)\n",
      "Requirement already satisfied: oauth2client in /home/kyle-treubig/Code/jatic/armory/.venv-3.11/lib/python3.11/site-packages (from tf-models-official->armory-library) (4.1.3)\n",
      "Requirement already satisfied: opencv-python-headless in /home/kyle-treubig/Code/jatic/armory/.venv-3.11/lib/python3.11/site-packages (from tf-models-official->armory-library) (4.5.5.62)\n",
      "Requirement already satisfied: py-cpuinfo>=3.3.0 in /home/kyle-treubig/Code/jatic/armory/.venv-3.11/lib/python3.11/site-packages (from tf-models-official->armory-library) (9.0.0)\n",
      "Requirement already satisfied: pycocotools in /home/kyle-treubig/Code/jatic/armory/.venv-3.11/lib/python3.11/site-packages (from tf-models-official->armory-library) (2.0.7)\n",
      "Requirement already satisfied: sacrebleu in /home/kyle-treubig/Code/jatic/armory/.venv-3.11/lib/python3.11/site-packages (from tf-models-official->armory-library) (2.3.1)\n",
      "Requirement already satisfied: sentencepiece in /home/kyle-treubig/Code/jatic/armory/.venv-3.11/lib/python3.11/site-packages (from tf-models-official->armory-library) (0.1.99)\n",
      "Requirement already satisfied: seqeval in /home/kyle-treubig/Code/jatic/armory/.venv-3.11/lib/python3.11/site-packages (from tf-models-official->armory-library) (1.2.2)\n",
      "Requirement already satisfied: tensorflow-datasets in /home/kyle-treubig/Code/jatic/armory/.venv-3.11/lib/python3.11/site-packages (from tf-models-official->armory-library) (4.9.3)\n",
      "Requirement already satisfied: tensorflow-hub>=0.6.0 in /home/kyle-treubig/Code/jatic/armory/.venv-3.11/lib/python3.11/site-packages (from tf-models-official->armory-library) (0.15.0)\n",
      "Requirement already satisfied: tensorflow-model-optimization>=0.4.1 in /home/kyle-treubig/Code/jatic/armory/.venv-3.11/lib/python3.11/site-packages (from tf-models-official->armory-library) (0.7.5)\n",
      "Requirement already satisfied: tensorflow-text~=2.14.0 in /home/kyle-treubig/Code/jatic/armory/.venv-3.11/lib/python3.11/site-packages (from tf-models-official->armory-library) (2.14.0)\n",
      "Requirement already satisfied: tf-slim>=1.1.0 in /home/kyle-treubig/Code/jatic/armory/.venv-3.11/lib/python3.11/site-packages (from tf-models-official->armory-library) (1.1.0)\n",
      "Requirement already satisfied: appdirs in /home/kyle-treubig/Code/jatic/armory/.venv-3.11/lib/python3.11/site-packages (from tidecv->armory-library) (1.4.4)\n",
      "Requirement already satisfied: opencv-python in /home/kyle-treubig/Code/jatic/armory/.venv-3.11/lib/python3.11/site-packages (from tidecv->armory-library) (4.5.5.62)\n",
      "Requirement already satisfied: seaborn in /home/kyle-treubig/Code/jatic/armory/.venv-3.11/lib/python3.11/site-packages (from tidecv->armory-library) (0.13.0)\n",
      "Requirement already satisfied: huggingface-hub<1.0,>=0.19.3 in /home/kyle-treubig/Code/jatic/armory/.venv-3.11/lib/python3.11/site-packages (from transformers->armory-library) (0.20.2)\n",
      "Requirement already satisfied: regex!=2019.12.17 in /home/kyle-treubig/Code/jatic/armory/.venv-3.11/lib/python3.11/site-packages (from transformers->armory-library) (2023.10.3)\n",
      "Requirement already satisfied: tokenizers<0.19,>=0.14 in /home/kyle-treubig/Code/jatic/armory/.venv-3.11/lib/python3.11/site-packages (from transformers->armory-library) (0.15.0)\n",
      "Requirement already satisfied: safetensors>=0.3.1 in /home/kyle-treubig/Code/jatic/armory/.venv-3.11/lib/python3.11/site-packages (from transformers->armory-library) (0.4.0)\n",
      "Requirement already satisfied: Mako in /home/kyle-treubig/Code/jatic/armory/.venv-3.11/lib/python3.11/site-packages (from alembic!=1.10.0,<2->mlflow->armory-library) (1.2.4)\n",
      "Requirement already satisfied: wheel<1.0,>=0.23.0 in /home/kyle-treubig/Code/jatic/armory/.venv-3.11/lib/python3.11/site-packages (from astunparse>=1.6.0->tensorflow>=2.11.0->armory-library) (0.41.3)\n",
      "Requirement already satisfied: pyjwt>=1.7.0 in /home/kyle-treubig/Code/jatic/armory/.venv-3.11/lib/python3.11/site-packages (from databricks-cli<1,>=0.8.7->mlflow->armory-library) (2.8.0)\n",
      "Requirement already satisfied: oauthlib>=3.1.0 in /home/kyle-treubig/Code/jatic/armory/.venv-3.11/lib/python3.11/site-packages (from databricks-cli<1,>=0.8.7->mlflow->armory-library) (3.2.2)\n",
      "Requirement already satisfied: tabulate>=0.7.7 in /home/kyle-treubig/Code/jatic/armory/.venv-3.11/lib/python3.11/site-packages (from databricks-cli<1,>=0.8.7->mlflow->armory-library) (0.9.0)\n",
      "Requirement already satisfied: websocket-client>=0.32.0 in /home/kyle-treubig/Code/jatic/armory/.venv-3.11/lib/python3.11/site-packages (from docker<7,>=4.0.0->mlflow->armory-library) (1.6.4)\n",
      "Requirement already satisfied: Werkzeug>=3.0.0 in /home/kyle-treubig/Code/jatic/armory/.venv-3.11/lib/python3.11/site-packages (from Flask<4->mlflow->armory-library) (3.0.1)\n",
      "Requirement already satisfied: itsdangerous>=2.1.2 in /home/kyle-treubig/Code/jatic/armory/.venv-3.11/lib/python3.11/site-packages (from Flask<4->mlflow->armory-library) (2.1.2)\n",
      "Requirement already satisfied: blinker>=1.6.2 in /home/kyle-treubig/Code/jatic/armory/.venv-3.11/lib/python3.11/site-packages (from Flask<4->mlflow->armory-library) (1.7.0)\n",
      "Requirement already satisfied: aiohttp!=4.0.0a0,!=4.0.0a1 in /home/kyle-treubig/Code/jatic/armory/.venv-3.11/lib/python3.11/site-packages (from fsspec[http]<2025.0,>2021.06.0->lightning->armory-library) (3.8.6)\n",
      "Requirement already satisfied: gitdb<5,>=4.0.1 in /home/kyle-treubig/Code/jatic/armory/.venv-3.11/lib/python3.11/site-packages (from gitpython<4,>=2.1.0->mlflow->armory-library) (4.0.11)\n",
      "Requirement already satisfied: httplib2<1.dev0,>=0.15.0 in /home/kyle-treubig/Code/jatic/armory/.venv-3.11/lib/python3.11/site-packages (from google-api-python-client>=1.6.7->tf-models-official->armory-library) (0.22.0)\n",
      "Requirement already satisfied: google-auth<3.0.0.dev0,>=1.19.0 in /home/kyle-treubig/Code/jatic/armory/.venv-3.11/lib/python3.11/site-packages (from google-api-python-client>=1.6.7->tf-models-official->armory-library) (2.23.4)\n",
      "Requirement already satisfied: google-auth-httplib2>=0.1.0 in /home/kyle-treubig/Code/jatic/armory/.venv-3.11/lib/python3.11/site-packages (from google-api-python-client>=1.6.7->tf-models-official->armory-library) (0.1.1)\n",
      "Requirement already satisfied: google-api-core!=2.0.*,!=2.1.*,!=2.2.*,!=2.3.0,<3.0.0.dev0,>=1.31.5 in /home/kyle-treubig/Code/jatic/armory/.venv-3.11/lib/python3.11/site-packages (from google-api-python-client>=1.6.7->tf-models-official->armory-library) (2.12.0)\n",
      "Requirement already satisfied: uritemplate<5,>=3.0.1 in /home/kyle-treubig/Code/jatic/armory/.venv-3.11/lib/python3.11/site-packages (from google-api-python-client>=1.6.7->tf-models-official->armory-library) (4.1.1)\n",
      "Requirement already satisfied: zipp>=0.5 in /home/kyle-treubig/Code/jatic/armory/.venv-3.11/lib/python3.11/site-packages (from importlib-metadata!=4.7.0,<7,>=3.7.0->mlflow->armory-library) (3.17.0)\n",
      "Requirement already satisfied: MarkupSafe>=2.0 in /home/kyle-treubig/Code/jatic/armory/.venv-3.11/lib/python3.11/site-packages (from jinja2->torch>=2.0.0->armory-library) (2.1.3)\n",
      "Requirement already satisfied: python-slugify in /home/kyle-treubig/Code/jatic/armory/.venv-3.11/lib/python3.11/site-packages (from kaggle>=1.3.9->tf-models-official->armory-library) (8.0.1)\n",
      "Requirement already satisfied: bleach in /home/kyle-treubig/Code/jatic/armory/.venv-3.11/lib/python3.11/site-packages (from kaggle>=1.3.9->tf-models-official->armory-library) (6.1.0)\n",
      "Requirement already satisfied: greenlet!=0.4.17 in /home/kyle-treubig/Code/jatic/armory/.venv-3.11/lib/python3.11/site-packages (from sqlalchemy<3,>=1.4.0->mlflow->armory-library) (3.0.1)\n",
      "Requirement already satisfied: google-auth-oauthlib<1.1,>=0.5 in /home/kyle-treubig/Code/jatic/armory/.venv-3.11/lib/python3.11/site-packages (from tensorboard<2.15,>=2.14->tensorflow>=2.11.0->armory-library) (1.0.0)\n",
      "Requirement already satisfied: tensorboard-data-server<0.8.0,>=0.7.0 in /home/kyle-treubig/Code/jatic/armory/.venv-3.11/lib/python3.11/site-packages (from tensorboard<2.15,>=2.14->tensorflow>=2.11.0->armory-library) (0.7.2)\n",
      "Requirement already satisfied: dm-tree~=0.1.1 in /home/kyle-treubig/Code/jatic/armory/.venv-3.11/lib/python3.11/site-packages (from tensorflow-model-optimization>=0.4.1->tf-models-official->armory-library) (0.1.8)\n",
      "Requirement already satisfied: pyasn1>=0.1.7 in /home/kyle-treubig/Code/jatic/armory/.venv-3.11/lib/python3.11/site-packages (from oauth2client->tf-models-official->armory-library) (0.5.0)\n",
      "Requirement already satisfied: pyasn1-modules>=0.0.5 in /home/kyle-treubig/Code/jatic/armory/.venv-3.11/lib/python3.11/site-packages (from oauth2client->tf-models-official->armory-library) (0.3.0)\n",
      "Requirement already satisfied: rsa>=3.1.4 in /home/kyle-treubig/Code/jatic/armory/.venv-3.11/lib/python3.11/site-packages (from oauth2client->tf-models-official->armory-library) (4.9)\n",
      "Requirement already satisfied: portalocker in /home/kyle-treubig/Code/jatic/armory/.venv-3.11/lib/python3.11/site-packages (from sacrebleu->tf-models-official->armory-library) (2.8.2)\n",
      "Requirement already satisfied: colorama in /home/kyle-treubig/Code/jatic/armory/.venv-3.11/lib/python3.11/site-packages (from sacrebleu->tf-models-official->armory-library) (0.4.6)\n",
      "Requirement already satisfied: lxml in /home/kyle-treubig/Code/jatic/armory/.venv-3.11/lib/python3.11/site-packages (from sacrebleu->tf-models-official->armory-library) (4.9.3)\n",
      "Requirement already satisfied: mpmath>=0.19 in /home/kyle-treubig/Code/jatic/armory/.venv-3.11/lib/python3.11/site-packages (from sympy->torch>=2.0.0->armory-library) (1.3.0)\n",
      "Requirement already satisfied: array-record in /home/kyle-treubig/Code/jatic/armory/.venv-3.11/lib/python3.11/site-packages (from tensorflow-datasets->tf-models-official->armory-library) (0.5.0)\n",
      "Requirement already satisfied: etils>=0.9.0 in /home/kyle-treubig/Code/jatic/armory/.venv-3.11/lib/python3.11/site-packages (from etils[enp,epath,etree]>=0.9.0->tensorflow-datasets->tf-models-official->armory-library) (1.5.2)\n",
      "Requirement already satisfied: promise in /home/kyle-treubig/Code/jatic/armory/.venv-3.11/lib/python3.11/site-packages (from tensorflow-datasets->tf-models-official->armory-library) (2.3)\n",
      "Requirement already satisfied: tensorflow-metadata in /home/kyle-treubig/Code/jatic/armory/.venv-3.11/lib/python3.11/site-packages (from tensorflow-datasets->tf-models-official->armory-library) (1.14.0)\n",
      "Requirement already satisfied: toml in /home/kyle-treubig/Code/jatic/armory/.venv-3.11/lib/python3.11/site-packages (from tensorflow-datasets->tf-models-official->armory-library) (0.10.2)\n",
      "Requirement already satisfied: attrs>=17.3.0 in /home/kyle-treubig/Code/jatic/armory/.venv-3.11/lib/python3.11/site-packages (from aiohttp!=4.0.0a0,!=4.0.0a1->fsspec[http]<2025.0,>2021.06.0->lightning->armory-library) (23.1.0)\n",
      "Requirement already satisfied: multidict<7.0,>=4.5 in /home/kyle-treubig/Code/jatic/armory/.venv-3.11/lib/python3.11/site-packages (from aiohttp!=4.0.0a0,!=4.0.0a1->fsspec[http]<2025.0,>2021.06.0->lightning->armory-library) (6.0.4)\n",
      "Requirement already satisfied: async-timeout<5.0,>=4.0.0a3 in /home/kyle-treubig/Code/jatic/armory/.venv-3.11/lib/python3.11/site-packages (from aiohttp!=4.0.0a0,!=4.0.0a1->fsspec[http]<2025.0,>2021.06.0->lightning->armory-library) (4.0.3)\n",
      "Requirement already satisfied: yarl<2.0,>=1.0 in /home/kyle-treubig/Code/jatic/armory/.venv-3.11/lib/python3.11/site-packages (from aiohttp!=4.0.0a0,!=4.0.0a1->fsspec[http]<2025.0,>2021.06.0->lightning->armory-library) (1.9.2)\n",
      "Requirement already satisfied: frozenlist>=1.1.1 in /home/kyle-treubig/Code/jatic/armory/.venv-3.11/lib/python3.11/site-packages (from aiohttp!=4.0.0a0,!=4.0.0a1->fsspec[http]<2025.0,>2021.06.0->lightning->armory-library) (1.4.0)\n",
      "Requirement already satisfied: aiosignal>=1.1.2 in /home/kyle-treubig/Code/jatic/armory/.venv-3.11/lib/python3.11/site-packages (from aiohttp!=4.0.0a0,!=4.0.0a1->fsspec[http]<2025.0,>2021.06.0->lightning->armory-library) (1.3.1)\n",
      "Requirement already satisfied: importlib_resources in /home/kyle-treubig/Code/jatic/armory/.venv-3.11/lib/python3.11/site-packages (from etils[enp,epath,etree]>=0.9.0->tensorflow-datasets->tf-models-official->armory-library) (6.1.0)\n",
      "Requirement already satisfied: smmap<6,>=3.0.1 in /home/kyle-treubig/Code/jatic/armory/.venv-3.11/lib/python3.11/site-packages (from gitdb<5,>=4.0.1->gitpython<4,>=2.1.0->mlflow->armory-library) (5.0.1)\n",
      "Requirement already satisfied: googleapis-common-protos<2.0.dev0,>=1.56.2 in /home/kyle-treubig/Code/jatic/armory/.venv-3.11/lib/python3.11/site-packages (from google-api-core!=2.0.*,!=2.1.*,!=2.2.*,!=2.3.0,<3.0.0.dev0,>=1.31.5->google-api-python-client>=1.6.7->tf-models-official->armory-library) (1.61.0)\n",
      "Requirement already satisfied: cachetools<6.0,>=2.0.0 in /home/kyle-treubig/Code/jatic/armory/.venv-3.11/lib/python3.11/site-packages (from google-auth<3.0.0.dev0,>=1.19.0->google-api-python-client>=1.6.7->tf-models-official->armory-library) (5.3.2)\n",
      "Requirement already satisfied: requests-oauthlib>=0.7.0 in /home/kyle-treubig/Code/jatic/armory/.venv-3.11/lib/python3.11/site-packages (from google-auth-oauthlib<1.1,>=0.5->tensorboard<2.15,>=2.14->tensorflow>=2.11.0->armory-library) (1.3.1)\n",
      "Requirement already satisfied: webencodings in /home/kyle-treubig/Code/jatic/armory/.venv-3.11/lib/python3.11/site-packages (from bleach->kaggle>=1.3.9->tf-models-official->armory-library) (0.5.1)\n",
      "Requirement already satisfied: text-unidecode>=1.3 in /home/kyle-treubig/Code/jatic/armory/.venv-3.11/lib/python3.11/site-packages (from python-slugify->kaggle>=1.3.9->tf-models-official->armory-library) (1.3)\n",
      "Requirement already satisfied: datasets in /home/kyle-treubig/Code/jatic/armory/.venv-3.11/lib/python3.11/site-packages (2.16.1)\n",
      "Requirement already satisfied: filelock in /home/kyle-treubig/Code/jatic/armory/.venv-3.11/lib/python3.11/site-packages (from datasets) (3.13.1)\n",
      "Requirement already satisfied: numpy>=1.17 in /home/kyle-treubig/Code/jatic/armory/.venv-3.11/lib/python3.11/site-packages (from datasets) (1.26.1)\n",
      "Requirement already satisfied: pyarrow>=8.0.0 in /home/kyle-treubig/Code/jatic/armory/.venv-3.11/lib/python3.11/site-packages (from datasets) (13.0.0)\n",
      "Requirement already satisfied: pyarrow-hotfix in /home/kyle-treubig/Code/jatic/armory/.venv-3.11/lib/python3.11/site-packages (from datasets) (0.6)\n",
      "Requirement already satisfied: dill<0.3.8,>=0.3.0 in /home/kyle-treubig/Code/jatic/armory/.venv-3.11/lib/python3.11/site-packages (from datasets) (0.3.7)\n",
      "Requirement already satisfied: pandas in /home/kyle-treubig/Code/jatic/armory/.venv-3.11/lib/python3.11/site-packages (from datasets) (2.1.2)\n",
      "Requirement already satisfied: requests>=2.19.0 in /home/kyle-treubig/Code/jatic/armory/.venv-3.11/lib/python3.11/site-packages (from datasets) (2.31.0)\n",
      "Requirement already satisfied: tqdm>=4.62.1 in /home/kyle-treubig/Code/jatic/armory/.venv-3.11/lib/python3.11/site-packages (from datasets) (4.66.1)\n",
      "Requirement already satisfied: xxhash in /home/kyle-treubig/Code/jatic/armory/.venv-3.11/lib/python3.11/site-packages (from datasets) (3.4.1)\n",
      "Requirement already satisfied: multiprocess in /home/kyle-treubig/Code/jatic/armory/.venv-3.11/lib/python3.11/site-packages (from datasets) (0.70.15)\n",
      "Requirement already satisfied: fsspec<=2023.10.0,>=2023.1.0 in /home/kyle-treubig/Code/jatic/armory/.venv-3.11/lib/python3.11/site-packages (from fsspec[http]<=2023.10.0,>=2023.1.0->datasets) (2023.10.0)\n",
      "Requirement already satisfied: aiohttp in /home/kyle-treubig/Code/jatic/armory/.venv-3.11/lib/python3.11/site-packages (from datasets) (3.8.6)\n",
      "Requirement already satisfied: huggingface-hub>=0.19.4 in /home/kyle-treubig/Code/jatic/armory/.venv-3.11/lib/python3.11/site-packages (from datasets) (0.20.2)\n",
      "Requirement already satisfied: packaging in /home/kyle-treubig/Code/jatic/armory/.venv-3.11/lib/python3.11/site-packages (from datasets) (23.2)\n",
      "Requirement already satisfied: pyyaml>=5.1 in /home/kyle-treubig/Code/jatic/armory/.venv-3.11/lib/python3.11/site-packages (from datasets) (6.0.1)\n",
      "Requirement already satisfied: attrs>=17.3.0 in /home/kyle-treubig/Code/jatic/armory/.venv-3.11/lib/python3.11/site-packages (from aiohttp->datasets) (23.1.0)\n",
      "Requirement already satisfied: charset-normalizer<4.0,>=2.0 in /home/kyle-treubig/Code/jatic/armory/.venv-3.11/lib/python3.11/site-packages (from aiohttp->datasets) (3.3.2)\n",
      "Requirement already satisfied: multidict<7.0,>=4.5 in /home/kyle-treubig/Code/jatic/armory/.venv-3.11/lib/python3.11/site-packages (from aiohttp->datasets) (6.0.4)\n",
      "Requirement already satisfied: async-timeout<5.0,>=4.0.0a3 in /home/kyle-treubig/Code/jatic/armory/.venv-3.11/lib/python3.11/site-packages (from aiohttp->datasets) (4.0.3)\n",
      "Requirement already satisfied: yarl<2.0,>=1.0 in /home/kyle-treubig/Code/jatic/armory/.venv-3.11/lib/python3.11/site-packages (from aiohttp->datasets) (1.9.2)\n",
      "Requirement already satisfied: frozenlist>=1.1.1 in /home/kyle-treubig/Code/jatic/armory/.venv-3.11/lib/python3.11/site-packages (from aiohttp->datasets) (1.4.0)\n",
      "Requirement already satisfied: aiosignal>=1.1.2 in /home/kyle-treubig/Code/jatic/armory/.venv-3.11/lib/python3.11/site-packages (from aiohttp->datasets) (1.3.1)\n",
      "Requirement already satisfied: typing-extensions>=3.7.4.3 in /home/kyle-treubig/Code/jatic/armory/.venv-3.11/lib/python3.11/site-packages (from huggingface-hub>=0.19.4->datasets) (4.5.0)\n",
      "Requirement already satisfied: idna<4,>=2.5 in /home/kyle-treubig/Code/jatic/armory/.venv-3.11/lib/python3.11/site-packages (from requests>=2.19.0->datasets) (2.10)\n",
      "Requirement already satisfied: urllib3<3,>=1.21.1 in /home/kyle-treubig/Code/jatic/armory/.venv-3.11/lib/python3.11/site-packages (from requests>=2.19.0->datasets) (2.0.7)\n",
      "Requirement already satisfied: certifi>=2017.4.17 in /home/kyle-treubig/Code/jatic/armory/.venv-3.11/lib/python3.11/site-packages (from requests>=2.19.0->datasets) (2022.12.7)\n",
      "Requirement already satisfied: python-dateutil>=2.8.2 in /home/kyle-treubig/Code/jatic/armory/.venv-3.11/lib/python3.11/site-packages (from pandas->datasets) (2.8.2)\n",
      "Requirement already satisfied: pytz>=2020.1 in /home/kyle-treubig/Code/jatic/armory/.venv-3.11/lib/python3.11/site-packages (from pandas->datasets) (2023.3.post1)\n",
      "Requirement already satisfied: tzdata>=2022.1 in /home/kyle-treubig/Code/jatic/armory/.venv-3.11/lib/python3.11/site-packages (from pandas->datasets) (2023.3)\n",
      "Requirement already satisfied: six>=1.5 in /home/kyle-treubig/Code/jatic/armory/.venv-3.11/lib/python3.11/site-packages (from python-dateutil>=2.8.2->pandas->datasets) (1.16.0)\n"
     ]
    }
   ],
   "source": [
    "!pip install armory-library\n",
    "!pip install datasets"
   ]
  },
  {
   "cell_type": "markdown",
   "metadata": {
    "id": "BVyMdIKHzIQq"
   },
   "source": [
    "## Imports\n",
    "\n",
    "These are all the necessary imports to run the example file and will all be used and explained later in the notebook."
   ]
  },
  {
   "cell_type": "code",
   "execution_count": null,
   "metadata": {
    "id": "u5akHz7F98hN"
   },
   "outputs": [
    {
     "name": "stderr",
     "output_type": "stream",
     "text": [
      "2024-03-05 16:13:35.384906: I tensorflow/tsl/cuda/cudart_stub.cc:28] Could not find cuda drivers on your machine, GPU will not be used.\n",
      "2024-03-05 16:13:35.433207: E tensorflow/compiler/xla/stream_executor/cuda/cuda_dnn.cc:9342] Unable to register cuDNN factory: Attempting to register factory for plugin cuDNN when one has already been registered\n",
      "2024-03-05 16:13:35.433228: E tensorflow/compiler/xla/stream_executor/cuda/cuda_fft.cc:609] Unable to register cuFFT factory: Attempting to register factory for plugin cuFFT when one has already been registered\n",
      "2024-03-05 16:13:35.433258: E tensorflow/compiler/xla/stream_executor/cuda/cuda_blas.cc:1518] Unable to register cuBLAS factory: Attempting to register factory for plugin cuBLAS when one has already been registered\n",
      "2024-03-05 16:13:35.442758: I tensorflow/core/platform/cpu_feature_guard.cc:182] This TensorFlow binary is optimized to use available CPU instructions in performance-critical operations.\n",
      "To enable the following instructions: AVX2 FMA, in other operations, rebuild TensorFlow with the appropriate compiler flags.\n",
      "2024-03-05 16:13:37.112072: W tensorflow/compiler/tf2tensorrt/utils/py_utils.cc:38] TF-TRT Warning: Could not find TensorRT\n"
     ]
    }
   ],
   "source": [
    "import json\n",
    "from pprint import pprint\n",
    "\n",
    "from art.attacks.evasion import ProjectedGradientDescent\n",
    "from art.estimators.classification import PyTorchClassifier\n",
    "import datasets\n",
    "import matplotlib.pyplot as plt\n",
    "import mlflow\n",
    "import numpy as np\n",
    "import torch\n",
    "import torch.nn\n",
    "import torchmetrics.classification\n",
    "from transformers import AutoImageProcessor, AutoModelForImageClassification\n",
    "\n",
    "from armory.data import DataType, ImageDimensions, Images, Scale\n",
    "from armory.dataset import ImageClassificationDataLoader\n",
    "from armory.engine import EvaluationEngine\n",
    "import armory.evaluation as ev\n",
    "from armory.export.image_classification import ImageClassificationExporter\n",
    "from armory.metric import PerturbationMetric, PredictionMetric\n",
    "from armory.metrics.compute import BasicProfiler\n",
    "from armory.metrics.perturbation import PerturbationNormMetric\n",
    "from armory.model.image_classification import ImageClassifier\n",
    "from armory.perturbation import ArtEvasionAttack\n",
    "from armory.track import track_init_params, track_params"
   ]
  },
  {
   "cell_type": "code",
   "execution_count": null,
   "metadata": {
    "tags": [
     "parameters"
    ]
   },
   "outputs": [],
   "source": [
    "batch_size = 8\n",
    "num_batches = 10"
   ]
  },
  {
   "cell_type": "markdown",
   "metadata": {
    "id": "VcJnRKIcZKCm"
   },
   "source": [
    "## Loading and Wrapping the Dataset"
   ]
  },
  {
   "cell_type": "code",
   "execution_count": null,
   "metadata": {
    "colab": {
     "base_uri": "https://localhost:8080/"
    },
    "id": "Qc0-c_vsHZaW",
    "outputId": "94355612-18d6-4687-cf29-76bd61506c86"
   },
   "outputs": [],
   "source": [
    "hf_dataset = datasets.load_dataset(\"mnist\", split=\"test\")"
   ]
  },
  {
   "cell_type": "markdown",
   "metadata": {},
   "source": [
    "We load the dataset from the HuggingFace hub. The \"mnist\" dataset is the same\n",
    "one used to pre-train our selected model.\n",
    "\n",
    "Since we are only performing an evaluation of the already-trained model, we only\n",
    "load the \"test\" split."
   ]
  },
  {
   "cell_type": "code",
   "execution_count": null,
   "metadata": {},
   "outputs": [
    {
     "data": {
      "text/plain": [
       "['0', '1', '2', '3', '4', '5', '6', '7', '8', '9']"
      ]
     },
     "execution_count": null,
     "metadata": {},
     "output_type": "execute_result"
    }
   ],
   "source": [
    "labels = hf_dataset.features[\"label\"].names\n",
    "labels"
   ]
  },
  {
   "cell_type": "markdown",
   "metadata": {},
   "source": [
    "We obtain the labels from the features of the dataset."
   ]
  },
  {
   "cell_type": "code",
   "execution_count": null,
   "metadata": {},
   "outputs": [
    {
     "name": "stderr",
     "output_type": "stream",
     "text": [
      "Could not find image processor class in the image processor config or the model config. Loading based on pattern matching with the model's feature extractor configuration.\n"
     ]
    },
    {
     "data": {
      "text/plain": [
       "ViTImageProcessor {\n",
       "  \"do_normalize\": true,\n",
       "  \"do_rescale\": true,\n",
       "  \"do_resize\": true,\n",
       "  \"image_mean\": [\n",
       "    0.5,\n",
       "    0.5,\n",
       "    0.5\n",
       "  ],\n",
       "  \"image_processor_type\": \"ViTImageProcessor\",\n",
       "  \"image_std\": [\n",
       "    0.5,\n",
       "    0.5,\n",
       "    0.5\n",
       "  ],\n",
       "  \"resample\": 2,\n",
       "  \"rescale_factor\": 0.00392156862745098,\n",
       "  \"size\": {\n",
       "    \"height\": 224,\n",
       "    \"width\": 224\n",
       "  }\n",
       "}"
      ]
     },
     "execution_count": null,
     "metadata": {},
     "output_type": "execute_result"
    }
   ],
   "source": [
    "hf_processor = AutoImageProcessor.from_pretrained(\n",
    "    \"farleyknight-org-username/vit-base-mnist\"\n",
    ")\n",
    "hf_processor"
   ]
  },
  {
   "cell_type": "markdown",
   "metadata": {
    "colab": {
     "base_uri": "https://localhost:8080/",
     "height": 88
    },
    "id": "l1kLRy30ZB9-",
    "outputId": "87364f6e-1b62-4f75-cb1f-df361928a6bd"
   },
   "source": [
    "Here we load a pre-configured image processor from HuggingFace for our selected\n",
    "model. This processor ensures that images from the dataset will be formatted\n",
    "correctly when used as inputs to the model.\n",
    "\n",
    "By printing the processor to the console or by visually inspecting the\n",
    "`preprocessor_config.json` file on HuggingFace for the selected model, we can\n",
    "see that this image processor will:\n",
    "- Resize images to 224x224.\n",
    "- Normalize the image data using a mean of `(0.5, 0.5, 0.5)` and a standard\n",
    "  deviation of `(0.5, 0.5, 0.5)`."
   ]
  },
  {
   "cell_type": "code",
   "execution_count": null,
   "metadata": {},
   "outputs": [],
   "source": [
    "image_mean = tuple(hf_processor.image_mean)\n",
    "image_std = tuple(hf_processor.image_std)\n",
    "\n",
    "image_height = hf_processor.size[\"height\"]\n",
    "image_width = hf_processor.size[\"width\"]\n",
    "\n",
    "image_min = 0.0 - max(image_mean) / min(image_std)\n",
    "image_max = 1.0 - min(image_mean) / min(image_std)"
   ]
  },
  {
   "cell_type": "markdown",
   "metadata": {},
   "source": [
    "We'll save these parameters from the processor so we can use them later.\n",
    "\n",
    "We can calculate the minimum and maximum normalized values by taking the\n",
    "unnormalized min and max (0.0 and 1.0) and applying the normalization equation\n",
    "using the image processor's mean and standard deviation.\n",
    "\n",
    "Although unnecessary in this case because the mean and standard deviation is the\n",
    "same across all three channels, we demonstrate here the calculation using the\n",
    "largest or smallest values as though each channel had different values (e.g.,\n",
    "when using the ImageNet normalization values). We use the largest mean value\n",
    "when calculating the min so we get the lowest negative number possible. But we\n",
    "use the smallest mean value when calculating the max so we get the highest\n",
    "positive number possible. We use the smallest standard deviation value in both\n",
    "cases in the denominator to get the highest and lowest numbers possible."
   ]
  },
  {
   "cell_type": "code",
   "execution_count": null,
   "metadata": {
    "colab": {
     "base_uri": "https://localhost:8080/"
    },
    "id": "53pWumP9JBvX",
    "outputId": "f3eba87f-6706-456e-84f8-8efe550cbddb"
   },
   "outputs": [],
   "source": [
    "def transform(sample):\n",
    "    sample[\"image\"] = hf_processor([img.convert(\"RGB\") for img in sample[\"image\"]])[\n",
    "        \"pixel_values\"\n",
    "    ]\n",
    "    return sample\n",
    "\n",
    "hf_dataset.set_transform(transform)"
   ]
  },
  {
   "cell_type": "markdown",
   "metadata": {},
   "source": [
    "We write a transform function that will be applied to the dataset. This\n",
    "transform will convert images to RGB color mode (in case they aren't already)\n",
    "and then pass them through the pre-configured HuggingFace image processor."
   ]
  },
  {
   "cell_type": "code",
   "execution_count": null,
   "metadata": {},
   "outputs": [],
   "source": [
    "dataloader = ImageClassificationDataLoader(\n",
    "    hf_dataset,\n",
    "    dim=ImageDimensions.CHW,\n",
    "    scale=Scale(\n",
    "        dtype=DataType.FLOAT,\n",
    "        max=1.0,\n",
    "        mean=image_mean,\n",
    "        std=image_std,\n",
    "    ),\n",
    "    image_key=\"image\",\n",
    "    label_key=\"label\",\n",
    "    batch_size=batch_size,\n",
    ")"
   ]
  },
  {
   "cell_type": "markdown",
   "metadata": {},
   "source": [
    "Lastly we create a data loader for the dataset. As the data loader is\n",
    "responsible for creating the self-describing, structured batches of data, it\n",
    "is objective-specific (i.e., image classification vs object detection) and must\n",
    "be informed about characteristics of the samples coming out of the dataset (and\n",
    "any transforms that have been applied).\n",
    "\n",
    "In our case, we instruct the data loader that the images from the dataset will\n",
    "have a channels-first dimensionality and have been normalized to a particular\n",
    "mean and standard deviation. When unnormalized, the data is floating point\n",
    "values ranging from 0 to 1.0. The `image_key` and `label_key` are the property\n",
    "names in the sample dictionaries out of the dataset containing the image data\n",
    "and target labels, respectively."
   ]
  },
  {
   "cell_type": "markdown",
   "metadata": {
    "id": "tMbJc0qCzOAu"
   },
   "source": [
    "## Loading and Wrapping the Model"
   ]
  },
  {
   "cell_type": "code",
   "execution_count": null,
   "metadata": {
    "colab": {
     "base_uri": "https://localhost:8080/"
    },
    "id": "YSrkcW1Gbvvt",
    "outputId": "44226ee0-1905-4bff-a215-42fa12629212"
   },
   "outputs": [],
   "source": [
    "hf_model = track_params(AutoModelForImageClassification.from_pretrained)(\n",
    "    pretrained_model_name_or_path=\"farleyknight-org-username/vit-base-mnist\"\n",
    ")"
   ]
  },
  {
   "cell_type": "markdown",
   "metadata": {},
   "source": [
    "We load a pre-trained model found on HuggingFace that has been trained on the\n",
    "mnist dataset with the model card `farleyknight-org-username/vit-base-mnist`.\n",
    "This can be replaced with another model off of Huggingface or you can use a\n",
    "custom local model.\n",
    "\n",
    "We use the `track_params` function decorator to automatically record keyword\n",
    "arguments as parameters in MLFlow."
   ]
  },
  {
   "cell_type": "code",
   "execution_count": null,
   "metadata": {},
   "outputs": [],
   "source": [
    "model = ImageClassifier(\n",
    "    name=\"ViT\",\n",
    "    model=hf_model,\n",
    "    accessor=Images.as_torch(),\n",
    ")"
   ]
  },
  {
   "cell_type": "markdown",
   "metadata": {},
   "source": [
    "We must wrap the HuggingFace model in order to make it compatible with Armory.\n",
    "This is because Armory uses a self-describing, structured data type for model\n",
    "inputs. The `ImageClassifier` class is a generic wrapper around Torch-like image\n",
    "classification models.\n",
    "\n",
    "To instruct the wrapper how the model inputs should be extracted from the Armory\n",
    "inputs, we specify an \"accessor\" instance. An accessor is a pre-configured means\n",
    "to convert between a self-describing, structured Armory data type (such as\n",
    "`Images`) and an unustructured data type (such as a Torch `Tensor`)."
   ]
  },
  {
   "cell_type": "code",
   "execution_count": null,
   "metadata": {},
   "outputs": [],
   "source": [
    "art_classifier = track_init_params(PyTorchClassifier)(\n",
    "    model,\n",
    "    loss=torch.nn.CrossEntropyLoss(),\n",
    "    optimizer=torch.optim.Adam(model.parameters(), lr=0.003),\n",
    "    input_shape=(3, image_height, image_width),\n",
    "    channels_first=True,\n",
    "    nb_classes=len(labels),\n",
    "    clip_values=(image_min, image_max),\n",
    ")"
   ]
  },
  {
   "cell_type": "markdown",
   "metadata": {
    "colab": {
     "base_uri": "https://localhost:8080/",
     "height": 88
    },
    "id": "hIOG76MJAPVA",
    "outputId": "c0d75be3-0e0c-4f0f-c354-ff6c03165800"
   },
   "source": [
    "Lastly we wrap the model in an ART estimator in order to make the model\n",
    "compatible with attacks and defences from the Adversarial Robustness Toolbox\n",
    "(ART).\n",
    "\n",
    "Like the `track_params` function decorator, the `track_init_params` decorator\n",
    "works on classes to track keyword arguments to the init method.\n",
    "\n",
    "Here we use the image size, min/max values, and label information we obtained\n",
    "from the image processor and dataset. When not using a HuggingFace model or if\n",
    "you chose not to introspect the image processor, you must take care that the\n",
    "`input_shape`, `channels_first`, and `clip_values` parameters match the input\n",
    "requirements of the model. Similarly, the `nb_classes` parameter must match the\n",
    "number of output classes supported by the classification model."
   ]
  },
  {
   "cell_type": "markdown",
   "metadata": {
    "id": "_Lu7uKqMcGut"
   },
   "source": [
    "## Configure the Attack"
   ]
  },
  {
   "cell_type": "code",
   "execution_count": null,
   "metadata": {
    "colab": {
     "base_uri": "https://localhost:8080/"
    },
    "id": "s_n5ASOQah3d",
    "outputId": "11a139d9-48b1-4fd1-ebdf-f5b90e57dac9"
   },
   "outputs": [],
   "source": [
    "art_pgd = track_init_params(ProjectedGradientDescent)(\n",
    "    art_classifier,\n",
    "    batch_size=batch_size,\n",
    "    eps=0.031,\n",
    "    eps_step=0.007,\n",
    "    max_iter=20,\n",
    "    num_random_init=1,\n",
    "    random_eps=False,\n",
    "    targeted=False,\n",
    "    verbose=False,\n",
    ")"
   ]
  },
  {
   "cell_type": "markdown",
   "metadata": {
    "colab": {
     "base_uri": "https://localhost:8080/",
     "height": 53
    },
    "id": "OPk221EicVNZ",
    "outputId": "f2ef812e-ebf6-4227-9be7-a3068e7430b7"
   },
   "source": [
    "We use the projected gradient descent (PGD) attack from ART (see\n",
    "https://arxiv.org/abs/1706.06083 for more info). Again, we use the\n",
    "`track_init_params` decorator to have the parameters of the attack recorded.\n",
    "This is particularly useful when tweaking the parameters of the attack, as the\n",
    "input attack parameters and the resulting outputs from the model can be easily\n",
    "compared and analyzed in MLFlow."
   ]
  },
  {
   "cell_type": "code",
   "execution_count": null,
   "metadata": {},
   "outputs": [],
   "source": [
    "attack = ArtEvasionAttack(\n",
    "    name=\"PGD\",\n",
    "    attack=art_pgd,\n",
    "    use_label_for_untargeted=True,\n",
    "    inputs_accessor=Images.as_numpy(),\n",
    ")"
   ]
  },
  {
   "cell_type": "markdown",
   "metadata": {},
   "source": [
    "In a similar fashion to the model, we must wrap the ART attack in order to make\n",
    "it compatible with Armory. This wrapper is specific to ART evasion attacks and\n",
    "will handle:\n",
    "- converting the self-describing, structured data (using accessors)\n",
    "- generating the target labels for the attack when the attack is a targeted\n",
    "  attack\n",
    "- replacing the inputs in the current batch with the outputs of the attack\n",
    "\n",
    "Use specify `use_label_for_untargeted=True` because our attack is not targeted\n",
    "and we want to use the natural labels as the `y` parameter to the ART attack's\n",
    "`generate` method (i.e. \"misclassify to anything but the natural label\").\n",
    "\n",
    "Unlike our model wrapper, which used an `Images.as_torch()` accessor, here we\n",
    "use a `Images.as_numpy()` accessor since ART attacks accept NumPy array inputs\n",
    "rather than Torch tensors."
   ]
  },
  {
   "cell_type": "markdown",
   "metadata": {
    "id": "NS5BjHw3dj6c"
   },
   "source": [
    "## Define the Metrics"
   ]
  },
  {
   "cell_type": "code",
   "execution_count": null,
   "metadata": {},
   "outputs": [],
   "source": [
    "linf_norm = PerturbationMetric(\n",
    "    PerturbationNormMetric(ord=torch.inf),\n",
    ")"
   ]
  },
  {
   "cell_type": "markdown",
   "metadata": {},
   "source": [
    "A perturbation metric is a metric derived from the initial, unperturbed inputs\n",
    "and the final, perturbed inputs in each batch. The `PerturbationMetric` wrapper\n",
    "handles converting the current batch's inputs from self-describing, structured\n",
    "data using accessors. Here we use the default `as_torch` accessor.\n",
    "\n",
    "The `PerturbationNormMetric` is an L-norm measurement of the difference between\n",
    "the initial and the perturbed data. In this case, we are calculating the\n",
    "L-infinity norm, which is the largest magnitude of difference for any particular\n",
    "pixel in the image. Other supported norms are L0, L1, and L2 (using `ord=0`,\n",
    "`ord=1`, and `ord=2` respectively)."
   ]
  },
  {
   "cell_type": "code",
   "execution_count": null,
   "metadata": {},
   "outputs": [],
   "source": [
    "accuracy = PredictionMetric(\n",
    "    torchmetrics.classification.Accuracy(\n",
    "        task=\"multiclass\", num_classes=len(labels)\n",
    "    ),\n",
    ")"
   ]
  },
  {
   "cell_type": "markdown",
   "metadata": {},
   "source": [
    "A prediction metric is a metric derived from the natural targets and the output\n",
    "predictions of the model for each batch. The `PredictionMetric` wrapper handles\n",
    "converting the current batch's target labels and predicted labels from\n",
    "self-describing, structured data using accessors. Here we use the default\n",
    "`as_torch` accessor.\n",
    "\n",
    "We use the `Accuracy` metric provided by `torchmetrics`. Any of the\n",
    "classification metrics from `torchmetrics` can be used here."
   ]
  },
  {
   "cell_type": "markdown",
   "metadata": {},
   "source": [
    "## Running the Evaluation"
   ]
  },
  {
   "cell_type": "code",
   "execution_count": null,
   "metadata": {
    "id": "R0kMTvQ6vLIW"
   },
   "outputs": [],
   "source": [
    "evaluation = ev.Evaluation(\n",
    "    name=\"mnist-vit-pgd\",\n",
    "    description=\"MNIST image classification using a ViT model and PGD attack\",\n",
    "    author=\"TwoSix\",\n",
    "    dataset=ev.Dataset(\n",
    "        name=\"MNIST\",\n",
    "        dataloader=dataloader,\n",
    "    ),\n",
    "    model=model,\n",
    "    perturbations={\n",
    "        \"benign\": [],\n",
    "        \"attack\": [attack],\n",
    "    },\n",
    "    metrics={\n",
    "        \"linf_norm\": linf_norm,\n",
    "        \"accuracy\": accuracy,\n",
    "    },\n",
    "    exporter=ImageClassificationExporter(),\n",
    "    profiler=BasicProfiler(),\n",
    ")"
   ]
  },
  {
   "cell_type": "markdown",
   "metadata": {},
   "source": [
    "Here we define the final configuration of the evaluation, which includes the\n",
    "model, dataset, attack, and metrics that we created earlier.\n",
    "\n",
    "We define two perturbation chains, \"benign\" and \"attack\". As each batch is\n",
    "evaluated, Armory will pass the batch through each chain and record metrics for\n",
    "each chain independently.\n",
    "\n",
    "We use the `ImageClassificationExporter` to have image samples properly exported\n",
    "as image files.\n",
    "\n",
    "The `BasicProfiler` enables computation-time profiling on various stages of the\n",
    "Armory evaluation."
   ]
  },
  {
   "cell_type": "code",
   "execution_count": null,
   "metadata": {},
   "outputs": [
    {
     "name": "stderr",
     "output_type": "stream",
     "text": [
      "INFO: GPU available: True (cuda), used: True\n",
      "INFO: TPU available: False, using: 0 TPU cores\n",
      "INFO: IPU available: False, using: 0 IPUs\n",
      "INFO: HPU available: False, using: 0 HPUs\n"
     ]
    }
   ],
   "source": [
    "engine = EvaluationEngine(\n",
    "    evaluation,\n",
    "    export_every_n_batches=num_batches,\n",
    "    limit_test_batches=num_batches,\n",
    ")"
   ]
  },
  {
   "cell_type": "markdown",
   "metadata": {},
   "source": [
    "Lastly, we create an instance of the Armory evaluation engine. We are going to\n",
    "evaluate a subset of the dataset as specified by the `limit_test_batches`\n",
    "parameter. We will also export samples from the last batch."
   ]
  },
  {
   "cell_type": "code",
   "execution_count": null,
   "metadata": {
    "colab": {
     "base_uri": "https://localhost:8080/",
     "height": 288,
     "referenced_widgets": [
      "471b0b5d882b4f8c95424d5f4c99ba5e",
      "a0e368d043e54fb9945740d3337a4914",
      "081528a43b4f4164a1582a667b4cf596",
      "0dc47e26d6824780a4c312a86caeb1b9",
      "8f742813a4894ed88bf706b96fd42b5f",
      "0eddae49b22c4502851223e534526c66",
      "1744f1d198054a48b232b8df20472baf",
      "799fea83a3ef442caa87610e680f4cbc",
      "c4788d5937494ffc868771c34a09dc10",
      "c91993df4bb14b5c949fdecd2aadd85c",
      "12ea3af3241942a3a16b5eb5142463ff"
     ]
    },
    "id": "isu6NOtlwCFN",
    "outputId": "51f704a2-8266-4c38-b5a8-6240b27b3186"
   },
   "outputs": [
    {
     "name": "stderr",
     "output_type": "stream",
     "text": [
      "2024/03/05 16:13:44 INFO mlflow.system_metrics.system_metrics_monitor: Started monitoring system metrics.\n",
      "INFO: LOCAL_RANK: 0 - CUDA_VISIBLE_DEVICES: [0]\n",
      "/home/kyle-treubig/Code/jatic/armory/.venv-3.11/lib/python3.11/site-packages/lightning/pytorch/trainer/connectors/data_connector.py:441: The 'test_dataloader' does not have many workers which may be a bottleneck. Consider increasing the value of the `num_workers` argument` to `num_workers=11` in the `DataLoader` to improve performance.\n"
     ]
    },
    {
     "data": {
      "application/vnd.jupyter.widget-view+json": {
       "model_id": "72b0254063ee4531bc8ca77fb377397a",
       "version_major": 2,
       "version_minor": 0
      },
      "text/plain": [
       "Testing: |          | 0/? [00:00<?, ?it/s]"
      ]
     },
     "metadata": {},
     "output_type": "display_data"
    },
    {
     "name": "stderr",
     "output_type": "stream",
     "text": []
    },
    {
     "data": {
      "text/html": [
       "<pre style=\"white-space:pre;overflow-x:auto;line-height:normal;font-family:Menlo,'DejaVu Sans Mono',consolas,'Courier New',monospace\">┏━━━━━━━━━━━━━━━━━━━━━━━━━━━┳━━━━━━━━━━━━━━━━━━━━━━━━━━━┓\n",
       "┃<span style=\"font-weight: bold\">        Test metric        </span>┃<span style=\"font-weight: bold\">       DataLoader 0        </span>┃\n",
       "┡━━━━━━━━━━━━━━━━━━━━━━━━━━━╇━━━━━━━━━━━━━━━━━━━━━━━━━━━┩\n",
       "│<span style=\"color: #008080; text-decoration-color: #008080\">      attack/accuracy      </span>│<span style=\"color: #800080; text-decoration-color: #800080\">    0.17499999701976776    </span>│\n",
       "│<span style=\"color: #008080; text-decoration-color: #008080\">     attack/linf_norm      </span>│<span style=\"color: #800080; text-decoration-color: #800080\">    0.03100001811981201    </span>│\n",
       "│<span style=\"color: #008080; text-decoration-color: #008080\">      benign/accuracy      </span>│<span style=\"color: #800080; text-decoration-color: #800080\">            1.0            </span>│\n",
       "│<span style=\"color: #008080; text-decoration-color: #008080\">     benign/linf_norm      </span>│<span style=\"color: #800080; text-decoration-color: #800080\">            0.0            </span>│\n",
       "└───────────────────────────┴───────────────────────────┘\n",
       "</pre>\n"
      ],
      "text/plain": [
       "┏━━━━━━━━━━━━━━━━━━━━━━━━━━━┳━━━━━━━━━━━━━━━━━━━━━━━━━━━┓\n",
       "┃\u001b[1m \u001b[0m\u001b[1m       Test metric       \u001b[0m\u001b[1m \u001b[0m┃\u001b[1m \u001b[0m\u001b[1m      DataLoader 0       \u001b[0m\u001b[1m \u001b[0m┃\n",
       "┡━━━━━━━━━━━━━━━━━━━━━━━━━━━╇━━━━━━━━━━━━━━━━━━━━━━━━━━━┩\n",
       "│\u001b[36m \u001b[0m\u001b[36m     attack/accuracy     \u001b[0m\u001b[36m \u001b[0m│\u001b[35m \u001b[0m\u001b[35m   0.17499999701976776   \u001b[0m\u001b[35m \u001b[0m│\n",
       "│\u001b[36m \u001b[0m\u001b[36m    attack/linf_norm     \u001b[0m\u001b[36m \u001b[0m│\u001b[35m \u001b[0m\u001b[35m   0.03100001811981201   \u001b[0m\u001b[35m \u001b[0m│\n",
       "│\u001b[36m \u001b[0m\u001b[36m     benign/accuracy     \u001b[0m\u001b[36m \u001b[0m│\u001b[35m \u001b[0m\u001b[35m           1.0           \u001b[0m\u001b[35m \u001b[0m│\n",
       "│\u001b[36m \u001b[0m\u001b[36m    benign/linf_norm     \u001b[0m\u001b[36m \u001b[0m│\u001b[35m \u001b[0m\u001b[35m           0.0           \u001b[0m\u001b[35m \u001b[0m│\n",
       "└───────────────────────────┴───────────────────────────┘\n"
      ]
     },
     "metadata": {},
     "output_type": "display_data"
    },
    {
     "name": "stderr",
     "output_type": "stream",
     "text": [
      "2024/03/05 16:16:35 INFO mlflow.system_metrics.system_metrics_monitor: Stopping system metrics monitoring...\n",
      "2024/03/05 16:16:35 INFO mlflow.system_metrics.system_metrics_monitor: Successfully terminated system metrics monitoring!\n"
     ]
    },
    {
     "name": "stdout",
     "output_type": "stream",
     "text": [
      "{'compute': {'Avg. CPU time (s) for 10 executions of attack/perturbation': 16.27377076689918,\n",
      "             'Avg. CPU time (s) for 10 executions of attack/perturbation/PGD': 16.273760280399802,\n",
      "             'Avg. CPU time (s) for 10 executions of attack/predict': 0.010865946799822269,\n",
      "             'Avg. CPU time (s) for 10 executions of benign/perturbation': 1.3867003872292116e-06,\n",
      "             'Avg. CPU time (s) for 10 executions of benign/predict': 0.0560116199998447},\n",
      " 'metrics': {'attack/accuracy': tensor(0.1750),\n",
      "             'attack/linf_norm': tensor(0.0310),\n",
      "             'benign/accuracy': tensor(1.),\n",
      "             'benign/linf_norm': tensor(0.)}}\n"
     ]
    }
   ],
   "source": [
    "results = engine.run()\n",
    "pprint(results)"
   ]
  },
  {
   "cell_type": "markdown",
   "metadata": {},
   "source": [
    "The following block of code displays a few samples of images and their\n",
    "predictions from the Armory evaluation run. We obtain the artifact directory\n",
    "path from MLFlow."
   ]
  },
  {
   "cell_type": "code",
   "execution_count": null,
   "metadata": {},
   "outputs": [
    {
     "data": {
      "image/png": "[encoded data removed]",
      "text/plain": [
       "<Figure size 640x480 with 6 Axes>"
      ]
     },
     "metadata": {},
     "output_type": "display_data"
    }
   ],
   "source": [
    "def get_predicted_label(filepath):\n",
    "    with open(filepath, \"r\") as infile:\n",
    "        data = json.load(infile)\n",
    "        return np.argmax(data[\"predictions\"])\n",
    "\n",
    "\n",
    "# strip off the initial 'file://' prefix\n",
    "artifact_uri = mlflow.get_run(engine.run_id).info.artifact_uri[7:]\n",
    "\n",
    "batch_idx = num_batches - 1\n",
    "num_samples = min(3, batch_size)\n",
    "\n",
    "fig, axes = plt.subplots(nrows=num_samples, ncols=2)\n",
    "\n",
    "for sample_idx in range(num_samples):\n",
    "    for chain_idx, chain in enumerate([\"benign\", \"attack\"]):\n",
    "        image = plt.imread(f\"{artifact_uri}/batch_{batch_idx}_ex_{sample_idx}_{chain}.png\")\n",
    "        predicted_label = get_predicted_label(f\"{artifact_uri}/batch_{batch_idx}_ex_{sample_idx}_{chain}.txt\")\n",
    "\n",
    "        ax = axes[sample_idx][chain_idx]\n",
    "        if sample_idx == 0:\n",
    "            ax.set_title(chain)\n",
    "        if chain_idx == 0:\n",
    "            ax.set_ylabel(f\"Sample {sample_idx}\")\n",
    "        ax.imshow(image)\n",
    "        ax.set_xlabel(f\"Predicted: {predicted_label}\")\n",
    "        ax.tick_params(\n",
    "            bottom=False, left=False, labelbottom=False, labelleft=False\n",
    "        )\n",
    "\n",
    "fig.suptitle(f\"Batch {batch_idx}\")\n",
    "fig.tight_layout()"
   ]
  }
 ],
 "metadata": {
  "colab": {
   "gpuType": "T4",
   "provenance": []
  },
  "keep_output": true,
  "kernelspec": {
   "display_name": "Python 3",
   "language": "python",
   "name": "python3"
  },
  "language_info": {
   "codemirror_mode": {
    "name": "ipython",
    "version": 3
   },
   "file_extension": ".py",
   "mimetype": "text/x-python",
   "name": "python",
   "nbconvert_exporter": "python",
   "pygments_lexer": "ipython3",
   "version": "3.11.8"
  }
 },
 "nbformat": 4,
 "nbformat_minor": 0
}
