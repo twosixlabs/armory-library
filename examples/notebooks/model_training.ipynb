{
 "cells": [
  {
   "cell_type": "code",
   "execution_count": null,
   "id": "initial_id",
   "metadata": {},
   "outputs": [],
   "source": [
    "import numpy as np\n",
    "import torch.optim\n",
    "import torchmetrics\n",
    "from torchvision import datasets\n",
    "from torchvision import transforms as T\n",
    "import transformers\n",
    "\n",
    "import armory.evaluation\n",
    "import armory.model.image_classification\n",
    "import armory.trainer"
   ]
  },
  {
   "cell_type": "code",
   "execution_count": null,
   "id": "84d3960c743ab9cc",
   "metadata": {},
   "outputs": [],
   "source": [
    "%load_ext autoreload\n",
    "%autoreload 2"
   ]
  },
  {
   "cell_type": "code",
   "execution_count": null,
   "id": "7e943500bd52376d",
   "metadata": {},
   "outputs": [],
   "source": [
    "sysconfig = armory.evaluation.SysConfig()\n",
    "sysconfig"
   ]
  },
  {
   "cell_type": "code",
   "execution_count": null,
   "id": "1b01ec5a90b6b720",
   "metadata": {},
   "outputs": [],
   "source": [
    "tv_dataset = datasets.Food101(\n",
    "    root=str(sysconfig.dataset_cache),\n",
    "    split=\"test\",\n",
    "    download=True,\n",
    "    transform=T.Compose(\n",
    "        [\n",
    "            T.Resize(size=(224, 224)),\n",
    "            T.ToTensor(),  # HWC->CHW and scales to 0-1\n",
    "            T.Normalize(mean=(0.5, 0.5, 0.5), std=(0.5, 0.5, 0.5)),\n",
    "            # T.Lambda(np.asarray),\n",
    "        ]\n",
    "    ),\n",
    ")\n",
    "\n",
    "tv_dataset"
   ]
  },
  {
   "cell_type": "code",
   "execution_count": null,
   "id": "7a4d0444769cf950",
   "metadata": {},
   "outputs": [],
   "source": [
    "labels = tv_dataset.classes\n",
    "labels"
   ]
  },
  {
   "cell_type": "code",
   "execution_count": null,
   "id": "8fc20a86ebeceee7",
   "metadata": {},
   "outputs": [],
   "source": [
    "armory_dataset = armory.dataset.TupleDataset(tv_dataset, (\"image\", \"label\"))"
   ]
  },
  {
   "cell_type": "code",
   "execution_count": null,
   "id": "ed708a4f4cefb0e3",
   "metadata": {},
   "outputs": [],
   "source": [
    "normalized_scale = armory.data.Scale(\n",
    "    dtype=armory.data.DataType.FLOAT,\n",
    "    max=1.0,\n",
    "    mean=(0.5, 0.5, 0.5),\n",
    "    std=(0.5, 0.5, 0.5),\n",
    ")\n",
    "\n",
    "batch_size = 1\n",
    "shuffle = True\n",
    "seed = None\n",
    "\n",
    "dataloader = armory.dataset.ImageClassificationDataLoader(\n",
    "    armory_dataset,\n",
    "    dim=armory.data.ImageDimensions.CHW,\n",
    "    scale=normalized_scale,\n",
    "    image_key=\"image\",\n",
    "    label_key=\"label\",\n",
    "    batch_size=batch_size,\n",
    "    shuffle=shuffle,\n",
    "    seed=seed,\n",
    ")"
   ]
  },
  {
   "cell_type": "code",
   "execution_count": null,
   "id": "b217b30012742165",
   "metadata": {},
   "outputs": [],
   "source": [
    "dataloader"
   ]
  },
  {
   "cell_type": "code",
   "execution_count": null,
   "id": "dc35608c31bcae66",
   "metadata": {},
   "outputs": [],
   "source": [
    "evaluation_dataset = armory.evaluation.Dataset(\n",
    "    name=\"food-101\",\n",
    "    dataloader=dataloader,\n",
    ")"
   ]
  },
  {
   "cell_type": "code",
   "execution_count": null,
   "id": "ed0302fc4691bbe",
   "metadata": {},
   "outputs": [],
   "source": [
    "# Download configuration from huggingface.co and cache.\n",
    "hf_config = transformers.AutoConfig.from_pretrained(\"nateraw/food\")\n",
    "hf_model = transformers.AutoModelForImageClassification.from_config(hf_config)"
   ]
  },
  {
   "cell_type": "code",
   "execution_count": null,
   "id": "d1a145d851aab681",
   "metadata": {},
   "outputs": [],
   "source": [
    "armory_model = armory.model.image_classification.ImageClassifier(\n",
    "    name=\"ViT-finetuned-food101\",\n",
    "    model=hf_model,\n",
    "    inputs_spec=armory.data.TorchImageSpec(\n",
    "        dim=armory.data.ImageDimensions.CHW,\n",
    "        scale=normalized_scale\n",
    "    ),\n",
    ")"
   ]
  },
  {
   "cell_type": "code",
   "execution_count": null,
   "id": "6e5ab92000df5666",
   "metadata": {},
   "outputs": [],
   "source": [
    "criterion = torch.nn.CrossEntropyLoss()\n",
    "optimizer = torch.optim.SGD(hf_model.parameters())\n",
    "metric = armory.metric.PredictionMetric(\n",
    "    torchmetrics.classification.MulticlassAccuracy(num_classes=len(labels)),\n",
    ")\n",
    "\n",
    "trainer = armory.trainer.Trainer(\n",
    "    model=armory_model,\n",
    "    criterion=criterion,\n",
    "    optimizer=optimizer,\n",
    "    metric=metric,\n",
    ")"
   ]
  },
  {
   "cell_type": "code",
   "execution_count": null,
   "id": "af7965c6aa266d16",
   "metadata": {},
   "outputs": [],
   "source": [
    "trainer.fit(\n",
    "    train_dataloader=dataloader,\n",
    "    max_epochs=1,\n",
    "    accelerator=\"cpu\"\n",
    ")"
   ]
  },
  {
   "cell_type": "code",
   "execution_count": null,
   "id": "849d3b86ecde1cb2",
   "metadata": {},
   "outputs": [],
   "source": []
  }
 ],
 "metadata": {
  "kernelspec": {
   "display_name": "armory-library-venv",
   "language": "python",
   "name": "armory-library-venv"
  },
  "language_info": {
   "codemirror_mode": {
    "name": "ipython",
    "version": 2
   },
   "file_extension": ".py",
   "mimetype": "text/x-python",
   "name": "python",
   "nbconvert_exporter": "python",
   "pygments_lexer": "ipython2",
   "version": "2.7.6"
  }
 },
 "nbformat": 4,
 "nbformat_minor": 5
}
