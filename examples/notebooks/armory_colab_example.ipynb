{
  "cells": [
    {
      "cell_type": "markdown",
      "metadata": {},
      "source": [
        "# Armory-Library Tutorial"
      ]
    },
    {
      "cell_type": "markdown",
      "metadata": {},
      "source": [
        "### In this tutorial, we will demonstrate how to run an example in armory-library with an example model and dataset. In this tutorial we will use the mnist dataset for simplicity and a model via HuggingFace that was trained on the mnist dataset."
      ]
    },
    {
      "cell_type": "markdown",
      "metadata": {
        "id": "HLVcyZgR41Gi"
      },
      "source": [
        "### The necessary imports to run an armory library example\n",
        "### We install datasets because we will use it later to retrieve a dataset from the HuggingFace hub. "
      ]
    },
    {
      "cell_type": "code",
      "execution_count": 1,
      "metadata": {
        "colab": {
          "base_uri": "https://localhost:8080/"
        },
        "id": "eFB-V0Y1RYJ3",
        "outputId": "ee82d90c-bf14-4f46-866a-41f2b80e228b"
      },
      "outputs": [
        {
          "name": "stdout",
          "output_type": "stream",
          "text": [
            "Requirement already satisfied: armory-library in /home/chris/.virtualenvs/cdao/lib/python3.10/site-packages (23.10.5.post19+g84997b6e)\n",
            "Requirement already satisfied: tensorflow>=2.11.0 in /home/chris/.virtualenvs/cdao/lib/python3.10/site-packages (from armory-library) (2.13.0)\n",
            "Requirement already satisfied: scipy in /home/chris/.virtualenvs/cdao/lib/python3.10/site-packages (from armory-library) (1.11.1)\n",
            "Requirement already satisfied: adversarial-robustness-toolbox==1.15.1 in /home/chris/.virtualenvs/cdao/lib/python3.10/site-packages (from armory-library) (1.15.1)\n",
            "Requirement already satisfied: numpy in /home/chris/.virtualenvs/cdao/lib/python3.10/site-packages (from armory-library) (1.24.3)\n",
            "Requirement already satisfied: pandas in /home/chris/.virtualenvs/cdao/lib/python3.10/site-packages (from armory-library) (2.0.3)\n",
            "Requirement already satisfied: lightning in /home/chris/.virtualenvs/cdao/lib/python3.10/site-packages (from armory-library) (2.0.8)\n",
            "Requirement already satisfied: transformers in /home/chris/.virtualenvs/cdao/lib/python3.10/site-packages (from armory-library) (4.32.0.dev0)\n",
            "Requirement already satisfied: tensorboardx in /home/chris/.virtualenvs/cdao/lib/python3.10/site-packages (from armory-library) (2.6.1)\n",
            "Requirement already satisfied: ffmpeg-python in /home/chris/.virtualenvs/cdao/lib/python3.10/site-packages (from armory-library) (0.2.0)\n",
            "Requirement already satisfied: opencv-python-headless==4.5.5.62 in /home/chris/.virtualenvs/cdao/lib/python3.10/site-packages (from armory-library) (4.5.5.62)\n",
            "Requirement already satisfied: matplotlib in /home/chris/.virtualenvs/cdao/lib/python3.10/site-packages (from armory-library) (3.7.2)\n",
            "Requirement already satisfied: opencv-python==4.5.5.62 in /home/chris/.virtualenvs/cdao/lib/python3.10/site-packages (from armory-library) (4.5.5.62)\n",
            "Requirement already satisfied: pydub in /home/chris/.virtualenvs/cdao/lib/python3.10/site-packages (from armory-library) (0.25.1)\n",
            "Requirement already satisfied: torchaudio>=2.0.1 in /home/chris/.virtualenvs/cdao/lib/python3.10/site-packages (from armory-library) (2.0.2)\n",
            "Requirement already satisfied: pillow in /home/chris/.virtualenvs/cdao/lib/python3.10/site-packages (from armory-library) (9.5.0)\n",
            "Requirement already satisfied: tf-models-official in /home/chris/.virtualenvs/cdao/lib/python3.10/site-packages (from armory-library) (2.13.0)\n",
            "Requirement already satisfied: botocore in /home/chris/.virtualenvs/cdao/lib/python3.10/site-packages (from armory-library) (1.31.64)\n",
            "Requirement already satisfied: torchvision>=0.15.1 in /home/chris/.virtualenvs/cdao/lib/python3.10/site-packages (from armory-library) (0.15.2)\n",
            "Requirement already satisfied: torch>=2.0.0 in /home/chris/.virtualenvs/cdao/lib/python3.10/site-packages (from armory-library) (2.0.1)\n",
            "Requirement already satisfied: tidecv in /home/chris/.virtualenvs/cdao/lib/python3.10/site-packages (from armory-library) (1.0.1)\n",
            "Requirement already satisfied: requests in /home/chris/.virtualenvs/cdao/lib/python3.10/site-packages (from armory-library) (2.31.0)\n",
            "Requirement already satisfied: mlflow in /home/chris/.virtualenvs/cdao/lib/python3.10/site-packages (from armory-library) (2.5.0)\n",
            "Requirement already satisfied: loguru in /home/chris/.virtualenvs/cdao/lib/python3.10/site-packages (from armory-library) (0.7.0)\n",
            "Requirement already satisfied: setuptools-scm in /home/chris/.virtualenvs/cdao/lib/python3.10/site-packages (from armory-library) (7.1.0)\n",
            "Requirement already satisfied: scikit-learn<1.2.0 in /home/chris/.virtualenvs/cdao/lib/python3.10/site-packages (from armory-library) (1.1.3)\n",
            "Requirement already satisfied: boto3 in /home/chris/.virtualenvs/cdao/lib/python3.10/site-packages (from armory-library) (1.28.2)\n",
            "Requirement already satisfied: tqdm in /home/chris/.virtualenvs/cdao/lib/python3.10/site-packages (from adversarial-robustness-toolbox==1.15.1->armory-library) (4.65.0)\n",
            "Requirement already satisfied: setuptools in /home/chris/.virtualenvs/cdao/lib/python3.10/site-packages (from adversarial-robustness-toolbox==1.15.1->armory-library) (68.2.2)\n",
            "Requirement already satisfied: six in /home/chris/.virtualenvs/cdao/lib/python3.10/site-packages (from adversarial-robustness-toolbox==1.15.1->armory-library) (1.16.0)\n",
            "Requirement already satisfied: threadpoolctl>=2.0.0 in /home/chris/.virtualenvs/cdao/lib/python3.10/site-packages (from scikit-learn<1.2.0->armory-library) (3.1.0)\n",
            "Requirement already satisfied: joblib>=1.0.0 in /home/chris/.virtualenvs/cdao/lib/python3.10/site-packages (from scikit-learn<1.2.0->armory-library) (1.3.1)\n",
            "Requirement already satisfied: typing-extensions<4.6.0,>=3.6.6 in /home/chris/.virtualenvs/cdao/lib/python3.10/site-packages (from tensorflow>=2.11.0->armory-library) (4.5.0)\n",
            "Requirement already satisfied: grpcio<2.0,>=1.24.3 in /home/chris/.virtualenvs/cdao/lib/python3.10/site-packages (from tensorflow>=2.11.0->armory-library) (1.56.0)\n",
            "Requirement already satisfied: termcolor>=1.1.0 in /home/chris/.virtualenvs/cdao/lib/python3.10/site-packages (from tensorflow>=2.11.0->armory-library) (2.3.0)\n",
            "Requirement already satisfied: astunparse>=1.6.0 in /home/chris/.virtualenvs/cdao/lib/python3.10/site-packages (from tensorflow>=2.11.0->armory-library) (1.6.3)\n",
            "Requirement already satisfied: flatbuffers>=23.1.21 in /home/chris/.virtualenvs/cdao/lib/python3.10/site-packages (from tensorflow>=2.11.0->armory-library) (23.5.26)\n",
            "Requirement already satisfied: google-pasta>=0.1.1 in /home/chris/.virtualenvs/cdao/lib/python3.10/site-packages (from tensorflow>=2.11.0->armory-library) (0.2.0)\n",
            "Requirement already satisfied: protobuf!=4.21.0,!=4.21.1,!=4.21.2,!=4.21.3,!=4.21.4,!=4.21.5,<5.0.0dev,>=3.20.3 in /home/chris/.virtualenvs/cdao/lib/python3.10/site-packages (from tensorflow>=2.11.0->armory-library) (4.23.4)\n",
            "Requirement already satisfied: packaging in /home/chris/.virtualenvs/cdao/lib/python3.10/site-packages (from tensorflow>=2.11.0->armory-library) (23.1)\n",
            "Requirement already satisfied: tensorflow-io-gcs-filesystem>=0.23.1 in /home/chris/.virtualenvs/cdao/lib/python3.10/site-packages (from tensorflow>=2.11.0->armory-library) (0.32.0)\n",
            "Requirement already satisfied: wrapt>=1.11.0 in /home/chris/.virtualenvs/cdao/lib/python3.10/site-packages (from tensorflow>=2.11.0->armory-library) (1.15.0)\n",
            "Requirement already satisfied: gast<=0.4.0,>=0.2.1 in /home/chris/.virtualenvs/cdao/lib/python3.10/site-packages (from tensorflow>=2.11.0->armory-library) (0.4.0)\n",
            "Requirement already satisfied: tensorboard<2.14,>=2.13 in /home/chris/.virtualenvs/cdao/lib/python3.10/site-packages (from tensorflow>=2.11.0->armory-library) (2.13.0)\n",
            "Requirement already satisfied: libclang>=13.0.0 in /home/chris/.virtualenvs/cdao/lib/python3.10/site-packages (from tensorflow>=2.11.0->armory-library) (16.0.0)\n",
            "Requirement already satisfied: absl-py>=1.0.0 in /home/chris/.virtualenvs/cdao/lib/python3.10/site-packages (from tensorflow>=2.11.0->armory-library) (1.4.0)\n",
            "Requirement already satisfied: opt-einsum>=2.3.2 in /home/chris/.virtualenvs/cdao/lib/python3.10/site-packages (from tensorflow>=2.11.0->armory-library) (3.3.0)\n",
            "Requirement already satisfied: h5py>=2.9.0 in /home/chris/.virtualenvs/cdao/lib/python3.10/site-packages (from tensorflow>=2.11.0->armory-library) (3.9.0)\n",
            "Requirement already satisfied: keras<2.14,>=2.13.1 in /home/chris/.virtualenvs/cdao/lib/python3.10/site-packages (from tensorflow>=2.11.0->armory-library) (2.13.1)\n",
            "Requirement already satisfied: tensorflow-estimator<2.14,>=2.13.0 in /home/chris/.virtualenvs/cdao/lib/python3.10/site-packages (from tensorflow>=2.11.0->armory-library) (2.13.0)\n",
            "Requirement already satisfied: nvidia-cublas-cu11==11.10.3.66 in /home/chris/.virtualenvs/cdao/lib/python3.10/site-packages (from torch>=2.0.0->armory-library) (11.10.3.66)\n",
            "Requirement already satisfied: nvidia-cusolver-cu11==11.4.0.1 in /home/chris/.virtualenvs/cdao/lib/python3.10/site-packages (from torch>=2.0.0->armory-library) (11.4.0.1)\n",
            "Requirement already satisfied: nvidia-cuda-nvrtc-cu11==11.7.99 in /home/chris/.virtualenvs/cdao/lib/python3.10/site-packages (from torch>=2.0.0->armory-library) (11.7.99)\n",
            "Requirement already satisfied: nvidia-cudnn-cu11==8.5.0.96 in /home/chris/.virtualenvs/cdao/lib/python3.10/site-packages (from torch>=2.0.0->armory-library) (8.5.0.96)\n",
            "Requirement already satisfied: nvidia-cufft-cu11==10.9.0.58 in /home/chris/.virtualenvs/cdao/lib/python3.10/site-packages (from torch>=2.0.0->armory-library) (10.9.0.58)\n",
            "Requirement already satisfied: networkx in /home/chris/.virtualenvs/cdao/lib/python3.10/site-packages (from torch>=2.0.0->armory-library) (3.1)\n",
            "Requirement already satisfied: jinja2 in /home/chris/.virtualenvs/cdao/lib/python3.10/site-packages (from torch>=2.0.0->armory-library) (3.1.2)\n",
            "Requirement already satisfied: nvidia-nvtx-cu11==11.7.91 in /home/chris/.virtualenvs/cdao/lib/python3.10/site-packages (from torch>=2.0.0->armory-library) (11.7.91)\n",
            "Requirement already satisfied: sympy in /home/chris/.virtualenvs/cdao/lib/python3.10/site-packages (from torch>=2.0.0->armory-library) (1.12)\n",
            "Requirement already satisfied: nvidia-curand-cu11==10.2.10.91 in /home/chris/.virtualenvs/cdao/lib/python3.10/site-packages (from torch>=2.0.0->armory-library) (10.2.10.91)\n",
            "Requirement already satisfied: nvidia-cuda-cupti-cu11==11.7.101 in /home/chris/.virtualenvs/cdao/lib/python3.10/site-packages (from torch>=2.0.0->armory-library) (11.7.101)\n",
            "Requirement already satisfied: nvidia-cuda-runtime-cu11==11.7.99 in /home/chris/.virtualenvs/cdao/lib/python3.10/site-packages (from torch>=2.0.0->armory-library) (11.7.99)\n",
            "Requirement already satisfied: nvidia-cusparse-cu11==11.7.4.91 in /home/chris/.virtualenvs/cdao/lib/python3.10/site-packages (from torch>=2.0.0->armory-library) (11.7.4.91)\n",
            "Requirement already satisfied: triton==2.0.0 in /home/chris/.virtualenvs/cdao/lib/python3.10/site-packages (from torch>=2.0.0->armory-library) (2.0.0)\n",
            "Requirement already satisfied: nvidia-nccl-cu11==2.14.3 in /home/chris/.virtualenvs/cdao/lib/python3.10/site-packages (from torch>=2.0.0->armory-library) (2.14.3)\n",
            "Requirement already satisfied: filelock in /home/chris/.virtualenvs/cdao/lib/python3.10/site-packages (from torch>=2.0.0->armory-library) (3.12.2)\n",
            "Requirement already satisfied: wheel in /home/chris/.virtualenvs/cdao/lib/python3.10/site-packages (from nvidia-cublas-cu11==11.10.3.66->torch>=2.0.0->armory-library) (0.40.0)\n",
            "Requirement already satisfied: cmake in /home/chris/.virtualenvs/cdao/lib/python3.10/site-packages (from triton==2.0.0->torch>=2.0.0->armory-library) (3.26.4)\n",
            "Requirement already satisfied: lit in /home/chris/.virtualenvs/cdao/lib/python3.10/site-packages (from triton==2.0.0->torch>=2.0.0->armory-library) (16.0.6)\n",
            "Requirement already satisfied: s3transfer<0.7.0,>=0.6.0 in /home/chris/.virtualenvs/cdao/lib/python3.10/site-packages (from boto3->armory-library) (0.6.1)\n",
            "Requirement already satisfied: jmespath<2.0.0,>=0.7.1 in /home/chris/.virtualenvs/cdao/lib/python3.10/site-packages (from boto3->armory-library) (1.0.1)\n",
            "Requirement already satisfied: python-dateutil<3.0.0,>=2.1 in /home/chris/.virtualenvs/cdao/lib/python3.10/site-packages (from botocore->armory-library) (2.8.2)\n",
            "Requirement already satisfied: urllib3<2.1,>=1.25.4 in /home/chris/.virtualenvs/cdao/lib/python3.10/site-packages (from botocore->armory-library) (1.26.16)\n",
            "Requirement already satisfied: future in /home/chris/.virtualenvs/cdao/lib/python3.10/site-packages (from ffmpeg-python->armory-library) (0.18.3)\n",
            "Requirement already satisfied: pydantic<2.2.0,>=1.7.4 in /home/chris/.virtualenvs/cdao/lib/python3.10/site-packages (from lightning->armory-library) (1.10.12)\n",
            "Requirement already satisfied: croniter<1.5.0,>=1.3.0 in /home/chris/.virtualenvs/cdao/lib/python3.10/site-packages (from lightning->armory-library) (1.4.1)\n",
            "Requirement already satisfied: psutil<7.0 in /home/chris/.virtualenvs/cdao/lib/python3.10/site-packages (from lightning->armory-library) (5.9.5)\n",
            "Requirement already satisfied: traitlets<7.0,>=5.3.0 in /home/chris/.virtualenvs/cdao/lib/python3.10/site-packages (from lightning->armory-library) (5.9.0)\n",
            "Requirement already satisfied: inquirer<5.0,>=2.10.0 in /home/chris/.virtualenvs/cdao/lib/python3.10/site-packages (from lightning->armory-library) (3.1.3)\n",
            "Requirement already satisfied: deepdiff<8.0,>=5.7.0 in /home/chris/.virtualenvs/cdao/lib/python3.10/site-packages (from lightning->armory-library) (6.3.1)\n",
            "Requirement already satisfied: PyYAML<8.0 in /home/chris/.virtualenvs/cdao/lib/python3.10/site-packages (from lightning->armory-library) (5.4.1)\n",
            "Requirement already satisfied: click<10.0 in /home/chris/.virtualenvs/cdao/lib/python3.10/site-packages (from lightning->armory-library) (8.1.4)\n",
            "Requirement already satisfied: fastapi<2.0,>=0.92.0 in /home/chris/.virtualenvs/cdao/lib/python3.10/site-packages (from lightning->armory-library) (0.103.0)\n",
            "Requirement already satisfied: websocket-client<3.0 in /home/chris/.virtualenvs/cdao/lib/python3.10/site-packages (from lightning->armory-library) (1.6.2)\n",
            "Requirement already satisfied: starlette in /home/chris/.virtualenvs/cdao/lib/python3.10/site-packages (from lightning->armory-library) (0.27.0)\n",
            "Requirement already satisfied: backoff<4.0,>=2.2.1 in /home/chris/.virtualenvs/cdao/lib/python3.10/site-packages (from lightning->armory-library) (2.2.1)\n",
            "Requirement already satisfied: torchmetrics<2.0,>=0.7.0 in /home/chris/.virtualenvs/cdao/lib/python3.10/site-packages (from lightning->armory-library) (1.1.0)\n",
            "Requirement already satisfied: starsessions<2.0,>=1.2.1 in /home/chris/.virtualenvs/cdao/lib/python3.10/site-packages (from lightning->armory-library) (1.3.0)\n",
            "Requirement already satisfied: websockets<13.0 in /home/chris/.virtualenvs/cdao/lib/python3.10/site-packages (from lightning->armory-library) (11.0.3)\n",
            "Requirement already satisfied: pytorch-lightning in /home/chris/.virtualenvs/cdao/lib/python3.10/site-packages (from lightning->armory-library) (2.0.7)\n",
            "Requirement already satisfied: python-multipart<2.0,>=0.0.5 in /home/chris/.virtualenvs/cdao/lib/python3.10/site-packages (from lightning->armory-library) (0.0.6)\n",
            "Requirement already satisfied: fsspec<2025.0,>=2022.5.0 in /home/chris/.virtualenvs/cdao/lib/python3.10/site-packages (from lightning->armory-library) (2023.10.0)\n",
            "Requirement already satisfied: lightning-utilities<2.0,>=0.7.0 in /home/chris/.virtualenvs/cdao/lib/python3.10/site-packages (from lightning->armory-library) (0.9.0)\n",
            "Requirement already satisfied: dateutils<2.0 in /home/chris/.virtualenvs/cdao/lib/python3.10/site-packages (from lightning->armory-library) (0.6.12)\n",
            "Requirement already satisfied: beautifulsoup4<6.0,>=4.8.0 in /home/chris/.virtualenvs/cdao/lib/python3.10/site-packages (from lightning->armory-library) (4.12.2)\n",
            "Requirement already satisfied: rich<15.0,>=12.3.0 in /home/chris/.virtualenvs/cdao/lib/python3.10/site-packages (from lightning->armory-library) (13.5.2)\n",
            "Requirement already satisfied: uvicorn<2.0 in /home/chris/.virtualenvs/cdao/lib/python3.10/site-packages (from lightning->armory-library) (0.23.2)\n",
            "Requirement already satisfied: arrow<3.0,>=1.2.0 in /home/chris/.virtualenvs/cdao/lib/python3.10/site-packages (from lightning->armory-library) (1.2.3)\n",
            "Requirement already satisfied: lightning-cloud>=0.5.37 in /home/chris/.virtualenvs/cdao/lib/python3.10/site-packages (from lightning->armory-library) (0.5.37)\n",
            "Requirement already satisfied: charset-normalizer<4,>=2 in /home/chris/.virtualenvs/cdao/lib/python3.10/site-packages (from requests->armory-library) (3.2.0)\n",
            "Requirement already satisfied: idna<4,>=2.5 in /home/chris/.virtualenvs/cdao/lib/python3.10/site-packages (from requests->armory-library) (2.10)\n",
            "Requirement already satisfied: certifi>=2017.4.17 in /home/chris/.virtualenvs/cdao/lib/python3.10/site-packages (from requests->armory-library) (2022.12.7)\n",
            "Requirement already satisfied: pyparsing<3.1,>=2.3.1 in /home/chris/.virtualenvs/cdao/lib/python3.10/site-packages (from matplotlib->armory-library) (2.4.7)\n",
            "Requirement already satisfied: fonttools>=4.22.0 in /home/chris/.virtualenvs/cdao/lib/python3.10/site-packages (from matplotlib->armory-library) (4.41.0)\n",
            "Requirement already satisfied: cycler>=0.10 in /home/chris/.virtualenvs/cdao/lib/python3.10/site-packages (from matplotlib->armory-library) (0.10.0)\n",
            "Requirement already satisfied: contourpy>=1.0.1 in /home/chris/.virtualenvs/cdao/lib/python3.10/site-packages (from matplotlib->armory-library) (1.1.0)\n",
            "Requirement already satisfied: kiwisolver>=1.0.1 in /home/chris/.virtualenvs/cdao/lib/python3.10/site-packages (from matplotlib->armory-library) (1.4.4)\n",
            "Requirement already satisfied: sqlalchemy<3,>=1.4.0 in /home/chris/.virtualenvs/cdao/lib/python3.10/site-packages (from mlflow->armory-library) (2.0.20)\n",
            "Requirement already satisfied: pytz<2024 in /home/chris/.virtualenvs/cdao/lib/python3.10/site-packages (from mlflow->armory-library) (2023.3)\n",
            "Requirement already satisfied: docker<7,>=4.0.0 in /home/chris/.virtualenvs/cdao/lib/python3.10/site-packages (from mlflow->armory-library) (6.1.3)\n",
            "Requirement already satisfied: cloudpickle<3 in /home/chris/.virtualenvs/cdao/lib/python3.10/site-packages (from mlflow->armory-library) (2.2.1)\n",
            "Requirement already satisfied: gunicorn<21 in /home/chris/.virtualenvs/cdao/lib/python3.10/site-packages (from mlflow->armory-library) (20.1.0)\n",
            "Requirement already satisfied: entrypoints<1 in /home/chris/.virtualenvs/cdao/lib/python3.10/site-packages (from mlflow->armory-library) (0.4)\n",
            "Requirement already satisfied: gitpython<4,>=2.1.0 in /home/chris/.virtualenvs/cdao/lib/python3.10/site-packages (from mlflow->armory-library) (3.1.32)\n",
            "Requirement already satisfied: Flask<3 in /home/chris/.virtualenvs/cdao/lib/python3.10/site-packages (from mlflow->armory-library) (2.3.3)\n",
            "Requirement already satisfied: databricks-cli<1,>=0.8.7 in /home/chris/.virtualenvs/cdao/lib/python3.10/site-packages (from mlflow->armory-library) (0.17.7)\n",
            "Requirement already satisfied: alembic!=1.10.0,<2 in /home/chris/.virtualenvs/cdao/lib/python3.10/site-packages (from mlflow->armory-library) (1.11.3)\n",
            "Requirement already satisfied: importlib-metadata!=4.7.0,<7,>=3.7.0 in /home/chris/.virtualenvs/cdao/lib/python3.10/site-packages (from mlflow->armory-library) (6.8.0)\n",
            "Requirement already satisfied: querystring-parser<2 in /home/chris/.virtualenvs/cdao/lib/python3.10/site-packages (from mlflow->armory-library) (1.2.4)\n",
            "Requirement already satisfied: pyarrow<13,>=4.0.0 in /home/chris/.virtualenvs/cdao/lib/python3.10/site-packages (from mlflow->armory-library) (12.0.1)\n",
            "Requirement already satisfied: sqlparse<1,>=0.4.0 in /home/chris/.virtualenvs/cdao/lib/python3.10/site-packages (from mlflow->armory-library) (0.4.4)\n",
            "Requirement already satisfied: markdown<4,>=3.3 in /home/chris/.virtualenvs/cdao/lib/python3.10/site-packages (from mlflow->armory-library) (3.4.3)\n",
            "Requirement already satisfied: tzdata>=2022.1 in /home/chris/.virtualenvs/cdao/lib/python3.10/site-packages (from pandas->armory-library) (2023.3)\n",
            "Requirement already satisfied: tomli>=1.0.0 in /home/chris/.virtualenvs/cdao/lib/python3.10/site-packages (from setuptools-scm->armory-library) (2.0.1)\n",
            "Requirement already satisfied: immutabledict in /home/chris/.virtualenvs/cdao/lib/python3.10/site-packages (from tf-models-official->armory-library) (2.2.5)\n",
            "Requirement already satisfied: tensorflow-text~=2.13.0 in /home/chris/.virtualenvs/cdao/lib/python3.10/site-packages (from tf-models-official->armory-library) (2.13.0)\n",
            "Requirement already satisfied: pycocotools in /home/chris/.virtualenvs/cdao/lib/python3.10/site-packages (from tf-models-official->armory-library) (2.0.6)\n",
            "Requirement already satisfied: tensorflow-datasets in /home/chris/.virtualenvs/cdao/lib/python3.10/site-packages (from tf-models-official->armory-library) (4.9.2)\n",
            "Requirement already satisfied: tf-slim>=1.1.0 in /home/chris/.virtualenvs/cdao/lib/python3.10/site-packages (from tf-models-official->armory-library) (1.1.0)\n",
            "Requirement already satisfied: kaggle>=1.3.9 in /home/chris/.virtualenvs/cdao/lib/python3.10/site-packages (from tf-models-official->armory-library) (1.5.15)\n",
            "Requirement already satisfied: tensorflow-hub>=0.6.0 in /home/chris/.virtualenvs/cdao/lib/python3.10/site-packages (from tf-models-official->armory-library) (0.13.0)\n",
            "Requirement already satisfied: Cython in /home/chris/.virtualenvs/cdao/lib/python3.10/site-packages (from tf-models-official->armory-library) (0.29.36)\n",
            "Requirement already satisfied: oauth2client in /home/chris/.virtualenvs/cdao/lib/python3.10/site-packages (from tf-models-official->armory-library) (4.1.3)\n",
            "Requirement already satisfied: tensorflow-model-optimization>=0.4.1 in /home/chris/.virtualenvs/cdao/lib/python3.10/site-packages (from tf-models-official->armory-library) (0.7.5)\n",
            "Requirement already satisfied: sacrebleu in /home/chris/.virtualenvs/cdao/lib/python3.10/site-packages (from tf-models-official->armory-library) (2.3.1)\n",
            "Requirement already satisfied: gin-config in /home/chris/.virtualenvs/cdao/lib/python3.10/site-packages (from tf-models-official->armory-library) (0.5.0)\n",
            "Requirement already satisfied: google-api-python-client>=1.6.7 in /home/chris/.virtualenvs/cdao/lib/python3.10/site-packages (from tf-models-official->armory-library) (2.93.0)\n",
            "Requirement already satisfied: sentencepiece in /home/chris/.virtualenvs/cdao/lib/python3.10/site-packages (from tf-models-official->armory-library) (0.1.99)\n",
            "Requirement already satisfied: py-cpuinfo>=3.3.0 in /home/chris/.virtualenvs/cdao/lib/python3.10/site-packages (from tf-models-official->armory-library) (9.0.0)\n",
            "Requirement already satisfied: seqeval in /home/chris/.virtualenvs/cdao/lib/python3.10/site-packages (from tf-models-official->armory-library) (1.2.2)\n",
            "Requirement already satisfied: appdirs in /home/chris/.virtualenvs/cdao/lib/python3.10/site-packages (from tidecv->armory-library) (1.4.4)\n",
            "Requirement already satisfied: seaborn in /home/chris/.virtualenvs/cdao/lib/python3.10/site-packages (from tidecv->armory-library) (0.12.2)\n",
            "Requirement already satisfied: huggingface-hub<1.0,>=0.14.1 in /home/chris/.virtualenvs/cdao/lib/python3.10/site-packages (from transformers->armory-library) (0.16.4)\n",
            "Requirement already satisfied: safetensors>=0.3.1 in /home/chris/.virtualenvs/cdao/lib/python3.10/site-packages (from transformers->armory-library) (0.3.1)\n",
            "Requirement already satisfied: tokenizers!=0.11.3,<0.14,>=0.11.1 in /home/chris/.virtualenvs/cdao/lib/python3.10/site-packages (from transformers->armory-library) (0.13.3)\n",
            "Requirement already satisfied: regex!=2019.12.17 in /home/chris/.virtualenvs/cdao/lib/python3.10/site-packages (from transformers->armory-library) (2023.6.3)\n",
            "Requirement already satisfied: Mako in /home/chris/.virtualenvs/cdao/lib/python3.10/site-packages (from alembic!=1.10.0,<2->mlflow->armory-library) (1.2.4)\n",
            "Requirement already satisfied: soupsieve>1.2 in /home/chris/.virtualenvs/cdao/lib/python3.10/site-packages (from beautifulsoup4<6.0,>=4.8.0->lightning->armory-library) (2.4.1)\n",
            "Requirement already satisfied: oauthlib>=3.1.0 in /home/chris/.virtualenvs/cdao/lib/python3.10/site-packages (from databricks-cli<1,>=0.8.7->mlflow->armory-library) (3.2.2)\n",
            "Requirement already satisfied: tabulate>=0.7.7 in /home/chris/.virtualenvs/cdao/lib/python3.10/site-packages (from databricks-cli<1,>=0.8.7->mlflow->armory-library) (0.9.0)\n",
            "Requirement already satisfied: pyjwt>=1.7.0 in /home/chris/.virtualenvs/cdao/lib/python3.10/site-packages (from databricks-cli<1,>=0.8.7->mlflow->armory-library) (2.8.0)\n",
            "Requirement already satisfied: ordered-set<4.2.0,>=4.0.2 in /home/chris/.virtualenvs/cdao/lib/python3.10/site-packages (from deepdiff<8.0,>=5.7.0->lightning->armory-library) (4.1.0)\n",
            "Requirement already satisfied: blinker>=1.6.2 in /home/chris/.virtualenvs/cdao/lib/python3.10/site-packages (from Flask<3->mlflow->armory-library) (1.6.2)\n",
            "Requirement already satisfied: itsdangerous>=2.1.2 in /home/chris/.virtualenvs/cdao/lib/python3.10/site-packages (from Flask<3->mlflow->armory-library) (2.1.2)\n",
            "Requirement already satisfied: Werkzeug>=2.3.7 in /home/chris/.virtualenvs/cdao/lib/python3.10/site-packages (from Flask<3->mlflow->armory-library) (2.3.7)\n",
            "Requirement already satisfied: aiohttp!=4.0.0a0,!=4.0.0a1 in /home/chris/.virtualenvs/cdao/lib/python3.10/site-packages (from fsspec<2025.0,>=2022.5.0->lightning->armory-library) (3.8.4)\n",
            "Requirement already satisfied: gitdb<5,>=4.0.1 in /home/chris/.virtualenvs/cdao/lib/python3.10/site-packages (from gitpython<4,>=2.1.0->mlflow->armory-library) (4.0.10)\n",
            "Requirement already satisfied: google-auth-httplib2>=0.1.0 in /home/chris/.virtualenvs/cdao/lib/python3.10/site-packages (from google-api-python-client>=1.6.7->tf-models-official->armory-library) (0.1.0)\n",
            "Requirement already satisfied: uritemplate<5,>=3.0.1 in /home/chris/.virtualenvs/cdao/lib/python3.10/site-packages (from google-api-python-client>=1.6.7->tf-models-official->armory-library) (4.1.1)\n",
            "Requirement already satisfied: google-auth<3.0.0.dev0,>=1.19.0 in /home/chris/.virtualenvs/cdao/lib/python3.10/site-packages (from google-api-python-client>=1.6.7->tf-models-official->armory-library) (2.22.0)\n",
            "Requirement already satisfied: httplib2<1.dev0,>=0.15.0 in /home/chris/.virtualenvs/cdao/lib/python3.10/site-packages (from google-api-python-client>=1.6.7->tf-models-official->armory-library) (0.22.0)\n",
            "Requirement already satisfied: google-api-core!=2.0.*,!=2.1.*,!=2.2.*,!=2.3.0,<3.0.0.dev0,>=1.31.5 in /home/chris/.virtualenvs/cdao/lib/python3.10/site-packages (from google-api-python-client>=1.6.7->tf-models-official->armory-library) (2.11.1)\n",
            "Requirement already satisfied: zipp>=0.5 in /home/chris/.virtualenvs/cdao/lib/python3.10/site-packages (from importlib-metadata!=4.7.0,<7,>=3.7.0->mlflow->armory-library) (3.16.0)\n",
            "Requirement already satisfied: blessed>=1.19.0 in /home/chris/.virtualenvs/cdao/lib/python3.10/site-packages (from inquirer<5.0,>=2.10.0->lightning->armory-library) (1.20.0)\n",
            "Requirement already satisfied: readchar>=3.0.6 in /home/chris/.virtualenvs/cdao/lib/python3.10/site-packages (from inquirer<5.0,>=2.10.0->lightning->armory-library) (4.0.5)\n",
            "Requirement already satisfied: python-editor>=1.0.4 in /home/chris/.virtualenvs/cdao/lib/python3.10/site-packages (from inquirer<5.0,>=2.10.0->lightning->armory-library) (1.0.4)\n",
            "Requirement already satisfied: MarkupSafe>=2.0 in /home/chris/.virtualenvs/cdao/lib/python3.10/site-packages (from jinja2->torch>=2.0.0->armory-library) (2.1.3)\n",
            "Requirement already satisfied: bleach in /home/chris/.virtualenvs/cdao/lib/python3.10/site-packages (from kaggle>=1.3.9->tf-models-official->armory-library) (6.0.0)\n",
            "Requirement already satisfied: python-slugify in /home/chris/.virtualenvs/cdao/lib/python3.10/site-packages (from kaggle>=1.3.9->tf-models-official->armory-library) (8.0.1)\n",
            "Requirement already satisfied: pygments<3.0.0,>=2.13.0 in /home/chris/.virtualenvs/cdao/lib/python3.10/site-packages (from rich<15.0,>=12.3.0->lightning->armory-library) (2.15.1)\n",
            "Requirement already satisfied: markdown-it-py>=2.2.0 in /home/chris/.virtualenvs/cdao/lib/python3.10/site-packages (from rich<15.0,>=12.3.0->lightning->armory-library) (3.0.0)\n",
            "Requirement already satisfied: greenlet!=0.4.17 in /home/chris/.virtualenvs/cdao/lib/python3.10/site-packages (from sqlalchemy<3,>=1.4.0->mlflow->armory-library) (2.0.2)\n",
            "Requirement already satisfied: anyio<5,>=3.4.0 in /home/chris/.virtualenvs/cdao/lib/python3.10/site-packages (from starlette->lightning->armory-library) (3.7.1)\n",
            "Requirement already satisfied: tensorboard-data-server<0.8.0,>=0.7.0 in /home/chris/.virtualenvs/cdao/lib/python3.10/site-packages (from tensorboard<2.14,>=2.13->tensorflow>=2.11.0->armory-library) (0.7.1)\n",
            "Requirement already satisfied: google-auth-oauthlib<1.1,>=0.5 in /home/chris/.virtualenvs/cdao/lib/python3.10/site-packages (from tensorboard<2.14,>=2.13->tensorflow>=2.11.0->armory-library) (1.0.0)\n",
            "Requirement already satisfied: dm-tree~=0.1.1 in /home/chris/.virtualenvs/cdao/lib/python3.10/site-packages (from tensorflow-model-optimization>=0.4.1->tf-models-official->armory-library) (0.1.8)\n",
            "Requirement already satisfied: h11>=0.8 in /home/chris/.virtualenvs/cdao/lib/python3.10/site-packages (from uvicorn<2.0->lightning->armory-library) (0.14.0)\n",
            "Requirement already satisfied: rsa>=3.1.4 in /home/chris/.virtualenvs/cdao/lib/python3.10/site-packages (from oauth2client->tf-models-official->armory-library) (4.9)\n",
            "Requirement already satisfied: pyasn1>=0.1.7 in /home/chris/.virtualenvs/cdao/lib/python3.10/site-packages (from oauth2client->tf-models-official->armory-library) (0.5.0)\n",
            "Requirement already satisfied: pyasn1-modules>=0.0.5 in /home/chris/.virtualenvs/cdao/lib/python3.10/site-packages (from oauth2client->tf-models-official->armory-library) (0.3.0)\n",
            "Requirement already satisfied: portalocker in /home/chris/.virtualenvs/cdao/lib/python3.10/site-packages (from sacrebleu->tf-models-official->armory-library) (2.7.0)\n",
            "Requirement already satisfied: lxml in /home/chris/.virtualenvs/cdao/lib/python3.10/site-packages (from sacrebleu->tf-models-official->armory-library) (4.9.3)\n",
            "Requirement already satisfied: colorama in /home/chris/.virtualenvs/cdao/lib/python3.10/site-packages (from sacrebleu->tf-models-official->armory-library) (0.4.6)\n",
            "Requirement already satisfied: mpmath>=0.19 in /home/chris/.virtualenvs/cdao/lib/python3.10/site-packages (from sympy->torch>=2.0.0->armory-library) (1.3.0)\n",
            "Requirement already satisfied: tensorflow-metadata in /home/chris/.virtualenvs/cdao/lib/python3.10/site-packages (from tensorflow-datasets->tf-models-official->armory-library) (1.13.1)\n",
            "Requirement already satisfied: toml in /home/chris/.virtualenvs/cdao/lib/python3.10/site-packages (from tensorflow-datasets->tf-models-official->armory-library) (0.10.2)\n",
            "Requirement already satisfied: etils[enp,epath]>=0.9.0 in /home/chris/.virtualenvs/cdao/lib/python3.10/site-packages (from tensorflow-datasets->tf-models-official->armory-library) (1.3.0)\n",
            "Requirement already satisfied: promise in /home/chris/.virtualenvs/cdao/lib/python3.10/site-packages (from tensorflow-datasets->tf-models-official->armory-library) (2.3)\n",
            "Requirement already satisfied: array-record in /home/chris/.virtualenvs/cdao/lib/python3.10/site-packages (from tensorflow-datasets->tf-models-official->armory-library) (0.4.0)\n",
            "Requirement already satisfied: aiosignal>=1.1.2 in /home/chris/.virtualenvs/cdao/lib/python3.10/site-packages (from aiohttp!=4.0.0a0,!=4.0.0a1->fsspec<2025.0,>=2022.5.0->lightning->armory-library) (1.3.1)\n",
            "Requirement already satisfied: multidict<7.0,>=4.5 in /home/chris/.virtualenvs/cdao/lib/python3.10/site-packages (from aiohttp!=4.0.0a0,!=4.0.0a1->fsspec<2025.0,>=2022.5.0->lightning->armory-library) (6.0.4)\n",
            "Requirement already satisfied: attrs>=17.3.0 in /home/chris/.virtualenvs/cdao/lib/python3.10/site-packages (from aiohttp!=4.0.0a0,!=4.0.0a1->fsspec<2025.0,>=2022.5.0->lightning->armory-library) (23.1.0)\n",
            "Requirement already satisfied: frozenlist>=1.1.1 in /home/chris/.virtualenvs/cdao/lib/python3.10/site-packages (from aiohttp!=4.0.0a0,!=4.0.0a1->fsspec<2025.0,>=2022.5.0->lightning->armory-library) (1.3.3)\n",
            "Requirement already satisfied: yarl<2.0,>=1.0 in /home/chris/.virtualenvs/cdao/lib/python3.10/site-packages (from aiohttp!=4.0.0a0,!=4.0.0a1->fsspec<2025.0,>=2022.5.0->lightning->armory-library) (1.9.2)\n",
            "Requirement already satisfied: async-timeout<5.0,>=4.0.0a3 in /home/chris/.virtualenvs/cdao/lib/python3.10/site-packages (from aiohttp!=4.0.0a0,!=4.0.0a1->fsspec<2025.0,>=2022.5.0->lightning->armory-library) (4.0.2)\n",
            "Requirement already satisfied: sniffio>=1.1 in /home/chris/.virtualenvs/cdao/lib/python3.10/site-packages (from anyio<5,>=3.4.0->starlette->lightning->armory-library) (1.3.0)\n",
            "Requirement already satisfied: exceptiongroup in /home/chris/.virtualenvs/cdao/lib/python3.10/site-packages (from anyio<5,>=3.4.0->starlette->lightning->armory-library) (1.1.3)\n",
            "Requirement already satisfied: wcwidth>=0.1.4 in /home/chris/.virtualenvs/cdao/lib/python3.10/site-packages (from blessed>=1.19.0->inquirer<5.0,>=2.10.0->lightning->armory-library) (0.2.6)\n",
            "Requirement already satisfied: importlib_resources in /home/chris/.virtualenvs/cdao/lib/python3.10/site-packages (from etils[enp,epath]>=0.9.0->tensorflow-datasets->tf-models-official->armory-library) (6.0.0)\n",
            "Requirement already satisfied: smmap<6,>=3.0.1 in /home/chris/.virtualenvs/cdao/lib/python3.10/site-packages (from gitdb<5,>=4.0.1->gitpython<4,>=2.1.0->mlflow->armory-library) (5.0.0)\n",
            "Requirement already satisfied: googleapis-common-protos<2.0.dev0,>=1.56.2 in /home/chris/.virtualenvs/cdao/lib/python3.10/site-packages (from google-api-core!=2.0.*,!=2.1.*,!=2.2.*,!=2.3.0,<3.0.0.dev0,>=1.31.5->google-api-python-client>=1.6.7->tf-models-official->armory-library) (1.59.1)\n",
            "Requirement already satisfied: cachetools<6.0,>=2.0.0 in /home/chris/.virtualenvs/cdao/lib/python3.10/site-packages (from google-auth<3.0.0.dev0,>=1.19.0->google-api-python-client>=1.6.7->tf-models-official->armory-library) (5.3.1)\n",
            "Requirement already satisfied: requests-oauthlib>=0.7.0 in /home/chris/.virtualenvs/cdao/lib/python3.10/site-packages (from google-auth-oauthlib<1.1,>=0.5->tensorboard<2.14,>=2.13->tensorflow>=2.11.0->armory-library) (1.3.1)\n",
            "Requirement already satisfied: mdurl~=0.1 in /home/chris/.virtualenvs/cdao/lib/python3.10/site-packages (from markdown-it-py>=2.2.0->rich<15.0,>=12.3.0->lightning->armory-library) (0.1.2)\n",
            "Requirement already satisfied: webencodings in /home/chris/.virtualenvs/cdao/lib/python3.10/site-packages (from bleach->kaggle>=1.3.9->tf-models-official->armory-library) (0.5.1)\n",
            "Requirement already satisfied: text-unidecode>=1.3 in /home/chris/.virtualenvs/cdao/lib/python3.10/site-packages (from python-slugify->kaggle>=1.3.9->tf-models-official->armory-library) (1.3)\n",
            "Requirement already satisfied: datasets in /home/chris/.virtualenvs/cdao/lib/python3.10/site-packages (2.14.6)\n",
            "Requirement already satisfied: huggingface-hub<1.0.0,>=0.14.0 in /home/chris/.virtualenvs/cdao/lib/python3.10/site-packages (from datasets) (0.16.4)\n",
            "Requirement already satisfied: requests>=2.19.0 in /home/chris/.virtualenvs/cdao/lib/python3.10/site-packages (from datasets) (2.31.0)\n",
            "Requirement already satisfied: aiohttp in /home/chris/.virtualenvs/cdao/lib/python3.10/site-packages (from datasets) (3.8.4)\n",
            "Requirement already satisfied: pandas in /home/chris/.virtualenvs/cdao/lib/python3.10/site-packages (from datasets) (2.0.3)\n",
            "Requirement already satisfied: multiprocess in /home/chris/.virtualenvs/cdao/lib/python3.10/site-packages (from datasets) (0.70.14)\n",
            "Requirement already satisfied: numpy>=1.17 in /home/chris/.virtualenvs/cdao/lib/python3.10/site-packages (from datasets) (1.24.3)\n",
            "Requirement already satisfied: tqdm>=4.62.1 in /home/chris/.virtualenvs/cdao/lib/python3.10/site-packages (from datasets) (4.65.0)\n",
            "Requirement already satisfied: pyyaml>=5.1 in /home/chris/.virtualenvs/cdao/lib/python3.10/site-packages (from datasets) (5.4.1)\n",
            "Requirement already satisfied: packaging in /home/chris/.virtualenvs/cdao/lib/python3.10/site-packages (from datasets) (23.1)\n",
            "Requirement already satisfied: xxhash in /home/chris/.virtualenvs/cdao/lib/python3.10/site-packages (from datasets) (3.2.0)\n",
            "Requirement already satisfied: fsspec[http]<=2023.10.0,>=2023.1.0 in /home/chris/.virtualenvs/cdao/lib/python3.10/site-packages (from datasets) (2023.10.0)\n",
            "Requirement already satisfied: pyarrow>=8.0.0 in /home/chris/.virtualenvs/cdao/lib/python3.10/site-packages (from datasets) (12.0.1)\n",
            "Requirement already satisfied: dill<0.3.8,>=0.3.0 in /home/chris/.virtualenvs/cdao/lib/python3.10/site-packages (from datasets) (0.3.6)\n",
            "Requirement already satisfied: yarl<2.0,>=1.0 in /home/chris/.virtualenvs/cdao/lib/python3.10/site-packages (from aiohttp->datasets) (1.9.2)\n",
            "Requirement already satisfied: frozenlist>=1.1.1 in /home/chris/.virtualenvs/cdao/lib/python3.10/site-packages (from aiohttp->datasets) (1.3.3)\n",
            "Requirement already satisfied: attrs>=17.3.0 in /home/chris/.virtualenvs/cdao/lib/python3.10/site-packages (from aiohttp->datasets) (23.1.0)\n",
            "Requirement already satisfied: aiosignal>=1.1.2 in /home/chris/.virtualenvs/cdao/lib/python3.10/site-packages (from aiohttp->datasets) (1.3.1)\n",
            "Requirement already satisfied: multidict<7.0,>=4.5 in /home/chris/.virtualenvs/cdao/lib/python3.10/site-packages (from aiohttp->datasets) (6.0.4)\n",
            "Requirement already satisfied: charset-normalizer<4.0,>=2.0 in /home/chris/.virtualenvs/cdao/lib/python3.10/site-packages (from aiohttp->datasets) (3.2.0)\n",
            "Requirement already satisfied: async-timeout<5.0,>=4.0.0a3 in /home/chris/.virtualenvs/cdao/lib/python3.10/site-packages (from aiohttp->datasets) (4.0.2)\n",
            "Requirement already satisfied: typing-extensions>=3.7.4.3 in /home/chris/.virtualenvs/cdao/lib/python3.10/site-packages (from huggingface-hub<1.0.0,>=0.14.0->datasets) (4.5.0)\n",
            "Requirement already satisfied: filelock in /home/chris/.virtualenvs/cdao/lib/python3.10/site-packages (from huggingface-hub<1.0.0,>=0.14.0->datasets) (3.12.2)\n",
            "Requirement already satisfied: certifi>=2017.4.17 in /home/chris/.virtualenvs/cdao/lib/python3.10/site-packages (from requests>=2.19.0->datasets) (2022.12.7)\n",
            "Requirement already satisfied: urllib3<3,>=1.21.1 in /home/chris/.virtualenvs/cdao/lib/python3.10/site-packages (from requests>=2.19.0->datasets) (1.26.16)\n",
            "Requirement already satisfied: idna<4,>=2.5 in /home/chris/.virtualenvs/cdao/lib/python3.10/site-packages (from requests>=2.19.0->datasets) (2.10)\n",
            "Requirement already satisfied: python-dateutil>=2.8.2 in /home/chris/.virtualenvs/cdao/lib/python3.10/site-packages (from pandas->datasets) (2.8.2)\n",
            "Requirement already satisfied: tzdata>=2022.1 in /home/chris/.virtualenvs/cdao/lib/python3.10/site-packages (from pandas->datasets) (2023.3)\n",
            "Requirement already satisfied: pytz>=2020.1 in /home/chris/.virtualenvs/cdao/lib/python3.10/site-packages (from pandas->datasets) (2023.3)\n",
            "Requirement already satisfied: six>=1.5 in /home/chris/.virtualenvs/cdao/lib/python3.10/site-packages (from python-dateutil>=2.8.2->pandas->datasets) (1.16.0)\n"
          ]
        }
      ],
      "source": [
        "!pip install armory-library\n",
        "!pip install datasets"
      ]
    },
    {
      "cell_type": "markdown",
      "metadata": {
        "id": "BVyMdIKHzIQq"
      },
      "source": [
        "### Imports for example\n",
        "### These are all the necessary imports to run the example file and will all be used and explained later in the notebook"
      ]
    },
    {
      "cell_type": "code",
      "execution_count": 2,
      "metadata": {
        "id": "u5akHz7F98hN"
      },
      "outputs": [
        {
          "name": "stderr",
          "output_type": "stream",
          "text": [
            "2023-11-07 15:53:56.711910: I tensorflow/core/util/port.cc:110] oneDNN custom operations are on. You may see slightly different numerical results due to floating-point round-off errors from different computation orders. To turn them off, set the environment variable `TF_ENABLE_ONEDNN_OPTS=0`.\n",
            "2023-11-07 15:53:56.760258: I tensorflow/core/platform/cpu_feature_guard.cc:182] This TensorFlow binary is optimized to use available CPU instructions in performance-critical operations.\n",
            "To enable the following instructions: AVX2 AVX_VNNI FMA, in other operations, rebuild TensorFlow with the appropriate compiler flags.\n",
            "2023-11-07 15:53:57.702872: W tensorflow/compiler/tf2tensorrt/utils/py_utils.cc:38] TF-TRT Warning: Could not find TensorRT\n"
          ]
        }
      ],
      "source": [
        "import argparse\n",
        "from pprint import pprint\n",
        "\n",
        "from art.attacks.evasion import ProjectedGradientDescent\n",
        "from art.estimators.classification import PyTorchClassifier\n",
        "import datasets\n",
        "import torch\n",
        "import torch.nn\n",
        "from transformers import AutoImageProcessor, AutoModelForImageClassification\n",
        "\n",
        "from armory.metrics.compute import BasicProfiler\n",
        "from charmory.data import ArmoryDataLoader\n",
        "from charmory.engine import EvaluationEngine\n",
        "import charmory.evaluation as ev\n",
        "from charmory.model.image_classification import JaticImageClassificationModel\n",
        "from charmory.tasks.image_classification import ImageClassificationTask\n",
        "from charmory.track import track_init_params, track_params\n",
        "from charmory.utils import Unnormalize\n",
        "import mlflow\n",
        "from PIL import  Image\n",
        "import os"
      ]
    },
    {
      "cell_type": "markdown",
      "metadata": {
        "id": "tMbJc0qCzOAu"
      },
      "source": [
        "### We need to bring in the model and attach wrappers to run in this example"
      ]
    },
    {
      "cell_type": "code",
      "execution_count": 3,
      "metadata": {
        "colab": {
          "base_uri": "https://localhost:8080/"
        },
        "id": "YSrkcW1Gbvvt",
        "outputId": "44226ee0-1905-4bff-a215-42fa12629212"
      },
      "outputs": [],
      "source": [
        "model = JaticImageClassificationModel(\n",
        "    track_params(AutoModelForImageClassification.from_pretrained)(\n",
        "        \"farleyknight-org-username/vit-base-mnist\"\n",
        "    ),\n",
        ")\n",
        "classifier = track_init_params(PyTorchClassifier)(\n",
        "    model,\n",
        "    loss=torch.nn.CrossEntropyLoss(),\n",
        "    optimizer=torch.optim.Adam(model.parameters(), lr=0.003),\n",
        "    input_shape=(3, 224, 224),\n",
        "    channels_first=True,\n",
        "    nb_classes=10,\n",
        "    clip_values=(-1, 1),\n",
        ")"
      ]
    },
    {
      "cell_type": "markdown",
      "metadata": {
        "colab": {
          "base_uri": "https://localhost:8080/",
          "height": 88
        },
        "id": "hIOG76MJAPVA",
        "outputId": "c0d75be3-0e0c-4f0f-c354-ff6c03165800"
      },
      "source": [
        "For this section of code we create two variables `model` and `classifier`. We found a model on HuggingFace that is trained on the same mnist dataset with the model card `farleyknight-org-username/vit-base-mnist`. This can be replaced with another model off of Huggingface or you can use a custom local model.\n",
        "- The model variable uses `AutoModelForImageClassification.from_pretrained` which takes in a HuggingFace model card name as a variable. This retrieves the model from\n",
        "    HuggingFace that we will use for this example. `track_params` is a function wrapper that stores the argument values as parameters in MLflow. Lastly,\n",
        "    the `JaticImageClassificationModel` is another wrapper to make the model compatible with Armory. This allows the model to have a standard output like other\n",
        "    JATIC image classification models.\n",
        "- The `PyTorchClassifier` class wraps the model to be usable by the ART library. It is specific to image classifier models written within the PyTorch framework. It takes in as arguments the model, loss function, and optimizer. The input image sizes are the shape of all the images inside the dataset. The `channels_first` variable is true because the images in the MNIST dataset are in a channels-first (C, H, W) multi-dimensional array. The `nb_classes` describe the number of classes model predicts on. Lastly the clip value  is the values that will be the min and max values of the input after scaling.We use `track_init_params` so that the constructor parameters for the ART wrapper are also tracked in MLflow."
      ]
    },
    {
      "cell_type": "markdown",
      "metadata": {
        "id": "VcJnRKIcZKCm"
      },
      "source": [
        "### We need to get the dataset to use in this example."
      ]
    },
    {
      "cell_type": "code",
      "execution_count": 4,
      "metadata": {
        "colab": {
          "base_uri": "https://localhost:8080/"
        },
        "id": "Qc0-c_vsHZaW",
        "outputId": "94355612-18d6-4687-cf29-76bd61506c86"
      },
      "outputs": [
        {
          "name": "stderr",
          "output_type": "stream",
          "text": [
            "Could not find image processor class in the image processor config or the model config. Loading based on pattern matching with the model's feature extractor configuration.\n"
          ]
        }
      ],
      "source": [
        "    dataset = datasets.load_dataset(\"mnist\", split=\"test\")\n",
        "    processor = AutoImageProcessor.from_pretrained(\n",
        "        \"farleyknight-org-username/vit-base-mnist\"\n",
        "    )"
      ]
    },
    {
      "cell_type": "markdown",
      "metadata": {
        "colab": {
          "base_uri": "https://localhost:8080/",
          "height": 88
        },
        "id": "l1kLRy30ZB9-",
        "outputId": "87364f6e-1b62-4f75-cb1f-df361928a6bd"
      },
      "source": [
        "\n",
        "For this section of code we create two variables `dataset` and `processor`.\n",
        "- The `dataset` variable uses the datasets module directly from the HuggingFace API. The path location \"mnist\" is the location that of the same `dataset` that was used\n",
        "  to train the model in this example. The parameter `split='test'` means that only the testing dataset is loading into the variable dataset. This is used because\n",
        "  armory-library only using the testing dataset to test the adversarial robustness of the model.\n",
        "- The `processor` variable obtains the model processor used by the model to use in our example. The is needed because the dataset needs to be in the correct form to be\n",
        "  inputted into the model. The path passed into this function is a HuggingFace model card location that is the same location of the model in this example.  This function\n",
        "  just obtains the `preprocessor`.\n",
        "\n"
      ]
    },
    {
      "cell_type": "markdown",
      "metadata": {
        "id": "zMmIpem9bX_s"
      },
      "source": [
        "### The dataset needs to be preprocessed in the correct form for both armory-library and to be inputted into the model. A pytorch dataloader is needed to use the ART API correcly"
      ]
    },
    {
      "cell_type": "code",
      "execution_count": 5,
      "metadata": {
        "colab": {
          "base_uri": "https://localhost:8080/"
        },
        "id": "53pWumP9JBvX",
        "outputId": "f3eba87f-6706-456e-84f8-8efe550cbddb"
      },
      "outputs": [],
      "source": [
        "batch_size = 16\n",
        "def transform(sample):\n",
        "        # Use the HF image processor and convert from BW To RGB\n",
        "        sample[\"image\"] = processor([img.convert(\"RGB\") for img in sample[\"image\"]])[\n",
        "            \"pixel_values\"\n",
        "        ]\n",
        "        return sample\n",
        "\n",
        "dataset.set_transform(transform)\n",
        "dataloader = ArmoryDataLoader(dataset, batch_size=batch_size)"
      ]
    },
    {
      "cell_type": "markdown",
      "metadata": {
        "colab": {
          "base_uri": "https://localhost:8080/",
          "height": 53
        },
        "id": "-2z5YFZBbj3W",
        "outputId": "83517576-4cac-4444-a338-0904f6301064"
      },
      "source": [
        "\n",
        "For this section of code we transform the `dataset` and create a `dataloader`.\n",
        "- To transform the `dataset` we define a function `transform` to cycle through the `dataset` and convert each image into HuggingFace 'RGB' form. The transform function is\n",
        "  using the HuggingFace API where you first create a function that cycles through a `dataset` and preforms the operation on the `dataset` that is needed to get it in correct\n",
        "  form. Next the `set_transform` method is used by the HuggingFace dataset which applies the transform function to the entire HuggingFace dataset.\n",
        "- The `dataloader` variable is created by using the `ArmoryDataLoader` function. The `ArmoryDataloader` is a custom PyTorch DataLoader that produces numpy arrays instead of\n",
        "  Tensors which is required by ART. The only inputted used in this example is the `dataset` and batch size of images. All other variable can be passed in from the PyTorch\n",
        "  DataLoader API.\n"
      ]
    },
    {
      "cell_type": "markdown",
      "metadata": {
        "id": "_Lu7uKqMcGut"
      },
      "source": [
        "## Next an attack is needed for armory-library that we will use to test the adversarial robustness of the machine learning model."
      ]
    },
    {
      "cell_type": "code",
      "execution_count": 6,
      "metadata": {
        "colab": {
          "base_uri": "https://localhost:8080/"
        },
        "id": "s_n5ASOQah3d",
        "outputId": "11a139d9-48b1-4fd1-ebdf-f5b90e57dac9"
      },
      "outputs": [],
      "source": [
        "    attack = track_init_params(ProjectedGradientDescent)(\n",
        "        classifier,\n",
        "        batch_size=batch_size,\n",
        "        eps=0.031,\n",
        "        eps_step=0.007,\n",
        "        max_iter=20,\n",
        "        num_random_init=1,\n",
        "        random_eps=False,\n",
        "        targeted=False,\n",
        "        verbose=False,\n",
        "    )"
      ]
    },
    {
      "cell_type": "markdown",
      "metadata": {
        "colab": {
          "base_uri": "https://localhost:8080/",
          "height": 53
        },
        "id": "OPk221EicVNZ",
        "outputId": "f2ef812e-ebf6-4227-9be7-a3068e7430b7"
      },
      "source": [
        "\n",
        "For this section of code we create an `attack` variable.\n",
        "- The `attack` variable is create with the `ProjectedGradientDescent` class which comes from the ART library. Here is a link to the paper it was modeled after\n",
        "  https://arxiv.org/abs/1706.06083. The track_init_params is used to output the initial metrics to mlflow. It takes as an input the default specs for this `attack`, but\n",
        "  these can be changed to be optimized to other models and datasets.\n"
      ]
    },
    {
      "cell_type": "markdown",
      "metadata": {
        "id": "NS5BjHw3dj6c"
      },
      "source": [
        "## A method is needed now to bring together the model, dataset, and attack that will execute all the code to test the adversarial robussness of the model."
      ]
    },
    {
      "cell_type": "code",
      "execution_count": 7,
      "metadata": {
        "id": "R0kMTvQ6vLIW"
      },
      "outputs": [],
      "source": [
        "evaluation = ev.Evaluation(\n",
        "    name=\"mnist-vit-pgd\",\n",
        "    description=\"MNIST image classification using a ViT model and PGD attack\",\n",
        "    author=\"TwoSix\",\n",
        "    dataset=ev.Dataset(\n",
        "        name=\"MNIST\",\n",
        "        x_key=\"image\",\n",
        "        y_key=\"label\",\n",
        "        test_dataloader=dataloader,\n",
        "    ),\n",
        "    model=ev.Model(\n",
        "        name=\"ViT\",\n",
        "        model=classifier,\n",
        "    ),\n",
        "    attack=ev.Attack(\n",
        "        name=\"PGD\",\n",
        "        attack=attack,\n",
        "        use_label_for_untargeted=False,\n",
        "    ),\n",
        "    metric=ev.Metric(profiler=BasicProfiler()),\n",
        ")\n"
      ]
    },
    {
      "cell_type": "markdown",
      "metadata": {
        "colab": {
          "base_uri": "https://localhost:8080/",
          "height": 35
        },
        "id": "9y-A_Imhd2Js",
        "outputId": "9bcc6d30-f659-4344-935e-ea6f31b0f899"
      },
      "source": [
        "\n",
        "For this section of code we create an `evalution` variable.\n",
        "- The `evalution` variable is created by `ev.Evalution` class. This variable holds all the essential elements to run an adversarial robustness attack. The elements are:\n",
        "```python\n",
        "    name: 'user created name of the evalution (str)'\n",
        "    description: 'description of the evalution (str)'\n",
        "    model: ev.Model \n",
        "    dataset: ev.Dataset\n",
        "    author: 'string of the author of the evalution (str)'\n",
        "    attack: ev.Attack\n",
        "    metric:  ev.Metric\n",
        "```\n",
        "\n",
        "- The `model`, `dataset`, and `attack` were created in the earlier cells. The `metric` variable is using the basic standard metric function for image classification models in\n",
        "  armory-library. In the `dataset` variable, the `x_key` and `y_key` need to be properly listed for the `dataset` being used. The `x_key` needs to be the column name of the image\n",
        "  in the `dataset`. The `y_key` needs to be the column name of the label in the `dataset`.\n"
      ]
    },
    {
      "cell_type": "markdown",
      "metadata": {
        "id": "TkpJQ_S1eeBc"
      },
      "source": [
        "### Some final detials are needed to output metrics to mlflow and the an engine class is needed to run the evalution class."
      ]
    },
    {
      "cell_type": "code",
      "execution_count": 8,
      "metadata": {
        "colab": {
          "base_uri": "https://localhost:8080/"
        },
        "id": "IR9us5nlv_qx",
        "outputId": "af3a2db7-4626-41ab-9225-bcf0fa410733"
      },
      "outputs": [
        {
          "name": "stderr",
          "output_type": "stream",
          "text": [
            "INFO: GPU available: True (cuda), used: True\n",
            "INFO: TPU available: False, using: 0 TPU cores\n",
            "INFO: IPU available: False, using: 0 IPUs\n",
            "INFO: HPU available: False, using: 0 HPUs\n"
          ]
        }
      ],
      "source": [
        "export_every_n_batches = 10\n",
        "num_batches = 10\n",
        "task = ImageClassificationTask(\n",
        "        evaluation,\n",
        "        num_classes=10,\n",
        "        export_adapter=Unnormalize(mean=(0.5, 0.5, 0.5), std=(0.5, 0.5, 0.5)),\n",
        "        export_every_n_batches=export_every_n_batches,\n",
        "    )\n",
        "engine = EvaluationEngine(task, limit_test_batches=num_batches)"
      ]
    },
    {
      "cell_type": "markdown",
      "metadata": {
        "colab": {
          "base_uri": "https://localhost:8080/",
          "height": 35
        },
        "id": "d1isa0GTeb3q",
        "outputId": "1ea8a3a4-6302-4499-af4c-2ba8ef518957"
      },
      "source": [
        "\n",
        "For this section of code we create a `task` and `engine`:\n",
        "- The task tells ART the type of model the attack is running on. Armory-library currently has two tasks image classification and object detection. It takes the `evalution`\n",
        "  variable, number of classes in the model, export adapter, and `export_every_n_batches`. The `export_every_n_batches` variable is the amount of batches that get exported to mlFlow, so if\n",
        "  10 is selected then every 10 batches are outputted on mlFlow. The adapter takes in the Unnormalize variable which preforms the inverse of the PyTorch Normalize function. This\n",
        "  operation allows the normalize dataset to be reversed to allow the unnormalized data to be displayed in mlflow.\n",
        "- The `engine` variable is created from the `Evaluation` Engine which takes the task and `limit_test_batches` as variables. The `limit_test_batches` is the amount of batches of testing\n",
        "  data that the engine will create metrics for. The `Evaluation` Engine only has one method `.run()` which runs the experiment.\n"
      ]
    },
    {
      "cell_type": "markdown",
      "metadata": {
        "id": "pR0yxmsTd9IJ"
      },
      "source": [
        "#### Lastly, the engine variable executes .run() which runs the experiment. Function pprint is used to print the output of the run in a better format than regular python print."
      ]
    },
    {
      "cell_type": "code",
      "execution_count": 9,
      "metadata": {
        "colab": {
          "base_uri": "https://localhost:8080/",
          "height": 288,
          "referenced_widgets": [
            "471b0b5d882b4f8c95424d5f4c99ba5e",
            "a0e368d043e54fb9945740d3337a4914",
            "081528a43b4f4164a1582a667b4cf596",
            "0dc47e26d6824780a4c312a86caeb1b9",
            "8f742813a4894ed88bf706b96fd42b5f",
            "0eddae49b22c4502851223e534526c66",
            "1744f1d198054a48b232b8df20472baf",
            "799fea83a3ef442caa87610e680f4cbc",
            "c4788d5937494ffc868771c34a09dc10",
            "c91993df4bb14b5c949fdecd2aadd85c",
            "12ea3af3241942a3a16b5eb5142463ff"
          ]
        },
        "id": "isu6NOtlwCFN",
        "outputId": "51f704a2-8266-4c38-b5a8-6240b27b3186"
      },
      "outputs": [
        {
          "name": "stdout",
          "output_type": "stream",
          "text": [
            "2023-11-07 15:54:05  7s \u001b[33m\u001b[1mWARNING \u001b[0m \u001b[36mcharmory.track\u001b[0m:\u001b[36mtrack_system_metrics\u001b[0m:\u001b[36m380\u001b[0m Exception creating system metrics monitor, No module named 'mlflow.system_metrics', system metrics will be unavailable for this run\n"
          ]
        },
        {
          "name": "stderr",
          "output_type": "stream",
          "text": [
            "INFO: You are using a CUDA device ('NVIDIA RTX A1000 Laptop GPU') that has Tensor Cores. To properly utilize them, you should set `torch.set_float32_matmul_precision('medium' | 'high')` which will trade-off precision for performance. For more details, read https://pytorch.org/docs/stable/generated/torch.set_float32_matmul_precision.html#torch.set_float32_matmul_precision\n",
            "INFO: LOCAL_RANK: 0 - CUDA_VISIBLE_DEVICES: [0]\n",
            "/home/chris/.virtualenvs/cdao/lib/python3.10/site-packages/lightning/pytorch/trainer/connectors/data_connector.py:442: PossibleUserWarning: The dataloader, test_dataloader, does not have many workers which may be a bottleneck. Consider increasing the value of the `num_workers` argument` (try 20 which is the number of cpus on this machine) in the `DataLoader` init to improve performance.\n",
            "  rank_zero_warn(\n"
          ]
        },
        {
          "data": {
            "application/vnd.jupyter.widget-view+json": {
              "model_id": "73963c009ff14bebb067ea369f86ff47",
              "version_major": 2,
              "version_minor": 0
            },
            "text/plain": [
              "Testing: 0it [00:00, ?it/s]"
            ]
          },
          "metadata": {},
          "output_type": "display_data"
        },
        {
          "data": {
            "text/html": [
              "<pre style=\"white-space:pre;overflow-x:auto;line-height:normal;font-family:Menlo,'DejaVu Sans Mono',consolas,'Courier New',monospace\">┏━━━━━━━━━━━━━━━━━━━━━━━━━━━┳━━━━━━━━━━━━━━━━━━━━━━━━━━━┓\n",
              "┃<span style=\"font-weight: bold\">        Test metric        </span>┃<span style=\"font-weight: bold\">       DataLoader 0        </span>┃\n",
              "┡━━━━━━━━━━━━━━━━━━━━━━━━━━━╇━━━━━━━━━━━━━━━━━━━━━━━━━━━┩\n",
              "│<span style=\"color: #008080; text-decoration-color: #008080\">      attack_accuracy      </span>│<span style=\"color: #800080; text-decoration-color: #800080\">    0.02500000037252903    </span>│\n",
              "│<span style=\"color: #008080; text-decoration-color: #008080\">      benign_accuracy      </span>│<span style=\"color: #800080; text-decoration-color: #800080\">            1.0            </span>│\n",
              "│<span style=\"color: #008080; text-decoration-color: #008080\">       perturbation        </span>│<span style=\"color: #800080; text-decoration-color: #800080\">    0.03100001811981201    </span>│\n",
              "└───────────────────────────┴───────────────────────────┘\n",
              "</pre>\n"
            ],
            "text/plain": [
              "┏━━━━━━━━━━━━━━━━━━━━━━━━━━━┳━━━━━━━━━━━━━━━━━━━━━━━━━━━┓\n",
              "┃\u001b[1m \u001b[0m\u001b[1m       Test metric       \u001b[0m\u001b[1m \u001b[0m┃\u001b[1m \u001b[0m\u001b[1m      DataLoader 0       \u001b[0m\u001b[1m \u001b[0m┃\n",
              "┡━━━━━━━━━━━━━━━━━━━━━━━━━━━╇━━━━━━━━━━━━━━━━━━━━━━━━━━━┩\n",
              "│\u001b[36m \u001b[0m\u001b[36m     attack_accuracy     \u001b[0m\u001b[36m \u001b[0m│\u001b[35m \u001b[0m\u001b[35m   0.02500000037252903   \u001b[0m\u001b[35m \u001b[0m│\n",
              "│\u001b[36m \u001b[0m\u001b[36m     benign_accuracy     \u001b[0m\u001b[36m \u001b[0m│\u001b[35m \u001b[0m\u001b[35m           1.0           \u001b[0m\u001b[35m \u001b[0m│\n",
              "│\u001b[36m \u001b[0m\u001b[36m      perturbation       \u001b[0m\u001b[36m \u001b[0m│\u001b[35m \u001b[0m\u001b[35m   0.03100001811981201   \u001b[0m\u001b[35m \u001b[0m│\n",
              "└───────────────────────────┴───────────────────────────┘\n"
            ]
          },
          "metadata": {},
          "output_type": "display_data"
        },
        {
          "name": "stdout",
          "output_type": "stream",
          "text": [
            "{'compute': {'Avg. CPU time (s) for 10 executions of Attack': 16.41973185200004,\n",
            "             'Avg. CPU time (s) for 10 executions of Inference': 0.34587169619990166},\n",
            " 'metrics': {'attack_accuracy': tensor(0.0250),\n",
            "             'benign_accuracy': tensor(1.),\n",
            "             'perturbation': tensor(0.0310)}}\n"
          ]
        }
      ],
      "source": [
        "pprint(engine.run())"
      ]
    },
    {
      "cell_type": "code",
      "execution_count": 10,
      "metadata": {},
      "outputs": [],
      "source": [
        "#Simple script to retrieve 1 example of a benign and attacked image from the mlflow artifacts\n",
        "mlflow_var = mlflow.search_experiments(filter_string=\"name = 'mnist-vit-pgd'\")[0]\n",
        "path = mlflow_var.artifact_location[7:] + '/' + engine.run_id + '/artifacts'\n",
        "image_bin, image_adv = None, None\n",
        "for f in os.listdir(path):\n",
        "    if f.endswith(\"ex_0_x_adv.png\"):\n",
        "        image_adv = Image.open(os.path.join(path,f))\n",
        "    elif f.endswith(\"ex_0_x.png\"):\n",
        "        image_bin = Image.open(os.path.join(path,f))\n"
      ]
    },
    {
      "cell_type": "markdown",
      "metadata": {},
      "source": [
        "## Benign Image"
      ]
    },
    {
      "cell_type": "code",
      "execution_count": 11,
      "metadata": {},
      "outputs": [
        {
          "data": {
            "image/png": "[encoded data removed]",
            "text/plain": [
              "<PIL.PngImagePlugin.PngImageFile image mode=RGB size=224x224>"
            ]
          },
          "execution_count": 11,
          "metadata": {},
          "output_type": "execute_result"
        }
      ],
      "source": [
        "image_bin"
      ]
    },
    {
      "cell_type": "markdown",
      "metadata": {},
      "source": [
        "## Attacked Image"
      ]
    },
    {
      "cell_type": "code",
      "execution_count": 13,
      "metadata": {},
      "outputs": [
        {
          "data": {
            "image/png": "[encoded data removed]",
            "text/plain": [
              "<PIL.PngImagePlugin.PngImageFile image mode=RGB size=224x224>"
            ]
          },
          "execution_count": 13,
          "metadata": {},
          "output_type": "execute_result"
        }
      ],
      "source": [
        "image_adv"
      ]
    }
  ],
  "metadata": {
    "colab": {
      "gpuType": "T4",
      "provenance": []
    },
    "kernelspec": {
      "display_name": "Python 3",
      "name": "python3"
    },
    "language_info": {
      "codemirror_mode": {
        "name": "ipython",
        "version": 3
      },
      "file_extension": ".py",
      "mimetype": "text/x-python",
      "name": "python",
      "nbconvert_exporter": "python",
      "pygments_lexer": "ipython3",
      "version": "3.10.12"
    },
    "widgets": {
      "application/vnd.jupyter.widget-state+json": {
        "081528a43b4f4164a1582a667b4cf596": {
          "model_module": "@jupyter-widgets/controls",
          "model_module_version": "1.5.0",
          "model_name": "FloatProgressModel",
          "state": {
            "_dom_classes": [],
            "_model_module": "@jupyter-widgets/controls",
            "_model_module_version": "1.5.0",
            "_model_name": "FloatProgressModel",
            "_view_count": null,
            "_view_module": "@jupyter-widgets/controls",
            "_view_module_version": "1.5.0",
            "_view_name": "ProgressView",
            "bar_style": "success",
            "description": "",
            "description_tooltip": null,
            "layout": "IPY_MODEL_799fea83a3ef442caa87610e680f4cbc",
            "max": 10,
            "min": 0,
            "orientation": "horizontal",
            "style": "IPY_MODEL_c4788d5937494ffc868771c34a09dc10",
            "value": 10
          }
        },
        "0dc47e26d6824780a4c312a86caeb1b9": {
          "model_module": "@jupyter-widgets/controls",
          "model_module_version": "1.5.0",
          "model_name": "HTMLModel",
          "state": {
            "_dom_classes": [],
            "_model_module": "@jupyter-widgets/controls",
            "_model_module_version": "1.5.0",
            "_model_name": "HTMLModel",
            "_view_count": null,
            "_view_module": "@jupyter-widgets/controls",
            "_view_module_version": "1.5.0",
            "_view_name": "HTMLView",
            "description": "",
            "description_tooltip": null,
            "layout": "IPY_MODEL_c91993df4bb14b5c949fdecd2aadd85c",
            "placeholder": "​",
            "style": "IPY_MODEL_12ea3af3241942a3a16b5eb5142463ff",
            "value": " 10/10 [01:56&lt;00:00,  0.09it/s]"
          }
        },
        "0eddae49b22c4502851223e534526c66": {
          "model_module": "@jupyter-widgets/base",
          "model_module_version": "1.2.0",
          "model_name": "LayoutModel",
          "state": {
            "_model_module": "@jupyter-widgets/base",
            "_model_module_version": "1.2.0",
            "_model_name": "LayoutModel",
            "_view_count": null,
            "_view_module": "@jupyter-widgets/base",
            "_view_module_version": "1.2.0",
            "_view_name": "LayoutView",
            "align_content": null,
            "align_items": null,
            "align_self": null,
            "border": null,
            "bottom": null,
            "display": null,
            "flex": null,
            "flex_flow": null,
            "grid_area": null,
            "grid_auto_columns": null,
            "grid_auto_flow": null,
            "grid_auto_rows": null,
            "grid_column": null,
            "grid_gap": null,
            "grid_row": null,
            "grid_template_areas": null,
            "grid_template_columns": null,
            "grid_template_rows": null,
            "height": null,
            "justify_content": null,
            "justify_items": null,
            "left": null,
            "margin": null,
            "max_height": null,
            "max_width": null,
            "min_height": null,
            "min_width": null,
            "object_fit": null,
            "object_position": null,
            "order": null,
            "overflow": null,
            "overflow_x": null,
            "overflow_y": null,
            "padding": null,
            "right": null,
            "top": null,
            "visibility": null,
            "width": null
          }
        },
        "12ea3af3241942a3a16b5eb5142463ff": {
          "model_module": "@jupyter-widgets/controls",
          "model_module_version": "1.5.0",
          "model_name": "DescriptionStyleModel",
          "state": {
            "_model_module": "@jupyter-widgets/controls",
            "_model_module_version": "1.5.0",
            "_model_name": "DescriptionStyleModel",
            "_view_count": null,
            "_view_module": "@jupyter-widgets/base",
            "_view_module_version": "1.2.0",
            "_view_name": "StyleView",
            "description_width": ""
          }
        },
        "1744f1d198054a48b232b8df20472baf": {
          "model_module": "@jupyter-widgets/controls",
          "model_module_version": "1.5.0",
          "model_name": "DescriptionStyleModel",
          "state": {
            "_model_module": "@jupyter-widgets/controls",
            "_model_module_version": "1.5.0",
            "_model_name": "DescriptionStyleModel",
            "_view_count": null,
            "_view_module": "@jupyter-widgets/base",
            "_view_module_version": "1.2.0",
            "_view_name": "StyleView",
            "description_width": ""
          }
        },
        "471b0b5d882b4f8c95424d5f4c99ba5e": {
          "model_module": "@jupyter-widgets/controls",
          "model_module_version": "1.5.0",
          "model_name": "HBoxModel",
          "state": {
            "_dom_classes": [],
            "_model_module": "@jupyter-widgets/controls",
            "_model_module_version": "1.5.0",
            "_model_name": "HBoxModel",
            "_view_count": null,
            "_view_module": "@jupyter-widgets/controls",
            "_view_module_version": "1.5.0",
            "_view_name": "HBoxView",
            "box_style": "",
            "children": [
              "IPY_MODEL_a0e368d043e54fb9945740d3337a4914",
              "IPY_MODEL_081528a43b4f4164a1582a667b4cf596",
              "IPY_MODEL_0dc47e26d6824780a4c312a86caeb1b9"
            ],
            "layout": "IPY_MODEL_8f742813a4894ed88bf706b96fd42b5f"
          }
        },
        "799fea83a3ef442caa87610e680f4cbc": {
          "model_module": "@jupyter-widgets/base",
          "model_module_version": "1.2.0",
          "model_name": "LayoutModel",
          "state": {
            "_model_module": "@jupyter-widgets/base",
            "_model_module_version": "1.2.0",
            "_model_name": "LayoutModel",
            "_view_count": null,
            "_view_module": "@jupyter-widgets/base",
            "_view_module_version": "1.2.0",
            "_view_name": "LayoutView",
            "align_content": null,
            "align_items": null,
            "align_self": null,
            "border": null,
            "bottom": null,
            "display": null,
            "flex": "2",
            "flex_flow": null,
            "grid_area": null,
            "grid_auto_columns": null,
            "grid_auto_flow": null,
            "grid_auto_rows": null,
            "grid_column": null,
            "grid_gap": null,
            "grid_row": null,
            "grid_template_areas": null,
            "grid_template_columns": null,
            "grid_template_rows": null,
            "height": null,
            "justify_content": null,
            "justify_items": null,
            "left": null,
            "margin": null,
            "max_height": null,
            "max_width": null,
            "min_height": null,
            "min_width": null,
            "object_fit": null,
            "object_position": null,
            "order": null,
            "overflow": null,
            "overflow_x": null,
            "overflow_y": null,
            "padding": null,
            "right": null,
            "top": null,
            "visibility": null,
            "width": null
          }
        },
        "8f742813a4894ed88bf706b96fd42b5f": {
          "model_module": "@jupyter-widgets/base",
          "model_module_version": "1.2.0",
          "model_name": "LayoutModel",
          "state": {
            "_model_module": "@jupyter-widgets/base",
            "_model_module_version": "1.2.0",
            "_model_name": "LayoutModel",
            "_view_count": null,
            "_view_module": "@jupyter-widgets/base",
            "_view_module_version": "1.2.0",
            "_view_name": "LayoutView",
            "align_content": null,
            "align_items": null,
            "align_self": null,
            "border": null,
            "bottom": null,
            "display": "inline-flex",
            "flex": null,
            "flex_flow": "row wrap",
            "grid_area": null,
            "grid_auto_columns": null,
            "grid_auto_flow": null,
            "grid_auto_rows": null,
            "grid_column": null,
            "grid_gap": null,
            "grid_row": null,
            "grid_template_areas": null,
            "grid_template_columns": null,
            "grid_template_rows": null,
            "height": null,
            "justify_content": null,
            "justify_items": null,
            "left": null,
            "margin": null,
            "max_height": null,
            "max_width": null,
            "min_height": null,
            "min_width": null,
            "object_fit": null,
            "object_position": null,
            "order": null,
            "overflow": null,
            "overflow_x": null,
            "overflow_y": null,
            "padding": null,
            "right": null,
            "top": null,
            "visibility": null,
            "width": "100%"
          }
        },
        "a0e368d043e54fb9945740d3337a4914": {
          "model_module": "@jupyter-widgets/controls",
          "model_module_version": "1.5.0",
          "model_name": "HTMLModel",
          "state": {
            "_dom_classes": [],
            "_model_module": "@jupyter-widgets/controls",
            "_model_module_version": "1.5.0",
            "_model_name": "HTMLModel",
            "_view_count": null,
            "_view_module": "@jupyter-widgets/controls",
            "_view_module_version": "1.5.0",
            "_view_name": "HTMLView",
            "description": "",
            "description_tooltip": null,
            "layout": "IPY_MODEL_0eddae49b22c4502851223e534526c66",
            "placeholder": "​",
            "style": "IPY_MODEL_1744f1d198054a48b232b8df20472baf",
            "value": "Testing DataLoader 0: 100%"
          }
        },
        "c4788d5937494ffc868771c34a09dc10": {
          "model_module": "@jupyter-widgets/controls",
          "model_module_version": "1.5.0",
          "model_name": "ProgressStyleModel",
          "state": {
            "_model_module": "@jupyter-widgets/controls",
            "_model_module_version": "1.5.0",
            "_model_name": "ProgressStyleModel",
            "_view_count": null,
            "_view_module": "@jupyter-widgets/base",
            "_view_module_version": "1.2.0",
            "_view_name": "StyleView",
            "bar_color": null,
            "description_width": ""
          }
        },
        "c91993df4bb14b5c949fdecd2aadd85c": {
          "model_module": "@jupyter-widgets/base",
          "model_module_version": "1.2.0",
          "model_name": "LayoutModel",
          "state": {
            "_model_module": "@jupyter-widgets/base",
            "_model_module_version": "1.2.0",
            "_model_name": "LayoutModel",
            "_view_count": null,
            "_view_module": "@jupyter-widgets/base",
            "_view_module_version": "1.2.0",
            "_view_name": "LayoutView",
            "align_content": null,
            "align_items": null,
            "align_self": null,
            "border": null,
            "bottom": null,
            "display": null,
            "flex": null,
            "flex_flow": null,
            "grid_area": null,
            "grid_auto_columns": null,
            "grid_auto_flow": null,
            "grid_auto_rows": null,
            "grid_column": null,
            "grid_gap": null,
            "grid_row": null,
            "grid_template_areas": null,
            "grid_template_columns": null,
            "grid_template_rows": null,
            "height": null,
            "justify_content": null,
            "justify_items": null,
            "left": null,
            "margin": null,
            "max_height": null,
            "max_width": null,
            "min_height": null,
            "min_width": null,
            "object_fit": null,
            "object_position": null,
            "order": null,
            "overflow": null,
            "overflow_x": null,
            "overflow_y": null,
            "padding": null,
            "right": null,
            "top": null,
            "visibility": null,
            "width": null
          }
        }
      }
    }
  },
  "nbformat": 4,
  "nbformat_minor": 0
}
