{
 "cells": [
  {
   "cell_type": "markdown",
   "metadata": {},
   "source": [
    "# Placeholder\n",
    "\n",
    "The prior revision (0207d7f7) of this file\n",
    "`demo3/demo-05-adversarial_robustness_twosix.ipynb` had been cloned from the previous\n",
    "increment demo. I have put this placeholder here to avoid the old demo from being\n",
    "confused with the new one which will appear here on a later commit."
   ]
  }
 ],
 "metadata": {
  "language_info": {
   "name": "python"
  }
 },
 "nbformat": 4,
 "nbformat_minor": 2
}
