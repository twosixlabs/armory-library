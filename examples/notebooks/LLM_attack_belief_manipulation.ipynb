{
 "cells": [
  {
   "cell_type": "markdown",
   "metadata": {},
   "source": [
    "# Belief Manipulation Evaluation Demo\n",
    "\n",
    "This notebook will evaluate an LLM against the RelaxedPGD attack with the objective of belief manipulation, i.e. provoking the LLM to provide untrue responses.  In this threat model, it is assumed that the adversary can intercept a user's requests to the LLM and append an arbitrary suffix to the request.  The RelaxedPGD attack will optimize a suffix to increase the likelihood of the desired response.\n",
    "\n",
    "The attack used in this notebook comes from the paper [Attacking Large Language Models with Projected Gradient Descent](https://arxiv.org/abs/2402.09154).  The implementation is due to [Dreadnode](https://github.com/dreadnode/research/ )."
   ]
  },
  {
   "cell_type": "markdown",
   "metadata": {},
   "source": [
    "First, import necessary packages."
   ]
  },
  {
   "cell_type": "code",
   "execution_count": null,
   "metadata": {},
   "outputs": [],
   "source": [
    "from typing import Optional\n",
    "\n",
    "import datasets\n",
    "import litgpt\n",
    "\n",
    "import armory.data\n",
    "import armory.dataset\n",
    "import armory.engine\n",
    "import armory.evaluation\n",
    "import armory.logging\n",
    "import armory.metric\n",
    "import armory.metrics.compute\n",
    "import armory.model.llm\n",
    "import armory.track\n",
    "import armory.utils\n",
    "import armory.perturbation\n",
    "import armory.metrics\n",
    "import armory.metrics.classification\n",
    "from armory.examples.llm.llm_pgd import RelaxedPGD"
   ]
  },
  {
   "cell_type": "markdown",
   "metadata": {},
   "source": [
    "### Model\n",
    "\n",
    "The following function loads a model, previously downloaded through litGPT.  We will use Microsoft Phi-2 2.7B as it is small enough to fit on one 24G GPU.  For this experiment, we have not fine-tuned the model.  We do, however, prepend each request with an instruction directing the model to respond with \"true\" or \"false\".\n",
    "\n",
    "The model lives in a directory called ```checkpoints```; litGPT looks for this locally so it must be either be local or symlinked from another directory.  See [litGPT Quick Start](https://lightning.ai/lightning-ai/studios/litgpt-quick-start?section=featured) for more info on how to download the model weights."
   ]
  },
  {
   "cell_type": "code",
   "execution_count": null,
   "metadata": {},
   "outputs": [],
   "source": [
    "def load_model():\n",
    "    litgpt_model = armory.track.track_params(litgpt.LLM.load)(\n",
    "        model=\"microsoft/phi-2\"\n",
    "    )\n",
    "\n",
    "    armory_model = armory.model.llm.LitGPT(\n",
    "        name=\"Phi-2\",\n",
    "        model=litgpt_model,\n",
    "        static_context=\"System: You are a helpful AI assistant designed to respond 'true' or 'false' to the user's statement.\\nUser:\",\n",
    "    )\n",
    "\n",
    "    return armory_model\n"
   ]
  },
  {
   "cell_type": "markdown",
   "metadata": {},
   "source": [
    "### Dataset\n",
    "\n",
    "We will use the BoolQ dataset for this evaluation.  It consists of ?how many? True/False questions.  The following function will be used to load the dataset."
   ]
  },
  {
   "cell_type": "code",
   "execution_count": null,
   "metadata": {},
   "outputs": [],
   "source": [
    "\n",
    "def transform(sample):\n",
    "    sample[\"question\"] = [q + \"?\" for q in sample[\"question\"]]\n",
    "    sample[\"answer\"] = [int(a) for a in sample[\"answer\"]]\n",
    "    return sample\n",
    "\n",
    "\n",
    "def load_dataset(batch_size: int, shuffle: bool, seed: Optional[int] = None):\n",
    "    \"\"\"Load BoolQ dataset from HuggingFace\"\"\"\n",
    "\n",
    "    hf_dataset = armory.track.track_params(datasets.load_dataset)(\n",
    "        path=\"google/boolq\", split=\"validation\"\n",
    "    )\n",
    "    assert isinstance(hf_dataset, datasets.Dataset)\n",
    "    hf_dataset.set_transform(transform)\n",
    "\n",
    "    dataloader = armory.dataset.TextClassificationDataLoader(\n",
    "        hf_dataset,\n",
    "        inputs_key=\"question\",\n",
    "        # context_key=\"passage\",\n",
    "        targets_key=\"answer\",\n",
    "        batch_size=batch_size,\n",
    "        shuffle=shuffle,\n",
    "        seed=seed,\n",
    "    )\n",
    "\n",
    "    dataset = armory.evaluation.Dataset(\n",
    "        name=\"boolq\",\n",
    "        dataloader=dataloader,\n",
    "    )\n",
    "\n",
    "    return dataset\n",
    "\n"
   ]
  },
  {
   "cell_type": "markdown",
   "metadata": {},
   "source": [
    "### Attack\n",
    "\n",
    "The next function loads the attack."
   ]
  },
  {
   "cell_type": "code",
   "execution_count": null,
   "metadata": {},
   "outputs": [],
   "source": [
    "\n",
    "\n",
    "def create_attack(classifier, num_iters=25):\n",
    "    \"\"\"Creates the PGD attack\"\"\"\n",
    "    pgd = armory.track.track_init_params(RelaxedPGD)(\n",
    "        classifier,\n",
    "        num_iters=num_iters,\n",
    "    )\n",
    "\n",
    "    evaluation_attack = armory.perturbation.Relaxed_PGD_Classification(\n",
    "        name=\"LLM-PGD-BoolQ\",\n",
    "        attack=pgd,\n",
    "    )\n",
    "\n",
    "    return evaluation_attack\n",
    "\n"
   ]
  },
  {
   "cell_type": "markdown",
   "metadata": {},
   "source": [
    "### Metrics\n",
    "\n",
    "To evaluate the model's performance, we use Armory's TextClassificationAccuracy metric, built for this purpose.  It determines the model's response based on the first word.  If the first word is not interpretable as a variation of yes/true or false/no, the response is simply counted as an incorrect answer."
   ]
  },
  {
   "cell_type": "code",
   "execution_count": null,
   "metadata": {},
   "outputs": [],
   "source": [
    "\n",
    "\n",
    "def create_metrics():\n",
    "    \"\"\"Create evaluation metrics\"\"\"\n",
    "    return {\n",
    "        \"accuracy\": armory.metric.PredictionMetric(\n",
    "            armory.metrics.classification.TextClassificationAccuracy(),\n",
    "            spec=armory.data.NumpySpec\n",
    "        ),\n",
    "    }"
   ]
  },
  {
   "cell_type": "markdown",
   "metadata": {},
   "source": [
    "### Putting it together\n",
    "\n",
    "The code in the next block chains all the pieces together into an Armory evaluation engine."
   ]
  },
  {
   "cell_type": "code",
   "execution_count": null,
   "metadata": {},
   "outputs": [],
   "source": [
    "\n",
    "def eval(batch_size, num_batches, attack_iters):\n",
    "    \"\"\"Perform evaluation\"\"\"\n",
    "    profiler = armory.metrics.compute.BasicProfiler()\n",
    "    evaluation = armory.evaluation.Evaluation(\n",
    "        name=\"boolq-deberta\",\n",
    "        description=\"Question answering on BoolQ with DeBERTa\",\n",
    "        author=\"TwoSix\",\n",
    "    )\n",
    "\n",
    "    # Model\n",
    "    with evaluation.autotrack():\n",
    "        model = load_model()\n",
    "    evaluation.use_model(model)\n",
    "\n",
    "    # Dataset\n",
    "    with evaluation.autotrack():\n",
    "        dataset = load_dataset(batch_size, shuffle=True, seed=None)\n",
    "    evaluation.use_dataset(dataset)\n",
    "\n",
    "    # Metrics/Exporters\n",
    "    evaluation.use_metrics(create_metrics())\n",
    "\n",
    "    # Chains\n",
    "    with evaluation.add_chain(\"benign\"):\n",
    "        pass\n",
    "    with evaluation.add_chain(\"pgd\") as chain:\n",
    "        chain.add_perturbation(create_attack(model, num_iters=attack_iters))\n",
    "\n",
    "\n",
    "    engine = armory.engine.EvaluationEngine(\n",
    "        evaluation,\n",
    "        profiler=profiler,\n",
    "        limit_test_batches=num_batches,\n",
    "    )\n",
    "    results = engine.run()\n",
    "\n",
    "    if results:\n",
    "        for chain_name, chain_results in results.children.items():\n",
    "            chain_results.metrics.table(title=f\"{chain_name} Metrics\")\n"
   ]
  },
  {
   "cell_type": "markdown",
   "metadata": {},
   "source": [
    "### And now, our feature presentation...\n",
    "\n",
    "Let's run the evaluation on 50 samples with 25 attack iterations:"
   ]
  },
  {
   "cell_type": "code",
   "execution_count": null,
   "metadata": {},
   "outputs": [],
   "source": [
    "batch_size = 1  # RelaxedPGD currently requires this to be 1\n",
    "num_batches = 50\n",
    "attack_iters = 25\n",
    "\n",
    "\n",
    "\n",
    "eval(batch_size, num_batches, attack_iters)"
   ]
  },
  {
   "cell_type": "markdown",
   "metadata": {},
   "source": [
    "In case you don't want to scroll through the previous cell's output, here is the result of one run:\n",
    "\n",
    "##### Accuracy\n",
    "| Benign | Attacked | \n",
    "| ------ | -------- |\n",
    "| 0.6    | 0.3      |\n"
   ]
  },
  {
   "cell_type": "code",
   "execution_count": null,
   "metadata": {},
   "outputs": [],
   "source": []
  }
 ],
 "metadata": {
  "kernelspec": {
   "display_name": "armory-litgpt",
   "language": "python",
   "name": "python3"
  },
  "language_info": {
   "codemirror_mode": {
    "name": "ipython",
    "version": 3
   },
   "file_extension": ".py",
   "mimetype": "text/x-python",
   "name": "python",
   "nbconvert_exporter": "python",
   "pygments_lexer": "ipython3",
   "version": "3.10.15"
  }
 },
 "nbformat": 4,
 "nbformat_minor": 2
}
