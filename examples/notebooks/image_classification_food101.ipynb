{
 "cells": [
  {
   "cell_type": "markdown",
   "metadata": {},
   "source": [
    "# Setup\n",
    "\n",
    "Perform all necessary imports up front"
   ]
  },
  {
   "cell_type": "code",
   "execution_count": null,
   "metadata": {},
   "outputs": [],
   "source": [
    "# Python standard imports\n",
    "from pprint import pprint\n",
    "\n",
    "# armory-library imports\n",
    "import armory.engine\n",
    "import armory.tasks.image_classification\n",
    "import armory.evaluation\n",
    "\n",
    "# armory-examples imports\n",
    "import armory.examples.image_classification.food101 as food101"
   ]
  },
  {
   "cell_type": "markdown",
   "metadata": {},
   "source": [
    "# Define the Evaluation\n",
    "\n",
    "## Model\n",
    "\n",
    "From our `food101` example, we will load a model from HuggingFace that has\n",
    "already been fine-tuned on the food-101 dataset. We also wrap this model in an\n",
    "Adversarial Robustness Toolbox (ART) estimator so that we can use an ART attack\n",
    "against the model."
   ]
  },
  {
   "cell_type": "code",
   "execution_count": null,
   "metadata": {},
   "outputs": [],
   "source": [
    "model, art_estimator = food101.load_model()"
   ]
  },
  {
   "cell_type": "markdown",
   "metadata": {},
   "source": [
    "## Dataset\n",
    "\n",
    "From our `food101` example, we will load the food-101 dataset from HuggingFace."
   ]
  },
  {
   "cell_type": "code",
   "execution_count": null,
   "metadata": {},
   "outputs": [],
   "source": [
    "dataset = food101.load_huggingface_dataset(batch_size=2)"
   ]
  },
  {
   "cell_type": "markdown",
   "metadata": {},
   "source": [
    "## Attack\n",
    "\n",
    "From our `food101` example, we create a Projected Gradient Descent (PGD) attack\n",
    "using the Adversarial Robustness Toolbox (ART)."
   ]
  },
  {
   "cell_type": "code",
   "execution_count": null,
   "metadata": {},
   "outputs": [],
   "source": [
    "attack = food101.create_attack(art_estimator)"
   ]
  },
  {
   "cell_type": "markdown",
   "metadata": {},
   "source": [
    "## Metrics\n",
    "\n",
    "From our `food101` example, we create the metrics to be collected during the\n",
    "evaluation. These include an L-infinity norm distance between unperturbed and\n",
    "perturbed input, and a categorical accuracy between the natural labels and the\n",
    "predicted labels."
   ]
  },
  {
   "cell_type": "code",
   "execution_count": null,
   "metadata": {},
   "outputs": [],
   "source": [
    "metric = food101.create_metric()"
   ]
  },
  {
   "cell_type": "markdown",
   "metadata": {},
   "source": [
    "# Evaluation\n",
    "\n",
    "We combine the model, dataset, attack, and metrics to fully define our\n",
    "evaluation.\n",
    "\n",
    "We will define two perturbation chains: `benign` and `attack`. The benign chain\n",
    "does not apply any perturbations to the data, giving us the intrinsic\n",
    "performance of the model. The attack chain will give us the performance of the\n",
    "model under adversarial attack."
   ]
  },
  {
   "cell_type": "code",
   "execution_count": null,
   "metadata": {},
   "outputs": [],
   "source": [
    "evaluation = armory.evaluation.Evaluation(\n",
    "    name=\"image-classification-food101\",\n",
    "    description=\"Image classification of food-101\",\n",
    "    author=\"TwoSix\",\n",
    "    dataset=dataset,\n",
    "    model=model,\n",
    "    perturbations={\n",
    "        \"benign\": [],\n",
    "        \"attack\": [attack],\n",
    "    },\n",
    "    metric=metric,\n",
    ")"
   ]
  },
  {
   "cell_type": "markdown",
   "metadata": {},
   "source": [
    "# Execute the Evaluation\n",
    "\n",
    "We create an evaluation engine which will handle the application of all\n",
    "perturbations, obtaining predictions from the model, collecting metrics, and\n",
    "exporting of samples."
   ]
  },
  {
   "cell_type": "code",
   "execution_count": null,
   "metadata": {},
   "outputs": [],
   "source": [
    "task = armory.tasks.image_classification.ImageClassificationTask(\n",
    "    evaluation, export_every_n_batches=1\n",
    ")\n",
    "engine = armory.engine.EvaluationEngine(task, limit_test_batches=2)\n",
    "results = engine.run()"
   ]
  },
  {
   "cell_type": "code",
   "execution_count": 12,
   "metadata": {},
   "outputs": [
    {
     "name": "stdout",
     "output_type": "stream",
     "text": [
      "{'compute': {'Avg. CPU time (s) for 4 executions of attack/perturbation': 4.5436018107502605,\n",
      "             'Avg. CPU time (s) for 4 executions of attack/perturbation/PGD': 4.543588242249825,\n",
      "             'Avg. CPU time (s) for 4 executions of attack/predict': 0.07061068424809491,\n",
      "             'Avg. CPU time (s) for 4 executions of benign/perturbation': 1.361251634079963e-06,\n",
      "             'Avg. CPU time (s) for 4 executions of benign/predict': 0.1183262479971745},\n",
      " 'metrics': {'attack/accuracy': tensor(0.),\n",
      "             'attack/linf_norm': tensor(0.0310),\n",
      "             'benign/accuracy': tensor(1.),\n",
      "             'benign/linf_norm': tensor(0.)}}\n"
     ]
    }
   ],
   "source": [
    "pprint(results)"
   ]
  }
 ],
 "metadata": {
  "kernelspec": {
   "display_name": ".venv-3.11",
   "language": "python",
   "name": "python3"
  },
  "language_info": {
   "codemirror_mode": {
    "name": "ipython",
    "version": 3
   },
   "file_extension": ".py",
   "mimetype": "text/x-python",
   "name": "python",
   "nbconvert_exporter": "python",
   "pygments_lexer": "ipython3",
   "version": "3.11.7"
  }
 },
 "nbformat": 4,
 "nbformat_minor": 2
}
