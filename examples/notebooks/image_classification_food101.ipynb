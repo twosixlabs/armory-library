{
 "cells": [
  {
   "cell_type": "markdown",
   "metadata": {},
   "source": [
    "# Setup\n",
    "\n",
    "Perform all necessary imports up front"
   ]
  },
  {
   "cell_type": "code",
   "execution_count": null,
   "metadata": {},
   "outputs": [],
   "source": [
    "!pip install --quiet --quiet armory-library armory-examples[huggingface]"
   ]
  },
  {
   "cell_type": "code",
   "execution_count": null,
   "metadata": {},
   "outputs": [],
   "source": [
    "# Python standard imports\n",
    "from pprint import pprint\n",
    "\n",
    "# armory-library imports\n",
    "import armory.engine\n",
    "import armory.evaluation\n",
    "import armory.utils\n",
    "\n",
    "# armory-examples imports\n",
    "import armory.examples.image_classification.food101 as food101\n",
    "from armory.examples.utils.display import display_image_classification_results"
   ]
  },
  {
   "cell_type": "markdown",
   "metadata": {},
   "source": [
    "# Define the Evaluation"
   ]
  },
  {
   "cell_type": "code",
   "execution_count": null,
   "metadata": {},
   "outputs": [],
   "source": [
    "evaluation = armory.evaluation.Evaluation(\n",
    "    name=\"image-classification-food101\",\n",
    "    description=\"Image classification of food-101\",\n",
    "    author=\"TwoSix\",\n",
    ")"
   ]
  },
  {
   "cell_type": "markdown",
   "metadata": {},
   "source": [
    "## Model\n",
    "\n",
    "From our `food101` example, we will load a model from HuggingFace that has\n",
    "already been fine-tuned on the food-101 dataset. We also wrap this model in an\n",
    "Adversarial Robustness Toolbox (ART) estimator so that we can use an ART attack\n",
    "against the model."
   ]
  },
  {
   "cell_type": "code",
   "execution_count": null,
   "metadata": {},
   "outputs": [],
   "source": [
    "with evaluation.autotrack():\n",
    "    model, art_estimator = food101.load_model()\n",
    "evaluation.use_model(model)"
   ]
  },
  {
   "cell_type": "markdown",
   "metadata": {},
   "source": [
    "## Dataset\n",
    "\n",
    "From our `food101` example, we will load the food-101 dataset from HuggingFace.\n",
    "\n",
    "In order to get a variety of classes in this demonstration, we're shuffling the\n",
    "dataset with a fixed seed."
   ]
  },
  {
   "cell_type": "code",
   "execution_count": null,
   "metadata": {},
   "outputs": [],
   "source": [
    "with evaluation.autotrack():\n",
    "    dataset, labels = food101.load_huggingface_dataset(batch_size=2, shuffle=True, seed=8675309)\n",
    "evaluation.use_dataset(dataset)"
   ]
  },
  {
   "cell_type": "markdown",
   "metadata": {},
   "source": [
    "## Attack\n",
    "\n",
    "From our `food101` example, we create a Projected Gradient Descent (PGD) attack\n",
    "using the Adversarial Robustness Toolbox (ART)."
   ]
  },
  {
   "cell_type": "code",
   "execution_count": null,
   "metadata": {},
   "outputs": [],
   "source": [
    "with evaluation.autotrack():\n",
    "    attack = food101.create_pgd_attack(art_estimator)"
   ]
  },
  {
   "cell_type": "markdown",
   "metadata": {},
   "source": [
    "## Metrics\n",
    "\n",
    "From our `food101` example, we create the metrics to be collected during the\n",
    "evaluation. These include an L-infinity norm distance between unperturbed and\n",
    "perturbed input, and a categorical accuracy between the natural labels and the\n",
    "predicted labels."
   ]
  },
  {
   "cell_type": "code",
   "execution_count": null,
   "metadata": {},
   "outputs": [],
   "source": [
    "evaluation.use_metrics(\n",
    "    food101.create_metrics()\n",
    ")"
   ]
  },
  {
   "cell_type": "markdown",
   "metadata": {},
   "source": [
    "## Exporters\n",
    "\n",
    "From our `food101` example, we create the exporters used to record sample images\n",
    "during the evaluation."
   ]
  },
  {
   "cell_type": "code",
   "execution_count": null,
   "metadata": {},
   "outputs": [],
   "source": [
    "evaluation.use_exporters(\n",
    "    food101.create_exporters(model, export_every_n_batches=1)\n",
    ")"
   ]
  },
  {
   "cell_type": "markdown",
   "metadata": {},
   "source": [
    "## Evaluation Chains\n",
    "\n",
    "We will define two perturbation chains: `benign` and `attack`. The benign chain\n",
    "does not apply any perturbations to the data, giving us the intrinsic\n",
    "performance of the model. The attack chain will give us the performance of the\n",
    "model under adversarial attack."
   ]
  },
  {
   "cell_type": "code",
   "execution_count": null,
   "metadata": {},
   "outputs": [],
   "source": [
    "with evaluation.add_chain(\"benign\"):\n",
    "    pass\n",
    "\n",
    "with evaluation.add_chain(\"attack\") as chain:\n",
    "    chain.add_perturbation(attack)"
   ]
  },
  {
   "cell_type": "markdown",
   "metadata": {},
   "source": [
    "# Execute the Evaluation\n",
    "\n",
    "We create an evaluation engine which will handle the application of all\n",
    "perturbations, obtaining predictions from the model, collecting metrics, and\n",
    "exporting of samples."
   ]
  },
  {
   "cell_type": "code",
   "execution_count": null,
   "metadata": {},
   "outputs": [],
   "source": [
    "engine = armory.engine.EvaluationEngine(\n",
    "    evaluation,\n",
    "    limit_test_batches=2,\n",
    ")\n",
    "results = engine.run()"
   ]
  },
  {
   "cell_type": "code",
   "execution_count": null,
   "metadata": {
    "tags": [
     "keep_output"
    ]
   },
   "outputs": [],
   "source": [
    "pprint(results)"
   ]
  },
  {
   "cell_type": "code",
   "execution_count": null,
   "metadata": {
    "tags": [
     "keep_output"
    ]
   },
   "outputs": [],
   "source": [
    "display_image_classification_results(\n",
    "    chains={name: res[\"run_id\"] for name, res in results.items()},\n",
    "    batch_idx=0,\n",
    "    batch_size=2,\n",
    "    labels=labels,\n",
    ")"
   ]
  },
  {
   "cell_type": "code",
   "execution_count": null,
   "metadata": {
    "tags": [
     "keep_output"
    ]
   },
   "outputs": [],
   "source": [
    "display_image_classification_results(\n",
    "    chains={name: res[\"run_id\"] for name, res in results.items()},\n",
    "    batch_idx=1,\n",
    "    batch_size=2,\n",
    "    labels=labels,\n",
    ")"
   ]
  },
  {
   "cell_type": "markdown",
   "metadata": {},
   "source": [
    "# Additional Code\n",
    "\n",
    "In order to make this notebook concise some helper functions have been imported\n",
    "from [armory.examples.image_classification.food101](https://github.com/twosixlabs/armory-library/blob/master/examples/src/armory/examples/image_classification/food101.py)\n"
   ]
  }
 ],
 "metadata": {
  "kernelspec": {
   "display_name": ".venv-3.11",
   "language": "python",
   "name": "python3"
  },
  "language_info": {
   "codemirror_mode": {
    "name": "ipython",
    "version": 3
   },
   "file_extension": ".py",
   "mimetype": "text/x-python",
   "name": "python",
   "nbconvert_exporter": "python",
   "pygments_lexer": "ipython3",
   "version": "3.11.9"
  }
 },
 "nbformat": 4,
 "nbformat_minor": 2
}
