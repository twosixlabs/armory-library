{
    "cells": [
        {
            "attachments": {},
            "cell_type": "markdown",
            "metadata": {},
            "source": [
                "# Armory Evaluation Declarations, Composition, and Modification\n",
                "\n",
                "There are data declarations in charmory.blocks that recapitulate standard evaluations\n",
                "from the armory package. "
            ]
        },
        {
            "cell_type": "code",
            "execution_count": 1,
            "metadata": {},
            "outputs": [
                {
                    "name": "stderr",
                    "output_type": "stream",
                    "text": [
                        "/home/msw/.virtualenvs/cdao/lib/python3.10/site-packages/tqdm/auto.py:21: TqdmWarning: IProgress not found. Please update jupyter and ipywidgets. See https://ipywidgets.readthedocs.io/en/stable/user_install.html\n",
                        "  from .autonotebook import tqdm as notebook_tqdm\n"
                    ]
                }
            ],
            "source": [
                "import charmory.blocks.cifar10\n",
                "\n",
                "baseline = charmory.blocks.cifar10.baseline"
            ]
        },
        {
            "attachments": {},
            "cell_type": "markdown",
            "metadata": {},
            "source": [
                "The `baseline` evaluation is a composite dataclass with some metadata fields\n",
                "describing the evaluation:"
            ]
        },
        {
            "cell_type": "code",
            "execution_count": 15,
            "metadata": {},
            "outputs": [
                {
                    "name": "stdout",
                    "output_type": "stream",
                    "text": [
                        "type(baseline)=<class 'charmory.evaluation.Evaluation'>\n",
                        "baseline.name='cifar_baseline'\n",
                        "baseline.description='Baseline cifar10 image classification'\n",
                        "baseline.author='msw@example.com'\n"
                    ]
                }
            ],
            "source": [
                "from pprint import pprint\n",
                "pprint(f\"{type(baseline)=}\")\n",
                "pprint(f\"{baseline.name=}\\n{baseline.description=}\\n{baseline.author=}\")"
            ]
        },
        {
            "attachments": {},
            "cell_type": "markdown",
            "metadata": {},
            "source": [
                "The charmory `Evaluation` class was called \"Experiment\" in prior versions of the\n",
                "JATIC Armory library, but was renamed to avoid confusion with the MLflow conception\n",
                "of Experiment, which is a collection of runs.\n",
                "\n",
                "Along with the metadata, an `Evaluation` contains some required components. The\n",
                "`dataset` is a `Dataset` object, which specifies an Armory dataset and a pair\n",
                "of necessary parameters:"
            ]
        },
        {
            "cell_type": "code",
            "execution_count": 14,
            "metadata": {},
            "outputs": [
                {
                    "name": "stdout",
                    "output_type": "stream",
                    "text": [
                        "('baseline.dataset=Dataset(function=<function cifar10 at 0x7f8a49d153f0>, '\n",
                        " \"framework='numpy', batch_size=64)\")\n"
                    ]
                }
            ],
            "source": [
                "pprint(f\"{baseline.dataset=}\")"
            ]
        },
        {
            "attachments": {},
            "cell_type": "markdown",
            "metadata": {},
            "source": [
                " \n",
                "the `function` parameter is shown first while details come afterwards; this allows quick\n",
                "visibility of \"this is a cifar10 dataset\" from the `__str__` representation of the\n",
                "object. An `Evaluation` also requires a `Model` and `Scenario`"
            ]
        },
        {
            "cell_type": "code",
            "execution_count": 16,
            "metadata": {},
            "outputs": [
                {
                    "name": "stdout",
                    "output_type": "stream",
                    "text": [
                        "('baseline.model=Model(function=<function get_art_model at 0x7f8abb59b880>, '\n",
                        " 'model_kwargs={}, wrapper_kwargs={}, weights_file=None, fit=True, '\n",
                        " \"fit_kwargs={'nb_epochs': 20})\")\n",
                        "('baseline.scenario=Scenario(function=<class '\n",
                        " \"'armory.scenarios.image_classification.ImageClassificationTask'>, kwargs={})\")\n"
                    ]
                }
            ],
            "source": [
                "pprint(f\"{baseline.model=}\")\n",
                "pprint(f\"{baseline.scenario=}\")"
            ]
        },
        {
            "attachments": {},
            "cell_type": "markdown",
            "metadata": {},
            "source": [
                "Here we are using a prefab ART model and the standard Armory Image Classification Task\n",
                "scenario.\n",
                "\n",
                "Because this is a \"baseline\" evaluation, it includes no defense, but does use a PGD\n",
                "attack to calculate adversarial results.\n",
                "\n",
                "The optional `Metric` field tells Armory that we want to record additional metrics for\n",
                "this evaluation. In this case, we are interested in the accuracy of the model on\n",
                "adversarial examples."
            ]
        },
        {
            "cell_type": "code",
            "execution_count": 17,
            "metadata": {},
            "outputs": [
                {
                    "name": "stdout",
                    "output_type": "stream",
                    "text": [
                        "('baseline.attack=Attack(function=<class '\n",
                        " \"'art.attacks.evasion.projected_gradient_descent.projected_gradient_descent.ProjectedGradientDescent'>, \"\n",
                        " \"kwargs={'batch_size': 1, 'eps': 0.031, 'eps_step': 0.007, 'max_iter': 20, \"\n",
                        " \"'num_random_init': 1, 'random_eps': False, 'targeted': False, 'verbose': \"\n",
                        " \"False}, knowledge='white', use_label=True, type=None)\")\n",
                        "'baseline.defense=None'\n",
                        "(\"baseline.metric=Metric(profiler_type='basic', \"\n",
                        " \"supported_metrics=['accuracy'], perturbation=['linf'], \"\n",
                        " \"task=['categorical_accuracy'], means=True, record_metric_per_sample=False)\")\n"
                    ]
                }
            ],
            "source": [
                "pprint(f\"{baseline.attack=}\")\n",
                "pprint(f\"{baseline.defense=}\")\n",
                "pprint(f\"{baseline.metric=}\")"
            ]
        },
        {
            "attachments": {},
            "cell_type": "markdown",
            "metadata": {},
            "source": [
                "The `charmory.blocks` module is intended as a convenient parts cabinet that allows\n",
                "users to quickly assemble evaluations using standard components. They behave as standard\n",
                "Python objects, so you can alter the canned definitions:"
            ]
        },
        {
            "cell_type": "code",
            "execution_count": 6,
            "metadata": {},
            "outputs": [],
            "source": [
                "baseline.metric = None"
            ]
        },
        {
            "attachments": {},
            "cell_type": "markdown",
            "metadata": {},
            "source": [
                "If you'd prefer to not have additional tracking. Also, the sub-components of an evaluation\n",
                "are themselves objects, to be composed at user discretion:"
            ]
        },
        {
            "cell_type": "code",
            "execution_count": 7,
            "metadata": {},
            "outputs": [
                {
                    "name": "stdout",
                    "output_type": "stream",
                    "text": [
                        "charmory.blocks.cifar10.metric=Metric(profiler_type='basic', supported_metrics=['accuracy'], perturbation=['linf'], task=['categorical_accuracy'], means=True, record_metric_per_sample=False)\n"
                    ]
                }
            ],
            "source": [
                "print(f\"{charmory.blocks.cifar10.metric=}\")\n",
                "\n",
                "# let's put the metric back into baseline\n",
                "baseline.metric = charmory.blocks.cifar10.metric"
            ]
        },
        {
            "attachments": {},
            "cell_type": "markdown",
            "metadata": {},
            "source": [
                "Instantiation of the `Engine` class using the `Evaluation` object in `baseline` is\n",
                "straightforward:"
            ]
        },
        {
            "cell_type": "code",
            "execution_count": 8,
            "metadata": {},
            "outputs": [
                {
                    "name": "stdout",
                    "output_type": "stream",
                    "text": [
                        "2023-06-26 14:33:16  3s \u001b[1mINFO    \u001b[0m \u001b[36mart.estimators.classification.pytorch\u001b[0m:\u001b[36mget_layers\u001b[0m:\u001b[36m1196\u001b[0m Inferred 4 hidden layers on PyTorch classifier.\n",
                        "Reading armory config file\n",
                        "Reading armory config file\n"
                    ]
                },
                {
                    "name": "stderr",
                    "output_type": "stream",
                    "text": [
                        "Epoch 1/20: 100%|██████████| 781/781 [00:03<00:00, 201.28it/s]\n",
                        "Epoch 2/20: 100%|██████████| 781/781 [00:02<00:00, 306.71it/s]\n",
                        "Epoch 3/20: 100%|██████████| 781/781 [00:02<00:00, 302.47it/s]\n",
                        "Epoch 4/20: 100%|██████████| 781/781 [00:02<00:00, 293.23it/s]\n",
                        "Epoch 5/20: 100%|██████████| 781/781 [00:02<00:00, 306.11it/s]\n",
                        "Epoch 6/20: 100%|██████████| 781/781 [00:02<00:00, 312.65it/s]\n",
                        "Epoch 7/20: 100%|██████████| 781/781 [00:02<00:00, 317.86it/s]\n",
                        "Epoch 8/20: 100%|██████████| 781/781 [00:02<00:00, 315.54it/s]\n",
                        "Epoch 9/20: 100%|██████████| 781/781 [00:02<00:00, 305.69it/s]\n",
                        "Epoch 10/20: 100%|██████████| 781/781 [00:02<00:00, 296.02it/s]\n",
                        "Epoch 11/20: 100%|██████████| 781/781 [00:02<00:00, 314.99it/s]\n",
                        "Epoch 12/20: 100%|██████████| 781/781 [00:02<00:00, 289.06it/s]\n",
                        "Epoch 13/20: 100%|██████████| 781/781 [00:02<00:00, 314.15it/s]\n",
                        "Epoch 14/20: 100%|██████████| 781/781 [00:02<00:00, 332.24it/s]\n",
                        "Epoch 15/20: 100%|██████████| 781/781 [00:02<00:00, 323.28it/s]\n",
                        "Epoch 16/20: 100%|██████████| 781/781 [00:02<00:00, 317.73it/s]\n",
                        "Epoch 17/20: 100%|██████████| 781/781 [00:02<00:00, 340.50it/s]\n",
                        "Epoch 18/20: 100%|██████████| 781/781 [00:02<00:00, 343.81it/s]\n",
                        "Epoch 19/20: 100%|██████████| 781/781 [00:02<00:00, 307.04it/s]\n",
                        "Epoch 20/20: 100%|██████████| 781/781 [00:02<00:00, 328.25it/s]"
                    ]
                },
                {
                    "name": "stdout",
                    "output_type": "stream",
                    "text": [
                        "Reading armory config file\n"
                    ]
                },
                {
                    "name": "stderr",
                    "output_type": "stream",
                    "text": [
                        "\n"
                    ]
                }
            ],
            "source": [
                "import charmory.engine\n",
                "engine = charmory.engine.Engine(baseline)"
            ]
        },
        {
            "cell_type": "code",
            "execution_count": 9,
            "metadata": {},
            "outputs": [
                {
                    "name": "stderr",
                    "output_type": "stream",
                    "text": [
                        "Evaluation:   0%|          | 0/157 [00:00<?, ?it/s]"
                    ]
                },
                {
                    "name": "stdout",
                    "output_type": "stream",
                    "text": [
                        "2023-06-26 14:34:07 54s \u001b[1mINFO    \u001b[0m \u001b[36mart.attacks.evasion.projected_gradient_descent.projected_gradient_descent\u001b[0m:\u001b[36mgenerate\u001b[0m:\u001b[36m199\u001b[0m Creating adversarial samples.\n",
                        "2023-06-26 14:34:10 57s \u001b[1mINFO    \u001b[0m \u001b[36mart.attacks.evasion.projected_gradient_descent.projected_gradient_descent_pytorch\u001b[0m:\u001b[36mgenerate\u001b[0m:\u001b[36m237\u001b[0m Success rate of attack: 70.31%\n"
                    ]
                },
                {
                    "name": "stderr",
                    "output_type": "stream",
                    "text": [
                        "Evaluation:   1%|          | 1/157 [00:03<08:15,  3.18s/it]"
                    ]
                },
                {
                    "name": "stdout",
                    "output_type": "stream",
                    "text": [
                        "2023-06-26 14:34:10 57s \u001b[1mINFO    \u001b[0m \u001b[36mart.attacks.evasion.projected_gradient_descent.projected_gradient_descent\u001b[0m:\u001b[36mgenerate\u001b[0m:\u001b[36m199\u001b[0m Creating adversarial samples.\n",
                        "2023-06-26 14:34:14  1m \u001b[1mINFO    \u001b[0m \u001b[36mart.attacks.evasion.projected_gradient_descent.projected_gradient_descent_pytorch\u001b[0m:\u001b[36mgenerate\u001b[0m:\u001b[36m237\u001b[0m Success rate of attack: 75.00%\n"
                    ]
                },
                {
                    "name": "stderr",
                    "output_type": "stream",
                    "text": [
                        "Evaluation:   1%|▏         | 2/157 [00:06<08:28,  3.28s/it]"
                    ]
                },
                {
                    "name": "stdout",
                    "output_type": "stream",
                    "text": [
                        "2023-06-26 14:34:14  1m \u001b[1mINFO    \u001b[0m \u001b[36mart.attacks.evasion.projected_gradient_descent.projected_gradient_descent\u001b[0m:\u001b[36mgenerate\u001b[0m:\u001b[36m199\u001b[0m Creating adversarial samples.\n",
                        "2023-06-26 14:34:17 1m4s \u001b[1mINFO    \u001b[0m \u001b[36mart.attacks.evasion.projected_gradient_descent.projected_gradient_descent_pytorch\u001b[0m:\u001b[36mgenerate\u001b[0m:\u001b[36m237\u001b[0m Success rate of attack: 60.94%\n"
                    ]
                },
                {
                    "name": "stderr",
                    "output_type": "stream",
                    "text": [
                        "Evaluation:   2%|▏         | 3/157 [00:09<08:28,  3.30s/it]"
                    ]
                },
                {
                    "name": "stdout",
                    "output_type": "stream",
                    "text": [
                        "2023-06-26 14:34:17 1m4s \u001b[1mINFO    \u001b[0m \u001b[36mart.attacks.evasion.projected_gradient_descent.projected_gradient_descent\u001b[0m:\u001b[36mgenerate\u001b[0m:\u001b[36m199\u001b[0m Creating adversarial samples.\n",
                        "2023-06-26 14:34:20 1m7s \u001b[1mINFO    \u001b[0m \u001b[36mart.attacks.evasion.projected_gradient_descent.projected_gradient_descent_pytorch\u001b[0m:\u001b[36mgenerate\u001b[0m:\u001b[36m237\u001b[0m Success rate of attack: 70.31%\n"
                    ]
                },
                {
                    "name": "stderr",
                    "output_type": "stream",
                    "text": [
                        "Evaluation:   3%|▎         | 4/157 [00:13<08:24,  3.30s/it]"
                    ]
                },
                {
                    "name": "stdout",
                    "output_type": "stream",
                    "text": [
                        "2023-06-26 14:34:20 1m7s \u001b[1mINFO    \u001b[0m \u001b[36mart.attacks.evasion.projected_gradient_descent.projected_gradient_descent\u001b[0m:\u001b[36mgenerate\u001b[0m:\u001b[36m199\u001b[0m Creating adversarial samples.\n",
                        "2023-06-26 14:34:24 1m11s \u001b[1mINFO    \u001b[0m \u001b[36mart.attacks.evasion.projected_gradient_descent.projected_gradient_descent_pytorch\u001b[0m:\u001b[36mgenerate\u001b[0m:\u001b[36m237\u001b[0m Success rate of attack: 70.31%\n"
                    ]
                },
                {
                    "name": "stderr",
                    "output_type": "stream",
                    "text": [
                        "Evaluation:   3%|▎         | 5/157 [00:16<08:12,  3.24s/it]"
                    ]
                },
                {
                    "name": "stdout",
                    "output_type": "stream",
                    "text": [
                        "2023-06-26 14:34:24 1m11s \u001b[1mINFO    \u001b[0m \u001b[36mart.attacks.evasion.projected_gradient_descent.projected_gradient_descent\u001b[0m:\u001b[36mgenerate\u001b[0m:\u001b[36m199\u001b[0m Creating adversarial samples.\n",
                        "2023-06-26 14:34:27 1m14s \u001b[1mINFO    \u001b[0m \u001b[36mart.attacks.evasion.projected_gradient_descent.projected_gradient_descent_pytorch\u001b[0m:\u001b[36mgenerate\u001b[0m:\u001b[36m237\u001b[0m Success rate of attack: 78.12%\n"
                    ]
                },
                {
                    "name": "stderr",
                    "output_type": "stream",
                    "text": [
                        "Evaluation:   4%|▍         | 6/157 [00:19<08:20,  3.31s/it]"
                    ]
                },
                {
                    "name": "stdout",
                    "output_type": "stream",
                    "text": [
                        "2023-06-26 14:34:27 1m14s \u001b[1mINFO    \u001b[0m \u001b[36mart.attacks.evasion.projected_gradient_descent.projected_gradient_descent\u001b[0m:\u001b[36mgenerate\u001b[0m:\u001b[36m199\u001b[0m Creating adversarial samples.\n",
                        "2023-06-26 14:34:30 1m17s \u001b[1mINFO    \u001b[0m \u001b[36mart.attacks.evasion.projected_gradient_descent.projected_gradient_descent_pytorch\u001b[0m:\u001b[36mgenerate\u001b[0m:\u001b[36m237\u001b[0m Success rate of attack: 75.00%\n"
                    ]
                },
                {
                    "name": "stderr",
                    "output_type": "stream",
                    "text": [
                        "Evaluation:   4%|▍         | 7/157 [00:22<08:13,  3.29s/it]"
                    ]
                },
                {
                    "name": "stdout",
                    "output_type": "stream",
                    "text": [
                        "2023-06-26 14:34:30 1m17s \u001b[1mINFO    \u001b[0m \u001b[36mart.attacks.evasion.projected_gradient_descent.projected_gradient_descent\u001b[0m:\u001b[36mgenerate\u001b[0m:\u001b[36m199\u001b[0m Creating adversarial samples.\n",
                        "2023-06-26 14:34:33 1m20s \u001b[1mINFO    \u001b[0m \u001b[36mart.attacks.evasion.projected_gradient_descent.projected_gradient_descent_pytorch\u001b[0m:\u001b[36mgenerate\u001b[0m:\u001b[36m237\u001b[0m Success rate of attack: 64.06%\n"
                    ]
                },
                {
                    "name": "stderr",
                    "output_type": "stream",
                    "text": [
                        "Evaluation:   5%|▌         | 8/157 [00:26<08:06,  3.27s/it]"
                    ]
                },
                {
                    "name": "stdout",
                    "output_type": "stream",
                    "text": [
                        "2023-06-26 14:34:33 1m20s \u001b[1mINFO    \u001b[0m \u001b[36mart.attacks.evasion.projected_gradient_descent.projected_gradient_descent\u001b[0m:\u001b[36mgenerate\u001b[0m:\u001b[36m199\u001b[0m Creating adversarial samples.\n",
                        "2023-06-26 14:34:36 1m23s \u001b[1mINFO    \u001b[0m \u001b[36mart.attacks.evasion.projected_gradient_descent.projected_gradient_descent_pytorch\u001b[0m:\u001b[36mgenerate\u001b[0m:\u001b[36m237\u001b[0m Success rate of attack: 64.06%\n"
                    ]
                },
                {
                    "name": "stderr",
                    "output_type": "stream",
                    "text": [
                        "Evaluation:   6%|▌         | 9/157 [00:29<07:49,  3.17s/it]"
                    ]
                },
                {
                    "name": "stdout",
                    "output_type": "stream",
                    "text": [
                        "2023-06-26 14:34:36 1m23s \u001b[1mINFO    \u001b[0m \u001b[36mart.attacks.evasion.projected_gradient_descent.projected_gradient_descent\u001b[0m:\u001b[36mgenerate\u001b[0m:\u001b[36m199\u001b[0m Creating adversarial samples.\n",
                        "2023-06-26 14:34:39 1m26s \u001b[1mINFO    \u001b[0m \u001b[36mart.attacks.evasion.projected_gradient_descent.projected_gradient_descent_pytorch\u001b[0m:\u001b[36mgenerate\u001b[0m:\u001b[36m237\u001b[0m Success rate of attack: 78.12%\n"
                    ]
                },
                {
                    "name": "stderr",
                    "output_type": "stream",
                    "text": [
                        "Evaluation:   6%|▋         | 10/157 [00:32<07:39,  3.13s/it]"
                    ]
                },
                {
                    "name": "stdout",
                    "output_type": "stream",
                    "text": [
                        "2023-06-26 14:34:39 1m26s \u001b[1mINFO    \u001b[0m \u001b[36mart.attacks.evasion.projected_gradient_descent.projected_gradient_descent\u001b[0m:\u001b[36mgenerate\u001b[0m:\u001b[36m199\u001b[0m Creating adversarial samples.\n",
                        "2023-06-26 14:34:42 1m29s \u001b[1mINFO    \u001b[0m \u001b[36mart.attacks.evasion.projected_gradient_descent.projected_gradient_descent_pytorch\u001b[0m:\u001b[36mgenerate\u001b[0m:\u001b[36m237\u001b[0m Success rate of attack: 76.56%\n"
                    ]
                },
                {
                    "name": "stderr",
                    "output_type": "stream",
                    "text": [
                        "Evaluation:   7%|▋         | 11/157 [00:35<07:26,  3.06s/it]"
                    ]
                },
                {
                    "name": "stdout",
                    "output_type": "stream",
                    "text": [
                        "2023-06-26 14:34:42 1m29s \u001b[1mINFO    \u001b[0m \u001b[36mart.attacks.evasion.projected_gradient_descent.projected_gradient_descent\u001b[0m:\u001b[36mgenerate\u001b[0m:\u001b[36m199\u001b[0m Creating adversarial samples.\n",
                        "2023-06-26 14:34:45 1m32s \u001b[1mINFO    \u001b[0m \u001b[36mart.attacks.evasion.projected_gradient_descent.projected_gradient_descent_pytorch\u001b[0m:\u001b[36mgenerate\u001b[0m:\u001b[36m237\u001b[0m Success rate of attack: 75.00%\n"
                    ]
                },
                {
                    "name": "stderr",
                    "output_type": "stream",
                    "text": [
                        "Evaluation:   8%|▊         | 12/157 [00:38<07:16,  3.01s/it]"
                    ]
                },
                {
                    "name": "stdout",
                    "output_type": "stream",
                    "text": [
                        "2023-06-26 14:34:45 1m32s \u001b[1mINFO    \u001b[0m \u001b[36mart.attacks.evasion.projected_gradient_descent.projected_gradient_descent\u001b[0m:\u001b[36mgenerate\u001b[0m:\u001b[36m199\u001b[0m Creating adversarial samples.\n",
                        "2023-06-26 14:34:48 1m35s \u001b[1mINFO    \u001b[0m \u001b[36mart.attacks.evasion.projected_gradient_descent.projected_gradient_descent_pytorch\u001b[0m:\u001b[36mgenerate\u001b[0m:\u001b[36m237\u001b[0m Success rate of attack: 75.00%\n"
                    ]
                },
                {
                    "name": "stderr",
                    "output_type": "stream",
                    "text": [
                        "Evaluation:   8%|▊         | 13/157 [00:40<07:11,  3.00s/it]"
                    ]
                },
                {
                    "name": "stdout",
                    "output_type": "stream",
                    "text": [
                        "2023-06-26 14:34:48 1m35s \u001b[1mINFO    \u001b[0m \u001b[36mart.attacks.evasion.projected_gradient_descent.projected_gradient_descent\u001b[0m:\u001b[36mgenerate\u001b[0m:\u001b[36m199\u001b[0m Creating adversarial samples.\n",
                        "2023-06-26 14:34:51 1m38s \u001b[1mINFO    \u001b[0m \u001b[36mart.attacks.evasion.projected_gradient_descent.projected_gradient_descent_pytorch\u001b[0m:\u001b[36mgenerate\u001b[0m:\u001b[36m237\u001b[0m Success rate of attack: 60.94%\n"
                    ]
                },
                {
                    "name": "stderr",
                    "output_type": "stream",
                    "text": [
                        "Evaluation:   9%|▉         | 14/157 [00:44<07:11,  3.02s/it]"
                    ]
                },
                {
                    "name": "stdout",
                    "output_type": "stream",
                    "text": [
                        "2023-06-26 14:34:51 1m38s \u001b[1mINFO    \u001b[0m \u001b[36mart.attacks.evasion.projected_gradient_descent.projected_gradient_descent\u001b[0m:\u001b[36mgenerate\u001b[0m:\u001b[36m199\u001b[0m Creating adversarial samples.\n",
                        "2023-06-26 14:34:54 1m41s \u001b[1mINFO    \u001b[0m \u001b[36mart.attacks.evasion.projected_gradient_descent.projected_gradient_descent_pytorch\u001b[0m:\u001b[36mgenerate\u001b[0m:\u001b[36m237\u001b[0m Success rate of attack: 71.88%\n"
                    ]
                },
                {
                    "name": "stderr",
                    "output_type": "stream",
                    "text": [
                        "Evaluation:  10%|▉         | 15/157 [00:46<06:59,  2.95s/it]"
                    ]
                },
                {
                    "name": "stdout",
                    "output_type": "stream",
                    "text": [
                        "2023-06-26 14:34:54 1m41s \u001b[1mINFO    \u001b[0m \u001b[36mart.attacks.evasion.projected_gradient_descent.projected_gradient_descent\u001b[0m:\u001b[36mgenerate\u001b[0m:\u001b[36m199\u001b[0m Creating adversarial samples.\n",
                        "2023-06-26 14:34:57 1m44s \u001b[1mINFO    \u001b[0m \u001b[36mart.attacks.evasion.projected_gradient_descent.projected_gradient_descent_pytorch\u001b[0m:\u001b[36mgenerate\u001b[0m:\u001b[36m237\u001b[0m Success rate of attack: 73.44%\n"
                    ]
                },
                {
                    "name": "stderr",
                    "output_type": "stream",
                    "text": [
                        "Evaluation:  10%|█         | 16/157 [00:49<07:00,  2.98s/it]"
                    ]
                },
                {
                    "name": "stdout",
                    "output_type": "stream",
                    "text": [
                        "2023-06-26 14:34:57 1m44s \u001b[1mINFO    \u001b[0m \u001b[36mart.attacks.evasion.projected_gradient_descent.projected_gradient_descent\u001b[0m:\u001b[36mgenerate\u001b[0m:\u001b[36m199\u001b[0m Creating adversarial samples.\n",
                        "2023-06-26 14:35:00 1m47s \u001b[1mINFO    \u001b[0m \u001b[36mart.attacks.evasion.projected_gradient_descent.projected_gradient_descent_pytorch\u001b[0m:\u001b[36mgenerate\u001b[0m:\u001b[36m237\u001b[0m Success rate of attack: 65.62%\n"
                    ]
                },
                {
                    "name": "stderr",
                    "output_type": "stream",
                    "text": [
                        "Evaluation:  11%|█         | 17/157 [00:52<07:01,  3.01s/it]"
                    ]
                },
                {
                    "name": "stdout",
                    "output_type": "stream",
                    "text": [
                        "2023-06-26 14:35:00 1m47s \u001b[1mINFO    \u001b[0m \u001b[36mart.attacks.evasion.projected_gradient_descent.projected_gradient_descent\u001b[0m:\u001b[36mgenerate\u001b[0m:\u001b[36m199\u001b[0m Creating adversarial samples.\n",
                        "2023-06-26 14:35:03 1m50s \u001b[1mINFO    \u001b[0m \u001b[36mart.attacks.evasion.projected_gradient_descent.projected_gradient_descent_pytorch\u001b[0m:\u001b[36mgenerate\u001b[0m:\u001b[36m237\u001b[0m Success rate of attack: 71.88%\n"
                    ]
                },
                {
                    "name": "stderr",
                    "output_type": "stream",
                    "text": [
                        "Evaluation:  11%|█▏        | 18/157 [00:56<07:06,  3.07s/it]"
                    ]
                },
                {
                    "name": "stdout",
                    "output_type": "stream",
                    "text": [
                        "2023-06-26 14:35:03 1m50s \u001b[1mINFO    \u001b[0m \u001b[36mart.attacks.evasion.projected_gradient_descent.projected_gradient_descent\u001b[0m:\u001b[36mgenerate\u001b[0m:\u001b[36m199\u001b[0m Creating adversarial samples.\n",
                        "2023-06-26 14:35:07 1m54s \u001b[1mINFO    \u001b[0m \u001b[36mart.attacks.evasion.projected_gradient_descent.projected_gradient_descent_pytorch\u001b[0m:\u001b[36mgenerate\u001b[0m:\u001b[36m237\u001b[0m Success rate of attack: 59.38%\n"
                    ]
                },
                {
                    "name": "stderr",
                    "output_type": "stream",
                    "text": [
                        "Evaluation:  12%|█▏        | 19/157 [00:59<07:03,  3.07s/it]"
                    ]
                },
                {
                    "name": "stdout",
                    "output_type": "stream",
                    "text": [
                        "2023-06-26 14:35:07 1m54s \u001b[1mINFO    \u001b[0m \u001b[36mart.attacks.evasion.projected_gradient_descent.projected_gradient_descent\u001b[0m:\u001b[36mgenerate\u001b[0m:\u001b[36m199\u001b[0m Creating adversarial samples.\n",
                        "2023-06-26 14:35:10 1m57s \u001b[1mINFO    \u001b[0m \u001b[36mart.attacks.evasion.projected_gradient_descent.projected_gradient_descent_pytorch\u001b[0m:\u001b[36mgenerate\u001b[0m:\u001b[36m237\u001b[0m Success rate of attack: 75.00%\n"
                    ]
                },
                {
                    "name": "stderr",
                    "output_type": "stream",
                    "text": [
                        "Evaluation:  13%|█▎        | 20/157 [01:02<07:03,  3.09s/it]"
                    ]
                },
                {
                    "name": "stdout",
                    "output_type": "stream",
                    "text": [
                        "2023-06-26 14:35:10 1m57s \u001b[1mINFO    \u001b[0m \u001b[36mart.attacks.evasion.projected_gradient_descent.projected_gradient_descent\u001b[0m:\u001b[36mgenerate\u001b[0m:\u001b[36m199\u001b[0m Creating adversarial samples.\n",
                        "2023-06-26 14:35:13  2m \u001b[1mINFO    \u001b[0m \u001b[36mart.attacks.evasion.projected_gradient_descent.projected_gradient_descent_pytorch\u001b[0m:\u001b[36mgenerate\u001b[0m:\u001b[36m237\u001b[0m Success rate of attack: 79.69%\n"
                    ]
                },
                {
                    "name": "stderr",
                    "output_type": "stream",
                    "text": [
                        "Evaluation:  13%|█▎        | 21/157 [01:06<07:22,  3.26s/it]"
                    ]
                },
                {
                    "name": "stdout",
                    "output_type": "stream",
                    "text": [
                        "2023-06-26 14:35:13  2m \u001b[1mINFO    \u001b[0m \u001b[36mart.attacks.evasion.projected_gradient_descent.projected_gradient_descent\u001b[0m:\u001b[36mgenerate\u001b[0m:\u001b[36m199\u001b[0m Creating adversarial samples.\n",
                        "2023-06-26 14:35:16 2m3s \u001b[1mINFO    \u001b[0m \u001b[36mart.attacks.evasion.projected_gradient_descent.projected_gradient_descent_pytorch\u001b[0m:\u001b[36mgenerate\u001b[0m:\u001b[36m237\u001b[0m Success rate of attack: 71.88%\n"
                    ]
                },
                {
                    "name": "stderr",
                    "output_type": "stream",
                    "text": [
                        "Evaluation:  14%|█▍        | 22/157 [01:09<07:09,  3.18s/it]"
                    ]
                },
                {
                    "name": "stdout",
                    "output_type": "stream",
                    "text": [
                        "2023-06-26 14:35:16 2m3s \u001b[1mINFO    \u001b[0m \u001b[36mart.attacks.evasion.projected_gradient_descent.projected_gradient_descent\u001b[0m:\u001b[36mgenerate\u001b[0m:\u001b[36m199\u001b[0m Creating adversarial samples.\n",
                        "2023-06-26 14:35:19 2m6s \u001b[1mINFO    \u001b[0m \u001b[36mart.attacks.evasion.projected_gradient_descent.projected_gradient_descent_pytorch\u001b[0m:\u001b[36mgenerate\u001b[0m:\u001b[36m237\u001b[0m Success rate of attack: 62.50%\n"
                    ]
                },
                {
                    "name": "stderr",
                    "output_type": "stream",
                    "text": [
                        "Evaluation:  15%|█▍        | 23/157 [01:12<07:03,  3.16s/it]"
                    ]
                },
                {
                    "name": "stdout",
                    "output_type": "stream",
                    "text": [
                        "2023-06-26 14:35:19 2m6s \u001b[1mINFO    \u001b[0m \u001b[36mart.attacks.evasion.projected_gradient_descent.projected_gradient_descent\u001b[0m:\u001b[36mgenerate\u001b[0m:\u001b[36m199\u001b[0m Creating adversarial samples.\n",
                        "2023-06-26 14:35:23 2m10s \u001b[1mINFO    \u001b[0m \u001b[36mart.attacks.evasion.projected_gradient_descent.projected_gradient_descent_pytorch\u001b[0m:\u001b[36mgenerate\u001b[0m:\u001b[36m237\u001b[0m Success rate of attack: 79.69%\n"
                    ]
                },
                {
                    "name": "stderr",
                    "output_type": "stream",
                    "text": [
                        "Evaluation:  15%|█▌        | 24/157 [01:15<07:03,  3.18s/it]"
                    ]
                },
                {
                    "name": "stdout",
                    "output_type": "stream",
                    "text": [
                        "2023-06-26 14:35:23 2m10s \u001b[1mINFO    \u001b[0m \u001b[36mart.attacks.evasion.projected_gradient_descent.projected_gradient_descent\u001b[0m:\u001b[36mgenerate\u001b[0m:\u001b[36m199\u001b[0m Creating adversarial samples.\n",
                        "2023-06-26 14:35:26 2m13s \u001b[1mINFO    \u001b[0m \u001b[36mart.attacks.evasion.projected_gradient_descent.projected_gradient_descent_pytorch\u001b[0m:\u001b[36mgenerate\u001b[0m:\u001b[36m237\u001b[0m Success rate of attack: 70.31%\n"
                    ]
                },
                {
                    "name": "stderr",
                    "output_type": "stream",
                    "text": [
                        "Evaluation:  16%|█▌        | 25/157 [01:18<07:16,  3.31s/it]"
                    ]
                },
                {
                    "name": "stdout",
                    "output_type": "stream",
                    "text": [
                        "2023-06-26 14:35:26 2m13s \u001b[1mINFO    \u001b[0m \u001b[36mart.attacks.evasion.projected_gradient_descent.projected_gradient_descent\u001b[0m:\u001b[36mgenerate\u001b[0m:\u001b[36m199\u001b[0m Creating adversarial samples.\n",
                        "2023-06-26 14:35:30 2m17s \u001b[1mINFO    \u001b[0m \u001b[36mart.attacks.evasion.projected_gradient_descent.projected_gradient_descent_pytorch\u001b[0m:\u001b[36mgenerate\u001b[0m:\u001b[36m237\u001b[0m Success rate of attack: 75.00%\n"
                    ]
                },
                {
                    "name": "stderr",
                    "output_type": "stream",
                    "text": [
                        "Evaluation:  17%|█▋        | 26/157 [01:22<07:24,  3.40s/it]"
                    ]
                },
                {
                    "name": "stdout",
                    "output_type": "stream",
                    "text": [
                        "2023-06-26 14:35:30 2m17s \u001b[1mINFO    \u001b[0m \u001b[36mart.attacks.evasion.projected_gradient_descent.projected_gradient_descent\u001b[0m:\u001b[36mgenerate\u001b[0m:\u001b[36m199\u001b[0m Creating adversarial samples.\n",
                        "2023-06-26 14:35:33 2m20s \u001b[1mINFO    \u001b[0m \u001b[36mart.attacks.evasion.projected_gradient_descent.projected_gradient_descent_pytorch\u001b[0m:\u001b[36mgenerate\u001b[0m:\u001b[36m237\u001b[0m Success rate of attack: 68.75%\n"
                    ]
                },
                {
                    "name": "stderr",
                    "output_type": "stream",
                    "text": [
                        "Evaluation:  17%|█▋        | 27/157 [01:26<07:30,  3.46s/it]"
                    ]
                },
                {
                    "name": "stdout",
                    "output_type": "stream",
                    "text": [
                        "2023-06-26 14:35:33 2m20s \u001b[1mINFO    \u001b[0m \u001b[36mart.attacks.evasion.projected_gradient_descent.projected_gradient_descent\u001b[0m:\u001b[36mgenerate\u001b[0m:\u001b[36m199\u001b[0m Creating adversarial samples.\n",
                        "2023-06-26 14:35:37 2m24s \u001b[1mINFO    \u001b[0m \u001b[36mart.attacks.evasion.projected_gradient_descent.projected_gradient_descent_pytorch\u001b[0m:\u001b[36mgenerate\u001b[0m:\u001b[36m237\u001b[0m Success rate of attack: 64.06%\n"
                    ]
                },
                {
                    "name": "stderr",
                    "output_type": "stream",
                    "text": [
                        "Evaluation:  18%|█▊        | 28/157 [01:29<07:23,  3.44s/it]"
                    ]
                },
                {
                    "name": "stdout",
                    "output_type": "stream",
                    "text": [
                        "2023-06-26 14:35:37 2m24s \u001b[1mINFO    \u001b[0m \u001b[36mart.attacks.evasion.projected_gradient_descent.projected_gradient_descent\u001b[0m:\u001b[36mgenerate\u001b[0m:\u001b[36m199\u001b[0m Creating adversarial samples.\n",
                        "2023-06-26 14:35:40 2m27s \u001b[1mINFO    \u001b[0m \u001b[36mart.attacks.evasion.projected_gradient_descent.projected_gradient_descent_pytorch\u001b[0m:\u001b[36mgenerate\u001b[0m:\u001b[36m237\u001b[0m Success rate of attack: 73.44%\n"
                    ]
                },
                {
                    "name": "stderr",
                    "output_type": "stream",
                    "text": [
                        "Evaluation:  18%|█▊        | 29/157 [01:33<07:19,  3.44s/it]"
                    ]
                },
                {
                    "name": "stdout",
                    "output_type": "stream",
                    "text": [
                        "2023-06-26 14:35:40 2m27s \u001b[1mINFO    \u001b[0m \u001b[36mart.attacks.evasion.projected_gradient_descent.projected_gradient_descent\u001b[0m:\u001b[36mgenerate\u001b[0m:\u001b[36m199\u001b[0m Creating adversarial samples.\n",
                        "2023-06-26 14:35:44 2m31s \u001b[1mINFO    \u001b[0m \u001b[36mart.attacks.evasion.projected_gradient_descent.projected_gradient_descent_pytorch\u001b[0m:\u001b[36mgenerate\u001b[0m:\u001b[36m237\u001b[0m Success rate of attack: 76.56%\n"
                    ]
                },
                {
                    "name": "stderr",
                    "output_type": "stream",
                    "text": [
                        "Evaluation:  19%|█▉        | 30/157 [01:36<07:21,  3.48s/it]"
                    ]
                },
                {
                    "name": "stdout",
                    "output_type": "stream",
                    "text": [
                        "2023-06-26 14:35:44 2m31s \u001b[1mINFO    \u001b[0m \u001b[36mart.attacks.evasion.projected_gradient_descent.projected_gradient_descent\u001b[0m:\u001b[36mgenerate\u001b[0m:\u001b[36m199\u001b[0m Creating adversarial samples.\n",
                        "2023-06-26 14:35:47 2m34s \u001b[1mINFO    \u001b[0m \u001b[36mart.attacks.evasion.projected_gradient_descent.projected_gradient_descent_pytorch\u001b[0m:\u001b[36mgenerate\u001b[0m:\u001b[36m237\u001b[0m Success rate of attack: 68.75%\n"
                    ]
                },
                {
                    "name": "stderr",
                    "output_type": "stream",
                    "text": [
                        "Evaluation:  20%|█▉        | 31/157 [01:40<07:19,  3.49s/it]"
                    ]
                },
                {
                    "name": "stdout",
                    "output_type": "stream",
                    "text": [
                        "2023-06-26 14:35:47 2m34s \u001b[1mINFO    \u001b[0m \u001b[36mart.attacks.evasion.projected_gradient_descent.projected_gradient_descent\u001b[0m:\u001b[36mgenerate\u001b[0m:\u001b[36m199\u001b[0m Creating adversarial samples.\n",
                        "2023-06-26 14:35:51 2m38s \u001b[1mINFO    \u001b[0m \u001b[36mart.attacks.evasion.projected_gradient_descent.projected_gradient_descent_pytorch\u001b[0m:\u001b[36mgenerate\u001b[0m:\u001b[36m237\u001b[0m Success rate of attack: 79.69%\n"
                    ]
                },
                {
                    "name": "stderr",
                    "output_type": "stream",
                    "text": [
                        "Evaluation:  20%|██        | 32/157 [01:43<07:05,  3.41s/it]"
                    ]
                },
                {
                    "name": "stdout",
                    "output_type": "stream",
                    "text": [
                        "2023-06-26 14:35:51 2m38s \u001b[1mINFO    \u001b[0m \u001b[36mart.attacks.evasion.projected_gradient_descent.projected_gradient_descent\u001b[0m:\u001b[36mgenerate\u001b[0m:\u001b[36m199\u001b[0m Creating adversarial samples.\n",
                        "2023-06-26 14:35:54 2m41s \u001b[1mINFO    \u001b[0m \u001b[36mart.attacks.evasion.projected_gradient_descent.projected_gradient_descent_pytorch\u001b[0m:\u001b[36mgenerate\u001b[0m:\u001b[36m237\u001b[0m Success rate of attack: 57.81%\n"
                    ]
                },
                {
                    "name": "stderr",
                    "output_type": "stream",
                    "text": [
                        "Evaluation:  21%|██        | 33/157 [01:46<06:59,  3.38s/it]"
                    ]
                },
                {
                    "name": "stdout",
                    "output_type": "stream",
                    "text": [
                        "2023-06-26 14:35:54 2m41s \u001b[1mINFO    \u001b[0m \u001b[36mart.attacks.evasion.projected_gradient_descent.projected_gradient_descent\u001b[0m:\u001b[36mgenerate\u001b[0m:\u001b[36m199\u001b[0m Creating adversarial samples.\n",
                        "2023-06-26 14:35:57 2m44s \u001b[1mINFO    \u001b[0m \u001b[36mart.attacks.evasion.projected_gradient_descent.projected_gradient_descent_pytorch\u001b[0m:\u001b[36mgenerate\u001b[0m:\u001b[36m237\u001b[0m Success rate of attack: 75.00%\n"
                    ]
                },
                {
                    "name": "stderr",
                    "output_type": "stream",
                    "text": [
                        "Evaluation:  22%|██▏       | 34/157 [01:49<06:50,  3.34s/it]"
                    ]
                },
                {
                    "name": "stdout",
                    "output_type": "stream",
                    "text": [
                        "2023-06-26 14:35:57 2m44s \u001b[1mINFO    \u001b[0m \u001b[36mart.attacks.evasion.projected_gradient_descent.projected_gradient_descent\u001b[0m:\u001b[36mgenerate\u001b[0m:\u001b[36m199\u001b[0m Creating adversarial samples.\n",
                        "2023-06-26 14:36:01 2m48s \u001b[1mINFO    \u001b[0m \u001b[36mart.attacks.evasion.projected_gradient_descent.projected_gradient_descent_pytorch\u001b[0m:\u001b[36mgenerate\u001b[0m:\u001b[36m237\u001b[0m Success rate of attack: 70.31%\n"
                    ]
                },
                {
                    "name": "stderr",
                    "output_type": "stream",
                    "text": [
                        "Evaluation:  22%|██▏       | 35/157 [01:53<06:47,  3.34s/it]"
                    ]
                },
                {
                    "name": "stdout",
                    "output_type": "stream",
                    "text": [
                        "2023-06-26 14:36:01 2m48s \u001b[1mINFO    \u001b[0m \u001b[36mart.attacks.evasion.projected_gradient_descent.projected_gradient_descent\u001b[0m:\u001b[36mgenerate\u001b[0m:\u001b[36m199\u001b[0m Creating adversarial samples.\n",
                        "2023-06-26 14:36:04 2m51s \u001b[1mINFO    \u001b[0m \u001b[36mart.attacks.evasion.projected_gradient_descent.projected_gradient_descent_pytorch\u001b[0m:\u001b[36mgenerate\u001b[0m:\u001b[36m237\u001b[0m Success rate of attack: 65.62%\n"
                    ]
                },
                {
                    "name": "stderr",
                    "output_type": "stream",
                    "text": [
                        "Evaluation:  23%|██▎       | 36/157 [01:56<06:49,  3.38s/it]"
                    ]
                },
                {
                    "name": "stdout",
                    "output_type": "stream",
                    "text": [
                        "2023-06-26 14:36:04 2m51s \u001b[1mINFO    \u001b[0m \u001b[36mart.attacks.evasion.projected_gradient_descent.projected_gradient_descent\u001b[0m:\u001b[36mgenerate\u001b[0m:\u001b[36m199\u001b[0m Creating adversarial samples.\n",
                        "2023-06-26 14:36:08 2m55s \u001b[1mINFO    \u001b[0m \u001b[36mart.attacks.evasion.projected_gradient_descent.projected_gradient_descent_pytorch\u001b[0m:\u001b[36mgenerate\u001b[0m:\u001b[36m237\u001b[0m Success rate of attack: 75.00%\n"
                    ]
                },
                {
                    "name": "stderr",
                    "output_type": "stream",
                    "text": [
                        "Evaluation:  24%|██▎       | 37/157 [02:00<06:55,  3.46s/it]"
                    ]
                },
                {
                    "name": "stdout",
                    "output_type": "stream",
                    "text": [
                        "2023-06-26 14:36:08 2m55s \u001b[1mINFO    \u001b[0m \u001b[36mart.attacks.evasion.projected_gradient_descent.projected_gradient_descent\u001b[0m:\u001b[36mgenerate\u001b[0m:\u001b[36m199\u001b[0m Creating adversarial samples.\n",
                        "2023-06-26 14:36:11 2m58s \u001b[1mINFO    \u001b[0m \u001b[36mart.attacks.evasion.projected_gradient_descent.projected_gradient_descent_pytorch\u001b[0m:\u001b[36mgenerate\u001b[0m:\u001b[36m237\u001b[0m Success rate of attack: 70.31%\n"
                    ]
                },
                {
                    "name": "stderr",
                    "output_type": "stream",
                    "text": [
                        "Evaluation:  24%|██▍       | 38/157 [02:03<06:44,  3.40s/it]"
                    ]
                },
                {
                    "name": "stdout",
                    "output_type": "stream",
                    "text": [
                        "2023-06-26 14:36:11 2m58s \u001b[1mINFO    \u001b[0m \u001b[36mart.attacks.evasion.projected_gradient_descent.projected_gradient_descent\u001b[0m:\u001b[36mgenerate\u001b[0m:\u001b[36m199\u001b[0m Creating adversarial samples.\n",
                        "2023-06-26 14:36:14  3m \u001b[1mINFO    \u001b[0m \u001b[36mart.attacks.evasion.projected_gradient_descent.projected_gradient_descent_pytorch\u001b[0m:\u001b[36mgenerate\u001b[0m:\u001b[36m237\u001b[0m Success rate of attack: 68.75%\n"
                    ]
                },
                {
                    "name": "stderr",
                    "output_type": "stream",
                    "text": [
                        "Evaluation:  25%|██▍       | 39/157 [02:06<06:38,  3.38s/it]"
                    ]
                },
                {
                    "name": "stdout",
                    "output_type": "stream",
                    "text": [
                        "2023-06-26 14:36:14  3m \u001b[1mINFO    \u001b[0m \u001b[36mart.attacks.evasion.projected_gradient_descent.projected_gradient_descent\u001b[0m:\u001b[36mgenerate\u001b[0m:\u001b[36m199\u001b[0m Creating adversarial samples.\n",
                        "2023-06-26 14:36:18 3m5s \u001b[1mINFO    \u001b[0m \u001b[36mart.attacks.evasion.projected_gradient_descent.projected_gradient_descent_pytorch\u001b[0m:\u001b[36mgenerate\u001b[0m:\u001b[36m237\u001b[0m Success rate of attack: 81.25%\n"
                    ]
                },
                {
                    "name": "stderr",
                    "output_type": "stream",
                    "text": [
                        "Evaluation:  25%|██▌       | 40/157 [02:10<06:37,  3.40s/it]"
                    ]
                },
                {
                    "name": "stdout",
                    "output_type": "stream",
                    "text": [
                        "2023-06-26 14:36:18 3m5s \u001b[1mINFO    \u001b[0m \u001b[36mart.attacks.evasion.projected_gradient_descent.projected_gradient_descent\u001b[0m:\u001b[36mgenerate\u001b[0m:\u001b[36m199\u001b[0m Creating adversarial samples.\n",
                        "2023-06-26 14:36:21 3m8s \u001b[1mINFO    \u001b[0m \u001b[36mart.attacks.evasion.projected_gradient_descent.projected_gradient_descent_pytorch\u001b[0m:\u001b[36mgenerate\u001b[0m:\u001b[36m237\u001b[0m Success rate of attack: 71.88%\n"
                    ]
                },
                {
                    "name": "stderr",
                    "output_type": "stream",
                    "text": [
                        "Evaluation:  26%|██▌       | 41/157 [02:13<06:28,  3.35s/it]"
                    ]
                },
                {
                    "name": "stdout",
                    "output_type": "stream",
                    "text": [
                        "2023-06-26 14:36:21 3m8s \u001b[1mINFO    \u001b[0m \u001b[36mart.attacks.evasion.projected_gradient_descent.projected_gradient_descent\u001b[0m:\u001b[36mgenerate\u001b[0m:\u001b[36m199\u001b[0m Creating adversarial samples.\n",
                        "2023-06-26 14:36:24 3m11s \u001b[1mINFO    \u001b[0m \u001b[36mart.attacks.evasion.projected_gradient_descent.projected_gradient_descent_pytorch\u001b[0m:\u001b[36mgenerate\u001b[0m:\u001b[36m237\u001b[0m Success rate of attack: 67.19%\n"
                    ]
                },
                {
                    "name": "stderr",
                    "output_type": "stream",
                    "text": [
                        "Evaluation:  27%|██▋       | 42/157 [02:16<06:20,  3.31s/it]"
                    ]
                },
                {
                    "name": "stdout",
                    "output_type": "stream",
                    "text": [
                        "2023-06-26 14:36:24 3m11s \u001b[1mINFO    \u001b[0m \u001b[36mart.attacks.evasion.projected_gradient_descent.projected_gradient_descent\u001b[0m:\u001b[36mgenerate\u001b[0m:\u001b[36m199\u001b[0m Creating adversarial samples.\n",
                        "2023-06-26 14:36:27 3m14s \u001b[1mINFO    \u001b[0m \u001b[36mart.attacks.evasion.projected_gradient_descent.projected_gradient_descent_pytorch\u001b[0m:\u001b[36mgenerate\u001b[0m:\u001b[36m237\u001b[0m Success rate of attack: 73.44%\n"
                    ]
                },
                {
                    "name": "stderr",
                    "output_type": "stream",
                    "text": [
                        "Evaluation:  27%|██▋       | 43/157 [02:20<06:20,  3.33s/it]"
                    ]
                },
                {
                    "name": "stdout",
                    "output_type": "stream",
                    "text": [
                        "2023-06-26 14:36:27 3m14s \u001b[1mINFO    \u001b[0m \u001b[36mart.attacks.evasion.projected_gradient_descent.projected_gradient_descent\u001b[0m:\u001b[36mgenerate\u001b[0m:\u001b[36m199\u001b[0m Creating adversarial samples.\n",
                        "2023-06-26 14:36:31 3m18s \u001b[1mINFO    \u001b[0m \u001b[36mart.attacks.evasion.projected_gradient_descent.projected_gradient_descent_pytorch\u001b[0m:\u001b[36mgenerate\u001b[0m:\u001b[36m237\u001b[0m Success rate of attack: 73.44%\n"
                    ]
                },
                {
                    "name": "stderr",
                    "output_type": "stream",
                    "text": [
                        "Evaluation:  28%|██▊       | 44/157 [02:23<06:15,  3.33s/it]"
                    ]
                },
                {
                    "name": "stdout",
                    "output_type": "stream",
                    "text": [
                        "2023-06-26 14:36:31 3m18s \u001b[1mINFO    \u001b[0m \u001b[36mart.attacks.evasion.projected_gradient_descent.projected_gradient_descent\u001b[0m:\u001b[36mgenerate\u001b[0m:\u001b[36m199\u001b[0m Creating adversarial samples.\n",
                        "2023-06-26 14:36:34 3m21s \u001b[1mINFO    \u001b[0m \u001b[36mart.attacks.evasion.projected_gradient_descent.projected_gradient_descent_pytorch\u001b[0m:\u001b[36mgenerate\u001b[0m:\u001b[36m237\u001b[0m Success rate of attack: 78.12%\n"
                    ]
                },
                {
                    "name": "stderr",
                    "output_type": "stream",
                    "text": [
                        "Evaluation:  29%|██▊       | 45/157 [02:26<06:11,  3.32s/it]"
                    ]
                },
                {
                    "name": "stdout",
                    "output_type": "stream",
                    "text": [
                        "2023-06-26 14:36:34 3m21s \u001b[1mINFO    \u001b[0m \u001b[36mart.attacks.evasion.projected_gradient_descent.projected_gradient_descent\u001b[0m:\u001b[36mgenerate\u001b[0m:\u001b[36m199\u001b[0m Creating adversarial samples.\n",
                        "2023-06-26 14:36:37 3m24s \u001b[1mINFO    \u001b[0m \u001b[36mart.attacks.evasion.projected_gradient_descent.projected_gradient_descent_pytorch\u001b[0m:\u001b[36mgenerate\u001b[0m:\u001b[36m237\u001b[0m Success rate of attack: 70.31%\n"
                    ]
                },
                {
                    "name": "stderr",
                    "output_type": "stream",
                    "text": [
                        "Evaluation:  29%|██▉       | 46/157 [02:30<06:04,  3.28s/it]"
                    ]
                },
                {
                    "name": "stdout",
                    "output_type": "stream",
                    "text": [
                        "2023-06-26 14:36:37 3m24s \u001b[1mINFO    \u001b[0m \u001b[36mart.attacks.evasion.projected_gradient_descent.projected_gradient_descent\u001b[0m:\u001b[36mgenerate\u001b[0m:\u001b[36m199\u001b[0m Creating adversarial samples.\n",
                        "2023-06-26 14:36:40 3m27s \u001b[1mINFO    \u001b[0m \u001b[36mart.attacks.evasion.projected_gradient_descent.projected_gradient_descent_pytorch\u001b[0m:\u001b[36mgenerate\u001b[0m:\u001b[36m237\u001b[0m Success rate of attack: 81.25%\n"
                    ]
                },
                {
                    "name": "stderr",
                    "output_type": "stream",
                    "text": [
                        "Evaluation:  30%|██▉       | 47/157 [02:33<05:57,  3.25s/it]"
                    ]
                },
                {
                    "name": "stdout",
                    "output_type": "stream",
                    "text": [
                        "2023-06-26 14:36:40 3m27s \u001b[1mINFO    \u001b[0m \u001b[36mart.attacks.evasion.projected_gradient_descent.projected_gradient_descent\u001b[0m:\u001b[36mgenerate\u001b[0m:\u001b[36m199\u001b[0m Creating adversarial samples.\n",
                        "2023-06-26 14:36:44 3m31s \u001b[1mINFO    \u001b[0m \u001b[36mart.attacks.evasion.projected_gradient_descent.projected_gradient_descent_pytorch\u001b[0m:\u001b[36mgenerate\u001b[0m:\u001b[36m237\u001b[0m Success rate of attack: 68.75%\n"
                    ]
                },
                {
                    "name": "stderr",
                    "output_type": "stream",
                    "text": [
                        "Evaluation:  31%|███       | 48/157 [02:36<05:52,  3.24s/it]"
                    ]
                },
                {
                    "name": "stdout",
                    "output_type": "stream",
                    "text": [
                        "2023-06-26 14:36:44 3m31s \u001b[1mINFO    \u001b[0m \u001b[36mart.attacks.evasion.projected_gradient_descent.projected_gradient_descent\u001b[0m:\u001b[36mgenerate\u001b[0m:\u001b[36m199\u001b[0m Creating adversarial samples.\n",
                        "2023-06-26 14:36:47 3m34s \u001b[1mINFO    \u001b[0m \u001b[36mart.attacks.evasion.projected_gradient_descent.projected_gradient_descent_pytorch\u001b[0m:\u001b[36mgenerate\u001b[0m:\u001b[36m237\u001b[0m Success rate of attack: 67.19%\n"
                    ]
                },
                {
                    "name": "stderr",
                    "output_type": "stream",
                    "text": [
                        "Evaluation:  31%|███       | 49/157 [02:39<05:51,  3.26s/it]"
                    ]
                },
                {
                    "name": "stdout",
                    "output_type": "stream",
                    "text": [
                        "2023-06-26 14:36:47 3m34s \u001b[1mINFO    \u001b[0m \u001b[36mart.attacks.evasion.projected_gradient_descent.projected_gradient_descent\u001b[0m:\u001b[36mgenerate\u001b[0m:\u001b[36m199\u001b[0m Creating adversarial samples.\n",
                        "2023-06-26 14:36:50 3m37s \u001b[1mINFO    \u001b[0m \u001b[36mart.attacks.evasion.projected_gradient_descent.projected_gradient_descent_pytorch\u001b[0m:\u001b[36mgenerate\u001b[0m:\u001b[36m237\u001b[0m Success rate of attack: 67.19%\n"
                    ]
                },
                {
                    "name": "stderr",
                    "output_type": "stream",
                    "text": [
                        "Evaluation:  32%|███▏      | 50/157 [02:43<05:51,  3.28s/it]"
                    ]
                },
                {
                    "name": "stdout",
                    "output_type": "stream",
                    "text": [
                        "2023-06-26 14:36:50 3m37s \u001b[1mINFO    \u001b[0m \u001b[36mart.attacks.evasion.projected_gradient_descent.projected_gradient_descent\u001b[0m:\u001b[36mgenerate\u001b[0m:\u001b[36m199\u001b[0m Creating adversarial samples.\n",
                        "2023-06-26 14:36:54 3m41s \u001b[1mINFO    \u001b[0m \u001b[36mart.attacks.evasion.projected_gradient_descent.projected_gradient_descent_pytorch\u001b[0m:\u001b[36mgenerate\u001b[0m:\u001b[36m237\u001b[0m Success rate of attack: 68.75%\n"
                    ]
                },
                {
                    "name": "stderr",
                    "output_type": "stream",
                    "text": [
                        "Evaluation:  32%|███▏      | 51/157 [02:46<06:07,  3.47s/it]"
                    ]
                },
                {
                    "name": "stdout",
                    "output_type": "stream",
                    "text": [
                        "2023-06-26 14:36:54 3m41s \u001b[1mINFO    \u001b[0m \u001b[36mart.attacks.evasion.projected_gradient_descent.projected_gradient_descent\u001b[0m:\u001b[36mgenerate\u001b[0m:\u001b[36m199\u001b[0m Creating adversarial samples.\n",
                        "2023-06-26 14:36:58 3m45s \u001b[1mINFO    \u001b[0m \u001b[36mart.attacks.evasion.projected_gradient_descent.projected_gradient_descent_pytorch\u001b[0m:\u001b[36mgenerate\u001b[0m:\u001b[36m237\u001b[0m Success rate of attack: 70.31%\n"
                    ]
                },
                {
                    "name": "stderr",
                    "output_type": "stream",
                    "text": [
                        "Evaluation:  33%|███▎      | 52/157 [02:50<06:22,  3.64s/it]"
                    ]
                },
                {
                    "name": "stdout",
                    "output_type": "stream",
                    "text": [
                        "2023-06-26 14:36:58 3m45s \u001b[1mINFO    \u001b[0m \u001b[36mart.attacks.evasion.projected_gradient_descent.projected_gradient_descent\u001b[0m:\u001b[36mgenerate\u001b[0m:\u001b[36m199\u001b[0m Creating adversarial samples.\n",
                        "2023-06-26 14:37:02 3m49s \u001b[1mINFO    \u001b[0m \u001b[36mart.attacks.evasion.projected_gradient_descent.projected_gradient_descent_pytorch\u001b[0m:\u001b[36mgenerate\u001b[0m:\u001b[36m237\u001b[0m Success rate of attack: 65.62%\n"
                    ]
                },
                {
                    "name": "stderr",
                    "output_type": "stream",
                    "text": [
                        "Evaluation:  34%|███▍      | 53/157 [02:54<06:27,  3.73s/it]"
                    ]
                },
                {
                    "name": "stdout",
                    "output_type": "stream",
                    "text": [
                        "2023-06-26 14:37:02 3m49s \u001b[1mINFO    \u001b[0m \u001b[36mart.attacks.evasion.projected_gradient_descent.projected_gradient_descent\u001b[0m:\u001b[36mgenerate\u001b[0m:\u001b[36m199\u001b[0m Creating adversarial samples.\n",
                        "2023-06-26 14:37:05 3m52s \u001b[1mINFO    \u001b[0m \u001b[36mart.attacks.evasion.projected_gradient_descent.projected_gradient_descent_pytorch\u001b[0m:\u001b[36mgenerate\u001b[0m:\u001b[36m237\u001b[0m Success rate of attack: 75.00%\n"
                    ]
                },
                {
                    "name": "stderr",
                    "output_type": "stream",
                    "text": [
                        "Evaluation:  34%|███▍      | 54/157 [02:57<06:02,  3.52s/it]"
                    ]
                },
                {
                    "name": "stdout",
                    "output_type": "stream",
                    "text": [
                        "2023-06-26 14:37:05 3m52s \u001b[1mINFO    \u001b[0m \u001b[36mart.attacks.evasion.projected_gradient_descent.projected_gradient_descent\u001b[0m:\u001b[36mgenerate\u001b[0m:\u001b[36m199\u001b[0m Creating adversarial samples.\n",
                        "2023-06-26 14:37:09 3m56s \u001b[1mINFO    \u001b[0m \u001b[36mart.attacks.evasion.projected_gradient_descent.projected_gradient_descent_pytorch\u001b[0m:\u001b[36mgenerate\u001b[0m:\u001b[36m237\u001b[0m Success rate of attack: 65.62%\n"
                    ]
                },
                {
                    "name": "stderr",
                    "output_type": "stream",
                    "text": [
                        "Evaluation:  35%|███▌      | 55/157 [03:01<05:57,  3.50s/it]"
                    ]
                },
                {
                    "name": "stdout",
                    "output_type": "stream",
                    "text": [
                        "2023-06-26 14:37:09 3m56s \u001b[1mINFO    \u001b[0m \u001b[36mart.attacks.evasion.projected_gradient_descent.projected_gradient_descent\u001b[0m:\u001b[36mgenerate\u001b[0m:\u001b[36m199\u001b[0m Creating adversarial samples.\n",
                        "2023-06-26 14:37:12 3m59s \u001b[1mINFO    \u001b[0m \u001b[36mart.attacks.evasion.projected_gradient_descent.projected_gradient_descent_pytorch\u001b[0m:\u001b[36mgenerate\u001b[0m:\u001b[36m237\u001b[0m Success rate of attack: 67.19%\n"
                    ]
                },
                {
                    "name": "stderr",
                    "output_type": "stream",
                    "text": [
                        "Evaluation:  36%|███▌      | 56/157 [03:04<05:50,  3.47s/it]"
                    ]
                },
                {
                    "name": "stdout",
                    "output_type": "stream",
                    "text": [
                        "2023-06-26 14:37:12 3m59s \u001b[1mINFO    \u001b[0m \u001b[36mart.attacks.evasion.projected_gradient_descent.projected_gradient_descent\u001b[0m:\u001b[36mgenerate\u001b[0m:\u001b[36m199\u001b[0m Creating adversarial samples.\n",
                        "2023-06-26 14:37:16 4m3s \u001b[1mINFO    \u001b[0m \u001b[36mart.attacks.evasion.projected_gradient_descent.projected_gradient_descent_pytorch\u001b[0m:\u001b[36mgenerate\u001b[0m:\u001b[36m237\u001b[0m Success rate of attack: 65.62%\n"
                    ]
                },
                {
                    "name": "stderr",
                    "output_type": "stream",
                    "text": [
                        "Evaluation:  36%|███▋      | 57/157 [03:08<05:55,  3.56s/it]"
                    ]
                },
                {
                    "name": "stdout",
                    "output_type": "stream",
                    "text": [
                        "2023-06-26 14:37:16 4m3s \u001b[1mINFO    \u001b[0m \u001b[36mart.attacks.evasion.projected_gradient_descent.projected_gradient_descent\u001b[0m:\u001b[36mgenerate\u001b[0m:\u001b[36m199\u001b[0m Creating adversarial samples.\n",
                        "2023-06-26 14:37:19 4m6s \u001b[1mINFO    \u001b[0m \u001b[36mart.attacks.evasion.projected_gradient_descent.projected_gradient_descent_pytorch\u001b[0m:\u001b[36mgenerate\u001b[0m:\u001b[36m237\u001b[0m Success rate of attack: 62.50%\n"
                    ]
                },
                {
                    "name": "stderr",
                    "output_type": "stream",
                    "text": [
                        "Evaluation:  37%|███▋      | 58/157 [03:11<05:38,  3.42s/it]"
                    ]
                },
                {
                    "name": "stdout",
                    "output_type": "stream",
                    "text": [
                        "2023-06-26 14:37:19 4m6s \u001b[1mINFO    \u001b[0m \u001b[36mart.attacks.evasion.projected_gradient_descent.projected_gradient_descent\u001b[0m:\u001b[36mgenerate\u001b[0m:\u001b[36m199\u001b[0m Creating adversarial samples.\n",
                        "2023-06-26 14:37:22 4m9s \u001b[1mINFO    \u001b[0m \u001b[36mart.attacks.evasion.projected_gradient_descent.projected_gradient_descent_pytorch\u001b[0m:\u001b[36mgenerate\u001b[0m:\u001b[36m237\u001b[0m Success rate of attack: 65.62%\n"
                    ]
                },
                {
                    "name": "stderr",
                    "output_type": "stream",
                    "text": [
                        "Evaluation:  38%|███▊      | 59/157 [03:15<05:32,  3.40s/it]"
                    ]
                },
                {
                    "name": "stdout",
                    "output_type": "stream",
                    "text": [
                        "2023-06-26 14:37:22 4m9s \u001b[1mINFO    \u001b[0m \u001b[36mart.attacks.evasion.projected_gradient_descent.projected_gradient_descent\u001b[0m:\u001b[36mgenerate\u001b[0m:\u001b[36m199\u001b[0m Creating adversarial samples.\n",
                        "2023-06-26 14:37:26 4m13s \u001b[1mINFO    \u001b[0m \u001b[36mart.attacks.evasion.projected_gradient_descent.projected_gradient_descent_pytorch\u001b[0m:\u001b[36mgenerate\u001b[0m:\u001b[36m237\u001b[0m Success rate of attack: 68.75%\n"
                    ]
                },
                {
                    "name": "stderr",
                    "output_type": "stream",
                    "text": [
                        "Evaluation:  38%|███▊      | 60/157 [03:19<05:50,  3.61s/it]"
                    ]
                },
                {
                    "name": "stdout",
                    "output_type": "stream",
                    "text": [
                        "2023-06-26 14:37:26 4m13s \u001b[1mINFO    \u001b[0m \u001b[36mart.attacks.evasion.projected_gradient_descent.projected_gradient_descent\u001b[0m:\u001b[36mgenerate\u001b[0m:\u001b[36m199\u001b[0m Creating adversarial samples.\n",
                        "2023-06-26 14:37:31 4m18s \u001b[1mINFO    \u001b[0m \u001b[36mart.attacks.evasion.projected_gradient_descent.projected_gradient_descent_pytorch\u001b[0m:\u001b[36mgenerate\u001b[0m:\u001b[36m237\u001b[0m Success rate of attack: 73.44%\n"
                    ]
                },
                {
                    "name": "stderr",
                    "output_type": "stream",
                    "text": [
                        "Evaluation:  39%|███▉      | 61/157 [03:23<06:00,  3.76s/it]"
                    ]
                },
                {
                    "name": "stdout",
                    "output_type": "stream",
                    "text": [
                        "2023-06-26 14:37:31 4m18s \u001b[1mINFO    \u001b[0m \u001b[36mart.attacks.evasion.projected_gradient_descent.projected_gradient_descent\u001b[0m:\u001b[36mgenerate\u001b[0m:\u001b[36m199\u001b[0m Creating adversarial samples.\n",
                        "2023-06-26 14:37:35 4m22s \u001b[1mINFO    \u001b[0m \u001b[36mart.attacks.evasion.projected_gradient_descent.projected_gradient_descent_pytorch\u001b[0m:\u001b[36mgenerate\u001b[0m:\u001b[36m237\u001b[0m Success rate of attack: 65.62%\n"
                    ]
                },
                {
                    "name": "stderr",
                    "output_type": "stream",
                    "text": [
                        "Evaluation:  39%|███▉      | 62/157 [03:27<06:04,  3.84s/it]"
                    ]
                },
                {
                    "name": "stdout",
                    "output_type": "stream",
                    "text": [
                        "2023-06-26 14:37:35 4m22s \u001b[1mINFO    \u001b[0m \u001b[36mart.attacks.evasion.projected_gradient_descent.projected_gradient_descent\u001b[0m:\u001b[36mgenerate\u001b[0m:\u001b[36m199\u001b[0m Creating adversarial samples.\n",
                        "2023-06-26 14:37:39 4m26s \u001b[1mINFO    \u001b[0m \u001b[36mart.attacks.evasion.projected_gradient_descent.projected_gradient_descent_pytorch\u001b[0m:\u001b[36mgenerate\u001b[0m:\u001b[36m237\u001b[0m Success rate of attack: 78.12%\n"
                    ]
                },
                {
                    "name": "stderr",
                    "output_type": "stream",
                    "text": [
                        "Evaluation:  40%|████      | 63/157 [03:31<06:05,  3.88s/it]"
                    ]
                },
                {
                    "name": "stdout",
                    "output_type": "stream",
                    "text": [
                        "2023-06-26 14:37:39 4m26s \u001b[1mINFO    \u001b[0m \u001b[36mart.attacks.evasion.projected_gradient_descent.projected_gradient_descent\u001b[0m:\u001b[36mgenerate\u001b[0m:\u001b[36m199\u001b[0m Creating adversarial samples.\n",
                        "2023-06-26 14:37:42 4m29s \u001b[1mINFO    \u001b[0m \u001b[36mart.attacks.evasion.projected_gradient_descent.projected_gradient_descent_pytorch\u001b[0m:\u001b[36mgenerate\u001b[0m:\u001b[36m237\u001b[0m Success rate of attack: 73.44%\n"
                    ]
                },
                {
                    "name": "stderr",
                    "output_type": "stream",
                    "text": [
                        "Evaluation:  41%|████      | 64/157 [03:35<06:02,  3.90s/it]"
                    ]
                },
                {
                    "name": "stdout",
                    "output_type": "stream",
                    "text": [
                        "2023-06-26 14:37:42 4m29s \u001b[1mINFO    \u001b[0m \u001b[36mart.attacks.evasion.projected_gradient_descent.projected_gradient_descent\u001b[0m:\u001b[36mgenerate\u001b[0m:\u001b[36m199\u001b[0m Creating adversarial samples.\n",
                        "2023-06-26 14:37:46 4m33s \u001b[1mINFO    \u001b[0m \u001b[36mart.attacks.evasion.projected_gradient_descent.projected_gradient_descent_pytorch\u001b[0m:\u001b[36mgenerate\u001b[0m:\u001b[36m237\u001b[0m Success rate of attack: 67.19%\n"
                    ]
                },
                {
                    "name": "stderr",
                    "output_type": "stream",
                    "text": [
                        "Evaluation:  41%|████▏     | 65/157 [03:38<05:53,  3.84s/it]"
                    ]
                },
                {
                    "name": "stdout",
                    "output_type": "stream",
                    "text": [
                        "2023-06-26 14:37:46 4m33s \u001b[1mINFO    \u001b[0m \u001b[36mart.attacks.evasion.projected_gradient_descent.projected_gradient_descent\u001b[0m:\u001b[36mgenerate\u001b[0m:\u001b[36m199\u001b[0m Creating adversarial samples.\n",
                        "2023-06-26 14:37:49 4m36s \u001b[1mINFO    \u001b[0m \u001b[36mart.attacks.evasion.projected_gradient_descent.projected_gradient_descent_pytorch\u001b[0m:\u001b[36mgenerate\u001b[0m:\u001b[36m237\u001b[0m Success rate of attack: 68.75%\n"
                    ]
                },
                {
                    "name": "stderr",
                    "output_type": "stream",
                    "text": [
                        "Evaluation:  42%|████▏     | 66/157 [03:42<05:34,  3.67s/it]"
                    ]
                },
                {
                    "name": "stdout",
                    "output_type": "stream",
                    "text": [
                        "2023-06-26 14:37:49 4m36s \u001b[1mINFO    \u001b[0m \u001b[36mart.attacks.evasion.projected_gradient_descent.projected_gradient_descent\u001b[0m:\u001b[36mgenerate\u001b[0m:\u001b[36m199\u001b[0m Creating adversarial samples.\n",
                        "2023-06-26 14:37:53 4m40s \u001b[1mINFO    \u001b[0m \u001b[36mart.attacks.evasion.projected_gradient_descent.projected_gradient_descent_pytorch\u001b[0m:\u001b[36mgenerate\u001b[0m:\u001b[36m237\u001b[0m Success rate of attack: 71.88%\n"
                    ]
                },
                {
                    "name": "stderr",
                    "output_type": "stream",
                    "text": [
                        "Evaluation:  43%|████▎     | 67/157 [03:46<05:40,  3.78s/it]"
                    ]
                },
                {
                    "name": "stdout",
                    "output_type": "stream",
                    "text": [
                        "2023-06-26 14:37:53 4m41s \u001b[1mINFO    \u001b[0m \u001b[36mart.attacks.evasion.projected_gradient_descent.projected_gradient_descent\u001b[0m:\u001b[36mgenerate\u001b[0m:\u001b[36m199\u001b[0m Creating adversarial samples.\n",
                        "2023-06-26 14:37:58 4m45s \u001b[1mINFO    \u001b[0m \u001b[36mart.attacks.evasion.projected_gradient_descent.projected_gradient_descent_pytorch\u001b[0m:\u001b[36mgenerate\u001b[0m:\u001b[36m237\u001b[0m Success rate of attack: 82.81%\n"
                    ]
                },
                {
                    "name": "stderr",
                    "output_type": "stream",
                    "text": [
                        "Evaluation:  43%|████▎     | 68/157 [03:50<05:46,  3.90s/it]"
                    ]
                },
                {
                    "name": "stdout",
                    "output_type": "stream",
                    "text": [
                        "2023-06-26 14:37:58 4m45s \u001b[1mINFO    \u001b[0m \u001b[36mart.attacks.evasion.projected_gradient_descent.projected_gradient_descent\u001b[0m:\u001b[36mgenerate\u001b[0m:\u001b[36m199\u001b[0m Creating adversarial samples.\n",
                        "2023-06-26 14:38:02 4m49s \u001b[1mINFO    \u001b[0m \u001b[36mart.attacks.evasion.projected_gradient_descent.projected_gradient_descent_pytorch\u001b[0m:\u001b[36mgenerate\u001b[0m:\u001b[36m237\u001b[0m Success rate of attack: 67.19%\n"
                    ]
                },
                {
                    "name": "stderr",
                    "output_type": "stream",
                    "text": [
                        "Evaluation:  44%|████▍     | 69/157 [03:54<05:46,  3.94s/it]"
                    ]
                },
                {
                    "name": "stdout",
                    "output_type": "stream",
                    "text": [
                        "2023-06-26 14:38:02 4m49s \u001b[1mINFO    \u001b[0m \u001b[36mart.attacks.evasion.projected_gradient_descent.projected_gradient_descent\u001b[0m:\u001b[36mgenerate\u001b[0m:\u001b[36m199\u001b[0m Creating adversarial samples.\n",
                        "2023-06-26 14:38:06 4m53s \u001b[1mINFO    \u001b[0m \u001b[36mart.attacks.evasion.projected_gradient_descent.projected_gradient_descent_pytorch\u001b[0m:\u001b[36mgenerate\u001b[0m:\u001b[36m237\u001b[0m Success rate of attack: 60.94%\n"
                    ]
                },
                {
                    "name": "stderr",
                    "output_type": "stream",
                    "text": [
                        "Evaluation:  45%|████▍     | 70/157 [03:58<05:43,  3.95s/it]"
                    ]
                },
                {
                    "name": "stdout",
                    "output_type": "stream",
                    "text": [
                        "2023-06-26 14:38:06 4m53s \u001b[1mINFO    \u001b[0m \u001b[36mart.attacks.evasion.projected_gradient_descent.projected_gradient_descent\u001b[0m:\u001b[36mgenerate\u001b[0m:\u001b[36m199\u001b[0m Creating adversarial samples.\n",
                        "2023-06-26 14:38:10 4m57s \u001b[1mINFO    \u001b[0m \u001b[36mart.attacks.evasion.projected_gradient_descent.projected_gradient_descent_pytorch\u001b[0m:\u001b[36mgenerate\u001b[0m:\u001b[36m237\u001b[0m Success rate of attack: 65.62%\n"
                    ]
                },
                {
                    "name": "stderr",
                    "output_type": "stream",
                    "text": [
                        "Evaluation:  45%|████▌     | 71/157 [04:02<05:39,  3.94s/it]"
                    ]
                },
                {
                    "name": "stdout",
                    "output_type": "stream",
                    "text": [
                        "2023-06-26 14:38:10 4m57s \u001b[1mINFO    \u001b[0m \u001b[36mart.attacks.evasion.projected_gradient_descent.projected_gradient_descent\u001b[0m:\u001b[36mgenerate\u001b[0m:\u001b[36m199\u001b[0m Creating adversarial samples.\n",
                        "2023-06-26 14:38:13  5m \u001b[1mINFO    \u001b[0m \u001b[36mart.attacks.evasion.projected_gradient_descent.projected_gradient_descent_pytorch\u001b[0m:\u001b[36mgenerate\u001b[0m:\u001b[36m237\u001b[0m Success rate of attack: 64.06%\n"
                    ]
                },
                {
                    "name": "stderr",
                    "output_type": "stream",
                    "text": [
                        "Evaluation:  46%|████▌     | 72/157 [04:06<05:29,  3.88s/it]"
                    ]
                },
                {
                    "name": "stdout",
                    "output_type": "stream",
                    "text": [
                        "2023-06-26 14:38:13  5m \u001b[1mINFO    \u001b[0m \u001b[36mart.attacks.evasion.projected_gradient_descent.projected_gradient_descent\u001b[0m:\u001b[36mgenerate\u001b[0m:\u001b[36m199\u001b[0m Creating adversarial samples.\n",
                        "2023-06-26 14:38:17 5m4s \u001b[1mINFO    \u001b[0m \u001b[36mart.attacks.evasion.projected_gradient_descent.projected_gradient_descent_pytorch\u001b[0m:\u001b[36mgenerate\u001b[0m:\u001b[36m237\u001b[0m Success rate of attack: 75.00%\n"
                    ]
                },
                {
                    "name": "stderr",
                    "output_type": "stream",
                    "text": [
                        "Evaluation:  46%|████▋     | 73/157 [04:09<05:26,  3.88s/it]"
                    ]
                },
                {
                    "name": "stdout",
                    "output_type": "stream",
                    "text": [
                        "2023-06-26 14:38:17 5m4s \u001b[1mINFO    \u001b[0m \u001b[36mart.attacks.evasion.projected_gradient_descent.projected_gradient_descent\u001b[0m:\u001b[36mgenerate\u001b[0m:\u001b[36m199\u001b[0m Creating adversarial samples.\n",
                        "2023-06-26 14:38:21 5m8s \u001b[1mINFO    \u001b[0m \u001b[36mart.attacks.evasion.projected_gradient_descent.projected_gradient_descent_pytorch\u001b[0m:\u001b[36mgenerate\u001b[0m:\u001b[36m237\u001b[0m Success rate of attack: 79.69%\n"
                    ]
                },
                {
                    "name": "stderr",
                    "output_type": "stream",
                    "text": [
                        "Evaluation:  47%|████▋     | 74/157 [04:13<05:24,  3.91s/it]"
                    ]
                },
                {
                    "name": "stdout",
                    "output_type": "stream",
                    "text": [
                        "2023-06-26 14:38:21 5m8s \u001b[1mINFO    \u001b[0m \u001b[36mart.attacks.evasion.projected_gradient_descent.projected_gradient_descent\u001b[0m:\u001b[36mgenerate\u001b[0m:\u001b[36m199\u001b[0m Creating adversarial samples.\n",
                        "2023-06-26 14:38:25 5m12s \u001b[1mINFO    \u001b[0m \u001b[36mart.attacks.evasion.projected_gradient_descent.projected_gradient_descent_pytorch\u001b[0m:\u001b[36mgenerate\u001b[0m:\u001b[36m237\u001b[0m Success rate of attack: 75.00%\n"
                    ]
                },
                {
                    "name": "stderr",
                    "output_type": "stream",
                    "text": [
                        "Evaluation:  48%|████▊     | 75/157 [04:17<05:22,  3.93s/it]"
                    ]
                },
                {
                    "name": "stdout",
                    "output_type": "stream",
                    "text": [
                        "2023-06-26 14:38:25 5m12s \u001b[1mINFO    \u001b[0m \u001b[36mart.attacks.evasion.projected_gradient_descent.projected_gradient_descent\u001b[0m:\u001b[36mgenerate\u001b[0m:\u001b[36m199\u001b[0m Creating adversarial samples.\n",
                        "2023-06-26 14:38:29 5m16s \u001b[1mINFO    \u001b[0m \u001b[36mart.attacks.evasion.projected_gradient_descent.projected_gradient_descent_pytorch\u001b[0m:\u001b[36mgenerate\u001b[0m:\u001b[36m237\u001b[0m Success rate of attack: 76.56%\n"
                    ]
                },
                {
                    "name": "stderr",
                    "output_type": "stream",
                    "text": [
                        "Evaluation:  48%|████▊     | 76/157 [04:21<05:17,  3.92s/it]"
                    ]
                },
                {
                    "name": "stdout",
                    "output_type": "stream",
                    "text": [
                        "2023-06-26 14:38:29 5m16s \u001b[1mINFO    \u001b[0m \u001b[36mart.attacks.evasion.projected_gradient_descent.projected_gradient_descent\u001b[0m:\u001b[36mgenerate\u001b[0m:\u001b[36m199\u001b[0m Creating adversarial samples.\n",
                        "2023-06-26 14:38:33 5m20s \u001b[1mINFO    \u001b[0m \u001b[36mart.attacks.evasion.projected_gradient_descent.projected_gradient_descent_pytorch\u001b[0m:\u001b[36mgenerate\u001b[0m:\u001b[36m237\u001b[0m Success rate of attack: 70.31%\n"
                    ]
                },
                {
                    "name": "stderr",
                    "output_type": "stream",
                    "text": [
                        "Evaluation:  49%|████▉     | 77/157 [04:25<05:17,  3.97s/it]"
                    ]
                },
                {
                    "name": "stdout",
                    "output_type": "stream",
                    "text": [
                        "2023-06-26 14:38:33 5m20s \u001b[1mINFO    \u001b[0m \u001b[36mart.attacks.evasion.projected_gradient_descent.projected_gradient_descent\u001b[0m:\u001b[36mgenerate\u001b[0m:\u001b[36m199\u001b[0m Creating adversarial samples.\n",
                        "2023-06-26 14:38:37 5m24s \u001b[1mINFO    \u001b[0m \u001b[36mart.attacks.evasion.projected_gradient_descent.projected_gradient_descent_pytorch\u001b[0m:\u001b[36mgenerate\u001b[0m:\u001b[36m237\u001b[0m Success rate of attack: 70.31%\n"
                    ]
                },
                {
                    "name": "stderr",
                    "output_type": "stream",
                    "text": [
                        "Evaluation:  50%|████▉     | 78/157 [04:29<05:11,  3.95s/it]"
                    ]
                },
                {
                    "name": "stdout",
                    "output_type": "stream",
                    "text": [
                        "2023-06-26 14:38:37 5m24s \u001b[1mINFO    \u001b[0m \u001b[36mart.attacks.evasion.projected_gradient_descent.projected_gradient_descent\u001b[0m:\u001b[36mgenerate\u001b[0m:\u001b[36m199\u001b[0m Creating adversarial samples.\n",
                        "2023-06-26 14:38:41 5m28s \u001b[1mINFO    \u001b[0m \u001b[36mart.attacks.evasion.projected_gradient_descent.projected_gradient_descent_pytorch\u001b[0m:\u001b[36mgenerate\u001b[0m:\u001b[36m237\u001b[0m Success rate of attack: 76.56%\n"
                    ]
                },
                {
                    "name": "stderr",
                    "output_type": "stream",
                    "text": [
                        "Evaluation:  50%|█████     | 79/157 [04:33<05:09,  3.96s/it]"
                    ]
                },
                {
                    "name": "stdout",
                    "output_type": "stream",
                    "text": [
                        "2023-06-26 14:38:41 5m28s \u001b[1mINFO    \u001b[0m \u001b[36mart.attacks.evasion.projected_gradient_descent.projected_gradient_descent\u001b[0m:\u001b[36mgenerate\u001b[0m:\u001b[36m199\u001b[0m Creating adversarial samples.\n",
                        "2023-06-26 14:38:45 5m32s \u001b[1mINFO    \u001b[0m \u001b[36mart.attacks.evasion.projected_gradient_descent.projected_gradient_descent_pytorch\u001b[0m:\u001b[36mgenerate\u001b[0m:\u001b[36m237\u001b[0m Success rate of attack: 70.31%\n"
                    ]
                },
                {
                    "name": "stderr",
                    "output_type": "stream",
                    "text": [
                        "Evaluation:  51%|█████     | 80/157 [04:37<05:06,  3.98s/it]"
                    ]
                },
                {
                    "name": "stdout",
                    "output_type": "stream",
                    "text": [
                        "2023-06-26 14:38:45 5m32s \u001b[1mINFO    \u001b[0m \u001b[36mart.attacks.evasion.projected_gradient_descent.projected_gradient_descent\u001b[0m:\u001b[36mgenerate\u001b[0m:\u001b[36m199\u001b[0m Creating adversarial samples.\n",
                        "2023-06-26 14:38:49 5m36s \u001b[1mINFO    \u001b[0m \u001b[36mart.attacks.evasion.projected_gradient_descent.projected_gradient_descent_pytorch\u001b[0m:\u001b[36mgenerate\u001b[0m:\u001b[36m237\u001b[0m Success rate of attack: 71.88%\n"
                    ]
                },
                {
                    "name": "stderr",
                    "output_type": "stream",
                    "text": [
                        "Evaluation:  52%|█████▏    | 81/157 [04:41<05:03,  3.99s/it]"
                    ]
                },
                {
                    "name": "stdout",
                    "output_type": "stream",
                    "text": [
                        "2023-06-26 14:38:49 5m36s \u001b[1mINFO    \u001b[0m \u001b[36mart.attacks.evasion.projected_gradient_descent.projected_gradient_descent\u001b[0m:\u001b[36mgenerate\u001b[0m:\u001b[36m199\u001b[0m Creating adversarial samples.\n",
                        "2023-06-26 14:38:53 5m40s \u001b[1mINFO    \u001b[0m \u001b[36mart.attacks.evasion.projected_gradient_descent.projected_gradient_descent_pytorch\u001b[0m:\u001b[36mgenerate\u001b[0m:\u001b[36m237\u001b[0m Success rate of attack: 70.31%\n"
                    ]
                },
                {
                    "name": "stderr",
                    "output_type": "stream",
                    "text": [
                        "Evaluation:  52%|█████▏    | 82/157 [04:45<04:59,  4.00s/it]"
                    ]
                },
                {
                    "name": "stdout",
                    "output_type": "stream",
                    "text": [
                        "2023-06-26 14:38:53 5m40s \u001b[1mINFO    \u001b[0m \u001b[36mart.attacks.evasion.projected_gradient_descent.projected_gradient_descent\u001b[0m:\u001b[36mgenerate\u001b[0m:\u001b[36m199\u001b[0m Creating adversarial samples.\n",
                        "2023-06-26 14:38:57 5m44s \u001b[1mINFO    \u001b[0m \u001b[36mart.attacks.evasion.projected_gradient_descent.projected_gradient_descent_pytorch\u001b[0m:\u001b[36mgenerate\u001b[0m:\u001b[36m237\u001b[0m Success rate of attack: 68.75%\n"
                    ]
                },
                {
                    "name": "stderr",
                    "output_type": "stream",
                    "text": [
                        "Evaluation:  53%|█████▎    | 83/157 [04:49<04:55,  3.99s/it]"
                    ]
                },
                {
                    "name": "stdout",
                    "output_type": "stream",
                    "text": [
                        "2023-06-26 14:38:57 5m44s \u001b[1mINFO    \u001b[0m \u001b[36mart.attacks.evasion.projected_gradient_descent.projected_gradient_descent\u001b[0m:\u001b[36mgenerate\u001b[0m:\u001b[36m199\u001b[0m Creating adversarial samples.\n",
                        "2023-06-26 14:39:01 5m48s \u001b[1mINFO    \u001b[0m \u001b[36mart.attacks.evasion.projected_gradient_descent.projected_gradient_descent_pytorch\u001b[0m:\u001b[36mgenerate\u001b[0m:\u001b[36m237\u001b[0m Success rate of attack: 78.12%\n"
                    ]
                },
                {
                    "name": "stderr",
                    "output_type": "stream",
                    "text": [
                        "Evaluation:  54%|█████▎    | 84/157 [04:53<04:51,  3.99s/it]"
                    ]
                },
                {
                    "name": "stdout",
                    "output_type": "stream",
                    "text": [
                        "2023-06-26 14:39:01 5m48s \u001b[1mINFO    \u001b[0m \u001b[36mart.attacks.evasion.projected_gradient_descent.projected_gradient_descent\u001b[0m:\u001b[36mgenerate\u001b[0m:\u001b[36m199\u001b[0m Creating adversarial samples.\n",
                        "2023-06-26 14:39:05 5m52s \u001b[1mINFO    \u001b[0m \u001b[36mart.attacks.evasion.projected_gradient_descent.projected_gradient_descent_pytorch\u001b[0m:\u001b[36mgenerate\u001b[0m:\u001b[36m237\u001b[0m Success rate of attack: 71.88%\n"
                    ]
                },
                {
                    "name": "stderr",
                    "output_type": "stream",
                    "text": [
                        "Evaluation:  54%|█████▍    | 85/157 [04:57<04:47,  3.99s/it]"
                    ]
                },
                {
                    "name": "stdout",
                    "output_type": "stream",
                    "text": [
                        "2023-06-26 14:39:05 5m52s \u001b[1mINFO    \u001b[0m \u001b[36mart.attacks.evasion.projected_gradient_descent.projected_gradient_descent\u001b[0m:\u001b[36mgenerate\u001b[0m:\u001b[36m199\u001b[0m Creating adversarial samples.\n",
                        "2023-06-26 14:39:09 5m56s \u001b[1mINFO    \u001b[0m \u001b[36mart.attacks.evasion.projected_gradient_descent.projected_gradient_descent_pytorch\u001b[0m:\u001b[36mgenerate\u001b[0m:\u001b[36m237\u001b[0m Success rate of attack: 71.88%\n"
                    ]
                },
                {
                    "name": "stderr",
                    "output_type": "stream",
                    "text": [
                        "Evaluation:  55%|█████▍    | 86/157 [05:01<04:45,  4.02s/it]"
                    ]
                },
                {
                    "name": "stdout",
                    "output_type": "stream",
                    "text": [
                        "2023-06-26 14:39:09 5m56s \u001b[1mINFO    \u001b[0m \u001b[36mart.attacks.evasion.projected_gradient_descent.projected_gradient_descent\u001b[0m:\u001b[36mgenerate\u001b[0m:\u001b[36m199\u001b[0m Creating adversarial samples.\n",
                        "2023-06-26 14:39:13  6m \u001b[1mINFO    \u001b[0m \u001b[36mart.attacks.evasion.projected_gradient_descent.projected_gradient_descent_pytorch\u001b[0m:\u001b[36mgenerate\u001b[0m:\u001b[36m237\u001b[0m Success rate of attack: 81.25%\n"
                    ]
                },
                {
                    "name": "stderr",
                    "output_type": "stream",
                    "text": [
                        "Evaluation:  55%|█████▌    | 87/157 [05:05<04:41,  4.02s/it]"
                    ]
                },
                {
                    "name": "stdout",
                    "output_type": "stream",
                    "text": [
                        "2023-06-26 14:39:13  6m \u001b[1mINFO    \u001b[0m \u001b[36mart.attacks.evasion.projected_gradient_descent.projected_gradient_descent\u001b[0m:\u001b[36mgenerate\u001b[0m:\u001b[36m199\u001b[0m Creating adversarial samples.\n",
                        "2023-06-26 14:39:17 6m4s \u001b[1mINFO    \u001b[0m \u001b[36mart.attacks.evasion.projected_gradient_descent.projected_gradient_descent_pytorch\u001b[0m:\u001b[36mgenerate\u001b[0m:\u001b[36m237\u001b[0m Success rate of attack: 76.56%\n"
                    ]
                },
                {
                    "name": "stderr",
                    "output_type": "stream",
                    "text": [
                        "Evaluation:  56%|█████▌    | 88/157 [05:09<04:34,  3.98s/it]"
                    ]
                },
                {
                    "name": "stdout",
                    "output_type": "stream",
                    "text": [
                        "2023-06-26 14:39:17 6m4s \u001b[1mINFO    \u001b[0m \u001b[36mart.attacks.evasion.projected_gradient_descent.projected_gradient_descent\u001b[0m:\u001b[36mgenerate\u001b[0m:\u001b[36m199\u001b[0m Creating adversarial samples.\n",
                        "2023-06-26 14:39:21 6m8s \u001b[1mINFO    \u001b[0m \u001b[36mart.attacks.evasion.projected_gradient_descent.projected_gradient_descent_pytorch\u001b[0m:\u001b[36mgenerate\u001b[0m:\u001b[36m237\u001b[0m Success rate of attack: 73.44%\n"
                    ]
                },
                {
                    "name": "stderr",
                    "output_type": "stream",
                    "text": [
                        "Evaluation:  57%|█████▋    | 89/157 [05:13<04:27,  3.94s/it]"
                    ]
                },
                {
                    "name": "stdout",
                    "output_type": "stream",
                    "text": [
                        "2023-06-26 14:39:21 6m8s \u001b[1mINFO    \u001b[0m \u001b[36mart.attacks.evasion.projected_gradient_descent.projected_gradient_descent\u001b[0m:\u001b[36mgenerate\u001b[0m:\u001b[36m199\u001b[0m Creating adversarial samples.\n",
                        "2023-06-26 14:39:25 6m12s \u001b[1mINFO    \u001b[0m \u001b[36mart.attacks.evasion.projected_gradient_descent.projected_gradient_descent_pytorch\u001b[0m:\u001b[36mgenerate\u001b[0m:\u001b[36m237\u001b[0m Success rate of attack: 78.12%\n"
                    ]
                },
                {
                    "name": "stderr",
                    "output_type": "stream",
                    "text": [
                        "Evaluation:  57%|█████▋    | 90/157 [05:17<04:23,  3.93s/it]"
                    ]
                },
                {
                    "name": "stdout",
                    "output_type": "stream",
                    "text": [
                        "2023-06-26 14:39:25 6m12s \u001b[1mINFO    \u001b[0m \u001b[36mart.attacks.evasion.projected_gradient_descent.projected_gradient_descent\u001b[0m:\u001b[36mgenerate\u001b[0m:\u001b[36m199\u001b[0m Creating adversarial samples.\n",
                        "2023-06-26 14:39:29 6m16s \u001b[1mINFO    \u001b[0m \u001b[36mart.attacks.evasion.projected_gradient_descent.projected_gradient_descent_pytorch\u001b[0m:\u001b[36mgenerate\u001b[0m:\u001b[36m237\u001b[0m Success rate of attack: 73.44%\n"
                    ]
                },
                {
                    "name": "stderr",
                    "output_type": "stream",
                    "text": [
                        "Evaluation:  58%|█████▊    | 91/157 [05:21<04:19,  3.94s/it]"
                    ]
                },
                {
                    "name": "stdout",
                    "output_type": "stream",
                    "text": [
                        "2023-06-26 14:39:29 6m16s \u001b[1mINFO    \u001b[0m \u001b[36mart.attacks.evasion.projected_gradient_descent.projected_gradient_descent\u001b[0m:\u001b[36mgenerate\u001b[0m:\u001b[36m199\u001b[0m Creating adversarial samples.\n",
                        "2023-06-26 14:39:33 6m20s \u001b[1mINFO    \u001b[0m \u001b[36mart.attacks.evasion.projected_gradient_descent.projected_gradient_descent_pytorch\u001b[0m:\u001b[36mgenerate\u001b[0m:\u001b[36m237\u001b[0m Success rate of attack: 64.06%\n"
                    ]
                },
                {
                    "name": "stderr",
                    "output_type": "stream",
                    "text": [
                        "Evaluation:  59%|█████▊    | 92/157 [05:25<04:17,  3.96s/it]"
                    ]
                },
                {
                    "name": "stdout",
                    "output_type": "stream",
                    "text": [
                        "2023-06-26 14:39:33 6m20s \u001b[1mINFO    \u001b[0m \u001b[36mart.attacks.evasion.projected_gradient_descent.projected_gradient_descent\u001b[0m:\u001b[36mgenerate\u001b[0m:\u001b[36m199\u001b[0m Creating adversarial samples.\n",
                        "2023-06-26 14:39:37 6m24s \u001b[1mINFO    \u001b[0m \u001b[36mart.attacks.evasion.projected_gradient_descent.projected_gradient_descent_pytorch\u001b[0m:\u001b[36mgenerate\u001b[0m:\u001b[36m237\u001b[0m Success rate of attack: 56.25%\n"
                    ]
                },
                {
                    "name": "stderr",
                    "output_type": "stream",
                    "text": [
                        "Evaluation:  59%|█████▉    | 93/157 [05:29<04:14,  3.98s/it]"
                    ]
                },
                {
                    "name": "stdout",
                    "output_type": "stream",
                    "text": [
                        "2023-06-26 14:39:37 6m24s \u001b[1mINFO    \u001b[0m \u001b[36mart.attacks.evasion.projected_gradient_descent.projected_gradient_descent\u001b[0m:\u001b[36mgenerate\u001b[0m:\u001b[36m199\u001b[0m Creating adversarial samples.\n",
                        "2023-06-26 14:39:41 6m28s \u001b[1mINFO    \u001b[0m \u001b[36mart.attacks.evasion.projected_gradient_descent.projected_gradient_descent_pytorch\u001b[0m:\u001b[36mgenerate\u001b[0m:\u001b[36m237\u001b[0m Success rate of attack: 70.31%\n"
                    ]
                },
                {
                    "name": "stderr",
                    "output_type": "stream",
                    "text": [
                        "Evaluation:  60%|█████▉    | 94/157 [05:33<04:10,  3.98s/it]"
                    ]
                },
                {
                    "name": "stdout",
                    "output_type": "stream",
                    "text": [
                        "2023-06-26 14:39:41 6m28s \u001b[1mINFO    \u001b[0m \u001b[36mart.attacks.evasion.projected_gradient_descent.projected_gradient_descent\u001b[0m:\u001b[36mgenerate\u001b[0m:\u001b[36m199\u001b[0m Creating adversarial samples.\n",
                        "2023-06-26 14:39:45 6m32s \u001b[1mINFO    \u001b[0m \u001b[36mart.attacks.evasion.projected_gradient_descent.projected_gradient_descent_pytorch\u001b[0m:\u001b[36mgenerate\u001b[0m:\u001b[36m237\u001b[0m Success rate of attack: 53.12%\n"
                    ]
                },
                {
                    "name": "stderr",
                    "output_type": "stream",
                    "text": [
                        "Evaluation:  61%|██████    | 95/157 [05:37<04:08,  4.01s/it]"
                    ]
                },
                {
                    "name": "stdout",
                    "output_type": "stream",
                    "text": [
                        "2023-06-26 14:39:45 6m32s \u001b[1mINFO    \u001b[0m \u001b[36mart.attacks.evasion.projected_gradient_descent.projected_gradient_descent\u001b[0m:\u001b[36mgenerate\u001b[0m:\u001b[36m199\u001b[0m Creating adversarial samples.\n",
                        "2023-06-26 14:39:49 6m36s \u001b[1mINFO    \u001b[0m \u001b[36mart.attacks.evasion.projected_gradient_descent.projected_gradient_descent_pytorch\u001b[0m:\u001b[36mgenerate\u001b[0m:\u001b[36m237\u001b[0m Success rate of attack: 71.88%\n"
                    ]
                },
                {
                    "name": "stderr",
                    "output_type": "stream",
                    "text": [
                        "Evaluation:  61%|██████    | 96/157 [05:41<04:00,  3.94s/it]"
                    ]
                },
                {
                    "name": "stdout",
                    "output_type": "stream",
                    "text": [
                        "2023-06-26 14:39:49 6m36s \u001b[1mINFO    \u001b[0m \u001b[36mart.attacks.evasion.projected_gradient_descent.projected_gradient_descent\u001b[0m:\u001b[36mgenerate\u001b[0m:\u001b[36m199\u001b[0m Creating adversarial samples.\n",
                        "2023-06-26 14:39:52 6m39s \u001b[1mINFO    \u001b[0m \u001b[36mart.attacks.evasion.projected_gradient_descent.projected_gradient_descent_pytorch\u001b[0m:\u001b[36mgenerate\u001b[0m:\u001b[36m237\u001b[0m Success rate of attack: 64.06%\n"
                    ]
                },
                {
                    "name": "stderr",
                    "output_type": "stream",
                    "text": [
                        "Evaluation:  62%|██████▏   | 97/157 [05:44<03:50,  3.84s/it]"
                    ]
                },
                {
                    "name": "stdout",
                    "output_type": "stream",
                    "text": [
                        "2023-06-26 14:39:52 6m39s \u001b[1mINFO    \u001b[0m \u001b[36mart.attacks.evasion.projected_gradient_descent.projected_gradient_descent\u001b[0m:\u001b[36mgenerate\u001b[0m:\u001b[36m199\u001b[0m Creating adversarial samples.\n",
                        "2023-06-26 14:39:56 6m43s \u001b[1mINFO    \u001b[0m \u001b[36mart.attacks.evasion.projected_gradient_descent.projected_gradient_descent_pytorch\u001b[0m:\u001b[36mgenerate\u001b[0m:\u001b[36m237\u001b[0m Success rate of attack: 70.31%\n"
                    ]
                },
                {
                    "name": "stderr",
                    "output_type": "stream",
                    "text": [
                        "Evaluation:  62%|██████▏   | 98/157 [05:48<03:48,  3.87s/it]"
                    ]
                },
                {
                    "name": "stdout",
                    "output_type": "stream",
                    "text": [
                        "2023-06-26 14:39:56 6m43s \u001b[1mINFO    \u001b[0m \u001b[36mart.attacks.evasion.projected_gradient_descent.projected_gradient_descent\u001b[0m:\u001b[36mgenerate\u001b[0m:\u001b[36m199\u001b[0m Creating adversarial samples.\n",
                        "2023-06-26 14:40:00 6m47s \u001b[1mINFO    \u001b[0m \u001b[36mart.attacks.evasion.projected_gradient_descent.projected_gradient_descent_pytorch\u001b[0m:\u001b[36mgenerate\u001b[0m:\u001b[36m237\u001b[0m Success rate of attack: 65.62%\n"
                    ]
                },
                {
                    "name": "stderr",
                    "output_type": "stream",
                    "text": [
                        "Evaluation:  63%|██████▎   | 99/157 [05:52<03:47,  3.92s/it]"
                    ]
                },
                {
                    "name": "stdout",
                    "output_type": "stream",
                    "text": [
                        "2023-06-26 14:40:00 6m47s \u001b[1mINFO    \u001b[0m \u001b[36mart.attacks.evasion.projected_gradient_descent.projected_gradient_descent\u001b[0m:\u001b[36mgenerate\u001b[0m:\u001b[36m199\u001b[0m Creating adversarial samples.\n",
                        "2023-06-26 14:40:04 6m51s \u001b[1mINFO    \u001b[0m \u001b[36mart.attacks.evasion.projected_gradient_descent.projected_gradient_descent_pytorch\u001b[0m:\u001b[36mgenerate\u001b[0m:\u001b[36m237\u001b[0m Success rate of attack: 71.88%\n"
                    ]
                },
                {
                    "name": "stderr",
                    "output_type": "stream",
                    "text": [
                        "Evaluation:  64%|██████▎   | 100/157 [05:57<03:46,  3.98s/it]"
                    ]
                },
                {
                    "name": "stdout",
                    "output_type": "stream",
                    "text": [
                        "2023-06-26 14:40:04 6m51s \u001b[1mINFO    \u001b[0m \u001b[36mart.attacks.evasion.projected_gradient_descent.projected_gradient_descent\u001b[0m:\u001b[36mgenerate\u001b[0m:\u001b[36m199\u001b[0m Creating adversarial samples.\n",
                        "2023-06-26 14:40:08 6m55s \u001b[1mINFO    \u001b[0m \u001b[36mart.attacks.evasion.projected_gradient_descent.projected_gradient_descent_pytorch\u001b[0m:\u001b[36mgenerate\u001b[0m:\u001b[36m237\u001b[0m Success rate of attack: 73.44%\n"
                    ]
                },
                {
                    "name": "stderr",
                    "output_type": "stream",
                    "text": [
                        "Evaluation:  64%|██████▍   | 101/157 [06:00<03:42,  3.97s/it]"
                    ]
                },
                {
                    "name": "stdout",
                    "output_type": "stream",
                    "text": [
                        "2023-06-26 14:40:08 6m55s \u001b[1mINFO    \u001b[0m \u001b[36mart.attacks.evasion.projected_gradient_descent.projected_gradient_descent\u001b[0m:\u001b[36mgenerate\u001b[0m:\u001b[36m199\u001b[0m Creating adversarial samples.\n",
                        "2023-06-26 14:40:12 6m59s \u001b[1mINFO    \u001b[0m \u001b[36mart.attacks.evasion.projected_gradient_descent.projected_gradient_descent_pytorch\u001b[0m:\u001b[36mgenerate\u001b[0m:\u001b[36m237\u001b[0m Success rate of attack: 78.12%\n"
                    ]
                },
                {
                    "name": "stderr",
                    "output_type": "stream",
                    "text": [
                        "Evaluation:  65%|██████▍   | 102/157 [06:05<03:39,  3.99s/it]"
                    ]
                },
                {
                    "name": "stdout",
                    "output_type": "stream",
                    "text": [
                        "2023-06-26 14:40:12 6m59s \u001b[1mINFO    \u001b[0m \u001b[36mart.attacks.evasion.projected_gradient_descent.projected_gradient_descent\u001b[0m:\u001b[36mgenerate\u001b[0m:\u001b[36m199\u001b[0m Creating adversarial samples.\n",
                        "2023-06-26 14:40:16 7m3s \u001b[1mINFO    \u001b[0m \u001b[36mart.attacks.evasion.projected_gradient_descent.projected_gradient_descent_pytorch\u001b[0m:\u001b[36mgenerate\u001b[0m:\u001b[36m237\u001b[0m Success rate of attack: 70.31%\n"
                    ]
                },
                {
                    "name": "stderr",
                    "output_type": "stream",
                    "text": [
                        "Evaluation:  66%|██████▌   | 103/157 [06:08<03:33,  3.95s/it]"
                    ]
                },
                {
                    "name": "stdout",
                    "output_type": "stream",
                    "text": [
                        "2023-06-26 14:40:16 7m3s \u001b[1mINFO    \u001b[0m \u001b[36mart.attacks.evasion.projected_gradient_descent.projected_gradient_descent\u001b[0m:\u001b[36mgenerate\u001b[0m:\u001b[36m199\u001b[0m Creating adversarial samples.\n",
                        "2023-06-26 14:40:20 7m7s \u001b[1mINFO    \u001b[0m \u001b[36mart.attacks.evasion.projected_gradient_descent.projected_gradient_descent_pytorch\u001b[0m:\u001b[36mgenerate\u001b[0m:\u001b[36m237\u001b[0m Success rate of attack: 57.81%\n"
                    ]
                },
                {
                    "name": "stderr",
                    "output_type": "stream",
                    "text": [
                        "Evaluation:  66%|██████▌   | 104/157 [06:12<03:29,  3.96s/it]"
                    ]
                },
                {
                    "name": "stdout",
                    "output_type": "stream",
                    "text": [
                        "2023-06-26 14:40:20 7m7s \u001b[1mINFO    \u001b[0m \u001b[36mart.attacks.evasion.projected_gradient_descent.projected_gradient_descent\u001b[0m:\u001b[36mgenerate\u001b[0m:\u001b[36m199\u001b[0m Creating adversarial samples.\n",
                        "2023-06-26 14:40:24 7m11s \u001b[1mINFO    \u001b[0m \u001b[36mart.attacks.evasion.projected_gradient_descent.projected_gradient_descent_pytorch\u001b[0m:\u001b[36mgenerate\u001b[0m:\u001b[36m237\u001b[0m Success rate of attack: 78.12%\n"
                    ]
                },
                {
                    "name": "stderr",
                    "output_type": "stream",
                    "text": [
                        "Evaluation:  67%|██████▋   | 105/157 [06:16<03:25,  3.95s/it]"
                    ]
                },
                {
                    "name": "stdout",
                    "output_type": "stream",
                    "text": [
                        "2023-06-26 14:40:24 7m11s \u001b[1mINFO    \u001b[0m \u001b[36mart.attacks.evasion.projected_gradient_descent.projected_gradient_descent\u001b[0m:\u001b[36mgenerate\u001b[0m:\u001b[36m199\u001b[0m Creating adversarial samples.\n",
                        "2023-06-26 14:40:28 7m15s \u001b[1mINFO    \u001b[0m \u001b[36mart.attacks.evasion.projected_gradient_descent.projected_gradient_descent_pytorch\u001b[0m:\u001b[36mgenerate\u001b[0m:\u001b[36m237\u001b[0m Success rate of attack: 70.31%\n"
                    ]
                },
                {
                    "name": "stderr",
                    "output_type": "stream",
                    "text": [
                        "Evaluation:  68%|██████▊   | 106/157 [06:20<03:21,  3.96s/it]"
                    ]
                },
                {
                    "name": "stdout",
                    "output_type": "stream",
                    "text": [
                        "2023-06-26 14:40:28 7m15s \u001b[1mINFO    \u001b[0m \u001b[36mart.attacks.evasion.projected_gradient_descent.projected_gradient_descent\u001b[0m:\u001b[36mgenerate\u001b[0m:\u001b[36m199\u001b[0m Creating adversarial samples.\n",
                        "2023-06-26 14:40:32 7m19s \u001b[1mINFO    \u001b[0m \u001b[36mart.attacks.evasion.projected_gradient_descent.projected_gradient_descent_pytorch\u001b[0m:\u001b[36mgenerate\u001b[0m:\u001b[36m237\u001b[0m Success rate of attack: 75.00%\n"
                    ]
                },
                {
                    "name": "stderr",
                    "output_type": "stream",
                    "text": [
                        "Evaluation:  68%|██████▊   | 107/157 [06:24<03:14,  3.89s/it]"
                    ]
                },
                {
                    "name": "stdout",
                    "output_type": "stream",
                    "text": [
                        "2023-06-26 14:40:32 7m19s \u001b[1mINFO    \u001b[0m \u001b[36mart.attacks.evasion.projected_gradient_descent.projected_gradient_descent\u001b[0m:\u001b[36mgenerate\u001b[0m:\u001b[36m199\u001b[0m Creating adversarial samples.\n",
                        "2023-06-26 14:40:35 7m22s \u001b[1mINFO    \u001b[0m \u001b[36mart.attacks.evasion.projected_gradient_descent.projected_gradient_descent_pytorch\u001b[0m:\u001b[36mgenerate\u001b[0m:\u001b[36m237\u001b[0m Success rate of attack: 62.50%\n"
                    ]
                },
                {
                    "name": "stderr",
                    "output_type": "stream",
                    "text": [
                        "Evaluation:  69%|██████▉   | 108/157 [06:27<03:00,  3.68s/it]"
                    ]
                },
                {
                    "name": "stdout",
                    "output_type": "stream",
                    "text": [
                        "2023-06-26 14:40:35 7m22s \u001b[1mINFO    \u001b[0m \u001b[36mart.attacks.evasion.projected_gradient_descent.projected_gradient_descent\u001b[0m:\u001b[36mgenerate\u001b[0m:\u001b[36m199\u001b[0m Creating adversarial samples.\n",
                        "2023-06-26 14:40:38 7m25s \u001b[1mINFO    \u001b[0m \u001b[36mart.attacks.evasion.projected_gradient_descent.projected_gradient_descent_pytorch\u001b[0m:\u001b[36mgenerate\u001b[0m:\u001b[36m237\u001b[0m Success rate of attack: 75.00%\n"
                    ]
                },
                {
                    "name": "stderr",
                    "output_type": "stream",
                    "text": [
                        "Evaluation:  69%|██████▉   | 109/157 [06:30<02:50,  3.55s/it]"
                    ]
                },
                {
                    "name": "stdout",
                    "output_type": "stream",
                    "text": [
                        "2023-06-26 14:40:38 7m25s \u001b[1mINFO    \u001b[0m \u001b[36mart.attacks.evasion.projected_gradient_descent.projected_gradient_descent\u001b[0m:\u001b[36mgenerate\u001b[0m:\u001b[36m199\u001b[0m Creating adversarial samples.\n",
                        "2023-06-26 14:40:41 7m28s \u001b[1mINFO    \u001b[0m \u001b[36mart.attacks.evasion.projected_gradient_descent.projected_gradient_descent_pytorch\u001b[0m:\u001b[36mgenerate\u001b[0m:\u001b[36m237\u001b[0m Success rate of attack: 73.44%\n"
                    ]
                },
                {
                    "name": "stderr",
                    "output_type": "stream",
                    "text": [
                        "Evaluation:  70%|███████   | 110/157 [06:34<02:40,  3.42s/it]"
                    ]
                },
                {
                    "name": "stdout",
                    "output_type": "stream",
                    "text": [
                        "2023-06-26 14:40:41 7m28s \u001b[1mINFO    \u001b[0m \u001b[36mart.attacks.evasion.projected_gradient_descent.projected_gradient_descent\u001b[0m:\u001b[36mgenerate\u001b[0m:\u001b[36m199\u001b[0m Creating adversarial samples.\n",
                        "2023-06-26 14:40:44 7m31s \u001b[1mINFO    \u001b[0m \u001b[36mart.attacks.evasion.projected_gradient_descent.projected_gradient_descent_pytorch\u001b[0m:\u001b[36mgenerate\u001b[0m:\u001b[36m237\u001b[0m Success rate of attack: 78.12%\n"
                    ]
                },
                {
                    "name": "stderr",
                    "output_type": "stream",
                    "text": [
                        "Evaluation:  71%|███████   | 111/157 [06:36<02:31,  3.28s/it]"
                    ]
                },
                {
                    "name": "stdout",
                    "output_type": "stream",
                    "text": [
                        "2023-06-26 14:40:44 7m31s \u001b[1mINFO    \u001b[0m \u001b[36mart.attacks.evasion.projected_gradient_descent.projected_gradient_descent\u001b[0m:\u001b[36mgenerate\u001b[0m:\u001b[36m199\u001b[0m Creating adversarial samples.\n",
                        "2023-06-26 14:40:47 7m34s \u001b[1mINFO    \u001b[0m \u001b[36mart.attacks.evasion.projected_gradient_descent.projected_gradient_descent_pytorch\u001b[0m:\u001b[36mgenerate\u001b[0m:\u001b[36m237\u001b[0m Success rate of attack: 67.19%\n"
                    ]
                },
                {
                    "name": "stderr",
                    "output_type": "stream",
                    "text": [
                        "Evaluation:  71%|███████▏  | 112/157 [06:39<02:23,  3.19s/it]"
                    ]
                },
                {
                    "name": "stdout",
                    "output_type": "stream",
                    "text": [
                        "2023-06-26 14:40:47 7m34s \u001b[1mINFO    \u001b[0m \u001b[36mart.attacks.evasion.projected_gradient_descent.projected_gradient_descent\u001b[0m:\u001b[36mgenerate\u001b[0m:\u001b[36m199\u001b[0m Creating adversarial samples.\n",
                        "2023-06-26 14:40:50 7m37s \u001b[1mINFO    \u001b[0m \u001b[36mart.attacks.evasion.projected_gradient_descent.projected_gradient_descent_pytorch\u001b[0m:\u001b[36mgenerate\u001b[0m:\u001b[36m237\u001b[0m Success rate of attack: 62.50%\n"
                    ]
                },
                {
                    "name": "stderr",
                    "output_type": "stream",
                    "text": [
                        "Evaluation:  72%|███████▏  | 113/157 [06:43<02:18,  3.15s/it]"
                    ]
                },
                {
                    "name": "stdout",
                    "output_type": "stream",
                    "text": [
                        "2023-06-26 14:40:50 7m37s \u001b[1mINFO    \u001b[0m \u001b[36mart.attacks.evasion.projected_gradient_descent.projected_gradient_descent\u001b[0m:\u001b[36mgenerate\u001b[0m:\u001b[36m199\u001b[0m Creating adversarial samples.\n",
                        "2023-06-26 14:40:53 7m40s \u001b[1mINFO    \u001b[0m \u001b[36mart.attacks.evasion.projected_gradient_descent.projected_gradient_descent_pytorch\u001b[0m:\u001b[36mgenerate\u001b[0m:\u001b[36m237\u001b[0m Success rate of attack: 71.88%\n"
                    ]
                },
                {
                    "name": "stderr",
                    "output_type": "stream",
                    "text": [
                        "Evaluation:  73%|███████▎  | 114/157 [06:46<02:15,  3.14s/it]"
                    ]
                },
                {
                    "name": "stdout",
                    "output_type": "stream",
                    "text": [
                        "2023-06-26 14:40:53 7m40s \u001b[1mINFO    \u001b[0m \u001b[36mart.attacks.evasion.projected_gradient_descent.projected_gradient_descent\u001b[0m:\u001b[36mgenerate\u001b[0m:\u001b[36m199\u001b[0m Creating adversarial samples.\n",
                        "2023-06-26 14:40:57 7m44s \u001b[1mINFO    \u001b[0m \u001b[36mart.attacks.evasion.projected_gradient_descent.projected_gradient_descent_pytorch\u001b[0m:\u001b[36mgenerate\u001b[0m:\u001b[36m237\u001b[0m Success rate of attack: 81.25%\n"
                    ]
                },
                {
                    "name": "stderr",
                    "output_type": "stream",
                    "text": [
                        "Evaluation:  73%|███████▎  | 115/157 [06:49<02:12,  3.15s/it]"
                    ]
                },
                {
                    "name": "stdout",
                    "output_type": "stream",
                    "text": [
                        "2023-06-26 14:40:57 7m44s \u001b[1mINFO    \u001b[0m \u001b[36mart.attacks.evasion.projected_gradient_descent.projected_gradient_descent\u001b[0m:\u001b[36mgenerate\u001b[0m:\u001b[36m199\u001b[0m Creating adversarial samples.\n",
                        "2023-06-26 14:41:00 7m47s \u001b[1mINFO    \u001b[0m \u001b[36mart.attacks.evasion.projected_gradient_descent.projected_gradient_descent_pytorch\u001b[0m:\u001b[36mgenerate\u001b[0m:\u001b[36m237\u001b[0m Success rate of attack: 71.88%\n"
                    ]
                },
                {
                    "name": "stderr",
                    "output_type": "stream",
                    "text": [
                        "Evaluation:  74%|███████▍  | 116/157 [06:52<02:07,  3.10s/it]"
                    ]
                },
                {
                    "name": "stdout",
                    "output_type": "stream",
                    "text": [
                        "2023-06-26 14:41:00 7m47s \u001b[1mINFO    \u001b[0m \u001b[36mart.attacks.evasion.projected_gradient_descent.projected_gradient_descent\u001b[0m:\u001b[36mgenerate\u001b[0m:\u001b[36m199\u001b[0m Creating adversarial samples.\n",
                        "2023-06-26 14:41:03 7m50s \u001b[1mINFO    \u001b[0m \u001b[36mart.attacks.evasion.projected_gradient_descent.projected_gradient_descent_pytorch\u001b[0m:\u001b[36mgenerate\u001b[0m:\u001b[36m237\u001b[0m Success rate of attack: 73.44%\n"
                    ]
                },
                {
                    "name": "stderr",
                    "output_type": "stream",
                    "text": [
                        "Evaluation:  75%|███████▍  | 117/157 [06:55<02:02,  3.06s/it]"
                    ]
                },
                {
                    "name": "stdout",
                    "output_type": "stream",
                    "text": [
                        "2023-06-26 14:41:03 7m50s \u001b[1mINFO    \u001b[0m \u001b[36mart.attacks.evasion.projected_gradient_descent.projected_gradient_descent\u001b[0m:\u001b[36mgenerate\u001b[0m:\u001b[36m199\u001b[0m Creating adversarial samples.\n",
                        "2023-06-26 14:41:05 7m52s \u001b[1mINFO    \u001b[0m \u001b[36mart.attacks.evasion.projected_gradient_descent.projected_gradient_descent_pytorch\u001b[0m:\u001b[36mgenerate\u001b[0m:\u001b[36m237\u001b[0m Success rate of attack: 71.88%\n"
                    ]
                },
                {
                    "name": "stderr",
                    "output_type": "stream",
                    "text": [
                        "Evaluation:  75%|███████▌  | 118/157 [06:58<01:56,  2.99s/it]"
                    ]
                },
                {
                    "name": "stdout",
                    "output_type": "stream",
                    "text": [
                        "2023-06-26 14:41:05 7m52s \u001b[1mINFO    \u001b[0m \u001b[36mart.attacks.evasion.projected_gradient_descent.projected_gradient_descent\u001b[0m:\u001b[36mgenerate\u001b[0m:\u001b[36m199\u001b[0m Creating adversarial samples.\n",
                        "2023-06-26 14:41:08 7m55s \u001b[1mINFO    \u001b[0m \u001b[36mart.attacks.evasion.projected_gradient_descent.projected_gradient_descent_pytorch\u001b[0m:\u001b[36mgenerate\u001b[0m:\u001b[36m237\u001b[0m Success rate of attack: 78.12%\n"
                    ]
                },
                {
                    "name": "stderr",
                    "output_type": "stream",
                    "text": [
                        "Evaluation:  76%|███████▌  | 119/157 [07:01<01:53,  2.99s/it]"
                    ]
                },
                {
                    "name": "stdout",
                    "output_type": "stream",
                    "text": [
                        "2023-06-26 14:41:08 7m55s \u001b[1mINFO    \u001b[0m \u001b[36mart.attacks.evasion.projected_gradient_descent.projected_gradient_descent\u001b[0m:\u001b[36mgenerate\u001b[0m:\u001b[36m199\u001b[0m Creating adversarial samples.\n",
                        "2023-06-26 14:41:11 7m58s \u001b[1mINFO    \u001b[0m \u001b[36mart.attacks.evasion.projected_gradient_descent.projected_gradient_descent_pytorch\u001b[0m:\u001b[36mgenerate\u001b[0m:\u001b[36m237\u001b[0m Success rate of attack: 78.12%\n"
                    ]
                },
                {
                    "name": "stderr",
                    "output_type": "stream",
                    "text": [
                        "Evaluation:  76%|███████▋  | 120/157 [07:04<01:50,  2.98s/it]"
                    ]
                },
                {
                    "name": "stdout",
                    "output_type": "stream",
                    "text": [
                        "2023-06-26 14:41:11 7m58s \u001b[1mINFO    \u001b[0m \u001b[36mart.attacks.evasion.projected_gradient_descent.projected_gradient_descent\u001b[0m:\u001b[36mgenerate\u001b[0m:\u001b[36m199\u001b[0m Creating adversarial samples.\n",
                        "2023-06-26 14:41:15 8m2s \u001b[1mINFO    \u001b[0m \u001b[36mart.attacks.evasion.projected_gradient_descent.projected_gradient_descent_pytorch\u001b[0m:\u001b[36mgenerate\u001b[0m:\u001b[36m237\u001b[0m Success rate of attack: 71.88%\n"
                    ]
                },
                {
                    "name": "stderr",
                    "output_type": "stream",
                    "text": [
                        "Evaluation:  77%|███████▋  | 121/157 [07:07<01:51,  3.09s/it]"
                    ]
                },
                {
                    "name": "stdout",
                    "output_type": "stream",
                    "text": [
                        "2023-06-26 14:41:15 8m2s \u001b[1mINFO    \u001b[0m \u001b[36mart.attacks.evasion.projected_gradient_descent.projected_gradient_descent\u001b[0m:\u001b[36mgenerate\u001b[0m:\u001b[36m199\u001b[0m Creating adversarial samples.\n",
                        "2023-06-26 14:41:18 8m5s \u001b[1mINFO    \u001b[0m \u001b[36mart.attacks.evasion.projected_gradient_descent.projected_gradient_descent_pytorch\u001b[0m:\u001b[36mgenerate\u001b[0m:\u001b[36m237\u001b[0m Success rate of attack: 75.00%\n"
                    ]
                },
                {
                    "name": "stderr",
                    "output_type": "stream",
                    "text": [
                        "Evaluation:  78%|███████▊  | 122/157 [07:10<01:51,  3.19s/it]"
                    ]
                },
                {
                    "name": "stdout",
                    "output_type": "stream",
                    "text": [
                        "2023-06-26 14:41:18 8m5s \u001b[1mINFO    \u001b[0m \u001b[36mart.attacks.evasion.projected_gradient_descent.projected_gradient_descent\u001b[0m:\u001b[36mgenerate\u001b[0m:\u001b[36m199\u001b[0m Creating adversarial samples.\n",
                        "2023-06-26 14:41:22 8m9s \u001b[1mINFO    \u001b[0m \u001b[36mart.attacks.evasion.projected_gradient_descent.projected_gradient_descent_pytorch\u001b[0m:\u001b[36mgenerate\u001b[0m:\u001b[36m237\u001b[0m Success rate of attack: 75.00%\n"
                    ]
                },
                {
                    "name": "stderr",
                    "output_type": "stream",
                    "text": [
                        "Evaluation:  78%|███████▊  | 123/157 [07:14<01:55,  3.40s/it]"
                    ]
                },
                {
                    "name": "stdout",
                    "output_type": "stream",
                    "text": [
                        "2023-06-26 14:41:22 8m9s \u001b[1mINFO    \u001b[0m \u001b[36mart.attacks.evasion.projected_gradient_descent.projected_gradient_descent\u001b[0m:\u001b[36mgenerate\u001b[0m:\u001b[36m199\u001b[0m Creating adversarial samples.\n",
                        "2023-06-26 14:41:26 8m13s \u001b[1mINFO    \u001b[0m \u001b[36mart.attacks.evasion.projected_gradient_descent.projected_gradient_descent_pytorch\u001b[0m:\u001b[36mgenerate\u001b[0m:\u001b[36m237\u001b[0m Success rate of attack: 71.88%\n"
                    ]
                },
                {
                    "name": "stderr",
                    "output_type": "stream",
                    "text": [
                        "Evaluation:  79%|███████▉  | 124/157 [07:18<01:56,  3.53s/it]"
                    ]
                },
                {
                    "name": "stdout",
                    "output_type": "stream",
                    "text": [
                        "2023-06-26 14:41:26 8m13s \u001b[1mINFO    \u001b[0m \u001b[36mart.attacks.evasion.projected_gradient_descent.projected_gradient_descent\u001b[0m:\u001b[36mgenerate\u001b[0m:\u001b[36m199\u001b[0m Creating adversarial samples.\n",
                        "2023-06-26 14:41:29 8m16s \u001b[1mINFO    \u001b[0m \u001b[36mart.attacks.evasion.projected_gradient_descent.projected_gradient_descent_pytorch\u001b[0m:\u001b[36mgenerate\u001b[0m:\u001b[36m237\u001b[0m Success rate of attack: 67.19%\n"
                    ]
                },
                {
                    "name": "stderr",
                    "output_type": "stream",
                    "text": [
                        "Evaluation:  80%|███████▉  | 125/157 [07:21<01:51,  3.48s/it]"
                    ]
                },
                {
                    "name": "stdout",
                    "output_type": "stream",
                    "text": [
                        "2023-06-26 14:41:29 8m16s \u001b[1mINFO    \u001b[0m \u001b[36mart.attacks.evasion.projected_gradient_descent.projected_gradient_descent\u001b[0m:\u001b[36mgenerate\u001b[0m:\u001b[36m199\u001b[0m Creating adversarial samples.\n",
                        "2023-06-26 14:41:32 8m19s \u001b[1mINFO    \u001b[0m \u001b[36mart.attacks.evasion.projected_gradient_descent.projected_gradient_descent_pytorch\u001b[0m:\u001b[36mgenerate\u001b[0m:\u001b[36m237\u001b[0m Success rate of attack: 81.25%\n"
                    ]
                },
                {
                    "name": "stderr",
                    "output_type": "stream",
                    "text": [
                        "Evaluation:  80%|████████  | 126/157 [07:25<01:45,  3.41s/it]"
                    ]
                },
                {
                    "name": "stdout",
                    "output_type": "stream",
                    "text": [
                        "2023-06-26 14:41:32 8m19s \u001b[1mINFO    \u001b[0m \u001b[36mart.attacks.evasion.projected_gradient_descent.projected_gradient_descent\u001b[0m:\u001b[36mgenerate\u001b[0m:\u001b[36m199\u001b[0m Creating adversarial samples.\n",
                        "2023-06-26 14:41:36 8m23s \u001b[1mINFO    \u001b[0m \u001b[36mart.attacks.evasion.projected_gradient_descent.projected_gradient_descent_pytorch\u001b[0m:\u001b[36mgenerate\u001b[0m:\u001b[36m237\u001b[0m Success rate of attack: 75.00%\n"
                    ]
                },
                {
                    "name": "stderr",
                    "output_type": "stream",
                    "text": [
                        "Evaluation:  81%|████████  | 127/157 [07:28<01:40,  3.34s/it]"
                    ]
                },
                {
                    "name": "stdout",
                    "output_type": "stream",
                    "text": [
                        "2023-06-26 14:41:36 8m23s \u001b[1mINFO    \u001b[0m \u001b[36mart.attacks.evasion.projected_gradient_descent.projected_gradient_descent\u001b[0m:\u001b[36mgenerate\u001b[0m:\u001b[36m199\u001b[0m Creating adversarial samples.\n",
                        "2023-06-26 14:41:39 8m26s \u001b[1mINFO    \u001b[0m \u001b[36mart.attacks.evasion.projected_gradient_descent.projected_gradient_descent_pytorch\u001b[0m:\u001b[36mgenerate\u001b[0m:\u001b[36m237\u001b[0m Success rate of attack: 71.88%\n"
                    ]
                },
                {
                    "name": "stderr",
                    "output_type": "stream",
                    "text": [
                        "Evaluation:  82%|████████▏ | 128/157 [07:31<01:36,  3.31s/it]"
                    ]
                },
                {
                    "name": "stdout",
                    "output_type": "stream",
                    "text": [
                        "2023-06-26 14:41:39 8m26s \u001b[1mINFO    \u001b[0m \u001b[36mart.attacks.evasion.projected_gradient_descent.projected_gradient_descent\u001b[0m:\u001b[36mgenerate\u001b[0m:\u001b[36m199\u001b[0m Creating adversarial samples.\n",
                        "2023-06-26 14:41:42 8m29s \u001b[1mINFO    \u001b[0m \u001b[36mart.attacks.evasion.projected_gradient_descent.projected_gradient_descent_pytorch\u001b[0m:\u001b[36mgenerate\u001b[0m:\u001b[36m237\u001b[0m Success rate of attack: 75.00%\n"
                    ]
                },
                {
                    "name": "stderr",
                    "output_type": "stream",
                    "text": [
                        "Evaluation:  82%|████████▏ | 129/157 [07:34<01:32,  3.30s/it]"
                    ]
                },
                {
                    "name": "stdout",
                    "output_type": "stream",
                    "text": [
                        "2023-06-26 14:41:42 8m29s \u001b[1mINFO    \u001b[0m \u001b[36mart.attacks.evasion.projected_gradient_descent.projected_gradient_descent\u001b[0m:\u001b[36mgenerate\u001b[0m:\u001b[36m199\u001b[0m Creating adversarial samples.\n",
                        "2023-06-26 14:41:45 8m32s \u001b[1mINFO    \u001b[0m \u001b[36mart.attacks.evasion.projected_gradient_descent.projected_gradient_descent_pytorch\u001b[0m:\u001b[36mgenerate\u001b[0m:\u001b[36m237\u001b[0m Success rate of attack: 79.69%\n"
                    ]
                },
                {
                    "name": "stderr",
                    "output_type": "stream",
                    "text": [
                        "Evaluation:  83%|████████▎ | 130/157 [07:38<01:28,  3.27s/it]"
                    ]
                },
                {
                    "name": "stdout",
                    "output_type": "stream",
                    "text": [
                        "2023-06-26 14:41:45 8m32s \u001b[1mINFO    \u001b[0m \u001b[36mart.attacks.evasion.projected_gradient_descent.projected_gradient_descent\u001b[0m:\u001b[36mgenerate\u001b[0m:\u001b[36m199\u001b[0m Creating adversarial samples.\n",
                        "2023-06-26 14:41:49 8m36s \u001b[1mINFO    \u001b[0m \u001b[36mart.attacks.evasion.projected_gradient_descent.projected_gradient_descent_pytorch\u001b[0m:\u001b[36mgenerate\u001b[0m:\u001b[36m237\u001b[0m Success rate of attack: 70.31%\n"
                    ]
                },
                {
                    "name": "stderr",
                    "output_type": "stream",
                    "text": [
                        "Evaluation:  83%|████████▎ | 131/157 [07:41<01:26,  3.33s/it]"
                    ]
                },
                {
                    "name": "stdout",
                    "output_type": "stream",
                    "text": [
                        "2023-06-26 14:41:49 8m36s \u001b[1mINFO    \u001b[0m \u001b[36mart.attacks.evasion.projected_gradient_descent.projected_gradient_descent\u001b[0m:\u001b[36mgenerate\u001b[0m:\u001b[36m199\u001b[0m Creating adversarial samples.\n",
                        "2023-06-26 14:41:53 8m40s \u001b[1mINFO    \u001b[0m \u001b[36mart.attacks.evasion.projected_gradient_descent.projected_gradient_descent_pytorch\u001b[0m:\u001b[36mgenerate\u001b[0m:\u001b[36m237\u001b[0m Success rate of attack: 85.94%\n"
                    ]
                },
                {
                    "name": "stderr",
                    "output_type": "stream",
                    "text": [
                        "Evaluation:  84%|████████▍ | 132/157 [07:45<01:26,  3.45s/it]"
                    ]
                },
                {
                    "name": "stdout",
                    "output_type": "stream",
                    "text": [
                        "2023-06-26 14:41:53 8m40s \u001b[1mINFO    \u001b[0m \u001b[36mart.attacks.evasion.projected_gradient_descent.projected_gradient_descent\u001b[0m:\u001b[36mgenerate\u001b[0m:\u001b[36m199\u001b[0m Creating adversarial samples.\n",
                        "2023-06-26 14:41:56 8m43s \u001b[1mINFO    \u001b[0m \u001b[36mart.attacks.evasion.projected_gradient_descent.projected_gradient_descent_pytorch\u001b[0m:\u001b[36mgenerate\u001b[0m:\u001b[36m237\u001b[0m Success rate of attack: 81.25%\n"
                    ]
                },
                {
                    "name": "stderr",
                    "output_type": "stream",
                    "text": [
                        "Evaluation:  85%|████████▍ | 133/157 [07:48<01:21,  3.40s/it]"
                    ]
                },
                {
                    "name": "stdout",
                    "output_type": "stream",
                    "text": [
                        "2023-06-26 14:41:56 8m43s \u001b[1mINFO    \u001b[0m \u001b[36mart.attacks.evasion.projected_gradient_descent.projected_gradient_descent\u001b[0m:\u001b[36mgenerate\u001b[0m:\u001b[36m199\u001b[0m Creating adversarial samples.\n",
                        "2023-06-26 14:41:59 8m46s \u001b[1mINFO    \u001b[0m \u001b[36mart.attacks.evasion.projected_gradient_descent.projected_gradient_descent_pytorch\u001b[0m:\u001b[36mgenerate\u001b[0m:\u001b[36m237\u001b[0m Success rate of attack: 73.44%\n"
                    ]
                },
                {
                    "name": "stderr",
                    "output_type": "stream",
                    "text": [
                        "Evaluation:  85%|████████▌ | 134/157 [07:51<01:15,  3.29s/it]"
                    ]
                },
                {
                    "name": "stdout",
                    "output_type": "stream",
                    "text": [
                        "2023-06-26 14:41:59 8m46s \u001b[1mINFO    \u001b[0m \u001b[36mart.attacks.evasion.projected_gradient_descent.projected_gradient_descent\u001b[0m:\u001b[36mgenerate\u001b[0m:\u001b[36m199\u001b[0m Creating adversarial samples.\n",
                        "2023-06-26 14:42:02 8m49s \u001b[1mINFO    \u001b[0m \u001b[36mart.attacks.evasion.projected_gradient_descent.projected_gradient_descent_pytorch\u001b[0m:\u001b[36mgenerate\u001b[0m:\u001b[36m237\u001b[0m Success rate of attack: 81.25%\n"
                    ]
                },
                {
                    "name": "stderr",
                    "output_type": "stream",
                    "text": [
                        "Evaluation:  86%|████████▌ | 135/157 [07:54<01:10,  3.21s/it]"
                    ]
                },
                {
                    "name": "stdout",
                    "output_type": "stream",
                    "text": [
                        "2023-06-26 14:42:02 8m49s \u001b[1mINFO    \u001b[0m \u001b[36mart.attacks.evasion.projected_gradient_descent.projected_gradient_descent\u001b[0m:\u001b[36mgenerate\u001b[0m:\u001b[36m199\u001b[0m Creating adversarial samples.\n",
                        "2023-06-26 14:42:05 8m52s \u001b[1mINFO    \u001b[0m \u001b[36mart.attacks.evasion.projected_gradient_descent.projected_gradient_descent_pytorch\u001b[0m:\u001b[36mgenerate\u001b[0m:\u001b[36m237\u001b[0m Success rate of attack: 68.75%\n"
                    ]
                },
                {
                    "name": "stderr",
                    "output_type": "stream",
                    "text": [
                        "Evaluation:  87%|████████▋ | 136/157 [07:57<01:07,  3.20s/it]"
                    ]
                },
                {
                    "name": "stdout",
                    "output_type": "stream",
                    "text": [
                        "2023-06-26 14:42:05 8m52s \u001b[1mINFO    \u001b[0m \u001b[36mart.attacks.evasion.projected_gradient_descent.projected_gradient_descent\u001b[0m:\u001b[36mgenerate\u001b[0m:\u001b[36m199\u001b[0m Creating adversarial samples.\n",
                        "2023-06-26 14:42:08 8m55s \u001b[1mINFO    \u001b[0m \u001b[36mart.attacks.evasion.projected_gradient_descent.projected_gradient_descent_pytorch\u001b[0m:\u001b[36mgenerate\u001b[0m:\u001b[36m237\u001b[0m Success rate of attack: 68.75%\n"
                    ]
                },
                {
                    "name": "stderr",
                    "output_type": "stream",
                    "text": [
                        "Evaluation:  87%|████████▋ | 137/157 [08:01<01:04,  3.23s/it]"
                    ]
                },
                {
                    "name": "stdout",
                    "output_type": "stream",
                    "text": [
                        "2023-06-26 14:42:08 8m55s \u001b[1mINFO    \u001b[0m \u001b[36mart.attacks.evasion.projected_gradient_descent.projected_gradient_descent\u001b[0m:\u001b[36mgenerate\u001b[0m:\u001b[36m199\u001b[0m Creating adversarial samples.\n",
                        "2023-06-26 14:42:12 8m59s \u001b[1mINFO    \u001b[0m \u001b[36mart.attacks.evasion.projected_gradient_descent.projected_gradient_descent_pytorch\u001b[0m:\u001b[36mgenerate\u001b[0m:\u001b[36m237\u001b[0m Success rate of attack: 70.31%\n"
                    ]
                },
                {
                    "name": "stderr",
                    "output_type": "stream",
                    "text": [
                        "Evaluation:  88%|████████▊ | 138/157 [08:04<01:02,  3.28s/it]"
                    ]
                },
                {
                    "name": "stdout",
                    "output_type": "stream",
                    "text": [
                        "2023-06-26 14:42:12 8m59s \u001b[1mINFO    \u001b[0m \u001b[36mart.attacks.evasion.projected_gradient_descent.projected_gradient_descent\u001b[0m:\u001b[36mgenerate\u001b[0m:\u001b[36m199\u001b[0m Creating adversarial samples.\n",
                        "2023-06-26 14:42:16 9m3s \u001b[1mINFO    \u001b[0m \u001b[36mart.attacks.evasion.projected_gradient_descent.projected_gradient_descent_pytorch\u001b[0m:\u001b[36mgenerate\u001b[0m:\u001b[36m237\u001b[0m Success rate of attack: 75.00%\n"
                    ]
                },
                {
                    "name": "stderr",
                    "output_type": "stream",
                    "text": [
                        "Evaluation:  89%|████████▊ | 139/157 [08:08<01:02,  3.47s/it]"
                    ]
                },
                {
                    "name": "stdout",
                    "output_type": "stream",
                    "text": [
                        "2023-06-26 14:42:16 9m3s \u001b[1mINFO    \u001b[0m \u001b[36mart.attacks.evasion.projected_gradient_descent.projected_gradient_descent\u001b[0m:\u001b[36mgenerate\u001b[0m:\u001b[36m199\u001b[0m Creating adversarial samples.\n",
                        "2023-06-26 14:42:20 9m7s \u001b[1mINFO    \u001b[0m \u001b[36mart.attacks.evasion.projected_gradient_descent.projected_gradient_descent_pytorch\u001b[0m:\u001b[36mgenerate\u001b[0m:\u001b[36m237\u001b[0m Success rate of attack: 70.31%\n"
                    ]
                },
                {
                    "name": "stderr",
                    "output_type": "stream",
                    "text": [
                        "Evaluation:  89%|████████▉ | 140/157 [08:12<01:01,  3.62s/it]"
                    ]
                },
                {
                    "name": "stdout",
                    "output_type": "stream",
                    "text": [
                        "2023-06-26 14:42:20 9m7s \u001b[1mINFO    \u001b[0m \u001b[36mart.attacks.evasion.projected_gradient_descent.projected_gradient_descent\u001b[0m:\u001b[36mgenerate\u001b[0m:\u001b[36m199\u001b[0m Creating adversarial samples.\n",
                        "2023-06-26 14:42:24 9m11s \u001b[1mINFO    \u001b[0m \u001b[36mart.attacks.evasion.projected_gradient_descent.projected_gradient_descent_pytorch\u001b[0m:\u001b[36mgenerate\u001b[0m:\u001b[36m237\u001b[0m Success rate of attack: 71.88%\n"
                    ]
                },
                {
                    "name": "stderr",
                    "output_type": "stream",
                    "text": [
                        "Evaluation:  90%|████████▉ | 141/157 [08:16<00:59,  3.74s/it]"
                    ]
                },
                {
                    "name": "stdout",
                    "output_type": "stream",
                    "text": [
                        "2023-06-26 14:42:24 9m11s \u001b[1mINFO    \u001b[0m \u001b[36mart.attacks.evasion.projected_gradient_descent.projected_gradient_descent\u001b[0m:\u001b[36mgenerate\u001b[0m:\u001b[36m199\u001b[0m Creating adversarial samples.\n",
                        "2023-06-26 14:42:27 9m14s \u001b[1mINFO    \u001b[0m \u001b[36mart.attacks.evasion.projected_gradient_descent.projected_gradient_descent_pytorch\u001b[0m:\u001b[36mgenerate\u001b[0m:\u001b[36m237\u001b[0m Success rate of attack: 70.31%\n"
                    ]
                },
                {
                    "name": "stderr",
                    "output_type": "stream",
                    "text": [
                        "Evaluation:  90%|█████████ | 142/157 [08:19<00:54,  3.66s/it]"
                    ]
                },
                {
                    "name": "stdout",
                    "output_type": "stream",
                    "text": [
                        "2023-06-26 14:42:27 9m14s \u001b[1mINFO    \u001b[0m \u001b[36mart.attacks.evasion.projected_gradient_descent.projected_gradient_descent\u001b[0m:\u001b[36mgenerate\u001b[0m:\u001b[36m199\u001b[0m Creating adversarial samples.\n",
                        "2023-06-26 14:42:30 9m17s \u001b[1mINFO    \u001b[0m \u001b[36mart.attacks.evasion.projected_gradient_descent.projected_gradient_descent_pytorch\u001b[0m:\u001b[36mgenerate\u001b[0m:\u001b[36m237\u001b[0m Success rate of attack: 76.56%\n"
                    ]
                },
                {
                    "name": "stderr",
                    "output_type": "stream",
                    "text": [
                        "Evaluation:  91%|█████████ | 143/157 [08:23<00:49,  3.56s/it]"
                    ]
                },
                {
                    "name": "stdout",
                    "output_type": "stream",
                    "text": [
                        "2023-06-26 14:42:30 9m17s \u001b[1mINFO    \u001b[0m \u001b[36mart.attacks.evasion.projected_gradient_descent.projected_gradient_descent\u001b[0m:\u001b[36mgenerate\u001b[0m:\u001b[36m199\u001b[0m Creating adversarial samples.\n",
                        "2023-06-26 14:42:34 9m21s \u001b[1mINFO    \u001b[0m \u001b[36mart.attacks.evasion.projected_gradient_descent.projected_gradient_descent_pytorch\u001b[0m:\u001b[36mgenerate\u001b[0m:\u001b[36m237\u001b[0m Success rate of attack: 64.06%\n"
                    ]
                },
                {
                    "name": "stderr",
                    "output_type": "stream",
                    "text": [
                        "Evaluation:  92%|█████████▏| 144/157 [08:26<00:45,  3.51s/it]"
                    ]
                },
                {
                    "name": "stdout",
                    "output_type": "stream",
                    "text": [
                        "2023-06-26 14:42:34 9m21s \u001b[1mINFO    \u001b[0m \u001b[36mart.attacks.evasion.projected_gradient_descent.projected_gradient_descent\u001b[0m:\u001b[36mgenerate\u001b[0m:\u001b[36m199\u001b[0m Creating adversarial samples.\n",
                        "2023-06-26 14:42:37 9m24s \u001b[1mINFO    \u001b[0m \u001b[36mart.attacks.evasion.projected_gradient_descent.projected_gradient_descent_pytorch\u001b[0m:\u001b[36mgenerate\u001b[0m:\u001b[36m237\u001b[0m Success rate of attack: 65.62%\n"
                    ]
                },
                {
                    "name": "stderr",
                    "output_type": "stream",
                    "text": [
                        "Evaluation:  92%|█████████▏| 145/157 [08:29<00:41,  3.44s/it]"
                    ]
                },
                {
                    "name": "stdout",
                    "output_type": "stream",
                    "text": [
                        "2023-06-26 14:42:37 9m24s \u001b[1mINFO    \u001b[0m \u001b[36mart.attacks.evasion.projected_gradient_descent.projected_gradient_descent\u001b[0m:\u001b[36mgenerate\u001b[0m:\u001b[36m199\u001b[0m Creating adversarial samples.\n",
                        "2023-06-26 14:42:40 9m27s \u001b[1mINFO    \u001b[0m \u001b[36mart.attacks.evasion.projected_gradient_descent.projected_gradient_descent_pytorch\u001b[0m:\u001b[36mgenerate\u001b[0m:\u001b[36m237\u001b[0m Success rate of attack: 70.31%\n"
                    ]
                },
                {
                    "name": "stderr",
                    "output_type": "stream",
                    "text": [
                        "Evaluation:  93%|█████████▎| 146/157 [08:33<00:37,  3.41s/it]"
                    ]
                },
                {
                    "name": "stdout",
                    "output_type": "stream",
                    "text": [
                        "2023-06-26 14:42:40 9m27s \u001b[1mINFO    \u001b[0m \u001b[36mart.attacks.evasion.projected_gradient_descent.projected_gradient_descent\u001b[0m:\u001b[36mgenerate\u001b[0m:\u001b[36m199\u001b[0m Creating adversarial samples.\n",
                        "2023-06-26 14:42:44 9m31s \u001b[1mINFO    \u001b[0m \u001b[36mart.attacks.evasion.projected_gradient_descent.projected_gradient_descent_pytorch\u001b[0m:\u001b[36mgenerate\u001b[0m:\u001b[36m237\u001b[0m Success rate of attack: 73.44%\n"
                    ]
                },
                {
                    "name": "stderr",
                    "output_type": "stream",
                    "text": [
                        "Evaluation:  94%|█████████▎| 147/157 [08:36<00:33,  3.38s/it]"
                    ]
                },
                {
                    "name": "stdout",
                    "output_type": "stream",
                    "text": [
                        "2023-06-26 14:42:44 9m31s \u001b[1mINFO    \u001b[0m \u001b[36mart.attacks.evasion.projected_gradient_descent.projected_gradient_descent\u001b[0m:\u001b[36mgenerate\u001b[0m:\u001b[36m199\u001b[0m Creating adversarial samples.\n",
                        "2023-06-26 14:42:47 9m34s \u001b[1mINFO    \u001b[0m \u001b[36mart.attacks.evasion.projected_gradient_descent.projected_gradient_descent_pytorch\u001b[0m:\u001b[36mgenerate\u001b[0m:\u001b[36m237\u001b[0m Success rate of attack: 68.75%\n"
                    ]
                },
                {
                    "name": "stderr",
                    "output_type": "stream",
                    "text": [
                        "Evaluation:  94%|█████████▍| 148/157 [08:39<00:30,  3.34s/it]"
                    ]
                },
                {
                    "name": "stdout",
                    "output_type": "stream",
                    "text": [
                        "2023-06-26 14:42:47 9m34s \u001b[1mINFO    \u001b[0m \u001b[36mart.attacks.evasion.projected_gradient_descent.projected_gradient_descent\u001b[0m:\u001b[36mgenerate\u001b[0m:\u001b[36m199\u001b[0m Creating adversarial samples.\n",
                        "2023-06-26 14:42:50 9m37s \u001b[1mINFO    \u001b[0m \u001b[36mart.attacks.evasion.projected_gradient_descent.projected_gradient_descent_pytorch\u001b[0m:\u001b[36mgenerate\u001b[0m:\u001b[36m237\u001b[0m Success rate of attack: 78.12%\n"
                    ]
                },
                {
                    "name": "stderr",
                    "output_type": "stream",
                    "text": [
                        "Evaluation:  95%|█████████▍| 149/157 [08:42<00:25,  3.24s/it]"
                    ]
                },
                {
                    "name": "stdout",
                    "output_type": "stream",
                    "text": [
                        "2023-06-26 14:42:50 9m37s \u001b[1mINFO    \u001b[0m \u001b[36mart.attacks.evasion.projected_gradient_descent.projected_gradient_descent\u001b[0m:\u001b[36mgenerate\u001b[0m:\u001b[36m199\u001b[0m Creating adversarial samples.\n",
                        "2023-06-26 14:42:53 9m40s \u001b[1mINFO    \u001b[0m \u001b[36mart.attacks.evasion.projected_gradient_descent.projected_gradient_descent_pytorch\u001b[0m:\u001b[36mgenerate\u001b[0m:\u001b[36m237\u001b[0m Success rate of attack: 64.06%\n"
                    ]
                },
                {
                    "name": "stderr",
                    "output_type": "stream",
                    "text": [
                        "Evaluation:  96%|█████████▌| 150/157 [08:45<00:22,  3.22s/it]"
                    ]
                },
                {
                    "name": "stdout",
                    "output_type": "stream",
                    "text": [
                        "2023-06-26 14:42:53 9m40s \u001b[1mINFO    \u001b[0m \u001b[36mart.attacks.evasion.projected_gradient_descent.projected_gradient_descent\u001b[0m:\u001b[36mgenerate\u001b[0m:\u001b[36m199\u001b[0m Creating adversarial samples.\n",
                        "2023-06-26 14:42:56 9m43s \u001b[1mINFO    \u001b[0m \u001b[36mart.attacks.evasion.projected_gradient_descent.projected_gradient_descent_pytorch\u001b[0m:\u001b[36mgenerate\u001b[0m:\u001b[36m237\u001b[0m Success rate of attack: 78.12%\n"
                    ]
                },
                {
                    "name": "stderr",
                    "output_type": "stream",
                    "text": [
                        "Evaluation:  96%|█████████▌| 151/157 [08:49<00:19,  3.24s/it]"
                    ]
                },
                {
                    "name": "stdout",
                    "output_type": "stream",
                    "text": [
                        "2023-06-26 14:42:56 9m43s \u001b[1mINFO    \u001b[0m \u001b[36mart.attacks.evasion.projected_gradient_descent.projected_gradient_descent\u001b[0m:\u001b[36mgenerate\u001b[0m:\u001b[36m199\u001b[0m Creating adversarial samples.\n",
                        "2023-06-26 14:42:59 9m46s \u001b[1mINFO    \u001b[0m \u001b[36mart.attacks.evasion.projected_gradient_descent.projected_gradient_descent_pytorch\u001b[0m:\u001b[36mgenerate\u001b[0m:\u001b[36m237\u001b[0m Success rate of attack: 70.31%\n"
                    ]
                },
                {
                    "name": "stderr",
                    "output_type": "stream",
                    "text": [
                        "Evaluation:  97%|█████████▋| 152/157 [08:52<00:15,  3.18s/it]"
                    ]
                },
                {
                    "name": "stdout",
                    "output_type": "stream",
                    "text": [
                        "2023-06-26 14:43:00 9m47s \u001b[1mINFO    \u001b[0m \u001b[36mart.attacks.evasion.projected_gradient_descent.projected_gradient_descent\u001b[0m:\u001b[36mgenerate\u001b[0m:\u001b[36m199\u001b[0m Creating adversarial samples.\n",
                        "2023-06-26 14:43:03 9m50s \u001b[1mINFO    \u001b[0m \u001b[36mart.attacks.evasion.projected_gradient_descent.projected_gradient_descent_pytorch\u001b[0m:\u001b[36mgenerate\u001b[0m:\u001b[36m237\u001b[0m Success rate of attack: 71.88%\n"
                    ]
                },
                {
                    "name": "stderr",
                    "output_type": "stream",
                    "text": [
                        "Evaluation:  97%|█████████▋| 153/157 [08:55<00:12,  3.17s/it]"
                    ]
                },
                {
                    "name": "stdout",
                    "output_type": "stream",
                    "text": [
                        "2023-06-26 14:43:03 9m50s \u001b[1mINFO    \u001b[0m \u001b[36mart.attacks.evasion.projected_gradient_descent.projected_gradient_descent\u001b[0m:\u001b[36mgenerate\u001b[0m:\u001b[36m199\u001b[0m Creating adversarial samples.\n",
                        "2023-06-26 14:43:06 9m53s \u001b[1mINFO    \u001b[0m \u001b[36mart.attacks.evasion.projected_gradient_descent.projected_gradient_descent_pytorch\u001b[0m:\u001b[36mgenerate\u001b[0m:\u001b[36m237\u001b[0m Success rate of attack: 70.31%\n"
                    ]
                },
                {
                    "name": "stderr",
                    "output_type": "stream",
                    "text": [
                        "Evaluation:  98%|█████████▊| 154/157 [08:58<00:09,  3.13s/it]"
                    ]
                },
                {
                    "name": "stdout",
                    "output_type": "stream",
                    "text": [
                        "2023-06-26 14:43:06 9m53s \u001b[1mINFO    \u001b[0m \u001b[36mart.attacks.evasion.projected_gradient_descent.projected_gradient_descent\u001b[0m:\u001b[36mgenerate\u001b[0m:\u001b[36m199\u001b[0m Creating adversarial samples.\n",
                        "2023-06-26 14:43:09 9m56s \u001b[1mINFO    \u001b[0m \u001b[36mart.attacks.evasion.projected_gradient_descent.projected_gradient_descent_pytorch\u001b[0m:\u001b[36mgenerate\u001b[0m:\u001b[36m237\u001b[0m Success rate of attack: 70.31%\n"
                    ]
                },
                {
                    "name": "stderr",
                    "output_type": "stream",
                    "text": [
                        "Evaluation:  99%|█████████▊| 155/157 [09:01<00:06,  3.18s/it]"
                    ]
                },
                {
                    "name": "stdout",
                    "output_type": "stream",
                    "text": [
                        "2023-06-26 14:43:09 9m56s \u001b[1mINFO    \u001b[0m \u001b[36mart.attacks.evasion.projected_gradient_descent.projected_gradient_descent\u001b[0m:\u001b[36mgenerate\u001b[0m:\u001b[36m199\u001b[0m Creating adversarial samples.\n",
                        "2023-06-26 14:43:13 10m \u001b[1mINFO    \u001b[0m \u001b[36mart.attacks.evasion.projected_gradient_descent.projected_gradient_descent_pytorch\u001b[0m:\u001b[36mgenerate\u001b[0m:\u001b[36m237\u001b[0m Success rate of attack: 70.31%\n"
                    ]
                },
                {
                    "name": "stderr",
                    "output_type": "stream",
                    "text": [
                        "Evaluation:  99%|█████████▉| 156/157 [09:05<00:03,  3.42s/it]"
                    ]
                },
                {
                    "name": "stdout",
                    "output_type": "stream",
                    "text": [
                        "2023-06-26 14:43:13 10m \u001b[1mINFO    \u001b[0m \u001b[36mart.attacks.evasion.projected_gradient_descent.projected_gradient_descent\u001b[0m:\u001b[36mgenerate\u001b[0m:\u001b[36m199\u001b[0m Creating adversarial samples.\n",
                        "2023-06-26 14:43:14 10m \u001b[1mINFO    \u001b[0m \u001b[36mart.attacks.evasion.projected_gradient_descent.projected_gradient_descent_pytorch\u001b[0m:\u001b[36mgenerate\u001b[0m:\u001b[36m237\u001b[0m Success rate of attack: 68.75%\n"
                    ]
                },
                {
                    "name": "stderr",
                    "output_type": "stream",
                    "text": [
                        "Evaluation: 100%|██████████| 157/157 [09:06<00:00,  3.48s/it]"
                    ]
                },
                {
                    "name": "stdout",
                    "output_type": "stream",
                    "text": [
                        "2023-06-26 14:43:14 10m \u001b[34mMETRIC  \u001b[0m \u001b[36marmory.instrument.instrument\u001b[0m:\u001b[36m_write\u001b[0m:\u001b[36m743\u001b[0m benign_mean_categorical_accuracy on benign examples w.r.t. ground truth labels: 0.521\n",
                        "2023-06-26 14:43:14 10m \u001b[34mMETRIC  \u001b[0m \u001b[36marmory.instrument.instrument\u001b[0m:\u001b[36m_write\u001b[0m:\u001b[36m743\u001b[0m adversarial_mean_categorical_accuracy on adversarial examples w.r.t. ground truth labels: 0.0009\n"
                    ]
                },
                {
                    "name": "stderr",
                    "output_type": "stream",
                    "text": [
                        "\n"
                    ]
                }
            ],
            "source": [
                "result = engine.run()"
            ]
        },
        {
            "cell_type": "code",
            "execution_count": 13,
            "metadata": {},
            "outputs": [
                {
                    "name": "stdout",
                    "output_type": "stream",
                    "text": [
                        "{'armory_version': '23.4.0.post35+gb150c3ac',\n",
                        " 'evaluation': Evaluation(name='cifar_baseline',\n",
                        "                          description='Baseline cifar10 image classification',\n",
                        "                          author='msw@example.com',\n",
                        "                          model=Model(function=<function get_art_model at 0x7f8abb59b880>,\n",
                        "                                      model_kwargs={},\n",
                        "                                      wrapper_kwargs={},\n",
                        "                                      weights_file=None,\n",
                        "                                      fit=True,\n",
                        "                                      fit_kwargs={'nb_epochs': 20}),\n",
                        "                          scenario=Scenario(function=<class 'armory.scenarios.image_classification.ImageClassificationTask'>,\n",
                        "                                            kwargs={}),\n",
                        "                          dataset=Dataset(function=<function cifar10 at 0x7f8a49d153f0>,\n",
                        "                                          framework='numpy',\n",
                        "                                          batch_size=64),\n",
                        "                          attack=Attack(function=<class 'art.attacks.evasion.projected_gradient_descent.projected_gradient_descent.ProjectedGradientDescent'>,\n",
                        "                                        kwargs={'batch_size': 1,\n",
                        "                                                'eps': 0.031,\n",
                        "                                                'eps_step': 0.007,\n",
                        "                                                'max_iter': 20,\n",
                        "                                                'num_random_init': 1,\n",
                        "                                                'random_eps': False,\n",
                        "                                                'targeted': False,\n",
                        "                                                'verbose': False},\n",
                        "                                        knowledge='white',\n",
                        "                                        use_label=True,\n",
                        "                                        type=None),\n",
                        "                          defense=None,\n",
                        "                          metric=Metric(profiler_type='basic',\n",
                        "                                        supported_metrics=['accuracy'],\n",
                        "                                        perturbation=['linf'],\n",
                        "                                        task=['categorical_accuracy'],\n",
                        "                                        means=True,\n",
                        "                                        record_metric_per_sample=False),\n",
                        "                          sysconfig=SysConfig(gpus=['all'], use_gpu=True)),\n",
                        " 'results': {'adversarial_mean_categorical_accuracy': [0.0009],\n",
                        "             'benign_mean_categorical_accuracy': [0.5208],\n",
                        "             'compute': {'Avg. CPU time (s) for 157 executions of Attack': 3.475900880235342,\n",
                        "                         'Avg. CPU time (s) for 157 executions of Inference': 0.0016876735126119178},\n",
                        "             'perturbation_mean_linf': [0.031000018110871316]},\n",
                        " 'timestamp': 1687804394}\n"
                    ]
                }
            ],
            "source": [
                "from pprint import pprint\n",
                "pprint(result)"
            ]
        },
        {
            "attachments": {},
            "cell_type": "markdown",
            "metadata": {},
            "source": [
                "# Recap\n",
                "\n",
                "There is a bunch of explanation and debug prints in this notebook, but the\n",
                "working code used is quite short:"
            ]
        },
        {
            "cell_type": "code",
            "execution_count": 11,
            "metadata": {},
            "outputs": [
                {
                    "name": "stdout",
                    "output_type": "stream",
                    "text": [
                        "2023-06-26 14:43:14 10m \u001b[1mINFO    \u001b[0m \u001b[36mart.estimators.classification.pytorch\u001b[0m:\u001b[36mget_layers\u001b[0m:\u001b[36m1196\u001b[0m Inferred 4 hidden layers on PyTorch classifier.\n",
                        "Reading armory config file\n",
                        "Reading armory config file\n"
                    ]
                },
                {
                    "name": "stderr",
                    "output_type": "stream",
                    "text": [
                        "Epoch 1/20: 100%|██████████| 781/781 [00:02<00:00, 266.74it/s]\n",
                        "Epoch 2/20: 100%|██████████| 781/781 [00:02<00:00, 283.28it/s]\n",
                        "Epoch 3/20: 100%|██████████| 781/781 [00:02<00:00, 336.14it/s]\n",
                        "Epoch 4/20: 100%|██████████| 781/781 [00:02<00:00, 333.87it/s]\n",
                        "Epoch 5/20: 100%|██████████| 781/781 [00:02<00:00, 353.07it/s]\n",
                        "Epoch 6/20: 100%|██████████| 781/781 [00:02<00:00, 354.97it/s]\n",
                        "Epoch 7/20: 100%|██████████| 781/781 [00:02<00:00, 296.37it/s]\n",
                        "Epoch 8/20: 100%|██████████| 781/781 [00:02<00:00, 276.40it/s]\n",
                        "Epoch 9/20: 100%|██████████| 781/781 [00:02<00:00, 284.46it/s]\n",
                        "Epoch 10/20: 100%|██████████| 781/781 [00:02<00:00, 315.81it/s]\n",
                        "Epoch 11/20: 100%|██████████| 781/781 [00:02<00:00, 299.20it/s]\n",
                        "Epoch 12/20: 100%|██████████| 781/781 [00:02<00:00, 287.41it/s]\n",
                        "Epoch 13/20: 100%|██████████| 781/781 [00:02<00:00, 295.22it/s]\n",
                        "Epoch 14/20: 100%|██████████| 781/781 [00:02<00:00, 285.67it/s]\n",
                        "Epoch 15/20: 100%|██████████| 781/781 [00:02<00:00, 314.14it/s]\n",
                        "Epoch 16/20: 100%|██████████| 781/781 [00:02<00:00, 317.51it/s]\n",
                        "Epoch 17/20: 100%|██████████| 781/781 [00:02<00:00, 318.92it/s]\n",
                        "Epoch 18/20: 100%|██████████| 781/781 [00:02<00:00, 325.28it/s]\n",
                        "Epoch 19/20: 100%|██████████| 781/781 [00:02<00:00, 318.30it/s]\n",
                        "Epoch 20/20: 100%|██████████| 781/781 [00:02<00:00, 306.54it/s]\n"
                    ]
                },
                {
                    "name": "stdout",
                    "output_type": "stream",
                    "text": [
                        "Reading armory config file\n"
                    ]
                },
                {
                    "name": "stderr",
                    "output_type": "stream",
                    "text": [
                        "Evaluation:   0%|          | 0/157 [00:00<?, ?it/s]"
                    ]
                },
                {
                    "name": "stdout",
                    "output_type": "stream",
                    "text": [
                        "2023-06-26 14:44:05 10m52s \u001b[1mINFO    \u001b[0m \u001b[36mart.attacks.evasion.projected_gradient_descent.projected_gradient_descent\u001b[0m:\u001b[36mgenerate\u001b[0m:\u001b[36m199\u001b[0m Creating adversarial samples.\n",
                        "2023-06-26 14:44:08 10m55s \u001b[1mINFO    \u001b[0m \u001b[36mart.attacks.evasion.projected_gradient_descent.projected_gradient_descent_pytorch\u001b[0m:\u001b[36mgenerate\u001b[0m:\u001b[36m237\u001b[0m Success rate of attack: 81.25%\n"
                    ]
                },
                {
                    "name": "stderr",
                    "output_type": "stream",
                    "text": [
                        "Evaluation:   1%|          | 1/157 [00:02<07:47,  2.99s/it]"
                    ]
                },
                {
                    "name": "stdout",
                    "output_type": "stream",
                    "text": [
                        "2023-06-26 14:44:08 10m55s \u001b[1mINFO    \u001b[0m \u001b[36mart.attacks.evasion.projected_gradient_descent.projected_gradient_descent\u001b[0m:\u001b[36mgenerate\u001b[0m:\u001b[36m199\u001b[0m Creating adversarial samples.\n",
                        "2023-06-26 14:44:11 10m58s \u001b[1mINFO    \u001b[0m \u001b[36mart.attacks.evasion.projected_gradient_descent.projected_gradient_descent_pytorch\u001b[0m:\u001b[36mgenerate\u001b[0m:\u001b[36m237\u001b[0m Success rate of attack: 70.31%\n"
                    ]
                },
                {
                    "name": "stderr",
                    "output_type": "stream",
                    "text": [
                        "Evaluation:   1%|▏         | 2/157 [00:06<08:07,  3.14s/it]"
                    ]
                },
                {
                    "name": "stdout",
                    "output_type": "stream",
                    "text": [
                        "2023-06-26 14:44:11 10m58s \u001b[1mINFO    \u001b[0m \u001b[36mart.attacks.evasion.projected_gradient_descent.projected_gradient_descent\u001b[0m:\u001b[36mgenerate\u001b[0m:\u001b[36m199\u001b[0m Creating adversarial samples.\n",
                        "2023-06-26 14:44:15 11m2s \u001b[1mINFO    \u001b[0m \u001b[36mart.attacks.evasion.projected_gradient_descent.projected_gradient_descent_pytorch\u001b[0m:\u001b[36mgenerate\u001b[0m:\u001b[36m237\u001b[0m Success rate of attack: 68.75%\n"
                    ]
                },
                {
                    "name": "stderr",
                    "output_type": "stream",
                    "text": [
                        "Evaluation:   2%|▏         | 3/157 [00:09<08:44,  3.40s/it]"
                    ]
                },
                {
                    "name": "stdout",
                    "output_type": "stream",
                    "text": [
                        "2023-06-26 14:44:15 11m2s \u001b[1mINFO    \u001b[0m \u001b[36mart.attacks.evasion.projected_gradient_descent.projected_gradient_descent\u001b[0m:\u001b[36mgenerate\u001b[0m:\u001b[36m199\u001b[0m Creating adversarial samples.\n",
                        "2023-06-26 14:44:18 11m5s \u001b[1mINFO    \u001b[0m \u001b[36mart.attacks.evasion.projected_gradient_descent.projected_gradient_descent_pytorch\u001b[0m:\u001b[36mgenerate\u001b[0m:\u001b[36m237\u001b[0m Success rate of attack: 64.06%\n"
                    ]
                },
                {
                    "name": "stderr",
                    "output_type": "stream",
                    "text": [
                        "Evaluation:   3%|▎         | 4/157 [00:13<08:22,  3.28s/it]"
                    ]
                },
                {
                    "name": "stdout",
                    "output_type": "stream",
                    "text": [
                        "2023-06-26 14:44:18 11m5s \u001b[1mINFO    \u001b[0m \u001b[36mart.attacks.evasion.projected_gradient_descent.projected_gradient_descent\u001b[0m:\u001b[36mgenerate\u001b[0m:\u001b[36m199\u001b[0m Creating adversarial samples.\n",
                        "2023-06-26 14:44:21 11m8s \u001b[1mINFO    \u001b[0m \u001b[36mart.attacks.evasion.projected_gradient_descent.projected_gradient_descent_pytorch\u001b[0m:\u001b[36mgenerate\u001b[0m:\u001b[36m237\u001b[0m Success rate of attack: 70.31%\n"
                    ]
                },
                {
                    "name": "stderr",
                    "output_type": "stream",
                    "text": [
                        "Evaluation:   3%|▎         | 5/157 [00:16<08:07,  3.21s/it]"
                    ]
                },
                {
                    "name": "stdout",
                    "output_type": "stream",
                    "text": [
                        "2023-06-26 14:44:21 11m8s \u001b[1mINFO    \u001b[0m \u001b[36mart.attacks.evasion.projected_gradient_descent.projected_gradient_descent\u001b[0m:\u001b[36mgenerate\u001b[0m:\u001b[36m199\u001b[0m Creating adversarial samples.\n",
                        "2023-06-26 14:44:24 11m11s \u001b[1mINFO    \u001b[0m \u001b[36mart.attacks.evasion.projected_gradient_descent.projected_gradient_descent_pytorch\u001b[0m:\u001b[36mgenerate\u001b[0m:\u001b[36m237\u001b[0m Success rate of attack: 78.12%\n"
                    ]
                },
                {
                    "name": "stderr",
                    "output_type": "stream",
                    "text": [
                        "Evaluation:   4%|▍         | 6/157 [00:19<07:56,  3.16s/it]"
                    ]
                },
                {
                    "name": "stdout",
                    "output_type": "stream",
                    "text": [
                        "2023-06-26 14:44:24 11m11s \u001b[1mINFO    \u001b[0m \u001b[36mart.attacks.evasion.projected_gradient_descent.projected_gradient_descent\u001b[0m:\u001b[36mgenerate\u001b[0m:\u001b[36m199\u001b[0m Creating adversarial samples.\n",
                        "2023-06-26 14:44:27 11m14s \u001b[1mINFO    \u001b[0m \u001b[36mart.attacks.evasion.projected_gradient_descent.projected_gradient_descent_pytorch\u001b[0m:\u001b[36mgenerate\u001b[0m:\u001b[36m237\u001b[0m Success rate of attack: 78.12%\n"
                    ]
                },
                {
                    "name": "stderr",
                    "output_type": "stream",
                    "text": [
                        "Evaluation:   4%|▍         | 7/157 [00:22<07:47,  3.12s/it]"
                    ]
                },
                {
                    "name": "stdout",
                    "output_type": "stream",
                    "text": [
                        "2023-06-26 14:44:27 11m14s \u001b[1mINFO    \u001b[0m \u001b[36mart.attacks.evasion.projected_gradient_descent.projected_gradient_descent\u001b[0m:\u001b[36mgenerate\u001b[0m:\u001b[36m199\u001b[0m Creating adversarial samples.\n",
                        "2023-06-26 14:44:30 11m17s \u001b[1mINFO    \u001b[0m \u001b[36mart.attacks.evasion.projected_gradient_descent.projected_gradient_descent_pytorch\u001b[0m:\u001b[36mgenerate\u001b[0m:\u001b[36m237\u001b[0m Success rate of attack: 71.88%\n"
                    ]
                },
                {
                    "name": "stderr",
                    "output_type": "stream",
                    "text": [
                        "Evaluation:   5%|▌         | 8/157 [00:25<07:39,  3.08s/it]"
                    ]
                },
                {
                    "name": "stdout",
                    "output_type": "stream",
                    "text": [
                        "2023-06-26 14:44:30 11m17s \u001b[1mINFO    \u001b[0m \u001b[36mart.attacks.evasion.projected_gradient_descent.projected_gradient_descent\u001b[0m:\u001b[36mgenerate\u001b[0m:\u001b[36m199\u001b[0m Creating adversarial samples.\n",
                        "2023-06-26 14:44:33 11m20s \u001b[1mINFO    \u001b[0m \u001b[36mart.attacks.evasion.projected_gradient_descent.projected_gradient_descent_pytorch\u001b[0m:\u001b[36mgenerate\u001b[0m:\u001b[36m237\u001b[0m Success rate of attack: 78.12%\n"
                    ]
                },
                {
                    "name": "stderr",
                    "output_type": "stream",
                    "text": [
                        "Evaluation:   6%|▌         | 9/157 [00:28<07:25,  3.01s/it]"
                    ]
                },
                {
                    "name": "stdout",
                    "output_type": "stream",
                    "text": [
                        "2023-06-26 14:44:33 11m20s \u001b[1mINFO    \u001b[0m \u001b[36mart.attacks.evasion.projected_gradient_descent.projected_gradient_descent\u001b[0m:\u001b[36mgenerate\u001b[0m:\u001b[36m199\u001b[0m Creating adversarial samples.\n",
                        "2023-06-26 14:44:36 11m23s \u001b[1mINFO    \u001b[0m \u001b[36mart.attacks.evasion.projected_gradient_descent.projected_gradient_descent_pytorch\u001b[0m:\u001b[36mgenerate\u001b[0m:\u001b[36m237\u001b[0m Success rate of attack: 73.44%\n"
                    ]
                },
                {
                    "name": "stderr",
                    "output_type": "stream",
                    "text": [
                        "Evaluation:   6%|▋         | 10/157 [00:31<07:25,  3.03s/it]"
                    ]
                },
                {
                    "name": "stdout",
                    "output_type": "stream",
                    "text": [
                        "2023-06-26 14:44:36 11m23s \u001b[1mINFO    \u001b[0m \u001b[36mart.attacks.evasion.projected_gradient_descent.projected_gradient_descent\u001b[0m:\u001b[36mgenerate\u001b[0m:\u001b[36m199\u001b[0m Creating adversarial samples.\n",
                        "2023-06-26 14:44:39 11m26s \u001b[1mINFO    \u001b[0m \u001b[36mart.attacks.evasion.projected_gradient_descent.projected_gradient_descent_pytorch\u001b[0m:\u001b[36mgenerate\u001b[0m:\u001b[36m237\u001b[0m Success rate of attack: 75.00%\n"
                    ]
                },
                {
                    "name": "stderr",
                    "output_type": "stream",
                    "text": [
                        "Evaluation:   7%|▋         | 11/157 [00:34<07:29,  3.08s/it]"
                    ]
                },
                {
                    "name": "stdout",
                    "output_type": "stream",
                    "text": [
                        "2023-06-26 14:44:39 11m26s \u001b[1mINFO    \u001b[0m \u001b[36mart.attacks.evasion.projected_gradient_descent.projected_gradient_descent\u001b[0m:\u001b[36mgenerate\u001b[0m:\u001b[36m199\u001b[0m Creating adversarial samples.\n",
                        "2023-06-26 14:44:43 11m30s \u001b[1mINFO    \u001b[0m \u001b[36mart.attacks.evasion.projected_gradient_descent.projected_gradient_descent_pytorch\u001b[0m:\u001b[36mgenerate\u001b[0m:\u001b[36m237\u001b[0m Success rate of attack: 75.00%\n"
                    ]
                },
                {
                    "name": "stderr",
                    "output_type": "stream",
                    "text": [
                        "Evaluation:   8%|▊         | 12/157 [00:37<07:32,  3.12s/it]"
                    ]
                },
                {
                    "name": "stdout",
                    "output_type": "stream",
                    "text": [
                        "2023-06-26 14:44:43 11m30s \u001b[1mINFO    \u001b[0m \u001b[36mart.attacks.evasion.projected_gradient_descent.projected_gradient_descent\u001b[0m:\u001b[36mgenerate\u001b[0m:\u001b[36m199\u001b[0m Creating adversarial samples.\n",
                        "2023-06-26 14:44:46 11m33s \u001b[1mINFO    \u001b[0m \u001b[36mart.attacks.evasion.projected_gradient_descent.projected_gradient_descent_pytorch\u001b[0m:\u001b[36mgenerate\u001b[0m:\u001b[36m237\u001b[0m Success rate of attack: 79.69%\n"
                    ]
                },
                {
                    "name": "stderr",
                    "output_type": "stream",
                    "text": [
                        "Evaluation:   8%|▊         | 13/157 [00:41<07:55,  3.30s/it]"
                    ]
                },
                {
                    "name": "stdout",
                    "output_type": "stream",
                    "text": [
                        "2023-06-26 14:44:46 11m33s \u001b[1mINFO    \u001b[0m \u001b[36mart.attacks.evasion.projected_gradient_descent.projected_gradient_descent\u001b[0m:\u001b[36mgenerate\u001b[0m:\u001b[36m199\u001b[0m Creating adversarial samples.\n",
                        "2023-06-26 14:44:50 11m37s \u001b[1mINFO    \u001b[0m \u001b[36mart.attacks.evasion.projected_gradient_descent.projected_gradient_descent_pytorch\u001b[0m:\u001b[36mgenerate\u001b[0m:\u001b[36m237\u001b[0m Success rate of attack: 70.31%\n"
                    ]
                },
                {
                    "name": "stderr",
                    "output_type": "stream",
                    "text": [
                        "Evaluation:   9%|▉         | 14/157 [00:45<08:17,  3.48s/it]"
                    ]
                },
                {
                    "name": "stdout",
                    "output_type": "stream",
                    "text": [
                        "2023-06-26 14:44:50 11m37s \u001b[1mINFO    \u001b[0m \u001b[36mart.attacks.evasion.projected_gradient_descent.projected_gradient_descent\u001b[0m:\u001b[36mgenerate\u001b[0m:\u001b[36m199\u001b[0m Creating adversarial samples.\n",
                        "2023-06-26 14:44:54 11m41s \u001b[1mINFO    \u001b[0m \u001b[36mart.attacks.evasion.projected_gradient_descent.projected_gradient_descent_pytorch\u001b[0m:\u001b[36mgenerate\u001b[0m:\u001b[36m237\u001b[0m Success rate of attack: 64.06%\n"
                    ]
                },
                {
                    "name": "stderr",
                    "output_type": "stream",
                    "text": [
                        "Evaluation:  10%|▉         | 15/157 [00:48<08:23,  3.55s/it]"
                    ]
                },
                {
                    "name": "stdout",
                    "output_type": "stream",
                    "text": [
                        "2023-06-26 14:44:54 11m41s \u001b[1mINFO    \u001b[0m \u001b[36mart.attacks.evasion.projected_gradient_descent.projected_gradient_descent\u001b[0m:\u001b[36mgenerate\u001b[0m:\u001b[36m199\u001b[0m Creating adversarial samples.\n",
                        "2023-06-26 14:44:57 11m44s \u001b[1mINFO    \u001b[0m \u001b[36mart.attacks.evasion.projected_gradient_descent.projected_gradient_descent_pytorch\u001b[0m:\u001b[36mgenerate\u001b[0m:\u001b[36m237\u001b[0m Success rate of attack: 73.44%\n"
                    ]
                },
                {
                    "name": "stderr",
                    "output_type": "stream",
                    "text": [
                        "Evaluation:  10%|█         | 16/157 [00:52<08:11,  3.49s/it]"
                    ]
                },
                {
                    "name": "stdout",
                    "output_type": "stream",
                    "text": [
                        "2023-06-26 14:44:57 11m44s \u001b[1mINFO    \u001b[0m \u001b[36mart.attacks.evasion.projected_gradient_descent.projected_gradient_descent\u001b[0m:\u001b[36mgenerate\u001b[0m:\u001b[36m199\u001b[0m Creating adversarial samples.\n",
                        "2023-06-26 14:45:00 11m47s \u001b[1mINFO    \u001b[0m \u001b[36mart.attacks.evasion.projected_gradient_descent.projected_gradient_descent_pytorch\u001b[0m:\u001b[36mgenerate\u001b[0m:\u001b[36m237\u001b[0m Success rate of attack: 78.12%\n"
                    ]
                },
                {
                    "name": "stderr",
                    "output_type": "stream",
                    "text": [
                        "Evaluation:  11%|█         | 17/157 [00:55<07:50,  3.36s/it]"
                    ]
                },
                {
                    "name": "stdout",
                    "output_type": "stream",
                    "text": [
                        "2023-06-26 14:45:00 11m47s \u001b[1mINFO    \u001b[0m \u001b[36mart.attacks.evasion.projected_gradient_descent.projected_gradient_descent\u001b[0m:\u001b[36mgenerate\u001b[0m:\u001b[36m199\u001b[0m Creating adversarial samples.\n",
                        "2023-06-26 14:45:03 11m50s \u001b[1mINFO    \u001b[0m \u001b[36mart.attacks.evasion.projected_gradient_descent.projected_gradient_descent_pytorch\u001b[0m:\u001b[36mgenerate\u001b[0m:\u001b[36m237\u001b[0m Success rate of attack: 70.31%\n"
                    ]
                },
                {
                    "name": "stderr",
                    "output_type": "stream",
                    "text": [
                        "Evaluation:  11%|█▏        | 18/157 [00:58<07:33,  3.26s/it]"
                    ]
                },
                {
                    "name": "stdout",
                    "output_type": "stream",
                    "text": [
                        "2023-06-26 14:45:03 11m50s \u001b[1mINFO    \u001b[0m \u001b[36mart.attacks.evasion.projected_gradient_descent.projected_gradient_descent\u001b[0m:\u001b[36mgenerate\u001b[0m:\u001b[36m199\u001b[0m Creating adversarial samples.\n",
                        "2023-06-26 14:45:06 11m53s \u001b[1mINFO    \u001b[0m \u001b[36mart.attacks.evasion.projected_gradient_descent.projected_gradient_descent_pytorch\u001b[0m:\u001b[36mgenerate\u001b[0m:\u001b[36m237\u001b[0m Success rate of attack: 68.75%\n"
                    ]
                },
                {
                    "name": "stderr",
                    "output_type": "stream",
                    "text": [
                        "Evaluation:  12%|█▏        | 19/157 [01:01<07:16,  3.16s/it]"
                    ]
                },
                {
                    "name": "stdout",
                    "output_type": "stream",
                    "text": [
                        "2023-06-26 14:45:06 11m53s \u001b[1mINFO    \u001b[0m \u001b[36mart.attacks.evasion.projected_gradient_descent.projected_gradient_descent\u001b[0m:\u001b[36mgenerate\u001b[0m:\u001b[36m199\u001b[0m Creating adversarial samples.\n",
                        "2023-06-26 14:45:09 11m56s \u001b[1mINFO    \u001b[0m \u001b[36mart.attacks.evasion.projected_gradient_descent.projected_gradient_descent_pytorch\u001b[0m:\u001b[36mgenerate\u001b[0m:\u001b[36m237\u001b[0m Success rate of attack: 64.06%\n"
                    ]
                },
                {
                    "name": "stderr",
                    "output_type": "stream",
                    "text": [
                        "Evaluation:  13%|█▎        | 20/157 [01:04<07:12,  3.16s/it]"
                    ]
                },
                {
                    "name": "stdout",
                    "output_type": "stream",
                    "text": [
                        "2023-06-26 14:45:09 11m56s \u001b[1mINFO    \u001b[0m \u001b[36mart.attacks.evasion.projected_gradient_descent.projected_gradient_descent\u001b[0m:\u001b[36mgenerate\u001b[0m:\u001b[36m199\u001b[0m Creating adversarial samples.\n",
                        "2023-06-26 14:45:13 12m \u001b[1mINFO    \u001b[0m \u001b[36mart.attacks.evasion.projected_gradient_descent.projected_gradient_descent_pytorch\u001b[0m:\u001b[36mgenerate\u001b[0m:\u001b[36m237\u001b[0m Success rate of attack: 71.88%\n"
                    ]
                },
                {
                    "name": "stderr",
                    "output_type": "stream",
                    "text": [
                        "Evaluation:  13%|█▎        | 21/157 [01:08<07:29,  3.31s/it]"
                    ]
                },
                {
                    "name": "stdout",
                    "output_type": "stream",
                    "text": [
                        "2023-06-26 14:45:13 12m \u001b[1mINFO    \u001b[0m \u001b[36mart.attacks.evasion.projected_gradient_descent.projected_gradient_descent\u001b[0m:\u001b[36mgenerate\u001b[0m:\u001b[36m199\u001b[0m Creating adversarial samples.\n",
                        "2023-06-26 14:45:17 12m4s \u001b[1mINFO    \u001b[0m \u001b[36mart.attacks.evasion.projected_gradient_descent.projected_gradient_descent_pytorch\u001b[0m:\u001b[36mgenerate\u001b[0m:\u001b[36m237\u001b[0m Success rate of attack: 76.56%\n"
                    ]
                },
                {
                    "name": "stderr",
                    "output_type": "stream",
                    "text": [
                        "Evaluation:  14%|█▍        | 22/157 [01:11<07:33,  3.36s/it]"
                    ]
                },
                {
                    "name": "stdout",
                    "output_type": "stream",
                    "text": [
                        "2023-06-26 14:45:17 12m4s \u001b[1mINFO    \u001b[0m \u001b[36mart.attacks.evasion.projected_gradient_descent.projected_gradient_descent\u001b[0m:\u001b[36mgenerate\u001b[0m:\u001b[36m199\u001b[0m Creating adversarial samples.\n",
                        "2023-06-26 14:45:20 12m7s \u001b[1mINFO    \u001b[0m \u001b[36mart.attacks.evasion.projected_gradient_descent.projected_gradient_descent_pytorch\u001b[0m:\u001b[36mgenerate\u001b[0m:\u001b[36m237\u001b[0m Success rate of attack: 59.38%\n"
                    ]
                },
                {
                    "name": "stderr",
                    "output_type": "stream",
                    "text": [
                        "Evaluation:  15%|█▍        | 23/157 [01:14<07:28,  3.35s/it]"
                    ]
                },
                {
                    "name": "stdout",
                    "output_type": "stream",
                    "text": [
                        "2023-06-26 14:45:20 12m7s \u001b[1mINFO    \u001b[0m \u001b[36mart.attacks.evasion.projected_gradient_descent.projected_gradient_descent\u001b[0m:\u001b[36mgenerate\u001b[0m:\u001b[36m199\u001b[0m Creating adversarial samples.\n",
                        "2023-06-26 14:45:23 12m10s \u001b[1mINFO    \u001b[0m \u001b[36mart.attacks.evasion.projected_gradient_descent.projected_gradient_descent_pytorch\u001b[0m:\u001b[36mgenerate\u001b[0m:\u001b[36m237\u001b[0m Success rate of attack: 60.94%\n"
                    ]
                },
                {
                    "name": "stderr",
                    "output_type": "stream",
                    "text": [
                        "Evaluation:  15%|█▌        | 24/157 [01:18<07:21,  3.32s/it]"
                    ]
                },
                {
                    "name": "stdout",
                    "output_type": "stream",
                    "text": [
                        "2023-06-26 14:45:23 12m10s \u001b[1mINFO    \u001b[0m \u001b[36mart.attacks.evasion.projected_gradient_descent.projected_gradient_descent\u001b[0m:\u001b[36mgenerate\u001b[0m:\u001b[36m199\u001b[0m Creating adversarial samples.\n",
                        "2023-06-26 14:45:27 12m14s \u001b[1mINFO    \u001b[0m \u001b[36mart.attacks.evasion.projected_gradient_descent.projected_gradient_descent_pytorch\u001b[0m:\u001b[36mgenerate\u001b[0m:\u001b[36m237\u001b[0m Success rate of attack: 73.44%\n"
                    ]
                },
                {
                    "name": "stderr",
                    "output_type": "stream",
                    "text": [
                        "Evaluation:  16%|█▌        | 25/157 [01:22<07:44,  3.52s/it]"
                    ]
                },
                {
                    "name": "stdout",
                    "output_type": "stream",
                    "text": [
                        "2023-06-26 14:45:27 12m14s \u001b[1mINFO    \u001b[0m \u001b[36mart.attacks.evasion.projected_gradient_descent.projected_gradient_descent\u001b[0m:\u001b[36mgenerate\u001b[0m:\u001b[36m199\u001b[0m Creating adversarial samples.\n",
                        "2023-06-26 14:45:31 12m18s \u001b[1mINFO    \u001b[0m \u001b[36mart.attacks.evasion.projected_gradient_descent.projected_gradient_descent_pytorch\u001b[0m:\u001b[36mgenerate\u001b[0m:\u001b[36m237\u001b[0m Success rate of attack: 73.44%\n"
                    ]
                },
                {
                    "name": "stderr",
                    "output_type": "stream",
                    "text": [
                        "Evaluation:  17%|█▋        | 26/157 [01:26<08:01,  3.68s/it]"
                    ]
                },
                {
                    "name": "stdout",
                    "output_type": "stream",
                    "text": [
                        "2023-06-26 14:45:31 12m18s \u001b[1mINFO    \u001b[0m \u001b[36mart.attacks.evasion.projected_gradient_descent.projected_gradient_descent\u001b[0m:\u001b[36mgenerate\u001b[0m:\u001b[36m199\u001b[0m Creating adversarial samples.\n",
                        "2023-06-26 14:45:35 12m22s \u001b[1mINFO    \u001b[0m \u001b[36mart.attacks.evasion.projected_gradient_descent.projected_gradient_descent_pytorch\u001b[0m:\u001b[36mgenerate\u001b[0m:\u001b[36m237\u001b[0m Success rate of attack: 62.50%\n"
                    ]
                },
                {
                    "name": "stderr",
                    "output_type": "stream",
                    "text": [
                        "Evaluation:  17%|█▋        | 27/157 [01:30<08:09,  3.76s/it]"
                    ]
                },
                {
                    "name": "stdout",
                    "output_type": "stream",
                    "text": [
                        "2023-06-26 14:45:35 12m22s \u001b[1mINFO    \u001b[0m \u001b[36mart.attacks.evasion.projected_gradient_descent.projected_gradient_descent\u001b[0m:\u001b[36mgenerate\u001b[0m:\u001b[36m199\u001b[0m Creating adversarial samples.\n",
                        "2023-06-26 14:45:39 12m26s \u001b[1mINFO    \u001b[0m \u001b[36mart.attacks.evasion.projected_gradient_descent.projected_gradient_descent_pytorch\u001b[0m:\u001b[36mgenerate\u001b[0m:\u001b[36m237\u001b[0m Success rate of attack: 73.44%\n"
                    ]
                },
                {
                    "name": "stderr",
                    "output_type": "stream",
                    "text": [
                        "Evaluation:  18%|█▊        | 28/157 [01:33<08:01,  3.73s/it]"
                    ]
                },
                {
                    "name": "stdout",
                    "output_type": "stream",
                    "text": [
                        "2023-06-26 14:45:39 12m26s \u001b[1mINFO    \u001b[0m \u001b[36mart.attacks.evasion.projected_gradient_descent.projected_gradient_descent\u001b[0m:\u001b[36mgenerate\u001b[0m:\u001b[36m199\u001b[0m Creating adversarial samples.\n",
                        "2023-06-26 14:45:42 12m29s \u001b[1mINFO    \u001b[0m \u001b[36mart.attacks.evasion.projected_gradient_descent.projected_gradient_descent_pytorch\u001b[0m:\u001b[36mgenerate\u001b[0m:\u001b[36m237\u001b[0m Success rate of attack: 67.19%\n"
                    ]
                },
                {
                    "name": "stderr",
                    "output_type": "stream",
                    "text": [
                        "Evaluation:  18%|█▊        | 29/157 [01:36<07:38,  3.58s/it]"
                    ]
                },
                {
                    "name": "stdout",
                    "output_type": "stream",
                    "text": [
                        "2023-06-26 14:45:42 12m29s \u001b[1mINFO    \u001b[0m \u001b[36mart.attacks.evasion.projected_gradient_descent.projected_gradient_descent\u001b[0m:\u001b[36mgenerate\u001b[0m:\u001b[36m199\u001b[0m Creating adversarial samples.\n",
                        "2023-06-26 14:45:45 12m32s \u001b[1mINFO    \u001b[0m \u001b[36mart.attacks.evasion.projected_gradient_descent.projected_gradient_descent_pytorch\u001b[0m:\u001b[36mgenerate\u001b[0m:\u001b[36m237\u001b[0m Success rate of attack: 75.00%\n"
                    ]
                },
                {
                    "name": "stderr",
                    "output_type": "stream",
                    "text": [
                        "Evaluation:  19%|█▉        | 30/157 [01:40<07:30,  3.55s/it]"
                    ]
                },
                {
                    "name": "stdout",
                    "output_type": "stream",
                    "text": [
                        "2023-06-26 14:45:46 12m33s \u001b[1mINFO    \u001b[0m \u001b[36mart.attacks.evasion.projected_gradient_descent.projected_gradient_descent\u001b[0m:\u001b[36mgenerate\u001b[0m:\u001b[36m199\u001b[0m Creating adversarial samples.\n",
                        "2023-06-26 14:45:49 12m36s \u001b[1mINFO    \u001b[0m \u001b[36mart.attacks.evasion.projected_gradient_descent.projected_gradient_descent_pytorch\u001b[0m:\u001b[36mgenerate\u001b[0m:\u001b[36m237\u001b[0m Success rate of attack: 67.19%\n"
                    ]
                },
                {
                    "name": "stderr",
                    "output_type": "stream",
                    "text": [
                        "Evaluation:  20%|█▉        | 31/157 [01:44<07:28,  3.56s/it]"
                    ]
                },
                {
                    "name": "stdout",
                    "output_type": "stream",
                    "text": [
                        "2023-06-26 14:45:49 12m36s \u001b[1mINFO    \u001b[0m \u001b[36mart.attacks.evasion.projected_gradient_descent.projected_gradient_descent\u001b[0m:\u001b[36mgenerate\u001b[0m:\u001b[36m199\u001b[0m Creating adversarial samples.\n",
                        "2023-06-26 14:45:52 12m39s \u001b[1mINFO    \u001b[0m \u001b[36mart.attacks.evasion.projected_gradient_descent.projected_gradient_descent_pytorch\u001b[0m:\u001b[36mgenerate\u001b[0m:\u001b[36m237\u001b[0m Success rate of attack: 79.69%\n"
                    ]
                },
                {
                    "name": "stderr",
                    "output_type": "stream",
                    "text": [
                        "Evaluation:  20%|██        | 32/157 [01:47<07:02,  3.38s/it]"
                    ]
                },
                {
                    "name": "stdout",
                    "output_type": "stream",
                    "text": [
                        "2023-06-26 14:45:52 12m39s \u001b[1mINFO    \u001b[0m \u001b[36mart.attacks.evasion.projected_gradient_descent.projected_gradient_descent\u001b[0m:\u001b[36mgenerate\u001b[0m:\u001b[36m199\u001b[0m Creating adversarial samples.\n",
                        "2023-06-26 14:45:55 12m42s \u001b[1mINFO    \u001b[0m \u001b[36mart.attacks.evasion.projected_gradient_descent.projected_gradient_descent_pytorch\u001b[0m:\u001b[36mgenerate\u001b[0m:\u001b[36m237\u001b[0m Success rate of attack: 65.62%\n"
                    ]
                },
                {
                    "name": "stderr",
                    "output_type": "stream",
                    "text": [
                        "Evaluation:  21%|██        | 33/157 [01:50<06:50,  3.31s/it]"
                    ]
                },
                {
                    "name": "stdout",
                    "output_type": "stream",
                    "text": [
                        "2023-06-26 14:45:55 12m42s \u001b[1mINFO    \u001b[0m \u001b[36mart.attacks.evasion.projected_gradient_descent.projected_gradient_descent\u001b[0m:\u001b[36mgenerate\u001b[0m:\u001b[36m199\u001b[0m Creating adversarial samples.\n",
                        "2023-06-26 14:45:58 12m45s \u001b[1mINFO    \u001b[0m \u001b[36mart.attacks.evasion.projected_gradient_descent.projected_gradient_descent_pytorch\u001b[0m:\u001b[36mgenerate\u001b[0m:\u001b[36m237\u001b[0m Success rate of attack: 64.06%\n"
                    ]
                },
                {
                    "name": "stderr",
                    "output_type": "stream",
                    "text": [
                        "Evaluation:  22%|██▏       | 34/157 [01:53<06:43,  3.28s/it]"
                    ]
                },
                {
                    "name": "stdout",
                    "output_type": "stream",
                    "text": [
                        "2023-06-26 14:45:58 12m45s \u001b[1mINFO    \u001b[0m \u001b[36mart.attacks.evasion.projected_gradient_descent.projected_gradient_descent\u001b[0m:\u001b[36mgenerate\u001b[0m:\u001b[36m199\u001b[0m Creating adversarial samples.\n",
                        "2023-06-26 14:46:02 12m49s \u001b[1mINFO    \u001b[0m \u001b[36mart.attacks.evasion.projected_gradient_descent.projected_gradient_descent_pytorch\u001b[0m:\u001b[36mgenerate\u001b[0m:\u001b[36m237\u001b[0m Success rate of attack: 75.00%\n"
                    ]
                },
                {
                    "name": "stderr",
                    "output_type": "stream",
                    "text": [
                        "Evaluation:  22%|██▏       | 35/157 [01:56<06:43,  3.31s/it]"
                    ]
                },
                {
                    "name": "stdout",
                    "output_type": "stream",
                    "text": [
                        "2023-06-26 14:46:02 12m49s \u001b[1mINFO    \u001b[0m \u001b[36mart.attacks.evasion.projected_gradient_descent.projected_gradient_descent\u001b[0m:\u001b[36mgenerate\u001b[0m:\u001b[36m199\u001b[0m Creating adversarial samples.\n",
                        "2023-06-26 14:46:05 12m52s \u001b[1mINFO    \u001b[0m \u001b[36mart.attacks.evasion.projected_gradient_descent.projected_gradient_descent_pytorch\u001b[0m:\u001b[36mgenerate\u001b[0m:\u001b[36m237\u001b[0m Success rate of attack: 62.50%\n"
                    ]
                },
                {
                    "name": "stderr",
                    "output_type": "stream",
                    "text": [
                        "Evaluation:  23%|██▎       | 36/157 [01:59<06:31,  3.24s/it]"
                    ]
                },
                {
                    "name": "stdout",
                    "output_type": "stream",
                    "text": [
                        "2023-06-26 14:46:05 12m52s \u001b[1mINFO    \u001b[0m \u001b[36mart.attacks.evasion.projected_gradient_descent.projected_gradient_descent\u001b[0m:\u001b[36mgenerate\u001b[0m:\u001b[36m199\u001b[0m Creating adversarial samples.\n",
                        "2023-06-26 14:46:08 12m55s \u001b[1mINFO    \u001b[0m \u001b[36mart.attacks.evasion.projected_gradient_descent.projected_gradient_descent_pytorch\u001b[0m:\u001b[36mgenerate\u001b[0m:\u001b[36m237\u001b[0m Success rate of attack: 71.88%\n"
                    ]
                },
                {
                    "name": "stderr",
                    "output_type": "stream",
                    "text": [
                        "Evaluation:  24%|██▎       | 37/157 [02:02<06:19,  3.17s/it]"
                    ]
                },
                {
                    "name": "stdout",
                    "output_type": "stream",
                    "text": [
                        "2023-06-26 14:46:08 12m55s \u001b[1mINFO    \u001b[0m \u001b[36mart.attacks.evasion.projected_gradient_descent.projected_gradient_descent\u001b[0m:\u001b[36mgenerate\u001b[0m:\u001b[36m199\u001b[0m Creating adversarial samples.\n",
                        "2023-06-26 14:46:11 12m58s \u001b[1mINFO    \u001b[0m \u001b[36mart.attacks.evasion.projected_gradient_descent.projected_gradient_descent_pytorch\u001b[0m:\u001b[36mgenerate\u001b[0m:\u001b[36m237\u001b[0m Success rate of attack: 68.75%\n"
                    ]
                },
                {
                    "name": "stderr",
                    "output_type": "stream",
                    "text": [
                        "Evaluation:  24%|██▍       | 38/157 [02:05<06:12,  3.13s/it]"
                    ]
                },
                {
                    "name": "stdout",
                    "output_type": "stream",
                    "text": [
                        "2023-06-26 14:46:11 12m58s \u001b[1mINFO    \u001b[0m \u001b[36mart.attacks.evasion.projected_gradient_descent.projected_gradient_descent\u001b[0m:\u001b[36mgenerate\u001b[0m:\u001b[36m199\u001b[0m Creating adversarial samples.\n",
                        "2023-06-26 14:46:14 13m \u001b[1mINFO    \u001b[0m \u001b[36mart.attacks.evasion.projected_gradient_descent.projected_gradient_descent_pytorch\u001b[0m:\u001b[36mgenerate\u001b[0m:\u001b[36m237\u001b[0m Success rate of attack: 82.81%\n"
                    ]
                },
                {
                    "name": "stderr",
                    "output_type": "stream",
                    "text": [
                        "Evaluation:  25%|██▍       | 39/157 [02:08<06:06,  3.11s/it]"
                    ]
                },
                {
                    "name": "stdout",
                    "output_type": "stream",
                    "text": [
                        "2023-06-26 14:46:14 13m \u001b[1mINFO    \u001b[0m \u001b[36mart.attacks.evasion.projected_gradient_descent.projected_gradient_descent\u001b[0m:\u001b[36mgenerate\u001b[0m:\u001b[36m199\u001b[0m Creating adversarial samples.\n",
                        "2023-06-26 14:46:17 13m4s \u001b[1mINFO    \u001b[0m \u001b[36mart.attacks.evasion.projected_gradient_descent.projected_gradient_descent_pytorch\u001b[0m:\u001b[36mgenerate\u001b[0m:\u001b[36m237\u001b[0m Success rate of attack: 62.50%\n"
                    ]
                },
                {
                    "name": "stderr",
                    "output_type": "stream",
                    "text": [
                        "Evaluation:  25%|██▌       | 40/157 [02:11<06:02,  3.10s/it]"
                    ]
                },
                {
                    "name": "stdout",
                    "output_type": "stream",
                    "text": [
                        "2023-06-26 14:46:17 13m4s \u001b[1mINFO    \u001b[0m \u001b[36mart.attacks.evasion.projected_gradient_descent.projected_gradient_descent\u001b[0m:\u001b[36mgenerate\u001b[0m:\u001b[36m199\u001b[0m Creating adversarial samples.\n",
                        "2023-06-26 14:46:20 13m7s \u001b[1mINFO    \u001b[0m \u001b[36mart.attacks.evasion.projected_gradient_descent.projected_gradient_descent_pytorch\u001b[0m:\u001b[36mgenerate\u001b[0m:\u001b[36m237\u001b[0m Success rate of attack: 75.00%\n"
                    ]
                },
                {
                    "name": "stderr",
                    "output_type": "stream",
                    "text": [
                        "Evaluation:  26%|██▌       | 41/157 [02:15<05:56,  3.07s/it]"
                    ]
                },
                {
                    "name": "stdout",
                    "output_type": "stream",
                    "text": [
                        "2023-06-26 14:46:20 13m7s \u001b[1mINFO    \u001b[0m \u001b[36mart.attacks.evasion.projected_gradient_descent.projected_gradient_descent\u001b[0m:\u001b[36mgenerate\u001b[0m:\u001b[36m199\u001b[0m Creating adversarial samples.\n",
                        "2023-06-26 14:46:23 13m10s \u001b[1mINFO    \u001b[0m \u001b[36mart.attacks.evasion.projected_gradient_descent.projected_gradient_descent_pytorch\u001b[0m:\u001b[36mgenerate\u001b[0m:\u001b[36m237\u001b[0m Success rate of attack: 71.88%\n"
                    ]
                },
                {
                    "name": "stderr",
                    "output_type": "stream",
                    "text": [
                        "Evaluation:  27%|██▋       | 42/157 [02:18<05:52,  3.07s/it]"
                    ]
                },
                {
                    "name": "stdout",
                    "output_type": "stream",
                    "text": [
                        "2023-06-26 14:46:23 13m10s \u001b[1mINFO    \u001b[0m \u001b[36mart.attacks.evasion.projected_gradient_descent.projected_gradient_descent\u001b[0m:\u001b[36mgenerate\u001b[0m:\u001b[36m199\u001b[0m Creating adversarial samples.\n",
                        "2023-06-26 14:46:26 13m13s \u001b[1mINFO    \u001b[0m \u001b[36mart.attacks.evasion.projected_gradient_descent.projected_gradient_descent_pytorch\u001b[0m:\u001b[36mgenerate\u001b[0m:\u001b[36m237\u001b[0m Success rate of attack: 67.19%\n"
                    ]
                },
                {
                    "name": "stderr",
                    "output_type": "stream",
                    "text": [
                        "Evaluation:  27%|██▋       | 43/157 [02:21<05:56,  3.13s/it]"
                    ]
                },
                {
                    "name": "stdout",
                    "output_type": "stream",
                    "text": [
                        "2023-06-26 14:46:26 13m13s \u001b[1mINFO    \u001b[0m \u001b[36mart.attacks.evasion.projected_gradient_descent.projected_gradient_descent\u001b[0m:\u001b[36mgenerate\u001b[0m:\u001b[36m199\u001b[0m Creating adversarial samples.\n",
                        "2023-06-26 14:46:30 13m17s \u001b[1mINFO    \u001b[0m \u001b[36mart.attacks.evasion.projected_gradient_descent.projected_gradient_descent_pytorch\u001b[0m:\u001b[36mgenerate\u001b[0m:\u001b[36m237\u001b[0m Success rate of attack: 70.31%\n"
                    ]
                },
                {
                    "name": "stderr",
                    "output_type": "stream",
                    "text": [
                        "Evaluation:  28%|██▊       | 44/157 [02:24<05:54,  3.14s/it]"
                    ]
                },
                {
                    "name": "stdout",
                    "output_type": "stream",
                    "text": [
                        "2023-06-26 14:46:30 13m17s \u001b[1mINFO    \u001b[0m \u001b[36mart.attacks.evasion.projected_gradient_descent.projected_gradient_descent\u001b[0m:\u001b[36mgenerate\u001b[0m:\u001b[36m199\u001b[0m Creating adversarial samples.\n",
                        "2023-06-26 14:46:33 13m20s \u001b[1mINFO    \u001b[0m \u001b[36mart.attacks.evasion.projected_gradient_descent.projected_gradient_descent_pytorch\u001b[0m:\u001b[36mgenerate\u001b[0m:\u001b[36m237\u001b[0m Success rate of attack: 79.69%\n"
                    ]
                },
                {
                    "name": "stderr",
                    "output_type": "stream",
                    "text": [
                        "Evaluation:  29%|██▊       | 45/157 [02:27<05:56,  3.18s/it]"
                    ]
                },
                {
                    "name": "stdout",
                    "output_type": "stream",
                    "text": [
                        "2023-06-26 14:46:33 13m20s \u001b[1mINFO    \u001b[0m \u001b[36mart.attacks.evasion.projected_gradient_descent.projected_gradient_descent\u001b[0m:\u001b[36mgenerate\u001b[0m:\u001b[36m199\u001b[0m Creating adversarial samples.\n",
                        "2023-06-26 14:46:37 13m24s \u001b[1mINFO    \u001b[0m \u001b[36mart.attacks.evasion.projected_gradient_descent.projected_gradient_descent_pytorch\u001b[0m:\u001b[36mgenerate\u001b[0m:\u001b[36m237\u001b[0m Success rate of attack: 73.44%\n"
                    ]
                },
                {
                    "name": "stderr",
                    "output_type": "stream",
                    "text": [
                        "Evaluation:  29%|██▉       | 46/157 [02:31<06:19,  3.41s/it]"
                    ]
                },
                {
                    "name": "stdout",
                    "output_type": "stream",
                    "text": [
                        "2023-06-26 14:46:37 13m24s \u001b[1mINFO    \u001b[0m \u001b[36mart.attacks.evasion.projected_gradient_descent.projected_gradient_descent\u001b[0m:\u001b[36mgenerate\u001b[0m:\u001b[36m199\u001b[0m Creating adversarial samples.\n",
                        "2023-06-26 14:46:40 13m27s \u001b[1mINFO    \u001b[0m \u001b[36mart.attacks.evasion.projected_gradient_descent.projected_gradient_descent_pytorch\u001b[0m:\u001b[36mgenerate\u001b[0m:\u001b[36m237\u001b[0m Success rate of attack: 73.44%\n"
                    ]
                },
                {
                    "name": "stderr",
                    "output_type": "stream",
                    "text": [
                        "Evaluation:  30%|██▉       | 47/157 [02:34<06:09,  3.36s/it]"
                    ]
                },
                {
                    "name": "stdout",
                    "output_type": "stream",
                    "text": [
                        "2023-06-26 14:46:40 13m27s \u001b[1mINFO    \u001b[0m \u001b[36mart.attacks.evasion.projected_gradient_descent.projected_gradient_descent\u001b[0m:\u001b[36mgenerate\u001b[0m:\u001b[36m199\u001b[0m Creating adversarial samples.\n",
                        "2023-06-26 14:46:44 13m31s \u001b[1mINFO    \u001b[0m \u001b[36mart.attacks.evasion.projected_gradient_descent.projected_gradient_descent_pytorch\u001b[0m:\u001b[36mgenerate\u001b[0m:\u001b[36m237\u001b[0m Success rate of attack: 65.62%\n"
                    ]
                },
                {
                    "name": "stderr",
                    "output_type": "stream",
                    "text": [
                        "Evaluation:  31%|███       | 48/157 [02:38<06:12,  3.41s/it]"
                    ]
                },
                {
                    "name": "stdout",
                    "output_type": "stream",
                    "text": [
                        "2023-06-26 14:46:44 13m31s \u001b[1mINFO    \u001b[0m \u001b[36mart.attacks.evasion.projected_gradient_descent.projected_gradient_descent\u001b[0m:\u001b[36mgenerate\u001b[0m:\u001b[36m199\u001b[0m Creating adversarial samples.\n",
                        "2023-06-26 14:46:48 13m35s \u001b[1mINFO    \u001b[0m \u001b[36mart.attacks.evasion.projected_gradient_descent.projected_gradient_descent_pytorch\u001b[0m:\u001b[36mgenerate\u001b[0m:\u001b[36m237\u001b[0m Success rate of attack: 65.62%\n"
                    ]
                },
                {
                    "name": "stderr",
                    "output_type": "stream",
                    "text": [
                        "Evaluation:  31%|███       | 49/157 [02:42<06:31,  3.62s/it]"
                    ]
                },
                {
                    "name": "stdout",
                    "output_type": "stream",
                    "text": [
                        "2023-06-26 14:46:48 13m35s \u001b[1mINFO    \u001b[0m \u001b[36mart.attacks.evasion.projected_gradient_descent.projected_gradient_descent\u001b[0m:\u001b[36mgenerate\u001b[0m:\u001b[36m199\u001b[0m Creating adversarial samples.\n",
                        "2023-06-26 14:46:51 13m38s \u001b[1mINFO    \u001b[0m \u001b[36mart.attacks.evasion.projected_gradient_descent.projected_gradient_descent_pytorch\u001b[0m:\u001b[36mgenerate\u001b[0m:\u001b[36m237\u001b[0m Success rate of attack: 71.88%\n"
                    ]
                },
                {
                    "name": "stderr",
                    "output_type": "stream",
                    "text": [
                        "Evaluation:  32%|███▏      | 50/157 [02:46<06:24,  3.60s/it]"
                    ]
                },
                {
                    "name": "stdout",
                    "output_type": "stream",
                    "text": [
                        "2023-06-26 14:46:51 13m38s \u001b[1mINFO    \u001b[0m \u001b[36mart.attacks.evasion.projected_gradient_descent.projected_gradient_descent\u001b[0m:\u001b[36mgenerate\u001b[0m:\u001b[36m199\u001b[0m Creating adversarial samples.\n",
                        "2023-06-26 14:46:54 13m41s \u001b[1mINFO    \u001b[0m \u001b[36mart.attacks.evasion.projected_gradient_descent.projected_gradient_descent_pytorch\u001b[0m:\u001b[36mgenerate\u001b[0m:\u001b[36m237\u001b[0m Success rate of attack: 70.31%\n"
                    ]
                },
                {
                    "name": "stderr",
                    "output_type": "stream",
                    "text": [
                        "Evaluation:  32%|███▏      | 51/157 [02:49<06:10,  3.50s/it]"
                    ]
                },
                {
                    "name": "stdout",
                    "output_type": "stream",
                    "text": [
                        "2023-06-26 14:46:54 13m41s \u001b[1mINFO    \u001b[0m \u001b[36mart.attacks.evasion.projected_gradient_descent.projected_gradient_descent\u001b[0m:\u001b[36mgenerate\u001b[0m:\u001b[36m199\u001b[0m Creating adversarial samples.\n",
                        "2023-06-26 14:46:58 13m45s \u001b[1mINFO    \u001b[0m \u001b[36mart.attacks.evasion.projected_gradient_descent.projected_gradient_descent_pytorch\u001b[0m:\u001b[36mgenerate\u001b[0m:\u001b[36m237\u001b[0m Success rate of attack: 79.69%\n"
                    ]
                },
                {
                    "name": "stderr",
                    "output_type": "stream",
                    "text": [
                        "Evaluation:  33%|███▎      | 52/157 [02:52<05:58,  3.41s/it]"
                    ]
                },
                {
                    "name": "stdout",
                    "output_type": "stream",
                    "text": [
                        "2023-06-26 14:46:58 13m45s \u001b[1mINFO    \u001b[0m \u001b[36mart.attacks.evasion.projected_gradient_descent.projected_gradient_descent\u001b[0m:\u001b[36mgenerate\u001b[0m:\u001b[36m199\u001b[0m Creating adversarial samples.\n",
                        "2023-06-26 14:47:01 13m48s \u001b[1mINFO    \u001b[0m \u001b[36mart.attacks.evasion.projected_gradient_descent.projected_gradient_descent_pytorch\u001b[0m:\u001b[36mgenerate\u001b[0m:\u001b[36m237\u001b[0m Success rate of attack: 56.25%\n"
                    ]
                },
                {
                    "name": "stderr",
                    "output_type": "stream",
                    "text": [
                        "Evaluation:  34%|███▍      | 53/157 [02:55<05:52,  3.39s/it]"
                    ]
                },
                {
                    "name": "stdout",
                    "output_type": "stream",
                    "text": [
                        "2023-06-26 14:47:01 13m48s \u001b[1mINFO    \u001b[0m \u001b[36mart.attacks.evasion.projected_gradient_descent.projected_gradient_descent\u001b[0m:\u001b[36mgenerate\u001b[0m:\u001b[36m199\u001b[0m Creating adversarial samples.\n",
                        "2023-06-26 14:47:04 13m51s \u001b[1mINFO    \u001b[0m \u001b[36mart.attacks.evasion.projected_gradient_descent.projected_gradient_descent_pytorch\u001b[0m:\u001b[36mgenerate\u001b[0m:\u001b[36m237\u001b[0m Success rate of attack: 75.00%\n"
                    ]
                },
                {
                    "name": "stderr",
                    "output_type": "stream",
                    "text": [
                        "Evaluation:  34%|███▍      | 54/157 [02:59<05:44,  3.35s/it]"
                    ]
                },
                {
                    "name": "stdout",
                    "output_type": "stream",
                    "text": [
                        "2023-06-26 14:47:04 13m51s \u001b[1mINFO    \u001b[0m \u001b[36mart.attacks.evasion.projected_gradient_descent.projected_gradient_descent\u001b[0m:\u001b[36mgenerate\u001b[0m:\u001b[36m199\u001b[0m Creating adversarial samples.\n",
                        "2023-06-26 14:47:07 13m54s \u001b[1mINFO    \u001b[0m \u001b[36mart.attacks.evasion.projected_gradient_descent.projected_gradient_descent_pytorch\u001b[0m:\u001b[36mgenerate\u001b[0m:\u001b[36m237\u001b[0m Success rate of attack: 75.00%\n"
                    ]
                },
                {
                    "name": "stderr",
                    "output_type": "stream",
                    "text": [
                        "Evaluation:  35%|███▌      | 55/157 [03:02<05:36,  3.30s/it]"
                    ]
                },
                {
                    "name": "stdout",
                    "output_type": "stream",
                    "text": [
                        "2023-06-26 14:47:07 13m54s \u001b[1mINFO    \u001b[0m \u001b[36mart.attacks.evasion.projected_gradient_descent.projected_gradient_descent\u001b[0m:\u001b[36mgenerate\u001b[0m:\u001b[36m199\u001b[0m Creating adversarial samples.\n",
                        "2023-06-26 14:47:11 13m58s \u001b[1mINFO    \u001b[0m \u001b[36mart.attacks.evasion.projected_gradient_descent.projected_gradient_descent_pytorch\u001b[0m:\u001b[36mgenerate\u001b[0m:\u001b[36m237\u001b[0m Success rate of attack: 73.44%\n"
                    ]
                },
                {
                    "name": "stderr",
                    "output_type": "stream",
                    "text": [
                        "Evaluation:  36%|███▌      | 56/157 [03:05<05:33,  3.30s/it]"
                    ]
                },
                {
                    "name": "stdout",
                    "output_type": "stream",
                    "text": [
                        "2023-06-26 14:47:11 13m58s \u001b[1mINFO    \u001b[0m \u001b[36mart.attacks.evasion.projected_gradient_descent.projected_gradient_descent\u001b[0m:\u001b[36mgenerate\u001b[0m:\u001b[36m199\u001b[0m Creating adversarial samples.\n",
                        "2023-06-26 14:47:15 14m2s \u001b[1mINFO    \u001b[0m \u001b[36mart.attacks.evasion.projected_gradient_descent.projected_gradient_descent_pytorch\u001b[0m:\u001b[36mgenerate\u001b[0m:\u001b[36m237\u001b[0m Success rate of attack: 67.19%\n"
                    ]
                },
                {
                    "name": "stderr",
                    "output_type": "stream",
                    "text": [
                        "Evaluation:  36%|███▋      | 57/157 [03:09<05:47,  3.48s/it]"
                    ]
                },
                {
                    "name": "stdout",
                    "output_type": "stream",
                    "text": [
                        "2023-06-26 14:47:15 14m2s \u001b[1mINFO    \u001b[0m \u001b[36mart.attacks.evasion.projected_gradient_descent.projected_gradient_descent\u001b[0m:\u001b[36mgenerate\u001b[0m:\u001b[36m199\u001b[0m Creating adversarial samples.\n",
                        "2023-06-26 14:47:19 14m6s \u001b[1mINFO    \u001b[0m \u001b[36mart.attacks.evasion.projected_gradient_descent.projected_gradient_descent_pytorch\u001b[0m:\u001b[36mgenerate\u001b[0m:\u001b[36m237\u001b[0m Success rate of attack: 75.00%\n"
                    ]
                },
                {
                    "name": "stderr",
                    "output_type": "stream",
                    "text": [
                        "Evaluation:  37%|███▋      | 58/157 [03:13<06:01,  3.65s/it]"
                    ]
                },
                {
                    "name": "stdout",
                    "output_type": "stream",
                    "text": [
                        "2023-06-26 14:47:19 14m6s \u001b[1mINFO    \u001b[0m \u001b[36mart.attacks.evasion.projected_gradient_descent.projected_gradient_descent\u001b[0m:\u001b[36mgenerate\u001b[0m:\u001b[36m199\u001b[0m Creating adversarial samples.\n",
                        "2023-06-26 14:47:23 14m10s \u001b[1mINFO    \u001b[0m \u001b[36mart.attacks.evasion.projected_gradient_descent.projected_gradient_descent_pytorch\u001b[0m:\u001b[36mgenerate\u001b[0m:\u001b[36m237\u001b[0m Success rate of attack: 75.00%\n"
                    ]
                },
                {
                    "name": "stderr",
                    "output_type": "stream",
                    "text": [
                        "Evaluation:  38%|███▊      | 59/157 [03:17<06:05,  3.73s/it]"
                    ]
                },
                {
                    "name": "stdout",
                    "output_type": "stream",
                    "text": [
                        "2023-06-26 14:47:23 14m10s \u001b[1mINFO    \u001b[0m \u001b[36mart.attacks.evasion.projected_gradient_descent.projected_gradient_descent\u001b[0m:\u001b[36mgenerate\u001b[0m:\u001b[36m199\u001b[0m Creating adversarial samples.\n",
                        "2023-06-26 14:47:26 14m13s \u001b[1mINFO    \u001b[0m \u001b[36mart.attacks.evasion.projected_gradient_descent.projected_gradient_descent_pytorch\u001b[0m:\u001b[36mgenerate\u001b[0m:\u001b[36m237\u001b[0m Success rate of attack: 71.88%\n"
                    ]
                },
                {
                    "name": "stderr",
                    "output_type": "stream",
                    "text": [
                        "Evaluation:  38%|███▊      | 60/157 [03:21<06:04,  3.76s/it]"
                    ]
                },
                {
                    "name": "stdout",
                    "output_type": "stream",
                    "text": [
                        "2023-06-26 14:47:26 14m13s \u001b[1mINFO    \u001b[0m \u001b[36mart.attacks.evasion.projected_gradient_descent.projected_gradient_descent\u001b[0m:\u001b[36mgenerate\u001b[0m:\u001b[36m199\u001b[0m Creating adversarial samples.\n",
                        "2023-06-26 14:47:30 14m17s \u001b[1mINFO    \u001b[0m \u001b[36mart.attacks.evasion.projected_gradient_descent.projected_gradient_descent_pytorch\u001b[0m:\u001b[36mgenerate\u001b[0m:\u001b[36m237\u001b[0m Success rate of attack: 75.00%\n"
                    ]
                },
                {
                    "name": "stderr",
                    "output_type": "stream",
                    "text": [
                        "Evaluation:  39%|███▉      | 61/157 [03:24<05:49,  3.64s/it]"
                    ]
                },
                {
                    "name": "stdout",
                    "output_type": "stream",
                    "text": [
                        "2023-06-26 14:47:30 14m17s \u001b[1mINFO    \u001b[0m \u001b[36mart.attacks.evasion.projected_gradient_descent.projected_gradient_descent\u001b[0m:\u001b[36mgenerate\u001b[0m:\u001b[36m199\u001b[0m Creating adversarial samples.\n",
                        "2023-06-26 14:47:33 14m20s \u001b[1mINFO    \u001b[0m \u001b[36mart.attacks.evasion.projected_gradient_descent.projected_gradient_descent_pytorch\u001b[0m:\u001b[36mgenerate\u001b[0m:\u001b[36m237\u001b[0m Success rate of attack: 64.06%\n"
                    ]
                },
                {
                    "name": "stderr",
                    "output_type": "stream",
                    "text": [
                        "Evaluation:  39%|███▉      | 62/157 [03:28<05:41,  3.60s/it]"
                    ]
                },
                {
                    "name": "stdout",
                    "output_type": "stream",
                    "text": [
                        "2023-06-26 14:47:33 14m20s \u001b[1mINFO    \u001b[0m \u001b[36mart.attacks.evasion.projected_gradient_descent.projected_gradient_descent\u001b[0m:\u001b[36mgenerate\u001b[0m:\u001b[36m199\u001b[0m Creating adversarial samples.\n",
                        "2023-06-26 14:47:37 14m24s \u001b[1mINFO    \u001b[0m \u001b[36mart.attacks.evasion.projected_gradient_descent.projected_gradient_descent_pytorch\u001b[0m:\u001b[36mgenerate\u001b[0m:\u001b[36m237\u001b[0m Success rate of attack: 70.31%\n"
                    ]
                },
                {
                    "name": "stderr",
                    "output_type": "stream",
                    "text": [
                        "Evaluation:  40%|████      | 63/157 [03:31<05:34,  3.56s/it]"
                    ]
                },
                {
                    "name": "stdout",
                    "output_type": "stream",
                    "text": [
                        "2023-06-26 14:47:37 14m24s \u001b[1mINFO    \u001b[0m \u001b[36mart.attacks.evasion.projected_gradient_descent.projected_gradient_descent\u001b[0m:\u001b[36mgenerate\u001b[0m:\u001b[36m199\u001b[0m Creating adversarial samples.\n",
                        "2023-06-26 14:47:41 14m28s \u001b[1mINFO    \u001b[0m \u001b[36mart.attacks.evasion.projected_gradient_descent.projected_gradient_descent_pytorch\u001b[0m:\u001b[36mgenerate\u001b[0m:\u001b[36m237\u001b[0m Success rate of attack: 67.19%\n"
                    ]
                },
                {
                    "name": "stderr",
                    "output_type": "stream",
                    "text": [
                        "Evaluation:  41%|████      | 64/157 [03:35<05:37,  3.62s/it]"
                    ]
                },
                {
                    "name": "stdout",
                    "output_type": "stream",
                    "text": [
                        "2023-06-26 14:47:41 14m28s \u001b[1mINFO    \u001b[0m \u001b[36mart.attacks.evasion.projected_gradient_descent.projected_gradient_descent\u001b[0m:\u001b[36mgenerate\u001b[0m:\u001b[36m199\u001b[0m Creating adversarial samples.\n",
                        "2023-06-26 14:47:44 14m31s \u001b[1mINFO    \u001b[0m \u001b[36mart.attacks.evasion.projected_gradient_descent.projected_gradient_descent_pytorch\u001b[0m:\u001b[36mgenerate\u001b[0m:\u001b[36m237\u001b[0m Success rate of attack: 76.56%\n"
                    ]
                },
                {
                    "name": "stderr",
                    "output_type": "stream",
                    "text": [
                        "Evaluation:  41%|████▏     | 65/157 [03:38<05:23,  3.51s/it]"
                    ]
                },
                {
                    "name": "stdout",
                    "output_type": "stream",
                    "text": [
                        "2023-06-26 14:47:44 14m31s \u001b[1mINFO    \u001b[0m \u001b[36mart.attacks.evasion.projected_gradient_descent.projected_gradient_descent\u001b[0m:\u001b[36mgenerate\u001b[0m:\u001b[36m199\u001b[0m Creating adversarial samples.\n",
                        "2023-06-26 14:47:47 14m34s \u001b[1mINFO    \u001b[0m \u001b[36mart.attacks.evasion.projected_gradient_descent.projected_gradient_descent_pytorch\u001b[0m:\u001b[36mgenerate\u001b[0m:\u001b[36m237\u001b[0m Success rate of attack: 62.50%\n"
                    ]
                },
                {
                    "name": "stderr",
                    "output_type": "stream",
                    "text": [
                        "Evaluation:  42%|████▏     | 66/157 [03:41<05:10,  3.42s/it]"
                    ]
                },
                {
                    "name": "stdout",
                    "output_type": "stream",
                    "text": [
                        "2023-06-26 14:47:47 14m34s \u001b[1mINFO    \u001b[0m \u001b[36mart.attacks.evasion.projected_gradient_descent.projected_gradient_descent\u001b[0m:\u001b[36mgenerate\u001b[0m:\u001b[36m199\u001b[0m Creating adversarial samples.\n",
                        "2023-06-26 14:47:50 14m37s \u001b[1mINFO    \u001b[0m \u001b[36mart.attacks.evasion.projected_gradient_descent.projected_gradient_descent_pytorch\u001b[0m:\u001b[36mgenerate\u001b[0m:\u001b[36m237\u001b[0m Success rate of attack: 64.06%\n"
                    ]
                },
                {
                    "name": "stderr",
                    "output_type": "stream",
                    "text": [
                        "Evaluation:  43%|████▎     | 67/157 [03:45<05:01,  3.35s/it]"
                    ]
                },
                {
                    "name": "stdout",
                    "output_type": "stream",
                    "text": [
                        "2023-06-26 14:47:50 14m37s \u001b[1mINFO    \u001b[0m \u001b[36mart.attacks.evasion.projected_gradient_descent.projected_gradient_descent\u001b[0m:\u001b[36mgenerate\u001b[0m:\u001b[36m199\u001b[0m Creating adversarial samples.\n",
                        "2023-06-26 14:47:54 14m41s \u001b[1mINFO    \u001b[0m \u001b[36mart.attacks.evasion.projected_gradient_descent.projected_gradient_descent_pytorch\u001b[0m:\u001b[36mgenerate\u001b[0m:\u001b[36m237\u001b[0m Success rate of attack: 70.31%\n"
                    ]
                },
                {
                    "name": "stderr",
                    "output_type": "stream",
                    "text": [
                        "Evaluation:  43%|████▎     | 68/157 [03:48<04:58,  3.35s/it]"
                    ]
                },
                {
                    "name": "stdout",
                    "output_type": "stream",
                    "text": [
                        "2023-06-26 14:47:54 14m41s \u001b[1mINFO    \u001b[0m \u001b[36mart.attacks.evasion.projected_gradient_descent.projected_gradient_descent\u001b[0m:\u001b[36mgenerate\u001b[0m:\u001b[36m199\u001b[0m Creating adversarial samples.\n",
                        "2023-06-26 14:47:57 14m44s \u001b[1mINFO    \u001b[0m \u001b[36mart.attacks.evasion.projected_gradient_descent.projected_gradient_descent_pytorch\u001b[0m:\u001b[36mgenerate\u001b[0m:\u001b[36m237\u001b[0m Success rate of attack: 75.00%\n"
                    ]
                },
                {
                    "name": "stderr",
                    "output_type": "stream",
                    "text": [
                        "Evaluation:  44%|████▍     | 69/157 [03:52<05:00,  3.41s/it]"
                    ]
                },
                {
                    "name": "stdout",
                    "output_type": "stream",
                    "text": [
                        "2023-06-26 14:47:57 14m44s \u001b[1mINFO    \u001b[0m \u001b[36mart.attacks.evasion.projected_gradient_descent.projected_gradient_descent\u001b[0m:\u001b[36mgenerate\u001b[0m:\u001b[36m199\u001b[0m Creating adversarial samples.\n",
                        "2023-06-26 14:48:00 14m47s \u001b[1mINFO    \u001b[0m \u001b[36mart.attacks.evasion.projected_gradient_descent.projected_gradient_descent_pytorch\u001b[0m:\u001b[36mgenerate\u001b[0m:\u001b[36m237\u001b[0m Success rate of attack: 65.62%\n"
                    ]
                },
                {
                    "name": "stderr",
                    "output_type": "stream",
                    "text": [
                        "Evaluation:  45%|████▍     | 70/157 [03:55<04:51,  3.35s/it]"
                    ]
                },
                {
                    "name": "stdout",
                    "output_type": "stream",
                    "text": [
                        "2023-06-26 14:48:00 14m47s \u001b[1mINFO    \u001b[0m \u001b[36mart.attacks.evasion.projected_gradient_descent.projected_gradient_descent\u001b[0m:\u001b[36mgenerate\u001b[0m:\u001b[36m199\u001b[0m Creating adversarial samples.\n",
                        "2023-06-26 14:48:04 14m51s \u001b[1mINFO    \u001b[0m \u001b[36mart.attacks.evasion.projected_gradient_descent.projected_gradient_descent_pytorch\u001b[0m:\u001b[36mgenerate\u001b[0m:\u001b[36m237\u001b[0m Success rate of attack: 76.56%\n"
                    ]
                },
                {
                    "name": "stderr",
                    "output_type": "stream",
                    "text": [
                        "Evaluation:  45%|████▌     | 71/157 [03:58<04:48,  3.35s/it]"
                    ]
                },
                {
                    "name": "stdout",
                    "output_type": "stream",
                    "text": [
                        "2023-06-26 14:48:04 14m51s \u001b[1mINFO    \u001b[0m \u001b[36mart.attacks.evasion.projected_gradient_descent.projected_gradient_descent\u001b[0m:\u001b[36mgenerate\u001b[0m:\u001b[36m199\u001b[0m Creating adversarial samples.\n",
                        "2023-06-26 14:48:07 14m54s \u001b[1mINFO    \u001b[0m \u001b[36mart.attacks.evasion.projected_gradient_descent.projected_gradient_descent_pytorch\u001b[0m:\u001b[36mgenerate\u001b[0m:\u001b[36m237\u001b[0m Success rate of attack: 70.31%\n"
                    ]
                },
                {
                    "name": "stderr",
                    "output_type": "stream",
                    "text": [
                        "Evaluation:  46%|████▌     | 72/157 [04:01<04:44,  3.35s/it]"
                    ]
                },
                {
                    "name": "stdout",
                    "output_type": "stream",
                    "text": [
                        "2023-06-26 14:48:07 14m54s \u001b[1mINFO    \u001b[0m \u001b[36mart.attacks.evasion.projected_gradient_descent.projected_gradient_descent\u001b[0m:\u001b[36mgenerate\u001b[0m:\u001b[36m199\u001b[0m Creating adversarial samples.\n",
                        "2023-06-26 14:48:10 14m57s \u001b[1mINFO    \u001b[0m \u001b[36mart.attacks.evasion.projected_gradient_descent.projected_gradient_descent_pytorch\u001b[0m:\u001b[36mgenerate\u001b[0m:\u001b[36m237\u001b[0m Success rate of attack: 70.31%\n"
                    ]
                },
                {
                    "name": "stderr",
                    "output_type": "stream",
                    "text": [
                        "Evaluation:  46%|████▋     | 73/157 [04:05<04:34,  3.26s/it]"
                    ]
                },
                {
                    "name": "stdout",
                    "output_type": "stream",
                    "text": [
                        "2023-06-26 14:48:10 14m57s \u001b[1mINFO    \u001b[0m \u001b[36mart.attacks.evasion.projected_gradient_descent.projected_gradient_descent\u001b[0m:\u001b[36mgenerate\u001b[0m:\u001b[36m199\u001b[0m Creating adversarial samples.\n",
                        "2023-06-26 14:48:14 15m \u001b[1mINFO    \u001b[0m \u001b[36mart.attacks.evasion.projected_gradient_descent.projected_gradient_descent_pytorch\u001b[0m:\u001b[36mgenerate\u001b[0m:\u001b[36m237\u001b[0m Success rate of attack: 81.25%\n"
                    ]
                },
                {
                    "name": "stderr",
                    "output_type": "stream",
                    "text": [
                        "Evaluation:  47%|████▋     | 74/157 [04:08<04:45,  3.44s/it]"
                    ]
                },
                {
                    "name": "stdout",
                    "output_type": "stream",
                    "text": [
                        "2023-06-26 14:48:14 15m \u001b[1mINFO    \u001b[0m \u001b[36mart.attacks.evasion.projected_gradient_descent.projected_gradient_descent\u001b[0m:\u001b[36mgenerate\u001b[0m:\u001b[36m199\u001b[0m Creating adversarial samples.\n",
                        "2023-06-26 14:48:17 15m4s \u001b[1mINFO    \u001b[0m \u001b[36mart.attacks.evasion.projected_gradient_descent.projected_gradient_descent_pytorch\u001b[0m:\u001b[36mgenerate\u001b[0m:\u001b[36m237\u001b[0m Success rate of attack: 67.19%\n"
                    ]
                },
                {
                    "name": "stderr",
                    "output_type": "stream",
                    "text": [
                        "Evaluation:  48%|████▊     | 75/157 [04:12<04:43,  3.46s/it]"
                    ]
                },
                {
                    "name": "stdout",
                    "output_type": "stream",
                    "text": [
                        "2023-06-26 14:48:17 15m4s \u001b[1mINFO    \u001b[0m \u001b[36mart.attacks.evasion.projected_gradient_descent.projected_gradient_descent\u001b[0m:\u001b[36mgenerate\u001b[0m:\u001b[36m199\u001b[0m Creating adversarial samples.\n",
                        "2023-06-26 14:48:21 15m8s \u001b[1mINFO    \u001b[0m \u001b[36mart.attacks.evasion.projected_gradient_descent.projected_gradient_descent_pytorch\u001b[0m:\u001b[36mgenerate\u001b[0m:\u001b[36m237\u001b[0m Success rate of attack: 68.75%\n"
                    ]
                },
                {
                    "name": "stderr",
                    "output_type": "stream",
                    "text": [
                        "Evaluation:  48%|████▊     | 76/157 [04:15<04:41,  3.47s/it]"
                    ]
                },
                {
                    "name": "stdout",
                    "output_type": "stream",
                    "text": [
                        "2023-06-26 14:48:21 15m8s \u001b[1mINFO    \u001b[0m \u001b[36mart.attacks.evasion.projected_gradient_descent.projected_gradient_descent\u001b[0m:\u001b[36mgenerate\u001b[0m:\u001b[36m199\u001b[0m Creating adversarial samples.\n",
                        "2023-06-26 14:48:24 15m11s \u001b[1mINFO    \u001b[0m \u001b[36mart.attacks.evasion.projected_gradient_descent.projected_gradient_descent_pytorch\u001b[0m:\u001b[36mgenerate\u001b[0m:\u001b[36m237\u001b[0m Success rate of attack: 79.69%\n"
                    ]
                },
                {
                    "name": "stderr",
                    "output_type": "stream",
                    "text": [
                        "Evaluation:  49%|████▉     | 77/157 [04:19<04:32,  3.40s/it]"
                    ]
                },
                {
                    "name": "stdout",
                    "output_type": "stream",
                    "text": [
                        "2023-06-26 14:48:24 15m11s \u001b[1mINFO    \u001b[0m \u001b[36mart.attacks.evasion.projected_gradient_descent.projected_gradient_descent\u001b[0m:\u001b[36mgenerate\u001b[0m:\u001b[36m199\u001b[0m Creating adversarial samples.\n",
                        "2023-06-26 14:48:27 15m14s \u001b[1mINFO    \u001b[0m \u001b[36mart.attacks.evasion.projected_gradient_descent.projected_gradient_descent_pytorch\u001b[0m:\u001b[36mgenerate\u001b[0m:\u001b[36m237\u001b[0m Success rate of attack: 67.19%\n"
                    ]
                },
                {
                    "name": "stderr",
                    "output_type": "stream",
                    "text": [
                        "Evaluation:  50%|████▉     | 78/157 [04:22<04:24,  3.35s/it]"
                    ]
                },
                {
                    "name": "stdout",
                    "output_type": "stream",
                    "text": [
                        "2023-06-26 14:48:27 15m14s \u001b[1mINFO    \u001b[0m \u001b[36mart.attacks.evasion.projected_gradient_descent.projected_gradient_descent\u001b[0m:\u001b[36mgenerate\u001b[0m:\u001b[36m199\u001b[0m Creating adversarial samples.\n",
                        "2023-06-26 14:48:31 15m18s \u001b[1mINFO    \u001b[0m \u001b[36mart.attacks.evasion.projected_gradient_descent.projected_gradient_descent_pytorch\u001b[0m:\u001b[36mgenerate\u001b[0m:\u001b[36m237\u001b[0m Success rate of attack: 68.75%\n"
                    ]
                },
                {
                    "name": "stderr",
                    "output_type": "stream",
                    "text": [
                        "Evaluation:  50%|█████     | 79/157 [04:25<04:16,  3.29s/it]"
                    ]
                },
                {
                    "name": "stdout",
                    "output_type": "stream",
                    "text": [
                        "2023-06-26 14:48:31 15m18s \u001b[1mINFO    \u001b[0m \u001b[36mart.attacks.evasion.projected_gradient_descent.projected_gradient_descent\u001b[0m:\u001b[36mgenerate\u001b[0m:\u001b[36m199\u001b[0m Creating adversarial samples.\n"
                    ]
                },
                {
                    "name": "stderr",
                    "output_type": "stream",
                    "text": [
                        "Evaluation:  50%|█████     | 79/157 [04:27<04:24,  3.39s/it]\n"
                    ]
                },
                {
                    "ename": "KeyboardInterrupt",
                    "evalue": "",
                    "output_type": "error",
                    "traceback": [
                        "\u001b[0;31m---------------------------------------------------------------------------\u001b[0m",
                        "\u001b[0;31mKeyboardInterrupt\u001b[0m                         Traceback (most recent call last)",
                        "Cell \u001b[0;32mIn[11], line 6\u001b[0m\n\u001b[1;32m      4\u001b[0m baseline \u001b[39m=\u001b[39m charmory\u001b[39m.\u001b[39mblocks\u001b[39m.\u001b[39mcifar10\u001b[39m.\u001b[39mbaseline\n\u001b[1;32m      5\u001b[0m engine \u001b[39m=\u001b[39m charmory\u001b[39m.\u001b[39mengine\u001b[39m.\u001b[39mEngine(baseline)\n\u001b[0;32m----> 6\u001b[0m result \u001b[39m=\u001b[39m engine\u001b[39m.\u001b[39;49mrun()\n",
                        "File \u001b[0;32m~/cdao/armory/src/charmory/engine.py:17\u001b[0m, in \u001b[0;36mEngine.run\u001b[0;34m(self)\u001b[0m\n\u001b[1;32m     16\u001b[0m \u001b[39mdef\u001b[39;00m \u001b[39mrun\u001b[39m(\u001b[39mself\u001b[39m):\n\u001b[0;32m---> 17\u001b[0m     results \u001b[39m=\u001b[39m \u001b[39mself\u001b[39;49m\u001b[39m.\u001b[39;49mscenario\u001b[39m.\u001b[39;49mevaluate()\n\u001b[1;32m     19\u001b[0m     \u001b[39mself\u001b[39m\u001b[39m.\u001b[39mdataset \u001b[39m=\u001b[39m \u001b[39mself\u001b[39m\u001b[39m.\u001b[39mscenario\u001b[39m.\u001b[39mdataset\n\u001b[1;32m     20\u001b[0m     \u001b[39mself\u001b[39m\u001b[39m.\u001b[39mmodel \u001b[39m=\u001b[39m \u001b[39mself\u001b[39m\u001b[39m.\u001b[39mscenario\u001b[39m.\u001b[39m_loaded_model\n",
                        "File \u001b[0;32m~/cdao/armory/src/charmory/scenario.py:96\u001b[0m, in \u001b[0;36mScenario.evaluate\u001b[0;34m(self)\u001b[0m\n\u001b[1;32m     92\u001b[0m \u001b[39m\u001b[39m\u001b[39m\"\"\"\u001b[39;00m\n\u001b[1;32m     93\u001b[0m \u001b[39mEvaluate a config for robustness against attack and save results JSON\u001b[39;00m\n\u001b[1;32m     94\u001b[0m \u001b[39m\"\"\"\u001b[39;00m\n\u001b[1;32m     95\u001b[0m \u001b[39mtry\u001b[39;00m:\n\u001b[0;32m---> 96\u001b[0m     \u001b[39mself\u001b[39;49m\u001b[39m.\u001b[39;49mrun_inference()\n\u001b[1;32m     97\u001b[0m     \u001b[39mself\u001b[39m\u001b[39m.\u001b[39mfinalize_results()\n\u001b[1;32m     98\u001b[0m     log\u001b[39m.\u001b[39mdebug(\u001b[39m\"\u001b[39m\u001b[39mClearing global instrumentation variables\u001b[39m\u001b[39m\"\u001b[39m)\n",
                        "File \u001b[0;32m~/cdao/armory/src/charmory/scenario.py:133\u001b[0m, in \u001b[0;36mScenario.run_inference\u001b[0;34m(self)\u001b[0m\n\u001b[1;32m    131\u001b[0m \u001b[39mfor\u001b[39;00m _ \u001b[39min\u001b[39;00m tqdm(\u001b[39mrange\u001b[39m(\u001b[39mlen\u001b[39m(\u001b[39mself\u001b[39m\u001b[39m.\u001b[39mtest_dataset)), desc\u001b[39m=\u001b[39m\u001b[39m\"\u001b[39m\u001b[39mEvaluation\u001b[39m\u001b[39m\"\u001b[39m):\n\u001b[1;32m    132\u001b[0m     \u001b[39mself\u001b[39m\u001b[39m.\u001b[39mnext()\n\u001b[0;32m--> 133\u001b[0m     \u001b[39mself\u001b[39;49m\u001b[39m.\u001b[39;49mevaluate_current()\n\u001b[1;32m    134\u001b[0m \u001b[39mself\u001b[39m\u001b[39m.\u001b[39mhub\u001b[39m.\u001b[39mset_context(stage\u001b[39m=\u001b[39m\u001b[39m\"\u001b[39m\u001b[39mfinished\u001b[39m\u001b[39m\"\u001b[39m)\n",
                        "File \u001b[0;32m~/cdao/armory/src/charmory/scenario.py:388\u001b[0m, in \u001b[0;36mScenario.evaluate_current\u001b[0;34m(self)\u001b[0m\n\u001b[1;32m    386\u001b[0m     \u001b[39mself\u001b[39m\u001b[39m.\u001b[39mrun_benign()\n\u001b[1;32m    387\u001b[0m \u001b[39mif\u001b[39;00m \u001b[39mnot\u001b[39;00m \u001b[39mself\u001b[39m\u001b[39m.\u001b[39mskip_attack:\n\u001b[0;32m--> 388\u001b[0m     \u001b[39mself\u001b[39;49m\u001b[39m.\u001b[39;49mrun_attack()\n",
                        "File \u001b[0;32m~/cdao/armory/src/charmory/scenario.py:367\u001b[0m, in \u001b[0;36mScenario.run_attack\u001b[0;34m(self)\u001b[0m\n\u001b[1;32m    364\u001b[0m         \u001b[39melse\u001b[39;00m:\n\u001b[1;32m    365\u001b[0m             y_target \u001b[39m=\u001b[39m \u001b[39mNone\u001b[39;00m\n\u001b[0;32m--> 367\u001b[0m         x_adv \u001b[39m=\u001b[39m \u001b[39mself\u001b[39;49m\u001b[39m.\u001b[39;49mattack\u001b[39m.\u001b[39;49mgenerate(x\u001b[39m=\u001b[39;49mx, y\u001b[39m=\u001b[39;49my_target, \u001b[39m*\u001b[39;49m\u001b[39m*\u001b[39;49m\u001b[39mself\u001b[39;49m\u001b[39m.\u001b[39;49mgenerate_kwargs)\n\u001b[1;32m    369\u001b[0m \u001b[39mself\u001b[39m\u001b[39m.\u001b[39mhub\u001b[39m.\u001b[39mset_context(stage\u001b[39m=\u001b[39m\u001b[39m\"\u001b[39m\u001b[39madversarial\u001b[39m\u001b[39m\"\u001b[39m)\n\u001b[1;32m    370\u001b[0m \u001b[39mif\u001b[39;00m \u001b[39mself\u001b[39m\u001b[39m.\u001b[39mskip_misclassified \u001b[39mand\u001b[39;00m \u001b[39mself\u001b[39m\u001b[39m.\u001b[39mmisclassified:\n",
                        "File \u001b[0;32m~/.virtualenvs/cdao/lib/python3.10/site-packages/art/attacks/evasion/projected_gradient_descent/projected_gradient_descent.py:200\u001b[0m, in \u001b[0;36mProjectedGradientDescent.generate\u001b[0;34m(self, x, y, **kwargs)\u001b[0m\n\u001b[1;32m    185\u001b[0m \u001b[39m\u001b[39m\u001b[39m\"\"\"\u001b[39;00m\n\u001b[1;32m    186\u001b[0m \u001b[39mGenerate adversarial samples and return them in an array.\u001b[39;00m\n\u001b[1;32m    187\u001b[0m \n\u001b[0;32m   (...)\u001b[0m\n\u001b[1;32m    197\u001b[0m \u001b[39m:return: An array holding the adversarial examples.\u001b[39;00m\n\u001b[1;32m    198\u001b[0m \u001b[39m\"\"\"\u001b[39;00m\n\u001b[1;32m    199\u001b[0m logger\u001b[39m.\u001b[39minfo(\u001b[39m\"\u001b[39m\u001b[39mCreating adversarial samples.\u001b[39m\u001b[39m\"\u001b[39m)\n\u001b[0;32m--> 200\u001b[0m \u001b[39mreturn\u001b[39;00m \u001b[39mself\u001b[39;49m\u001b[39m.\u001b[39;49m_attack\u001b[39m.\u001b[39;49mgenerate(x\u001b[39m=\u001b[39;49mx, y\u001b[39m=\u001b[39;49my, \u001b[39m*\u001b[39;49m\u001b[39m*\u001b[39;49mkwargs)\n",
                        "File \u001b[0;32m~/.virtualenvs/cdao/lib/python3.10/site-packages/art/attacks/evasion/projected_gradient_descent/projected_gradient_descent_pytorch.py:218\u001b[0m, in \u001b[0;36mProjectedGradientDescentPyTorch.generate\u001b[0;34m(self, x, y, **kwargs)\u001b[0m\n\u001b[1;32m    215\u001b[0m \u001b[39mfor\u001b[39;00m rand_init_num \u001b[39min\u001b[39;00m \u001b[39mrange\u001b[39m(\u001b[39mmax\u001b[39m(\u001b[39m1\u001b[39m, \u001b[39mself\u001b[39m\u001b[39m.\u001b[39mnum_random_init)):\n\u001b[1;32m    216\u001b[0m     \u001b[39mif\u001b[39;00m rand_init_num \u001b[39m==\u001b[39m \u001b[39m0\u001b[39m:\n\u001b[1;32m    217\u001b[0m         \u001b[39m# first iteration: use the adversarial examples as they are the only ones we have now\u001b[39;00m\n\u001b[0;32m--> 218\u001b[0m         adv_x[batch_index_1:batch_index_2] \u001b[39m=\u001b[39m \u001b[39mself\u001b[39;49m\u001b[39m.\u001b[39;49m_generate_batch(\n\u001b[1;32m    219\u001b[0m             x\u001b[39m=\u001b[39;49mbatch, targets\u001b[39m=\u001b[39;49mbatch_labels, mask\u001b[39m=\u001b[39;49mmask_batch, eps\u001b[39m=\u001b[39;49mbatch_eps, eps_step\u001b[39m=\u001b[39;49mbatch_eps_step\n\u001b[1;32m    220\u001b[0m         )\n\u001b[1;32m    221\u001b[0m     \u001b[39melse\u001b[39;00m:\n\u001b[1;32m    222\u001b[0m         adversarial_batch \u001b[39m=\u001b[39m \u001b[39mself\u001b[39m\u001b[39m.\u001b[39m_generate_batch(\n\u001b[1;32m    223\u001b[0m             x\u001b[39m=\u001b[39mbatch, targets\u001b[39m=\u001b[39mbatch_labels, mask\u001b[39m=\u001b[39mmask_batch, eps\u001b[39m=\u001b[39mbatch_eps, eps_step\u001b[39m=\u001b[39mbatch_eps_step\n\u001b[1;32m    224\u001b[0m         )\n",
                        "File \u001b[0;32m~/.virtualenvs/cdao/lib/python3.10/site-packages/art/attacks/evasion/projected_gradient_descent/projected_gradient_descent_pytorch.py:279\u001b[0m, in \u001b[0;36mProjectedGradientDescentPyTorch._generate_batch\u001b[0;34m(self, x, targets, mask, eps, eps_step)\u001b[0m\n\u001b[1;32m    277\u001b[0m \u001b[39mfor\u001b[39;00m i_max_iter \u001b[39min\u001b[39;00m \u001b[39mrange\u001b[39m(\u001b[39mself\u001b[39m\u001b[39m.\u001b[39mmax_iter):\n\u001b[1;32m    278\u001b[0m     \u001b[39mself\u001b[39m\u001b[39m.\u001b[39m_i_max_iter \u001b[39m=\u001b[39m i_max_iter\n\u001b[0;32m--> 279\u001b[0m     adv_x \u001b[39m=\u001b[39m \u001b[39mself\u001b[39;49m\u001b[39m.\u001b[39;49m_compute_pytorch(\n\u001b[1;32m    280\u001b[0m         adv_x, inputs, targets, mask, eps, eps_step, \u001b[39mself\u001b[39;49m\u001b[39m.\u001b[39;49mnum_random_init \u001b[39m>\u001b[39;49m \u001b[39m0\u001b[39;49m \u001b[39mand\u001b[39;49;00m i_max_iter \u001b[39m==\u001b[39;49m \u001b[39m0\u001b[39;49m, momentum\n\u001b[1;32m    281\u001b[0m     )\n\u001b[1;32m    283\u001b[0m \u001b[39mreturn\u001b[39;00m adv_x\u001b[39m.\u001b[39mcpu()\u001b[39m.\u001b[39mdetach()\u001b[39m.\u001b[39mnumpy()\n",
                        "File \u001b[0;32m~/.virtualenvs/cdao/lib/python3.10/site-packages/art/attacks/evasion/projected_gradient_descent/projected_gradient_descent_pytorch.py:435\u001b[0m, in \u001b[0;36mProjectedGradientDescentPyTorch._compute_pytorch\u001b[0;34m(self, x, x_init, y, mask, eps, eps_step, random_init, momentum)\u001b[0m\n\u001b[1;32m    432\u001b[0m     x_adv \u001b[39m=\u001b[39m x\n\u001b[1;32m    434\u001b[0m \u001b[39m# Get perturbation\u001b[39;00m\n\u001b[0;32m--> 435\u001b[0m perturbation \u001b[39m=\u001b[39m \u001b[39mself\u001b[39;49m\u001b[39m.\u001b[39;49m_compute_perturbation_pytorch(x_adv, y, mask, momentum)\n\u001b[1;32m    437\u001b[0m \u001b[39m# Apply perturbation and clip\u001b[39;00m\n\u001b[1;32m    438\u001b[0m x_adv \u001b[39m=\u001b[39m \u001b[39mself\u001b[39m\u001b[39m.\u001b[39m_apply_perturbation_pytorch(x_adv, perturbation, eps_step)\n",
                        "File \u001b[0;32m~/.virtualenvs/cdao/lib/python3.10/site-packages/art/attacks/evasion/projected_gradient_descent/projected_gradient_descent_pytorch.py:307\u001b[0m, in \u001b[0;36mProjectedGradientDescentPyTorch._compute_perturbation_pytorch\u001b[0;34m(self, x, y, mask, momentum)\u001b[0m\n\u001b[1;32m    304\u001b[0m tol \u001b[39m=\u001b[39m \u001b[39m10e-8\u001b[39m\n\u001b[1;32m    306\u001b[0m \u001b[39m# Get gradient wrt loss; invert it if attack is targeted\u001b[39;00m\n\u001b[0;32m--> 307\u001b[0m grad \u001b[39m=\u001b[39m \u001b[39mself\u001b[39;49m\u001b[39m.\u001b[39;49mestimator\u001b[39m.\u001b[39;49mloss_gradient(x\u001b[39m=\u001b[39;49mx, y\u001b[39m=\u001b[39;49my) \u001b[39m*\u001b[39m (\u001b[39m1\u001b[39m \u001b[39m-\u001b[39m \u001b[39m2\u001b[39m \u001b[39m*\u001b[39m \u001b[39mint\u001b[39m(\u001b[39mself\u001b[39m\u001b[39m.\u001b[39mtargeted))\n\u001b[1;32m    309\u001b[0m \u001b[39m# Write summary\u001b[39;00m\n\u001b[1;32m    310\u001b[0m \u001b[39mif\u001b[39;00m \u001b[39mself\u001b[39m\u001b[39m.\u001b[39msummary_writer \u001b[39mis\u001b[39;00m \u001b[39mnot\u001b[39;00m \u001b[39mNone\u001b[39;00m:  \u001b[39m# pragma: no cover\u001b[39;00m\n",
                        "File \u001b[0;32m~/.virtualenvs/cdao/lib/python3.10/site-packages/art/estimators/classification/pytorch.py:842\u001b[0m, in \u001b[0;36mPyTorchClassifier.loss_gradient\u001b[0;34m(self, x, y, training_mode, **kwargs)\u001b[0m\n\u001b[1;32m    839\u001b[0m     labels_t \u001b[39m=\u001b[39m y_preprocessed\n\u001b[1;32m    841\u001b[0m \u001b[39m# Compute the gradient and return\u001b[39;00m\n\u001b[0;32m--> 842\u001b[0m model_outputs \u001b[39m=\u001b[39m \u001b[39mself\u001b[39;49m\u001b[39m.\u001b[39;49m_model(inputs_t)\n\u001b[1;32m    843\u001b[0m loss \u001b[39m=\u001b[39m \u001b[39mself\u001b[39m\u001b[39m.\u001b[39m_loss(model_outputs[\u001b[39m-\u001b[39m\u001b[39m1\u001b[39m], labels_t)\n\u001b[1;32m    845\u001b[0m \u001b[39m# Clean gradients\u001b[39;00m\n",
                        "File \u001b[0;32m~/.virtualenvs/cdao/lib/python3.10/site-packages/torch/nn/modules/module.py:1501\u001b[0m, in \u001b[0;36mModule._call_impl\u001b[0;34m(self, *args, **kwargs)\u001b[0m\n\u001b[1;32m   1496\u001b[0m \u001b[39m# If we don't have any hooks, we want to skip the rest of the logic in\u001b[39;00m\n\u001b[1;32m   1497\u001b[0m \u001b[39m# this function, and just call forward.\u001b[39;00m\n\u001b[1;32m   1498\u001b[0m \u001b[39mif\u001b[39;00m \u001b[39mnot\u001b[39;00m (\u001b[39mself\u001b[39m\u001b[39m.\u001b[39m_backward_hooks \u001b[39mor\u001b[39;00m \u001b[39mself\u001b[39m\u001b[39m.\u001b[39m_backward_pre_hooks \u001b[39mor\u001b[39;00m \u001b[39mself\u001b[39m\u001b[39m.\u001b[39m_forward_hooks \u001b[39mor\u001b[39;00m \u001b[39mself\u001b[39m\u001b[39m.\u001b[39m_forward_pre_hooks\n\u001b[1;32m   1499\u001b[0m         \u001b[39mor\u001b[39;00m _global_backward_pre_hooks \u001b[39mor\u001b[39;00m _global_backward_hooks\n\u001b[1;32m   1500\u001b[0m         \u001b[39mor\u001b[39;00m _global_forward_hooks \u001b[39mor\u001b[39;00m _global_forward_pre_hooks):\n\u001b[0;32m-> 1501\u001b[0m     \u001b[39mreturn\u001b[39;00m forward_call(\u001b[39m*\u001b[39;49margs, \u001b[39m*\u001b[39;49m\u001b[39m*\u001b[39;49mkwargs)\n\u001b[1;32m   1502\u001b[0m \u001b[39m# Do not call functions when jit is used\u001b[39;00m\n\u001b[1;32m   1503\u001b[0m full_backward_hooks, non_full_backward_hooks \u001b[39m=\u001b[39m [], []\n",
                        "File \u001b[0;32m~/.virtualenvs/cdao/lib/python3.10/site-packages/art/estimators/classification/pytorch.py:1165\u001b[0m, in \u001b[0;36mPyTorchClassifier._make_model_wrapper.<locals>.ModelWrapper.forward\u001b[0;34m(self, x)\u001b[0m\n\u001b[1;32m   1162\u001b[0m         result\u001b[39m.\u001b[39mappend(x)\n\u001b[1;32m   1164\u001b[0m \u001b[39melif\u001b[39;00m \u001b[39misinstance\u001b[39m(\u001b[39mself\u001b[39m\u001b[39m.\u001b[39m_model, torch\u001b[39m.\u001b[39mnn\u001b[39m.\u001b[39mModule):\n\u001b[0;32m-> 1165\u001b[0m     x \u001b[39m=\u001b[39m \u001b[39mself\u001b[39;49m\u001b[39m.\u001b[39;49m_model(x)\n\u001b[1;32m   1166\u001b[0m     result\u001b[39m.\u001b[39mappend(x)\n\u001b[1;32m   1168\u001b[0m \u001b[39melse\u001b[39;00m:  \u001b[39m# pragma: no cover\u001b[39;00m\n",
                        "File \u001b[0;32m~/.virtualenvs/cdao/lib/python3.10/site-packages/torch/nn/modules/module.py:1501\u001b[0m, in \u001b[0;36mModule._call_impl\u001b[0;34m(self, *args, **kwargs)\u001b[0m\n\u001b[1;32m   1496\u001b[0m \u001b[39m# If we don't have any hooks, we want to skip the rest of the logic in\u001b[39;00m\n\u001b[1;32m   1497\u001b[0m \u001b[39m# this function, and just call forward.\u001b[39;00m\n\u001b[1;32m   1498\u001b[0m \u001b[39mif\u001b[39;00m \u001b[39mnot\u001b[39;00m (\u001b[39mself\u001b[39m\u001b[39m.\u001b[39m_backward_hooks \u001b[39mor\u001b[39;00m \u001b[39mself\u001b[39m\u001b[39m.\u001b[39m_backward_pre_hooks \u001b[39mor\u001b[39;00m \u001b[39mself\u001b[39m\u001b[39m.\u001b[39m_forward_hooks \u001b[39mor\u001b[39;00m \u001b[39mself\u001b[39m\u001b[39m.\u001b[39m_forward_pre_hooks\n\u001b[1;32m   1499\u001b[0m         \u001b[39mor\u001b[39;00m _global_backward_pre_hooks \u001b[39mor\u001b[39;00m _global_backward_hooks\n\u001b[1;32m   1500\u001b[0m         \u001b[39mor\u001b[39;00m _global_forward_hooks \u001b[39mor\u001b[39;00m _global_forward_pre_hooks):\n\u001b[0;32m-> 1501\u001b[0m     \u001b[39mreturn\u001b[39;00m forward_call(\u001b[39m*\u001b[39;49margs, \u001b[39m*\u001b[39;49m\u001b[39m*\u001b[39;49mkwargs)\n\u001b[1;32m   1502\u001b[0m \u001b[39m# Do not call functions when jit is used\u001b[39;00m\n\u001b[1;32m   1503\u001b[0m full_backward_hooks, non_full_backward_hooks \u001b[39m=\u001b[39m [], []\n",
                        "File \u001b[0;32m~/cdao/armory/src/armory/baseline_models/pytorch/cifar.py:34\u001b[0m, in \u001b[0;36mNet.forward\u001b[0;34m(self, x)\u001b[0m\n\u001b[1;32m     32\u001b[0m x \u001b[39m=\u001b[39m F\u001b[39m.\u001b[39mrelu(x)\n\u001b[1;32m     33\u001b[0m x \u001b[39m=\u001b[39m F\u001b[39m.\u001b[39mmax_pool2d(x, \u001b[39m2\u001b[39m)\n\u001b[0;32m---> 34\u001b[0m x \u001b[39m=\u001b[39m torch\u001b[39m.\u001b[39;49mflatten(x, \u001b[39m1\u001b[39;49m)\n\u001b[1;32m     35\u001b[0m x \u001b[39m=\u001b[39m \u001b[39mself\u001b[39m\u001b[39m.\u001b[39mfc1(x)\n\u001b[1;32m     36\u001b[0m x \u001b[39m=\u001b[39m F\u001b[39m.\u001b[39mrelu(x)\n",
                        "\u001b[0;31mKeyboardInterrupt\u001b[0m: "
                    ]
                }
            ],
            "source": [
                "import charmory.blocks.cifar10\n",
                "import charmory.engine\n",
                "\n",
                "baseline = charmory.blocks.cifar10.baseline\n",
                "engine = charmory.engine.Engine(baseline)\n",
                "result = engine.run()"
            ]
        }
    ],
    "metadata": {
        "kernelspec": {
            "display_name": "cdao",
            "language": "python",
            "name": "cdao"
        },
        "language_info": {
            "codemirror_mode": {
                "name": "ipython",
                "version": 3
            },
            "file_extension": ".py",
            "mimetype": "text/x-python",
            "name": "python",
            "nbconvert_exporter": "python",
            "pygments_lexer": "ipython3",
            "version": "3.10.6"
        },
        "orig_nbformat": 4
    },
    "nbformat": 4,
    "nbformat_minor": 2
}
