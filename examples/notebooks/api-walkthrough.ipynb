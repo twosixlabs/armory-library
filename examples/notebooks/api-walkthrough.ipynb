{
 "cells": [
  {
   "attachments": {},
   "cell_type": "markdown",
   "metadata": {},
   "source": [
    "# Armory Evaluation Declarations, Composition, and Modification\n",
    "\n",
    "There are data declarations in charmory.blocks that recapitulate standard evaluations\n",
    "from the armory package. "
   ]
  },
  {
   "cell_type": "code",
   "execution_count": 1,
   "metadata": {},
   "outputs": [],
   "source": [
    "import charmory.blocks.cifar10\n",
    "\n",
    "baseline = charmory.blocks.cifar10.baseline"
   ]
  },
  {
   "attachments": {},
   "cell_type": "markdown",
   "metadata": {},
   "source": [
    "The `baseline` evaluation is a composite dataclass with some metadata fields\n",
    "describing the evaluation:"
   ]
  },
  {
   "cell_type": "code",
   "execution_count": 2,
   "metadata": {},
   "outputs": [
    {
     "name": "stdout",
     "output_type": "stream",
     "text": [
      "type(baseline)=<class 'charmory.evaluation.Evaluation'>\n",
      "baseline.name='cifar_baseline'\n",
      "baseline.description='Baseline cifar10 image classification'\n",
      "baseline.author='msw@example.com'\n"
     ]
    }
   ],
   "source": [
    "print(f\"{type(baseline)=}\")\n",
    "print(f\"{baseline.name=}\\n{baseline.description=}\\n{baseline.author=}\")"
   ]
  },
  {
   "attachments": {},
   "cell_type": "markdown",
   "metadata": {},
   "source": [
    "The charmory `Evaluation` class was called \"Experiment\" in prior versions of the\n",
    "JATIC Armory library, but was renamed to avoid confusion with the MLflow conception\n",
    "of Experiment, which is a collection of runs.\n",
    "\n",
    "Along with the metadata, an `Evaluation` contains some required components. The\n",
    "`dataset` is a `Dataset` object, which specifies an Armory dataset and a pair\n",
    "of necessary parameters`:"
   ]
  },
  {
   "cell_type": "code",
   "execution_count": 3,
   "metadata": {},
   "outputs": [
    {
     "name": "stdout",
     "output_type": "stream",
     "text": [
      "baseline.dataset=Dataset(function='armory.data.datasets:cifar10', framework='numpy', batch_size=64)\n"
     ]
    }
   ],
   "source": [
    "print(f\"{baseline.dataset=}\") "
   ]
  },
  {
   "attachments": {},
   "cell_type": "markdown",
   "metadata": {},
   "source": [
    " \n",
    "object, the `function` parameter is shown first while details come afterwards; this allows quick visibility of \"this is a cifar10 dataset\" from the `__str__` representation of the object.\n",
    "An `Evaluation` also requires a `Model` and `Scenario`"
   ]
  },
  {
   "cell_type": "code",
   "execution_count": 4,
   "metadata": {},
   "outputs": [
    {
     "name": "stdout",
     "output_type": "stream",
     "text": [
      "baseline.model=Model(function='armory.baseline_models.pytorch.cifar:get_art_model', model_kwargs={}, wrapper_kwargs={}, weights_file=None, fit=True, fit_kwargs={'nb_epochs': 20})\n",
      "baseline.scenario=Scenario(function='armory.scenarios.image_classification:ImageClassificationTask', kwargs={})\n"
     ]
    }
   ],
   "source": [
    "print(f\"{baseline.model=}\")\n",
    "print(f\"{baseline.scenario=}\")"
   ]
  },
  {
   "attachments": {},
   "cell_type": "markdown",
   "metadata": {},
   "source": [
    "Here we are using a prefab ART model and the standard Armory Image Classification Task\n",
    "scenario.\n",
    "\n",
    "Because this is a \"baseline\" evaluation, it includes no defense, but does use a PGD\n",
    "attack to calculate adversarial results.\n",
    "\n",
    "The optional `Metric` field tells Armory that we want to record additional metrics for\n",
    "this evaluation. In this case, we are interested in the accuracy of the model on\n",
    "adversarial examples."
   ]
  },
  {
   "cell_type": "code",
   "execution_count": 5,
   "metadata": {},
   "outputs": [
    {
     "name": "stdout",
     "output_type": "stream",
     "text": [
      "baseline.attack=Attack(function='art.attacks.evasion:ProjectedGradientDescent', kwargs={'batch_size': 1, 'eps': 0.031, 'eps_step': 0.007, 'max_iter': 20, 'num_random_init': 1, 'random_eps': False, 'targeted': False, 'verbose': False}, knowledge='white', use_label=True, type=None)\n",
      "baseline.defense=None\n",
      "baseline.metric=Metric(profiler_type='basic', supported_metrics=['accuracy'], perturbation=['linf'], task=['categorical_accuracy'], means=True, record_metric_per_sample=False)\n"
     ]
    }
   ],
   "source": [
    "print(f\"{baseline.attack=}\")\n",
    "print(f\"{baseline.defense=}\")\n",
    "print(f\"{baseline.metric=}\")"
   ]
  },
  {
   "attachments": {},
   "cell_type": "markdown",
   "metadata": {},
   "source": [
    "The `charmory.blocks` module is intended as a convenient parts cabinet that allows\n",
    "users to quickly assemble evaluations using standard components. They behave as standard\n",
    "Python objects, so you can alter the canned definitions:"
   ]
  },
  {
   "cell_type": "code",
   "execution_count": 6,
   "metadata": {},
   "outputs": [],
   "source": [
    "baseline.metric = None"
   ]
  },
  {
   "attachments": {},
   "cell_type": "markdown",
   "metadata": {},
   "source": [
    "If you'd prefer to not have additional tracking. Also, the sub-components of an evaluation\n",
    "are themselves objects, to be composed at user discretion:"
   ]
  },
  {
   "cell_type": "code",
   "execution_count": 10,
   "metadata": {},
   "outputs": [
    {
     "name": "stdout",
     "output_type": "stream",
     "text": [
      "charmory.blocks.cifar10.metric=Metric(profiler_type='basic', supported_metrics=['accuracy'], perturbation=['linf'], task=['categorical_accuracy'], means=True, record_metric_per_sample=False)\n"
     ]
    }
   ],
   "source": [
    "print(f\"{charmory.blocks.cifar10.metric=}\")\n",
    "\n",
    "# let's put the metric back into baseline\n",
    "baseline.metric = charmory.blocks.cifar10.metric"
   ]
  },
  {
   "attachments": {},
   "cell_type": "markdown",
   "metadata": {},
   "source": [
    "Instantiation of the `Engine` class using the `Evaluation` object in `baseline` is\n",
    "straightforward:"
   ]
  },
  {
   "cell_type": "code",
   "execution_count": 11,
   "metadata": {},
   "outputs": [],
   "source": [
    "import charmory.engine\n",
    "engine = charmory.engine.Engine(baseline)"
   ]
  },
  {
   "cell_type": "code",
   "execution_count": 12,
   "metadata": {},
   "outputs": [
    {
     "name": "stdout",
     "output_type": "stream",
     "text": [
      "2023-04-04 11:13:30 2m38s \u001b[1mINFO    \u001b[0m \u001b[36mart.estimators.classification.pytorch\u001b[0m:\u001b[36mget_layers\u001b[0m:\u001b[36m1196\u001b[0m Inferred 4 hidden layers on PyTorch classifier.\n"
     ]
    },
    {
     "name": "stderr",
     "output_type": "stream",
     "text": [
      "Epoch 1/20: 100%|██████████| 781/781 [00:03<00:00, 258.18it/s]\n",
      "Epoch 2/20: 100%|██████████| 781/781 [00:02<00:00, 297.83it/s]\n",
      "Epoch 3/20: 100%|██████████| 781/781 [00:02<00:00, 306.52it/s]\n",
      "Epoch 4/20: 100%|██████████| 781/781 [00:02<00:00, 290.69it/s]\n",
      "Epoch 5/20: 100%|██████████| 781/781 [00:02<00:00, 296.43it/s]\n",
      "Epoch 6/20: 100%|██████████| 781/781 [00:02<00:00, 281.38it/s]\n",
      "Epoch 7/20: 100%|██████████| 781/781 [00:02<00:00, 306.24it/s]\n",
      "Epoch 8/20: 100%|██████████| 781/781 [00:02<00:00, 320.09it/s]\n",
      "Epoch 9/20: 100%|██████████| 781/781 [00:02<00:00, 304.94it/s]\n",
      "Epoch 10/20: 100%|██████████| 781/781 [00:02<00:00, 295.44it/s]\n",
      "Epoch 11/20: 100%|██████████| 781/781 [00:02<00:00, 308.06it/s]\n",
      "Epoch 12/20: 100%|██████████| 781/781 [00:02<00:00, 302.55it/s]\n",
      "Epoch 13/20: 100%|██████████| 781/781 [00:02<00:00, 307.65it/s]\n",
      "Epoch 14/20: 100%|██████████| 781/781 [00:02<00:00, 290.74it/s]\n",
      "Epoch 15/20: 100%|██████████| 781/781 [00:02<00:00, 278.65it/s]\n",
      "Epoch 16/20: 100%|██████████| 781/781 [00:02<00:00, 291.88it/s]\n",
      "Epoch 17/20: 100%|██████████| 781/781 [00:02<00:00, 321.65it/s]\n",
      "Epoch 18/20: 100%|██████████| 781/781 [00:02<00:00, 305.47it/s]\n",
      "Epoch 19/20: 100%|██████████| 781/781 [00:02<00:00, 327.17it/s]\n",
      "Epoch 20/20: 100%|██████████| 781/781 [00:02<00:00, 322.57it/s]\n",
      "Evaluation:   0%|          | 0/157 [00:00<?, ?it/s]"
     ]
    },
    {
     "name": "stdout",
     "output_type": "stream",
     "text": [
      "2023-04-04 11:14:22 3m30s \u001b[1mINFO    \u001b[0m \u001b[36mart.attacks.evasion.projected_gradient_descent.projected_gradient_descent\u001b[0m:\u001b[36mgenerate\u001b[0m:\u001b[36m199\u001b[0m Creating adversarial samples.\n",
      "2023-04-04 11:14:26 3m34s \u001b[1mINFO    \u001b[0m \u001b[36mart.attacks.evasion.projected_gradient_descent.projected_gradient_descent_pytorch\u001b[0m:\u001b[36mgenerate\u001b[0m:\u001b[36m237\u001b[0m Success rate of attack: 73.44%\n"
     ]
    },
    {
     "name": "stderr",
     "output_type": "stream",
     "text": [
      "Evaluation:   1%|          | 1/157 [00:03<08:42,  3.35s/it]"
     ]
    },
    {
     "name": "stdout",
     "output_type": "stream",
     "text": [
      "2023-04-04 11:14:26 3m34s \u001b[1mINFO    \u001b[0m \u001b[36mart.attacks.evasion.projected_gradient_descent.projected_gradient_descent\u001b[0m:\u001b[36mgenerate\u001b[0m:\u001b[36m199\u001b[0m Creating adversarial samples.\n",
      "2023-04-04 11:14:29 3m37s \u001b[1mINFO    \u001b[0m \u001b[36mart.attacks.evasion.projected_gradient_descent.projected_gradient_descent_pytorch\u001b[0m:\u001b[36mgenerate\u001b[0m:\u001b[36m237\u001b[0m Success rate of attack: 79.69%\n"
     ]
    },
    {
     "name": "stderr",
     "output_type": "stream",
     "text": [
      "Evaluation:   1%|▏         | 2/157 [00:06<08:29,  3.28s/it]"
     ]
    },
    {
     "name": "stdout",
     "output_type": "stream",
     "text": [
      "2023-04-04 11:14:29 3m37s \u001b[1mINFO    \u001b[0m \u001b[36mart.attacks.evasion.projected_gradient_descent.projected_gradient_descent\u001b[0m:\u001b[36mgenerate\u001b[0m:\u001b[36m199\u001b[0m Creating adversarial samples.\n",
      "2023-04-04 11:14:32 3m40s \u001b[1mINFO    \u001b[0m \u001b[36mart.attacks.evasion.projected_gradient_descent.projected_gradient_descent_pytorch\u001b[0m:\u001b[36mgenerate\u001b[0m:\u001b[36m237\u001b[0m Success rate of attack: 68.75%\n"
     ]
    },
    {
     "name": "stderr",
     "output_type": "stream",
     "text": [
      "Evaluation:   2%|▏         | 3/157 [00:10<08:38,  3.37s/it]"
     ]
    },
    {
     "name": "stdout",
     "output_type": "stream",
     "text": [
      "2023-04-04 11:14:32 3m40s \u001b[1mINFO    \u001b[0m \u001b[36mart.attacks.evasion.projected_gradient_descent.projected_gradient_descent\u001b[0m:\u001b[36mgenerate\u001b[0m:\u001b[36m199\u001b[0m Creating adversarial samples.\n",
      "2023-04-04 11:14:37 3m44s \u001b[1mINFO    \u001b[0m \u001b[36mart.attacks.evasion.projected_gradient_descent.projected_gradient_descent_pytorch\u001b[0m:\u001b[36mgenerate\u001b[0m:\u001b[36m237\u001b[0m Success rate of attack: 81.25%\n"
     ]
    },
    {
     "name": "stderr",
     "output_type": "stream",
     "text": [
      "Evaluation:   3%|▎         | 4/157 [00:14<09:20,  3.66s/it]"
     ]
    },
    {
     "name": "stdout",
     "output_type": "stream",
     "text": [
      "2023-04-04 11:14:37 3m44s \u001b[1mINFO    \u001b[0m \u001b[36mart.attacks.evasion.projected_gradient_descent.projected_gradient_descent\u001b[0m:\u001b[36mgenerate\u001b[0m:\u001b[36m199\u001b[0m Creating adversarial samples.\n",
      "2023-04-04 11:14:41 3m49s \u001b[1mINFO    \u001b[0m \u001b[36mart.attacks.evasion.projected_gradient_descent.projected_gradient_descent_pytorch\u001b[0m:\u001b[36mgenerate\u001b[0m:\u001b[36m237\u001b[0m Success rate of attack: 73.44%\n"
     ]
    },
    {
     "name": "stderr",
     "output_type": "stream",
     "text": [
      "Evaluation:   3%|▎         | 5/157 [00:18<09:45,  3.85s/it]"
     ]
    },
    {
     "name": "stdout",
     "output_type": "stream",
     "text": [
      "2023-04-04 11:14:41 3m49s \u001b[1mINFO    \u001b[0m \u001b[36mart.attacks.evasion.projected_gradient_descent.projected_gradient_descent\u001b[0m:\u001b[36mgenerate\u001b[0m:\u001b[36m199\u001b[0m Creating adversarial samples.\n",
      "2023-04-04 11:14:45 3m53s \u001b[1mINFO    \u001b[0m \u001b[36mart.attacks.evasion.projected_gradient_descent.projected_gradient_descent_pytorch\u001b[0m:\u001b[36mgenerate\u001b[0m:\u001b[36m237\u001b[0m Success rate of attack: 73.44%\n"
     ]
    },
    {
     "name": "stderr",
     "output_type": "stream",
     "text": [
      "Evaluation:   4%|▍         | 6/157 [00:22<09:58,  3.96s/it]"
     ]
    },
    {
     "name": "stdout",
     "output_type": "stream",
     "text": [
      "2023-04-04 11:14:45 3m53s \u001b[1mINFO    \u001b[0m \u001b[36mart.attacks.evasion.projected_gradient_descent.projected_gradient_descent\u001b[0m:\u001b[36mgenerate\u001b[0m:\u001b[36m199\u001b[0m Creating adversarial samples.\n",
      "2023-04-04 11:14:49 3m57s \u001b[1mINFO    \u001b[0m \u001b[36mart.attacks.evasion.projected_gradient_descent.projected_gradient_descent_pytorch\u001b[0m:\u001b[36mgenerate\u001b[0m:\u001b[36m237\u001b[0m Success rate of attack: 70.31%\n"
     ]
    },
    {
     "name": "stderr",
     "output_type": "stream",
     "text": [
      "Evaluation:   4%|▍         | 7/157 [00:26<10:03,  4.02s/it]"
     ]
    },
    {
     "name": "stdout",
     "output_type": "stream",
     "text": [
      "2023-04-04 11:14:49 3m57s \u001b[1mINFO    \u001b[0m \u001b[36mart.attacks.evasion.projected_gradient_descent.projected_gradient_descent\u001b[0m:\u001b[36mgenerate\u001b[0m:\u001b[36m199\u001b[0m Creating adversarial samples.\n",
      "2023-04-04 11:14:53  4m \u001b[1mINFO    \u001b[0m \u001b[36mart.attacks.evasion.projected_gradient_descent.projected_gradient_descent_pytorch\u001b[0m:\u001b[36mgenerate\u001b[0m:\u001b[36m237\u001b[0m Success rate of attack: 70.31%\n"
     ]
    },
    {
     "name": "stderr",
     "output_type": "stream",
     "text": [
      "Evaluation:   5%|▌         | 8/157 [00:30<10:06,  4.07s/it]"
     ]
    },
    {
     "name": "stdout",
     "output_type": "stream",
     "text": [
      "2023-04-04 11:14:53  4m \u001b[1mINFO    \u001b[0m \u001b[36mart.attacks.evasion.projected_gradient_descent.projected_gradient_descent\u001b[0m:\u001b[36mgenerate\u001b[0m:\u001b[36m199\u001b[0m Creating adversarial samples.\n",
      "2023-04-04 11:14:57 4m5s \u001b[1mINFO    \u001b[0m \u001b[36mart.attacks.evasion.projected_gradient_descent.projected_gradient_descent_pytorch\u001b[0m:\u001b[36mgenerate\u001b[0m:\u001b[36m237\u001b[0m Success rate of attack: 75.00%\n"
     ]
    },
    {
     "name": "stderr",
     "output_type": "stream",
     "text": [
      "Evaluation:   6%|▌         | 9/157 [00:34<09:51,  4.00s/it]"
     ]
    },
    {
     "name": "stdout",
     "output_type": "stream",
     "text": [
      "2023-04-04 11:14:57 4m5s \u001b[1mINFO    \u001b[0m \u001b[36mart.attacks.evasion.projected_gradient_descent.projected_gradient_descent\u001b[0m:\u001b[36mgenerate\u001b[0m:\u001b[36m199\u001b[0m Creating adversarial samples.\n",
      "2023-04-04 11:15:01 4m8s \u001b[1mINFO    \u001b[0m \u001b[36mart.attacks.evasion.projected_gradient_descent.projected_gradient_descent_pytorch\u001b[0m:\u001b[36mgenerate\u001b[0m:\u001b[36m237\u001b[0m Success rate of attack: 71.88%\n"
     ]
    },
    {
     "name": "stderr",
     "output_type": "stream",
     "text": [
      "Evaluation:   6%|▋         | 10/157 [00:38<09:27,  3.86s/it]"
     ]
    },
    {
     "name": "stdout",
     "output_type": "stream",
     "text": [
      "2023-04-04 11:15:01 4m8s \u001b[1mINFO    \u001b[0m \u001b[36mart.attacks.evasion.projected_gradient_descent.projected_gradient_descent\u001b[0m:\u001b[36mgenerate\u001b[0m:\u001b[36m199\u001b[0m Creating adversarial samples.\n",
      "2023-04-04 11:15:04 4m12s \u001b[1mINFO    \u001b[0m \u001b[36mart.attacks.evasion.projected_gradient_descent.projected_gradient_descent_pytorch\u001b[0m:\u001b[36mgenerate\u001b[0m:\u001b[36m237\u001b[0m Success rate of attack: 81.25%\n"
     ]
    },
    {
     "name": "stderr",
     "output_type": "stream",
     "text": [
      "Evaluation:   7%|▋         | 11/157 [00:41<09:14,  3.80s/it]"
     ]
    },
    {
     "name": "stdout",
     "output_type": "stream",
     "text": [
      "2023-04-04 11:15:04 4m12s \u001b[1mINFO    \u001b[0m \u001b[36mart.attacks.evasion.projected_gradient_descent.projected_gradient_descent\u001b[0m:\u001b[36mgenerate\u001b[0m:\u001b[36m199\u001b[0m Creating adversarial samples.\n",
      "2023-04-04 11:15:08 4m15s \u001b[1mINFO    \u001b[0m \u001b[36mart.attacks.evasion.projected_gradient_descent.projected_gradient_descent_pytorch\u001b[0m:\u001b[36mgenerate\u001b[0m:\u001b[36m237\u001b[0m Success rate of attack: 73.44%\n"
     ]
    },
    {
     "name": "stderr",
     "output_type": "stream",
     "text": [
      "Evaluation:   8%|▊         | 12/157 [00:45<08:52,  3.67s/it]"
     ]
    },
    {
     "name": "stdout",
     "output_type": "stream",
     "text": [
      "2023-04-04 11:15:08 4m15s \u001b[1mINFO    \u001b[0m \u001b[36mart.attacks.evasion.projected_gradient_descent.projected_gradient_descent\u001b[0m:\u001b[36mgenerate\u001b[0m:\u001b[36m199\u001b[0m Creating adversarial samples.\n",
      "2023-04-04 11:15:11 4m19s \u001b[1mINFO    \u001b[0m \u001b[36mart.attacks.evasion.projected_gradient_descent.projected_gradient_descent_pytorch\u001b[0m:\u001b[36mgenerate\u001b[0m:\u001b[36m237\u001b[0m Success rate of attack: 67.19%\n"
     ]
    },
    {
     "name": "stderr",
     "output_type": "stream",
     "text": [
      "Evaluation:   8%|▊         | 13/157 [00:48<08:27,  3.52s/it]"
     ]
    },
    {
     "name": "stdout",
     "output_type": "stream",
     "text": [
      "2023-04-04 11:15:11 4m19s \u001b[1mINFO    \u001b[0m \u001b[36mart.attacks.evasion.projected_gradient_descent.projected_gradient_descent\u001b[0m:\u001b[36mgenerate\u001b[0m:\u001b[36m199\u001b[0m Creating adversarial samples.\n",
      "2023-04-04 11:15:14 4m22s \u001b[1mINFO    \u001b[0m \u001b[36mart.attacks.evasion.projected_gradient_descent.projected_gradient_descent_pytorch\u001b[0m:\u001b[36mgenerate\u001b[0m:\u001b[36m237\u001b[0m Success rate of attack: 64.06%\n"
     ]
    },
    {
     "name": "stderr",
     "output_type": "stream",
     "text": [
      "Evaluation:   9%|▉         | 14/157 [00:52<08:27,  3.55s/it]"
     ]
    },
    {
     "name": "stdout",
     "output_type": "stream",
     "text": [
      "2023-04-04 11:15:14 4m22s \u001b[1mINFO    \u001b[0m \u001b[36mart.attacks.evasion.projected_gradient_descent.projected_gradient_descent\u001b[0m:\u001b[36mgenerate\u001b[0m:\u001b[36m199\u001b[0m Creating adversarial samples.\n",
      "2023-04-04 11:15:18 4m26s \u001b[1mINFO    \u001b[0m \u001b[36mart.attacks.evasion.projected_gradient_descent.projected_gradient_descent_pytorch\u001b[0m:\u001b[36mgenerate\u001b[0m:\u001b[36m237\u001b[0m Success rate of attack: 71.88%\n"
     ]
    },
    {
     "name": "stderr",
     "output_type": "stream",
     "text": [
      "Evaluation:  10%|▉         | 15/157 [00:55<08:20,  3.53s/it]"
     ]
    },
    {
     "name": "stdout",
     "output_type": "stream",
     "text": [
      "2023-04-04 11:15:18 4m26s \u001b[1mINFO    \u001b[0m \u001b[36mart.attacks.evasion.projected_gradient_descent.projected_gradient_descent\u001b[0m:\u001b[36mgenerate\u001b[0m:\u001b[36m199\u001b[0m Creating adversarial samples.\n",
      "2023-04-04 11:15:22 4m30s \u001b[1mINFO    \u001b[0m \u001b[36mart.attacks.evasion.projected_gradient_descent.projected_gradient_descent_pytorch\u001b[0m:\u001b[36mgenerate\u001b[0m:\u001b[36m237\u001b[0m Success rate of attack: 76.56%\n"
     ]
    },
    {
     "name": "stderr",
     "output_type": "stream",
     "text": [
      "Evaluation:  10%|█         | 16/157 [00:59<08:38,  3.67s/it]"
     ]
    },
    {
     "name": "stdout",
     "output_type": "stream",
     "text": [
      "2023-04-04 11:15:22 4m30s \u001b[1mINFO    \u001b[0m \u001b[36mart.attacks.evasion.projected_gradient_descent.projected_gradient_descent\u001b[0m:\u001b[36mgenerate\u001b[0m:\u001b[36m199\u001b[0m Creating adversarial samples.\n",
      "2023-04-04 11:15:26 4m33s \u001b[1mINFO    \u001b[0m \u001b[36mart.attacks.evasion.projected_gradient_descent.projected_gradient_descent_pytorch\u001b[0m:\u001b[36mgenerate\u001b[0m:\u001b[36m237\u001b[0m Success rate of attack: 73.44%\n"
     ]
    },
    {
     "name": "stderr",
     "output_type": "stream",
     "text": [
      "Evaluation:  11%|█         | 17/157 [01:03<08:31,  3.65s/it]"
     ]
    },
    {
     "name": "stdout",
     "output_type": "stream",
     "text": [
      "2023-04-04 11:15:26 4m33s \u001b[1mINFO    \u001b[0m \u001b[36mart.attacks.evasion.projected_gradient_descent.projected_gradient_descent\u001b[0m:\u001b[36mgenerate\u001b[0m:\u001b[36m199\u001b[0m Creating adversarial samples.\n",
      "2023-04-04 11:15:29 4m37s \u001b[1mINFO    \u001b[0m \u001b[36mart.attacks.evasion.projected_gradient_descent.projected_gradient_descent_pytorch\u001b[0m:\u001b[36mgenerate\u001b[0m:\u001b[36m237\u001b[0m Success rate of attack: 71.88%\n"
     ]
    },
    {
     "name": "stderr",
     "output_type": "stream",
     "text": [
      "Evaluation:  11%|█▏        | 18/157 [01:06<08:15,  3.57s/it]"
     ]
    },
    {
     "name": "stdout",
     "output_type": "stream",
     "text": [
      "2023-04-04 11:15:29 4m37s \u001b[1mINFO    \u001b[0m \u001b[36mart.attacks.evasion.projected_gradient_descent.projected_gradient_descent\u001b[0m:\u001b[36mgenerate\u001b[0m:\u001b[36m199\u001b[0m Creating adversarial samples.\n",
      "2023-04-04 11:15:32 4m40s \u001b[1mINFO    \u001b[0m \u001b[36mart.attacks.evasion.projected_gradient_descent.projected_gradient_descent_pytorch\u001b[0m:\u001b[36mgenerate\u001b[0m:\u001b[36m237\u001b[0m Success rate of attack: 68.75%\n"
     ]
    },
    {
     "name": "stderr",
     "output_type": "stream",
     "text": [
      "Evaluation:  12%|█▏        | 19/157 [01:09<07:54,  3.44s/it]"
     ]
    },
    {
     "name": "stdout",
     "output_type": "stream",
     "text": [
      "2023-04-04 11:15:32 4m40s \u001b[1mINFO    \u001b[0m \u001b[36mart.attacks.evasion.projected_gradient_descent.projected_gradient_descent\u001b[0m:\u001b[36mgenerate\u001b[0m:\u001b[36m199\u001b[0m Creating adversarial samples.\n",
      "2023-04-04 11:15:35 4m43s \u001b[1mINFO    \u001b[0m \u001b[36mart.attacks.evasion.projected_gradient_descent.projected_gradient_descent_pytorch\u001b[0m:\u001b[36mgenerate\u001b[0m:\u001b[36m237\u001b[0m Success rate of attack: 64.06%\n"
     ]
    },
    {
     "name": "stderr",
     "output_type": "stream",
     "text": [
      "Evaluation:  13%|█▎        | 20/157 [01:12<07:45,  3.40s/it]"
     ]
    },
    {
     "name": "stdout",
     "output_type": "stream",
     "text": [
      "2023-04-04 11:15:35 4m43s \u001b[1mINFO    \u001b[0m \u001b[36mart.attacks.evasion.projected_gradient_descent.projected_gradient_descent\u001b[0m:\u001b[36mgenerate\u001b[0m:\u001b[36m199\u001b[0m Creating adversarial samples.\n",
      "2023-04-04 11:15:38 4m46s \u001b[1mINFO    \u001b[0m \u001b[36mart.attacks.evasion.projected_gradient_descent.projected_gradient_descent_pytorch\u001b[0m:\u001b[36mgenerate\u001b[0m:\u001b[36m237\u001b[0m Success rate of attack: 82.81%\n"
     ]
    },
    {
     "name": "stderr",
     "output_type": "stream",
     "text": [
      "Evaluation:  13%|█▎        | 21/157 [01:16<07:28,  3.30s/it]"
     ]
    },
    {
     "name": "stdout",
     "output_type": "stream",
     "text": [
      "2023-04-04 11:15:38 4m46s \u001b[1mINFO    \u001b[0m \u001b[36mart.attacks.evasion.projected_gradient_descent.projected_gradient_descent\u001b[0m:\u001b[36mgenerate\u001b[0m:\u001b[36m199\u001b[0m Creating adversarial samples.\n",
      "2023-04-04 11:15:42 4m49s \u001b[1mINFO    \u001b[0m \u001b[36mart.attacks.evasion.projected_gradient_descent.projected_gradient_descent_pytorch\u001b[0m:\u001b[36mgenerate\u001b[0m:\u001b[36m237\u001b[0m Success rate of attack: 75.00%\n"
     ]
    },
    {
     "name": "stderr",
     "output_type": "stream",
     "text": [
      "Evaluation:  14%|█▍        | 22/157 [01:19<07:21,  3.27s/it]"
     ]
    },
    {
     "name": "stdout",
     "output_type": "stream",
     "text": [
      "2023-04-04 11:15:42 4m49s \u001b[1mINFO    \u001b[0m \u001b[36mart.attacks.evasion.projected_gradient_descent.projected_gradient_descent\u001b[0m:\u001b[36mgenerate\u001b[0m:\u001b[36m199\u001b[0m Creating adversarial samples.\n",
      "2023-04-04 11:15:45 4m53s \u001b[1mINFO    \u001b[0m \u001b[36mart.attacks.evasion.projected_gradient_descent.projected_gradient_descent_pytorch\u001b[0m:\u001b[36mgenerate\u001b[0m:\u001b[36m237\u001b[0m Success rate of attack: 73.44%\n"
     ]
    },
    {
     "name": "stderr",
     "output_type": "stream",
     "text": [
      "Evaluation:  15%|█▍        | 23/157 [01:22<07:19,  3.28s/it]"
     ]
    },
    {
     "name": "stdout",
     "output_type": "stream",
     "text": [
      "2023-04-04 11:15:45 4m53s \u001b[1mINFO    \u001b[0m \u001b[36mart.attacks.evasion.projected_gradient_descent.projected_gradient_descent\u001b[0m:\u001b[36mgenerate\u001b[0m:\u001b[36m199\u001b[0m Creating adversarial samples.\n",
      "2023-04-04 11:15:49 4m56s \u001b[1mINFO    \u001b[0m \u001b[36mart.attacks.evasion.projected_gradient_descent.projected_gradient_descent_pytorch\u001b[0m:\u001b[36mgenerate\u001b[0m:\u001b[36m237\u001b[0m Success rate of attack: 75.00%\n"
     ]
    },
    {
     "name": "stderr",
     "output_type": "stream",
     "text": [
      "Evaluation:  15%|█▌        | 24/157 [01:26<07:31,  3.39s/it]"
     ]
    },
    {
     "name": "stdout",
     "output_type": "stream",
     "text": [
      "2023-04-04 11:15:49 4m56s \u001b[1mINFO    \u001b[0m \u001b[36mart.attacks.evasion.projected_gradient_descent.projected_gradient_descent\u001b[0m:\u001b[36mgenerate\u001b[0m:\u001b[36m199\u001b[0m Creating adversarial samples.\n",
      "2023-04-04 11:15:52  5m \u001b[1mINFO    \u001b[0m \u001b[36mart.attacks.evasion.projected_gradient_descent.projected_gradient_descent_pytorch\u001b[0m:\u001b[36mgenerate\u001b[0m:\u001b[36m237\u001b[0m Success rate of attack: 68.75%\n"
     ]
    },
    {
     "name": "stderr",
     "output_type": "stream",
     "text": [
      "Evaluation:  16%|█▌        | 25/157 [01:29<07:41,  3.50s/it]"
     ]
    },
    {
     "name": "stdout",
     "output_type": "stream",
     "text": [
      "2023-04-04 11:15:52  5m \u001b[1mINFO    \u001b[0m \u001b[36mart.attacks.evasion.projected_gradient_descent.projected_gradient_descent\u001b[0m:\u001b[36mgenerate\u001b[0m:\u001b[36m199\u001b[0m Creating adversarial samples.\n",
      "2023-04-04 11:15:55 5m3s \u001b[1mINFO    \u001b[0m \u001b[36mart.attacks.evasion.projected_gradient_descent.projected_gradient_descent_pytorch\u001b[0m:\u001b[36mgenerate\u001b[0m:\u001b[36m237\u001b[0m Success rate of attack: 67.19%\n"
     ]
    },
    {
     "name": "stderr",
     "output_type": "stream",
     "text": [
      "Evaluation:  17%|█▋        | 26/157 [01:33<07:26,  3.41s/it]"
     ]
    },
    {
     "name": "stdout",
     "output_type": "stream",
     "text": [
      "2023-04-04 11:15:56 5m3s \u001b[1mINFO    \u001b[0m \u001b[36mart.attacks.evasion.projected_gradient_descent.projected_gradient_descent\u001b[0m:\u001b[36mgenerate\u001b[0m:\u001b[36m199\u001b[0m Creating adversarial samples.\n",
      "2023-04-04 11:15:59 5m7s \u001b[1mINFO    \u001b[0m \u001b[36mart.attacks.evasion.projected_gradient_descent.projected_gradient_descent_pytorch\u001b[0m:\u001b[36mgenerate\u001b[0m:\u001b[36m237\u001b[0m Success rate of attack: 67.19%\n"
     ]
    },
    {
     "name": "stderr",
     "output_type": "stream",
     "text": [
      "Evaluation:  17%|█▋        | 27/157 [01:36<07:17,  3.37s/it]"
     ]
    },
    {
     "name": "stdout",
     "output_type": "stream",
     "text": [
      "2023-04-04 11:15:59 5m7s \u001b[1mINFO    \u001b[0m \u001b[36mart.attacks.evasion.projected_gradient_descent.projected_gradient_descent\u001b[0m:\u001b[36mgenerate\u001b[0m:\u001b[36m199\u001b[0m Creating adversarial samples.\n",
      "2023-04-04 11:16:02 5m10s \u001b[1mINFO    \u001b[0m \u001b[36mart.attacks.evasion.projected_gradient_descent.projected_gradient_descent_pytorch\u001b[0m:\u001b[36mgenerate\u001b[0m:\u001b[36m237\u001b[0m Success rate of attack: 70.31%\n"
     ]
    },
    {
     "name": "stderr",
     "output_type": "stream",
     "text": [
      "Evaluation:  18%|█▊        | 28/157 [01:39<07:12,  3.35s/it]"
     ]
    },
    {
     "name": "stdout",
     "output_type": "stream",
     "text": [
      "2023-04-04 11:16:02 5m10s \u001b[1mINFO    \u001b[0m \u001b[36mart.attacks.evasion.projected_gradient_descent.projected_gradient_descent\u001b[0m:\u001b[36mgenerate\u001b[0m:\u001b[36m199\u001b[0m Creating adversarial samples.\n",
      "2023-04-04 11:16:06 5m13s \u001b[1mINFO    \u001b[0m \u001b[36mart.attacks.evasion.projected_gradient_descent.projected_gradient_descent_pytorch\u001b[0m:\u001b[36mgenerate\u001b[0m:\u001b[36m237\u001b[0m Success rate of attack: 68.75%\n"
     ]
    },
    {
     "name": "stderr",
     "output_type": "stream",
     "text": [
      "Evaluation:  18%|█▊        | 29/157 [01:43<07:12,  3.38s/it]"
     ]
    },
    {
     "name": "stdout",
     "output_type": "stream",
     "text": [
      "2023-04-04 11:16:06 5m13s \u001b[1mINFO    \u001b[0m \u001b[36mart.attacks.evasion.projected_gradient_descent.projected_gradient_descent\u001b[0m:\u001b[36mgenerate\u001b[0m:\u001b[36m199\u001b[0m Creating adversarial samples.\n",
      "2023-04-04 11:16:09 5m17s \u001b[1mINFO    \u001b[0m \u001b[36mart.attacks.evasion.projected_gradient_descent.projected_gradient_descent_pytorch\u001b[0m:\u001b[36mgenerate\u001b[0m:\u001b[36m237\u001b[0m Success rate of attack: 71.88%\n"
     ]
    },
    {
     "name": "stderr",
     "output_type": "stream",
     "text": [
      "Evaluation:  19%|█▉        | 30/157 [01:46<07:09,  3.38s/it]"
     ]
    },
    {
     "name": "stdout",
     "output_type": "stream",
     "text": [
      "2023-04-04 11:16:09 5m17s \u001b[1mINFO    \u001b[0m \u001b[36mart.attacks.evasion.projected_gradient_descent.projected_gradient_descent\u001b[0m:\u001b[36mgenerate\u001b[0m:\u001b[36m199\u001b[0m Creating adversarial samples.\n",
      "2023-04-04 11:16:12 5m20s \u001b[1mINFO    \u001b[0m \u001b[36mart.attacks.evasion.projected_gradient_descent.projected_gradient_descent_pytorch\u001b[0m:\u001b[36mgenerate\u001b[0m:\u001b[36m237\u001b[0m Success rate of attack: 67.19%\n"
     ]
    },
    {
     "name": "stderr",
     "output_type": "stream",
     "text": [
      "Evaluation:  20%|█▉        | 31/157 [01:49<06:57,  3.31s/it]"
     ]
    },
    {
     "name": "stdout",
     "output_type": "stream",
     "text": [
      "2023-04-04 11:16:12 5m20s \u001b[1mINFO    \u001b[0m \u001b[36mart.attacks.evasion.projected_gradient_descent.projected_gradient_descent\u001b[0m:\u001b[36mgenerate\u001b[0m:\u001b[36m199\u001b[0m Creating adversarial samples.\n",
      "2023-04-04 11:16:15 5m23s \u001b[1mINFO    \u001b[0m \u001b[36mart.attacks.evasion.projected_gradient_descent.projected_gradient_descent_pytorch\u001b[0m:\u001b[36mgenerate\u001b[0m:\u001b[36m237\u001b[0m Success rate of attack: 71.88%\n"
     ]
    },
    {
     "name": "stderr",
     "output_type": "stream",
     "text": [
      "Evaluation:  20%|██        | 32/157 [01:52<06:49,  3.27s/it]"
     ]
    },
    {
     "name": "stdout",
     "output_type": "stream",
     "text": [
      "2023-04-04 11:16:15 5m23s \u001b[1mINFO    \u001b[0m \u001b[36mart.attacks.evasion.projected_gradient_descent.projected_gradient_descent\u001b[0m:\u001b[36mgenerate\u001b[0m:\u001b[36m199\u001b[0m Creating adversarial samples.\n",
      "2023-04-04 11:16:18 5m26s \u001b[1mINFO    \u001b[0m \u001b[36mart.attacks.evasion.projected_gradient_descent.projected_gradient_descent_pytorch\u001b[0m:\u001b[36mgenerate\u001b[0m:\u001b[36m237\u001b[0m Success rate of attack: 67.19%\n"
     ]
    },
    {
     "name": "stderr",
     "output_type": "stream",
     "text": [
      "Evaluation:  21%|██        | 33/157 [01:56<06:44,  3.26s/it]"
     ]
    },
    {
     "name": "stdout",
     "output_type": "stream",
     "text": [
      "2023-04-04 11:16:18 5m26s \u001b[1mINFO    \u001b[0m \u001b[36mart.attacks.evasion.projected_gradient_descent.projected_gradient_descent\u001b[0m:\u001b[36mgenerate\u001b[0m:\u001b[36m199\u001b[0m Creating adversarial samples.\n",
      "2023-04-04 11:16:22 5m30s \u001b[1mINFO    \u001b[0m \u001b[36mart.attacks.evasion.projected_gradient_descent.projected_gradient_descent_pytorch\u001b[0m:\u001b[36mgenerate\u001b[0m:\u001b[36m237\u001b[0m Success rate of attack: 62.50%\n"
     ]
    },
    {
     "name": "stderr",
     "output_type": "stream",
     "text": [
      "Evaluation:  22%|██▏       | 34/157 [01:59<06:39,  3.25s/it]"
     ]
    },
    {
     "name": "stdout",
     "output_type": "stream",
     "text": [
      "2023-04-04 11:16:22 5m30s \u001b[1mINFO    \u001b[0m \u001b[36mart.attacks.evasion.projected_gradient_descent.projected_gradient_descent\u001b[0m:\u001b[36mgenerate\u001b[0m:\u001b[36m199\u001b[0m Creating adversarial samples.\n",
      "2023-04-04 11:16:25 5m33s \u001b[1mINFO    \u001b[0m \u001b[36mart.attacks.evasion.projected_gradient_descent.projected_gradient_descent_pytorch\u001b[0m:\u001b[36mgenerate\u001b[0m:\u001b[36m237\u001b[0m Success rate of attack: 65.62%\n"
     ]
    },
    {
     "name": "stderr",
     "output_type": "stream",
     "text": [
      "Evaluation:  22%|██▏       | 35/157 [02:02<06:37,  3.26s/it]"
     ]
    },
    {
     "name": "stdout",
     "output_type": "stream",
     "text": [
      "2023-04-04 11:16:25 5m33s \u001b[1mINFO    \u001b[0m \u001b[36mart.attacks.evasion.projected_gradient_descent.projected_gradient_descent\u001b[0m:\u001b[36mgenerate\u001b[0m:\u001b[36m199\u001b[0m Creating adversarial samples.\n",
      "2023-04-04 11:16:28 5m36s \u001b[1mINFO    \u001b[0m \u001b[36mart.attacks.evasion.projected_gradient_descent.projected_gradient_descent_pytorch\u001b[0m:\u001b[36mgenerate\u001b[0m:\u001b[36m237\u001b[0m Success rate of attack: 78.12%\n"
     ]
    },
    {
     "name": "stderr",
     "output_type": "stream",
     "text": [
      "Evaluation:  23%|██▎       | 36/157 [02:06<06:44,  3.34s/it]"
     ]
    },
    {
     "name": "stdout",
     "output_type": "stream",
     "text": [
      "2023-04-04 11:16:28 5m36s \u001b[1mINFO    \u001b[0m \u001b[36mart.attacks.evasion.projected_gradient_descent.projected_gradient_descent\u001b[0m:\u001b[36mgenerate\u001b[0m:\u001b[36m199\u001b[0m Creating adversarial samples.\n",
      "2023-04-04 11:16:32 5m40s \u001b[1mINFO    \u001b[0m \u001b[36mart.attacks.evasion.projected_gradient_descent.projected_gradient_descent_pytorch\u001b[0m:\u001b[36mgenerate\u001b[0m:\u001b[36m237\u001b[0m Success rate of attack: 70.31%\n"
     ]
    },
    {
     "name": "stderr",
     "output_type": "stream",
     "text": [
      "Evaluation:  24%|██▎       | 37/157 [02:09<06:51,  3.43s/it]"
     ]
    },
    {
     "name": "stdout",
     "output_type": "stream",
     "text": [
      "2023-04-04 11:16:32 5m40s \u001b[1mINFO    \u001b[0m \u001b[36mart.attacks.evasion.projected_gradient_descent.projected_gradient_descent\u001b[0m:\u001b[36mgenerate\u001b[0m:\u001b[36m199\u001b[0m Creating adversarial samples.\n",
      "2023-04-04 11:16:36 5m43s \u001b[1mINFO    \u001b[0m \u001b[36mart.attacks.evasion.projected_gradient_descent.projected_gradient_descent_pytorch\u001b[0m:\u001b[36mgenerate\u001b[0m:\u001b[36m237\u001b[0m Success rate of attack: 76.56%\n"
     ]
    },
    {
     "name": "stderr",
     "output_type": "stream",
     "text": [
      "Evaluation:  24%|██▍       | 38/157 [02:13<06:49,  3.44s/it]"
     ]
    },
    {
     "name": "stdout",
     "output_type": "stream",
     "text": [
      "2023-04-04 11:16:36 5m43s \u001b[1mINFO    \u001b[0m \u001b[36mart.attacks.evasion.projected_gradient_descent.projected_gradient_descent\u001b[0m:\u001b[36mgenerate\u001b[0m:\u001b[36m199\u001b[0m Creating adversarial samples.\n",
      "2023-04-04 11:16:39 5m47s \u001b[1mINFO    \u001b[0m \u001b[36mart.attacks.evasion.projected_gradient_descent.projected_gradient_descent_pytorch\u001b[0m:\u001b[36mgenerate\u001b[0m:\u001b[36m237\u001b[0m Success rate of attack: 70.31%\n"
     ]
    },
    {
     "name": "stderr",
     "output_type": "stream",
     "text": [
      "Evaluation:  25%|██▍       | 39/157 [02:16<06:43,  3.42s/it]"
     ]
    },
    {
     "name": "stdout",
     "output_type": "stream",
     "text": [
      "2023-04-04 11:16:39 5m47s \u001b[1mINFO    \u001b[0m \u001b[36mart.attacks.evasion.projected_gradient_descent.projected_gradient_descent\u001b[0m:\u001b[36mgenerate\u001b[0m:\u001b[36m199\u001b[0m Creating adversarial samples.\n",
      "2023-04-04 11:16:43 5m50s \u001b[1mINFO    \u001b[0m \u001b[36mart.attacks.evasion.projected_gradient_descent.projected_gradient_descent_pytorch\u001b[0m:\u001b[36mgenerate\u001b[0m:\u001b[36m237\u001b[0m Success rate of attack: 78.12%\n"
     ]
    },
    {
     "name": "stderr",
     "output_type": "stream",
     "text": [
      "Evaluation:  25%|██▌       | 40/157 [02:20<06:44,  3.45s/it]"
     ]
    },
    {
     "name": "stdout",
     "output_type": "stream",
     "text": [
      "2023-04-04 11:16:43 5m50s \u001b[1mINFO    \u001b[0m \u001b[36mart.attacks.evasion.projected_gradient_descent.projected_gradient_descent\u001b[0m:\u001b[36mgenerate\u001b[0m:\u001b[36m199\u001b[0m Creating adversarial samples.\n",
      "2023-04-04 11:16:46 5m54s \u001b[1mINFO    \u001b[0m \u001b[36mart.attacks.evasion.projected_gradient_descent.projected_gradient_descent_pytorch\u001b[0m:\u001b[36mgenerate\u001b[0m:\u001b[36m237\u001b[0m Success rate of attack: 67.19%\n"
     ]
    },
    {
     "name": "stderr",
     "output_type": "stream",
     "text": [
      "Evaluation:  26%|██▌       | 41/157 [02:23<06:45,  3.49s/it]"
     ]
    },
    {
     "name": "stdout",
     "output_type": "stream",
     "text": [
      "2023-04-04 11:16:46 5m54s \u001b[1mINFO    \u001b[0m \u001b[36mart.attacks.evasion.projected_gradient_descent.projected_gradient_descent\u001b[0m:\u001b[36mgenerate\u001b[0m:\u001b[36m199\u001b[0m Creating adversarial samples.\n",
      "2023-04-04 11:16:50 5m57s \u001b[1mINFO    \u001b[0m \u001b[36mart.attacks.evasion.projected_gradient_descent.projected_gradient_descent_pytorch\u001b[0m:\u001b[36mgenerate\u001b[0m:\u001b[36m237\u001b[0m Success rate of attack: 59.38%\n"
     ]
    },
    {
     "name": "stderr",
     "output_type": "stream",
     "text": [
      "Evaluation:  27%|██▋       | 42/157 [02:27<06:41,  3.49s/it]"
     ]
    },
    {
     "name": "stdout",
     "output_type": "stream",
     "text": [
      "2023-04-04 11:16:50 5m57s \u001b[1mINFO    \u001b[0m \u001b[36mart.attacks.evasion.projected_gradient_descent.projected_gradient_descent\u001b[0m:\u001b[36mgenerate\u001b[0m:\u001b[36m199\u001b[0m Creating adversarial samples.\n",
      "2023-04-04 11:16:53  6m \u001b[1mINFO    \u001b[0m \u001b[36mart.attacks.evasion.projected_gradient_descent.projected_gradient_descent_pytorch\u001b[0m:\u001b[36mgenerate\u001b[0m:\u001b[36m237\u001b[0m Success rate of attack: 76.56%\n"
     ]
    },
    {
     "name": "stderr",
     "output_type": "stream",
     "text": [
      "Evaluation:  27%|██▋       | 43/157 [02:30<06:32,  3.44s/it]"
     ]
    },
    {
     "name": "stdout",
     "output_type": "stream",
     "text": [
      "2023-04-04 11:16:53  6m \u001b[1mINFO    \u001b[0m \u001b[36mart.attacks.evasion.projected_gradient_descent.projected_gradient_descent\u001b[0m:\u001b[36mgenerate\u001b[0m:\u001b[36m199\u001b[0m Creating adversarial samples.\n",
      "2023-04-04 11:16:56 6m4s \u001b[1mINFO    \u001b[0m \u001b[36mart.attacks.evasion.projected_gradient_descent.projected_gradient_descent_pytorch\u001b[0m:\u001b[36mgenerate\u001b[0m:\u001b[36m237\u001b[0m Success rate of attack: 67.19%\n"
     ]
    },
    {
     "name": "stderr",
     "output_type": "stream",
     "text": [
      "Evaluation:  28%|██▊       | 44/157 [02:34<06:31,  3.47s/it]"
     ]
    },
    {
     "name": "stdout",
     "output_type": "stream",
     "text": [
      "2023-04-04 11:16:56 6m4s \u001b[1mINFO    \u001b[0m \u001b[36mart.attacks.evasion.projected_gradient_descent.projected_gradient_descent\u001b[0m:\u001b[36mgenerate\u001b[0m:\u001b[36m199\u001b[0m Creating adversarial samples.\n",
      "2023-04-04 11:17:00 6m8s \u001b[1mINFO    \u001b[0m \u001b[36mart.attacks.evasion.projected_gradient_descent.projected_gradient_descent_pytorch\u001b[0m:\u001b[36mgenerate\u001b[0m:\u001b[36m237\u001b[0m Success rate of attack: 67.19%\n"
     ]
    },
    {
     "name": "stderr",
     "output_type": "stream",
     "text": [
      "Evaluation:  29%|██▊       | 45/157 [02:37<06:22,  3.42s/it]"
     ]
    },
    {
     "name": "stdout",
     "output_type": "stream",
     "text": [
      "2023-04-04 11:17:00 6m8s \u001b[1mINFO    \u001b[0m \u001b[36mart.attacks.evasion.projected_gradient_descent.projected_gradient_descent\u001b[0m:\u001b[36mgenerate\u001b[0m:\u001b[36m199\u001b[0m Creating adversarial samples.\n",
      "2023-04-04 11:17:03 6m11s \u001b[1mINFO    \u001b[0m \u001b[36mart.attacks.evasion.projected_gradient_descent.projected_gradient_descent_pytorch\u001b[0m:\u001b[36mgenerate\u001b[0m:\u001b[36m237\u001b[0m Success rate of attack: 79.69%\n"
     ]
    },
    {
     "name": "stderr",
     "output_type": "stream",
     "text": [
      "Evaluation:  29%|██▉       | 46/157 [02:40<06:13,  3.37s/it]"
     ]
    },
    {
     "name": "stdout",
     "output_type": "stream",
     "text": [
      "2023-04-04 11:17:03 6m11s \u001b[1mINFO    \u001b[0m \u001b[36mart.attacks.evasion.projected_gradient_descent.projected_gradient_descent\u001b[0m:\u001b[36mgenerate\u001b[0m:\u001b[36m199\u001b[0m Creating adversarial samples.\n",
      "2023-04-04 11:17:06 6m14s \u001b[1mINFO    \u001b[0m \u001b[36mart.attacks.evasion.projected_gradient_descent.projected_gradient_descent_pytorch\u001b[0m:\u001b[36mgenerate\u001b[0m:\u001b[36m237\u001b[0m Success rate of attack: 79.69%\n"
     ]
    },
    {
     "name": "stderr",
     "output_type": "stream",
     "text": [
      "Evaluation:  30%|██▉       | 47/157 [02:43<06:05,  3.32s/it]"
     ]
    },
    {
     "name": "stdout",
     "output_type": "stream",
     "text": [
      "2023-04-04 11:17:06 6m14s \u001b[1mINFO    \u001b[0m \u001b[36mart.attacks.evasion.projected_gradient_descent.projected_gradient_descent\u001b[0m:\u001b[36mgenerate\u001b[0m:\u001b[36m199\u001b[0m Creating adversarial samples.\n",
      "2023-04-04 11:17:10 6m17s \u001b[1mINFO    \u001b[0m \u001b[36mart.attacks.evasion.projected_gradient_descent.projected_gradient_descent_pytorch\u001b[0m:\u001b[36mgenerate\u001b[0m:\u001b[36m237\u001b[0m Success rate of attack: 73.44%\n"
     ]
    },
    {
     "name": "stderr",
     "output_type": "stream",
     "text": [
      "Evaluation:  31%|███       | 48/157 [02:47<06:04,  3.34s/it]"
     ]
    },
    {
     "name": "stdout",
     "output_type": "stream",
     "text": [
      "2023-04-04 11:17:10 6m17s \u001b[1mINFO    \u001b[0m \u001b[36mart.attacks.evasion.projected_gradient_descent.projected_gradient_descent\u001b[0m:\u001b[36mgenerate\u001b[0m:\u001b[36m199\u001b[0m Creating adversarial samples.\n",
      "2023-04-04 11:17:14 6m22s \u001b[1mINFO    \u001b[0m \u001b[36mart.attacks.evasion.projected_gradient_descent.projected_gradient_descent_pytorch\u001b[0m:\u001b[36mgenerate\u001b[0m:\u001b[36m237\u001b[0m Success rate of attack: 67.19%\n"
     ]
    },
    {
     "name": "stderr",
     "output_type": "stream",
     "text": [
      "Evaluation:  31%|███       | 49/157 [02:51<06:26,  3.58s/it]"
     ]
    },
    {
     "name": "stdout",
     "output_type": "stream",
     "text": [
      "2023-04-04 11:17:14 6m22s \u001b[1mINFO    \u001b[0m \u001b[36mart.attacks.evasion.projected_gradient_descent.projected_gradient_descent\u001b[0m:\u001b[36mgenerate\u001b[0m:\u001b[36m199\u001b[0m Creating adversarial samples.\n",
      "2023-04-04 11:17:18 6m26s \u001b[1mINFO    \u001b[0m \u001b[36mart.attacks.evasion.projected_gradient_descent.projected_gradient_descent_pytorch\u001b[0m:\u001b[36mgenerate\u001b[0m:\u001b[36m237\u001b[0m Success rate of attack: 68.75%\n"
     ]
    },
    {
     "name": "stderr",
     "output_type": "stream",
     "text": [
      "Evaluation:  32%|███▏      | 50/157 [02:55<06:39,  3.73s/it]"
     ]
    },
    {
     "name": "stdout",
     "output_type": "stream",
     "text": [
      "2023-04-04 11:17:18 6m26s \u001b[1mINFO    \u001b[0m \u001b[36mart.attacks.evasion.projected_gradient_descent.projected_gradient_descent\u001b[0m:\u001b[36mgenerate\u001b[0m:\u001b[36m199\u001b[0m Creating adversarial samples.\n",
      "2023-04-04 11:17:22 6m30s \u001b[1mINFO    \u001b[0m \u001b[36mart.attacks.evasion.projected_gradient_descent.projected_gradient_descent_pytorch\u001b[0m:\u001b[36mgenerate\u001b[0m:\u001b[36m237\u001b[0m Success rate of attack: 67.19%\n"
     ]
    },
    {
     "name": "stderr",
     "output_type": "stream",
     "text": [
      "Evaluation:  32%|███▏      | 51/157 [02:59<06:45,  3.83s/it]"
     ]
    },
    {
     "name": "stdout",
     "output_type": "stream",
     "text": [
      "2023-04-04 11:17:22 6m30s \u001b[1mINFO    \u001b[0m \u001b[36mart.attacks.evasion.projected_gradient_descent.projected_gradient_descent\u001b[0m:\u001b[36mgenerate\u001b[0m:\u001b[36m199\u001b[0m Creating adversarial samples.\n",
      "2023-04-04 11:17:26 6m34s \u001b[1mINFO    \u001b[0m \u001b[36mart.attacks.evasion.projected_gradient_descent.projected_gradient_descent_pytorch\u001b[0m:\u001b[36mgenerate\u001b[0m:\u001b[36m237\u001b[0m Success rate of attack: 71.88%\n"
     ]
    },
    {
     "name": "stderr",
     "output_type": "stream",
     "text": [
      "Evaluation:  33%|███▎      | 52/157 [03:03<06:42,  3.83s/it]"
     ]
    },
    {
     "name": "stdout",
     "output_type": "stream",
     "text": [
      "2023-04-04 11:17:26 6m34s \u001b[1mINFO    \u001b[0m \u001b[36mart.attacks.evasion.projected_gradient_descent.projected_gradient_descent\u001b[0m:\u001b[36mgenerate\u001b[0m:\u001b[36m199\u001b[0m Creating adversarial samples.\n",
      "2023-04-04 11:17:29 6m37s \u001b[1mINFO    \u001b[0m \u001b[36mart.attacks.evasion.projected_gradient_descent.projected_gradient_descent_pytorch\u001b[0m:\u001b[36mgenerate\u001b[0m:\u001b[36m237\u001b[0m Success rate of attack: 62.50%\n"
     ]
    },
    {
     "name": "stderr",
     "output_type": "stream",
     "text": [
      "Evaluation:  34%|███▍      | 53/157 [03:07<06:35,  3.80s/it]"
     ]
    },
    {
     "name": "stdout",
     "output_type": "stream",
     "text": [
      "2023-04-04 11:17:29 6m37s \u001b[1mINFO    \u001b[0m \u001b[36mart.attacks.evasion.projected_gradient_descent.projected_gradient_descent\u001b[0m:\u001b[36mgenerate\u001b[0m:\u001b[36m199\u001b[0m Creating adversarial samples.\n",
      "2023-04-04 11:17:33 6m41s \u001b[1mINFO    \u001b[0m \u001b[36mart.attacks.evasion.projected_gradient_descent.projected_gradient_descent_pytorch\u001b[0m:\u001b[36mgenerate\u001b[0m:\u001b[36m237\u001b[0m Success rate of attack: 62.50%\n"
     ]
    },
    {
     "name": "stderr",
     "output_type": "stream",
     "text": [
      "Evaluation:  34%|███▍      | 54/157 [03:10<06:25,  3.74s/it]"
     ]
    },
    {
     "name": "stdout",
     "output_type": "stream",
     "text": [
      "2023-04-04 11:17:33 6m41s \u001b[1mINFO    \u001b[0m \u001b[36mart.attacks.evasion.projected_gradient_descent.projected_gradient_descent\u001b[0m:\u001b[36mgenerate\u001b[0m:\u001b[36m199\u001b[0m Creating adversarial samples.\n",
      "2023-04-04 11:17:37 6m44s \u001b[1mINFO    \u001b[0m \u001b[36mart.attacks.evasion.projected_gradient_descent.projected_gradient_descent_pytorch\u001b[0m:\u001b[36mgenerate\u001b[0m:\u001b[36m237\u001b[0m Success rate of attack: 67.19%\n"
     ]
    },
    {
     "name": "stderr",
     "output_type": "stream",
     "text": [
      "Evaluation:  35%|███▌      | 55/157 [03:14<06:15,  3.69s/it]"
     ]
    },
    {
     "name": "stdout",
     "output_type": "stream",
     "text": [
      "2023-04-04 11:17:37 6m44s \u001b[1mINFO    \u001b[0m \u001b[36mart.attacks.evasion.projected_gradient_descent.projected_gradient_descent\u001b[0m:\u001b[36mgenerate\u001b[0m:\u001b[36m199\u001b[0m Creating adversarial samples.\n",
      "2023-04-04 11:17:40 6m48s \u001b[1mINFO    \u001b[0m \u001b[36mart.attacks.evasion.projected_gradient_descent.projected_gradient_descent_pytorch\u001b[0m:\u001b[36mgenerate\u001b[0m:\u001b[36m237\u001b[0m Success rate of attack: 67.19%\n"
     ]
    },
    {
     "name": "stderr",
     "output_type": "stream",
     "text": [
      "Evaluation:  36%|███▌      | 56/157 [03:17<05:58,  3.55s/it]"
     ]
    },
    {
     "name": "stdout",
     "output_type": "stream",
     "text": [
      "2023-04-04 11:17:40 6m48s \u001b[1mINFO    \u001b[0m \u001b[36mart.attacks.evasion.projected_gradient_descent.projected_gradient_descent\u001b[0m:\u001b[36mgenerate\u001b[0m:\u001b[36m199\u001b[0m Creating adversarial samples.\n",
      "2023-04-04 11:17:43 6m51s \u001b[1mINFO    \u001b[0m \u001b[36mart.attacks.evasion.projected_gradient_descent.projected_gradient_descent_pytorch\u001b[0m:\u001b[36mgenerate\u001b[0m:\u001b[36m237\u001b[0m Success rate of attack: 67.19%\n"
     ]
    },
    {
     "name": "stderr",
     "output_type": "stream",
     "text": [
      "Evaluation:  36%|███▋      | 57/157 [03:20<05:48,  3.49s/it]"
     ]
    },
    {
     "name": "stdout",
     "output_type": "stream",
     "text": [
      "2023-04-04 11:17:43 6m51s \u001b[1mINFO    \u001b[0m \u001b[36mart.attacks.evasion.projected_gradient_descent.projected_gradient_descent\u001b[0m:\u001b[36mgenerate\u001b[0m:\u001b[36m199\u001b[0m Creating adversarial samples.\n",
      "2023-04-04 11:17:47 6m54s \u001b[1mINFO    \u001b[0m \u001b[36mart.attacks.evasion.projected_gradient_descent.projected_gradient_descent_pytorch\u001b[0m:\u001b[36mgenerate\u001b[0m:\u001b[36m237\u001b[0m Success rate of attack: 65.62%\n"
     ]
    },
    {
     "name": "stderr",
     "output_type": "stream",
     "text": [
      "Evaluation:  37%|███▋      | 58/157 [03:24<05:42,  3.46s/it]"
     ]
    },
    {
     "name": "stdout",
     "output_type": "stream",
     "text": [
      "2023-04-04 11:17:47 6m54s \u001b[1mINFO    \u001b[0m \u001b[36mart.attacks.evasion.projected_gradient_descent.projected_gradient_descent\u001b[0m:\u001b[36mgenerate\u001b[0m:\u001b[36m199\u001b[0m Creating adversarial samples.\n",
      "2023-04-04 11:17:50 6m58s \u001b[1mINFO    \u001b[0m \u001b[36mart.attacks.evasion.projected_gradient_descent.projected_gradient_descent_pytorch\u001b[0m:\u001b[36mgenerate\u001b[0m:\u001b[36m237\u001b[0m Success rate of attack: 75.00%\n"
     ]
    },
    {
     "name": "stderr",
     "output_type": "stream",
     "text": [
      "Evaluation:  38%|███▊      | 59/157 [03:27<05:37,  3.45s/it]"
     ]
    },
    {
     "name": "stdout",
     "output_type": "stream",
     "text": [
      "2023-04-04 11:17:50 6m58s \u001b[1mINFO    \u001b[0m \u001b[36mart.attacks.evasion.projected_gradient_descent.projected_gradient_descent\u001b[0m:\u001b[36mgenerate\u001b[0m:\u001b[36m199\u001b[0m Creating adversarial samples.\n",
      "2023-04-04 11:17:53  7m \u001b[1mINFO    \u001b[0m \u001b[36mart.attacks.evasion.projected_gradient_descent.projected_gradient_descent_pytorch\u001b[0m:\u001b[36mgenerate\u001b[0m:\u001b[36m237\u001b[0m Success rate of attack: 71.88%\n"
     ]
    },
    {
     "name": "stderr",
     "output_type": "stream",
     "text": [
      "Evaluation:  38%|███▊      | 60/157 [03:31<05:36,  3.47s/it]"
     ]
    },
    {
     "name": "stdout",
     "output_type": "stream",
     "text": [
      "2023-04-04 11:17:53  7m \u001b[1mINFO    \u001b[0m \u001b[36mart.attacks.evasion.projected_gradient_descent.projected_gradient_descent\u001b[0m:\u001b[36mgenerate\u001b[0m:\u001b[36m199\u001b[0m Creating adversarial samples.\n",
      "2023-04-04 11:17:57 7m5s \u001b[1mINFO    \u001b[0m \u001b[36mart.attacks.evasion.projected_gradient_descent.projected_gradient_descent_pytorch\u001b[0m:\u001b[36mgenerate\u001b[0m:\u001b[36m237\u001b[0m Success rate of attack: 64.06%\n"
     ]
    },
    {
     "name": "stderr",
     "output_type": "stream",
     "text": [
      "Evaluation:  39%|███▉      | 61/157 [03:34<05:34,  3.48s/it]"
     ]
    },
    {
     "name": "stdout",
     "output_type": "stream",
     "text": [
      "2023-04-04 11:17:57 7m5s \u001b[1mINFO    \u001b[0m \u001b[36mart.attacks.evasion.projected_gradient_descent.projected_gradient_descent\u001b[0m:\u001b[36mgenerate\u001b[0m:\u001b[36m199\u001b[0m Creating adversarial samples.\n",
      "2023-04-04 11:18:00 7m8s \u001b[1mINFO    \u001b[0m \u001b[36mart.attacks.evasion.projected_gradient_descent.projected_gradient_descent_pytorch\u001b[0m:\u001b[36mgenerate\u001b[0m:\u001b[36m237\u001b[0m Success rate of attack: 59.38%\n"
     ]
    },
    {
     "name": "stderr",
     "output_type": "stream",
     "text": [
      "Evaluation:  39%|███▉      | 62/157 [03:38<05:28,  3.46s/it]"
     ]
    },
    {
     "name": "stdout",
     "output_type": "stream",
     "text": [
      "2023-04-04 11:18:00 7m8s \u001b[1mINFO    \u001b[0m \u001b[36mart.attacks.evasion.projected_gradient_descent.projected_gradient_descent\u001b[0m:\u001b[36mgenerate\u001b[0m:\u001b[36m199\u001b[0m Creating adversarial samples.\n",
      "2023-04-04 11:18:04 7m12s \u001b[1mINFO    \u001b[0m \u001b[36mart.attacks.evasion.projected_gradient_descent.projected_gradient_descent_pytorch\u001b[0m:\u001b[36mgenerate\u001b[0m:\u001b[36m237\u001b[0m Success rate of attack: 79.69%\n"
     ]
    },
    {
     "name": "stderr",
     "output_type": "stream",
     "text": [
      "Evaluation:  40%|████      | 63/157 [03:41<05:28,  3.49s/it]"
     ]
    },
    {
     "name": "stdout",
     "output_type": "stream",
     "text": [
      "2023-04-04 11:18:04 7m12s \u001b[1mINFO    \u001b[0m \u001b[36mart.attacks.evasion.projected_gradient_descent.projected_gradient_descent\u001b[0m:\u001b[36mgenerate\u001b[0m:\u001b[36m199\u001b[0m Creating adversarial samples.\n",
      "2023-04-04 11:18:08 7m16s \u001b[1mINFO    \u001b[0m \u001b[36mart.attacks.evasion.projected_gradient_descent.projected_gradient_descent_pytorch\u001b[0m:\u001b[36mgenerate\u001b[0m:\u001b[36m237\u001b[0m Success rate of attack: 70.31%\n"
     ]
    },
    {
     "name": "stderr",
     "output_type": "stream",
     "text": [
      "Evaluation:  41%|████      | 64/157 [03:45<05:30,  3.56s/it]"
     ]
    },
    {
     "name": "stdout",
     "output_type": "stream",
     "text": [
      "2023-04-04 11:18:08 7m16s \u001b[1mINFO    \u001b[0m \u001b[36mart.attacks.evasion.projected_gradient_descent.projected_gradient_descent\u001b[0m:\u001b[36mgenerate\u001b[0m:\u001b[36m199\u001b[0m Creating adversarial samples.\n",
      "2023-04-04 11:18:11 7m19s \u001b[1mINFO    \u001b[0m \u001b[36mart.attacks.evasion.projected_gradient_descent.projected_gradient_descent_pytorch\u001b[0m:\u001b[36mgenerate\u001b[0m:\u001b[36m237\u001b[0m Success rate of attack: 73.44%\n"
     ]
    },
    {
     "name": "stderr",
     "output_type": "stream",
     "text": [
      "Evaluation:  41%|████▏     | 65/157 [03:48<05:22,  3.51s/it]"
     ]
    },
    {
     "name": "stdout",
     "output_type": "stream",
     "text": [
      "2023-04-04 11:18:11 7m19s \u001b[1mINFO    \u001b[0m \u001b[36mart.attacks.evasion.projected_gradient_descent.projected_gradient_descent\u001b[0m:\u001b[36mgenerate\u001b[0m:\u001b[36m199\u001b[0m Creating adversarial samples.\n",
      "2023-04-04 11:18:15 7m22s \u001b[1mINFO    \u001b[0m \u001b[36mart.attacks.evasion.projected_gradient_descent.projected_gradient_descent_pytorch\u001b[0m:\u001b[36mgenerate\u001b[0m:\u001b[36m237\u001b[0m Success rate of attack: 71.88%\n"
     ]
    },
    {
     "name": "stderr",
     "output_type": "stream",
     "text": [
      "Evaluation:  42%|████▏     | 66/157 [03:52<05:17,  3.49s/it]"
     ]
    },
    {
     "name": "stdout",
     "output_type": "stream",
     "text": [
      "2023-04-04 11:18:15 7m22s \u001b[1mINFO    \u001b[0m \u001b[36mart.attacks.evasion.projected_gradient_descent.projected_gradient_descent\u001b[0m:\u001b[36mgenerate\u001b[0m:\u001b[36m199\u001b[0m Creating adversarial samples.\n",
      "2023-04-04 11:18:18 7m26s \u001b[1mINFO    \u001b[0m \u001b[36mart.attacks.evasion.projected_gradient_descent.projected_gradient_descent_pytorch\u001b[0m:\u001b[36mgenerate\u001b[0m:\u001b[36m237\u001b[0m Success rate of attack: 78.12%\n"
     ]
    },
    {
     "name": "stderr",
     "output_type": "stream",
     "text": [
      "Evaluation:  43%|████▎     | 67/157 [03:55<05:15,  3.50s/it]"
     ]
    },
    {
     "name": "stdout",
     "output_type": "stream",
     "text": [
      "2023-04-04 11:18:18 7m26s \u001b[1mINFO    \u001b[0m \u001b[36mart.attacks.evasion.projected_gradient_descent.projected_gradient_descent\u001b[0m:\u001b[36mgenerate\u001b[0m:\u001b[36m199\u001b[0m Creating adversarial samples.\n",
      "2023-04-04 11:18:22 7m29s \u001b[1mINFO    \u001b[0m \u001b[36mart.attacks.evasion.projected_gradient_descent.projected_gradient_descent_pytorch\u001b[0m:\u001b[36mgenerate\u001b[0m:\u001b[36m237\u001b[0m Success rate of attack: 71.88%\n"
     ]
    },
    {
     "name": "stderr",
     "output_type": "stream",
     "text": [
      "Evaluation:  43%|████▎     | 68/157 [03:59<05:12,  3.51s/it]"
     ]
    },
    {
     "name": "stdout",
     "output_type": "stream",
     "text": [
      "2023-04-04 11:18:22 7m29s \u001b[1mINFO    \u001b[0m \u001b[36mart.attacks.evasion.projected_gradient_descent.projected_gradient_descent\u001b[0m:\u001b[36mgenerate\u001b[0m:\u001b[36m199\u001b[0m Creating adversarial samples.\n",
      "2023-04-04 11:18:25 7m33s \u001b[1mINFO    \u001b[0m \u001b[36mart.attacks.evasion.projected_gradient_descent.projected_gradient_descent_pytorch\u001b[0m:\u001b[36mgenerate\u001b[0m:\u001b[36m237\u001b[0m Success rate of attack: 70.31%\n"
     ]
    },
    {
     "name": "stderr",
     "output_type": "stream",
     "text": [
      "Evaluation:  44%|████▍     | 69/157 [04:02<05:14,  3.57s/it]"
     ]
    },
    {
     "name": "stdout",
     "output_type": "stream",
     "text": [
      "2023-04-04 11:18:25 7m33s \u001b[1mINFO    \u001b[0m \u001b[36mart.attacks.evasion.projected_gradient_descent.projected_gradient_descent\u001b[0m:\u001b[36mgenerate\u001b[0m:\u001b[36m199\u001b[0m Creating adversarial samples.\n",
      "2023-04-04 11:18:29 7m37s \u001b[1mINFO    \u001b[0m \u001b[36mart.attacks.evasion.projected_gradient_descent.projected_gradient_descent_pytorch\u001b[0m:\u001b[36mgenerate\u001b[0m:\u001b[36m237\u001b[0m Success rate of attack: 68.75%\n"
     ]
    },
    {
     "name": "stderr",
     "output_type": "stream",
     "text": [
      "Evaluation:  45%|████▍     | 70/157 [04:06<05:13,  3.60s/it]"
     ]
    },
    {
     "name": "stdout",
     "output_type": "stream",
     "text": [
      "2023-04-04 11:18:29 7m37s \u001b[1mINFO    \u001b[0m \u001b[36mart.attacks.evasion.projected_gradient_descent.projected_gradient_descent\u001b[0m:\u001b[36mgenerate\u001b[0m:\u001b[36m199\u001b[0m Creating adversarial samples.\n",
      "2023-04-04 11:18:33 7m41s \u001b[1mINFO    \u001b[0m \u001b[36mart.attacks.evasion.projected_gradient_descent.projected_gradient_descent_pytorch\u001b[0m:\u001b[36mgenerate\u001b[0m:\u001b[36m237\u001b[0m Success rate of attack: 67.19%\n"
     ]
    },
    {
     "name": "stderr",
     "output_type": "stream",
     "text": [
      "Evaluation:  45%|████▌     | 71/157 [04:10<05:22,  3.76s/it]"
     ]
    },
    {
     "name": "stdout",
     "output_type": "stream",
     "text": [
      "2023-04-04 11:18:33 7m41s \u001b[1mINFO    \u001b[0m \u001b[36mart.attacks.evasion.projected_gradient_descent.projected_gradient_descent\u001b[0m:\u001b[36mgenerate\u001b[0m:\u001b[36m199\u001b[0m Creating adversarial samples.\n",
      "2023-04-04 11:18:37 7m45s \u001b[1mINFO    \u001b[0m \u001b[36mart.attacks.evasion.projected_gradient_descent.projected_gradient_descent_pytorch\u001b[0m:\u001b[36mgenerate\u001b[0m:\u001b[36m237\u001b[0m Success rate of attack: 62.50%\n"
     ]
    },
    {
     "name": "stderr",
     "output_type": "stream",
     "text": [
      "Evaluation:  46%|████▌     | 72/157 [04:14<05:23,  3.81s/it]"
     ]
    },
    {
     "name": "stdout",
     "output_type": "stream",
     "text": [
      "2023-04-04 11:18:37 7m45s \u001b[1mINFO    \u001b[0m \u001b[36mart.attacks.evasion.projected_gradient_descent.projected_gradient_descent\u001b[0m:\u001b[36mgenerate\u001b[0m:\u001b[36m199\u001b[0m Creating adversarial samples.\n",
      "2023-04-04 11:18:41 7m49s \u001b[1mINFO    \u001b[0m \u001b[36mart.attacks.evasion.projected_gradient_descent.projected_gradient_descent_pytorch\u001b[0m:\u001b[36mgenerate\u001b[0m:\u001b[36m237\u001b[0m Success rate of attack: 73.44%\n"
     ]
    },
    {
     "name": "stderr",
     "output_type": "stream",
     "text": [
      "Evaluation:  46%|████▋     | 73/157 [04:18<05:22,  3.84s/it]"
     ]
    },
    {
     "name": "stdout",
     "output_type": "stream",
     "text": [
      "2023-04-04 11:18:41 7m49s \u001b[1mINFO    \u001b[0m \u001b[36mart.attacks.evasion.projected_gradient_descent.projected_gradient_descent\u001b[0m:\u001b[36mgenerate\u001b[0m:\u001b[36m199\u001b[0m Creating adversarial samples.\n",
      "2023-04-04 11:18:45 7m53s \u001b[1mINFO    \u001b[0m \u001b[36mart.attacks.evasion.projected_gradient_descent.projected_gradient_descent_pytorch\u001b[0m:\u001b[36mgenerate\u001b[0m:\u001b[36m237\u001b[0m Success rate of attack: 79.69%\n"
     ]
    },
    {
     "name": "stderr",
     "output_type": "stream",
     "text": [
      "Evaluation:  47%|████▋     | 74/157 [04:22<05:19,  3.84s/it]"
     ]
    },
    {
     "name": "stdout",
     "output_type": "stream",
     "text": [
      "2023-04-04 11:18:45 7m53s \u001b[1mINFO    \u001b[0m \u001b[36mart.attacks.evasion.projected_gradient_descent.projected_gradient_descent\u001b[0m:\u001b[36mgenerate\u001b[0m:\u001b[36m199\u001b[0m Creating adversarial samples.\n",
      "2023-04-04 11:18:49 7m57s \u001b[1mINFO    \u001b[0m \u001b[36mart.attacks.evasion.projected_gradient_descent.projected_gradient_descent_pytorch\u001b[0m:\u001b[36mgenerate\u001b[0m:\u001b[36m237\u001b[0m Success rate of attack: 70.31%\n"
     ]
    },
    {
     "name": "stderr",
     "output_type": "stream",
     "text": [
      "Evaluation:  48%|████▊     | 75/157 [04:26<05:19,  3.90s/it]"
     ]
    },
    {
     "name": "stdout",
     "output_type": "stream",
     "text": [
      "2023-04-04 11:18:49 7m57s \u001b[1mINFO    \u001b[0m \u001b[36mart.attacks.evasion.projected_gradient_descent.projected_gradient_descent\u001b[0m:\u001b[36mgenerate\u001b[0m:\u001b[36m199\u001b[0m Creating adversarial samples.\n",
      "2023-04-04 11:18:53  8m \u001b[1mINFO    \u001b[0m \u001b[36mart.attacks.evasion.projected_gradient_descent.projected_gradient_descent_pytorch\u001b[0m:\u001b[36mgenerate\u001b[0m:\u001b[36m237\u001b[0m Success rate of attack: 78.12%\n"
     ]
    },
    {
     "name": "stderr",
     "output_type": "stream",
     "text": [
      "Evaluation:  48%|████▊     | 76/157 [04:30<05:23,  3.99s/it]"
     ]
    },
    {
     "name": "stdout",
     "output_type": "stream",
     "text": [
      "2023-04-04 11:18:53  8m \u001b[1mINFO    \u001b[0m \u001b[36mart.attacks.evasion.projected_gradient_descent.projected_gradient_descent\u001b[0m:\u001b[36mgenerate\u001b[0m:\u001b[36m199\u001b[0m Creating adversarial samples.\n",
      "2023-04-04 11:18:57 8m5s \u001b[1mINFO    \u001b[0m \u001b[36mart.attacks.evasion.projected_gradient_descent.projected_gradient_descent_pytorch\u001b[0m:\u001b[36mgenerate\u001b[0m:\u001b[36m237\u001b[0m Success rate of attack: 68.75%\n"
     ]
    },
    {
     "name": "stderr",
     "output_type": "stream",
     "text": [
      "Evaluation:  49%|████▉     | 77/157 [04:34<05:22,  4.03s/it]"
     ]
    },
    {
     "name": "stdout",
     "output_type": "stream",
     "text": [
      "2023-04-04 11:18:57 8m5s \u001b[1mINFO    \u001b[0m \u001b[36mart.attacks.evasion.projected_gradient_descent.projected_gradient_descent\u001b[0m:\u001b[36mgenerate\u001b[0m:\u001b[36m199\u001b[0m Creating adversarial samples.\n",
      "2023-04-04 11:19:01 8m9s \u001b[1mINFO    \u001b[0m \u001b[36mart.attacks.evasion.projected_gradient_descent.projected_gradient_descent_pytorch\u001b[0m:\u001b[36mgenerate\u001b[0m:\u001b[36m237\u001b[0m Success rate of attack: 70.31%\n"
     ]
    },
    {
     "name": "stderr",
     "output_type": "stream",
     "text": [
      "Evaluation:  50%|████▉     | 78/157 [04:38<05:16,  4.01s/it]"
     ]
    },
    {
     "name": "stdout",
     "output_type": "stream",
     "text": [
      "2023-04-04 11:19:01 8m9s \u001b[1mINFO    \u001b[0m \u001b[36mart.attacks.evasion.projected_gradient_descent.projected_gradient_descent\u001b[0m:\u001b[36mgenerate\u001b[0m:\u001b[36m199\u001b[0m Creating adversarial samples.\n",
      "2023-04-04 11:19:05 8m12s \u001b[1mINFO    \u001b[0m \u001b[36mart.attacks.evasion.projected_gradient_descent.projected_gradient_descent_pytorch\u001b[0m:\u001b[36mgenerate\u001b[0m:\u001b[36m237\u001b[0m Success rate of attack: 70.31%\n"
     ]
    },
    {
     "name": "stderr",
     "output_type": "stream",
     "text": [
      "Evaluation:  50%|█████     | 79/157 [04:42<04:59,  3.84s/it]"
     ]
    },
    {
     "name": "stdout",
     "output_type": "stream",
     "text": [
      "2023-04-04 11:19:05 8m12s \u001b[1mINFO    \u001b[0m \u001b[36mart.attacks.evasion.projected_gradient_descent.projected_gradient_descent\u001b[0m:\u001b[36mgenerate\u001b[0m:\u001b[36m199\u001b[0m Creating adversarial samples.\n",
      "2023-04-04 11:19:08 8m16s \u001b[1mINFO    \u001b[0m \u001b[36mart.attacks.evasion.projected_gradient_descent.projected_gradient_descent_pytorch\u001b[0m:\u001b[36mgenerate\u001b[0m:\u001b[36m237\u001b[0m Success rate of attack: 84.38%\n"
     ]
    },
    {
     "name": "stderr",
     "output_type": "stream",
     "text": [
      "Evaluation:  51%|█████     | 80/157 [04:45<04:45,  3.71s/it]"
     ]
    },
    {
     "name": "stdout",
     "output_type": "stream",
     "text": [
      "2023-04-04 11:19:08 8m16s \u001b[1mINFO    \u001b[0m \u001b[36mart.attacks.evasion.projected_gradient_descent.projected_gradient_descent\u001b[0m:\u001b[36mgenerate\u001b[0m:\u001b[36m199\u001b[0m Creating adversarial samples.\n",
      "2023-04-04 11:19:11 8m19s \u001b[1mINFO    \u001b[0m \u001b[36mart.attacks.evasion.projected_gradient_descent.projected_gradient_descent_pytorch\u001b[0m:\u001b[36mgenerate\u001b[0m:\u001b[36m237\u001b[0m Success rate of attack: 73.44%\n"
     ]
    },
    {
     "name": "stderr",
     "output_type": "stream",
     "text": [
      "Evaluation:  52%|█████▏    | 81/157 [04:49<04:34,  3.62s/it]"
     ]
    },
    {
     "name": "stdout",
     "output_type": "stream",
     "text": [
      "2023-04-04 11:19:11 8m19s \u001b[1mINFO    \u001b[0m \u001b[36mart.attacks.evasion.projected_gradient_descent.projected_gradient_descent\u001b[0m:\u001b[36mgenerate\u001b[0m:\u001b[36m199\u001b[0m Creating adversarial samples.\n",
      "2023-04-04 11:19:15 8m23s \u001b[1mINFO    \u001b[0m \u001b[36mart.attacks.evasion.projected_gradient_descent.projected_gradient_descent_pytorch\u001b[0m:\u001b[36mgenerate\u001b[0m:\u001b[36m237\u001b[0m Success rate of attack: 75.00%\n"
     ]
    },
    {
     "name": "stderr",
     "output_type": "stream",
     "text": [
      "Evaluation:  52%|█████▏    | 82/157 [04:52<04:26,  3.55s/it]"
     ]
    },
    {
     "name": "stdout",
     "output_type": "stream",
     "text": [
      "2023-04-04 11:19:15 8m23s \u001b[1mINFO    \u001b[0m \u001b[36mart.attacks.evasion.projected_gradient_descent.projected_gradient_descent\u001b[0m:\u001b[36mgenerate\u001b[0m:\u001b[36m199\u001b[0m Creating adversarial samples.\n",
      "2023-04-04 11:19:18 8m26s \u001b[1mINFO    \u001b[0m \u001b[36mart.attacks.evasion.projected_gradient_descent.projected_gradient_descent_pytorch\u001b[0m:\u001b[36mgenerate\u001b[0m:\u001b[36m237\u001b[0m Success rate of attack: 65.62%\n"
     ]
    },
    {
     "name": "stderr",
     "output_type": "stream",
     "text": [
      "Evaluation:  53%|█████▎    | 83/157 [04:55<04:23,  3.56s/it]"
     ]
    },
    {
     "name": "stdout",
     "output_type": "stream",
     "text": [
      "2023-04-04 11:19:18 8m26s \u001b[1mINFO    \u001b[0m \u001b[36mart.attacks.evasion.projected_gradient_descent.projected_gradient_descent\u001b[0m:\u001b[36mgenerate\u001b[0m:\u001b[36m199\u001b[0m Creating adversarial samples.\n",
      "2023-04-04 11:19:22 8m30s \u001b[1mINFO    \u001b[0m \u001b[36mart.attacks.evasion.projected_gradient_descent.projected_gradient_descent_pytorch\u001b[0m:\u001b[36mgenerate\u001b[0m:\u001b[36m237\u001b[0m Success rate of attack: 68.75%\n"
     ]
    },
    {
     "name": "stderr",
     "output_type": "stream",
     "text": [
      "Evaluation:  54%|█████▎    | 84/157 [04:59<04:21,  3.58s/it]"
     ]
    },
    {
     "name": "stdout",
     "output_type": "stream",
     "text": [
      "2023-04-04 11:19:22 8m30s \u001b[1mINFO    \u001b[0m \u001b[36mart.attacks.evasion.projected_gradient_descent.projected_gradient_descent\u001b[0m:\u001b[36mgenerate\u001b[0m:\u001b[36m199\u001b[0m Creating adversarial samples.\n",
      "2023-04-04 11:19:25 8m33s \u001b[1mINFO    \u001b[0m \u001b[36mart.attacks.evasion.projected_gradient_descent.projected_gradient_descent_pytorch\u001b[0m:\u001b[36mgenerate\u001b[0m:\u001b[36m237\u001b[0m Success rate of attack: 75.00%\n"
     ]
    },
    {
     "name": "stderr",
     "output_type": "stream",
     "text": [
      "Evaluation:  54%|█████▍    | 85/157 [05:03<04:15,  3.54s/it]"
     ]
    },
    {
     "name": "stdout",
     "output_type": "stream",
     "text": [
      "2023-04-04 11:19:25 8m33s \u001b[1mINFO    \u001b[0m \u001b[36mart.attacks.evasion.projected_gradient_descent.projected_gradient_descent\u001b[0m:\u001b[36mgenerate\u001b[0m:\u001b[36m199\u001b[0m Creating adversarial samples.\n",
      "2023-04-04 11:19:29 8m36s \u001b[1mINFO    \u001b[0m \u001b[36mart.attacks.evasion.projected_gradient_descent.projected_gradient_descent_pytorch\u001b[0m:\u001b[36mgenerate\u001b[0m:\u001b[36m237\u001b[0m Success rate of attack: 67.19%\n"
     ]
    },
    {
     "name": "stderr",
     "output_type": "stream",
     "text": [
      "Evaluation:  55%|█████▍    | 86/157 [05:06<04:04,  3.44s/it]"
     ]
    },
    {
     "name": "stdout",
     "output_type": "stream",
     "text": [
      "2023-04-04 11:19:29 8m36s \u001b[1mINFO    \u001b[0m \u001b[36mart.attacks.evasion.projected_gradient_descent.projected_gradient_descent\u001b[0m:\u001b[36mgenerate\u001b[0m:\u001b[36m199\u001b[0m Creating adversarial samples.\n",
      "2023-04-04 11:19:32 8m40s \u001b[1mINFO    \u001b[0m \u001b[36mart.attacks.evasion.projected_gradient_descent.projected_gradient_descent_pytorch\u001b[0m:\u001b[36mgenerate\u001b[0m:\u001b[36m237\u001b[0m Success rate of attack: 75.00%\n"
     ]
    },
    {
     "name": "stderr",
     "output_type": "stream",
     "text": [
      "Evaluation:  55%|█████▌    | 87/157 [05:09<03:58,  3.41s/it]"
     ]
    },
    {
     "name": "stdout",
     "output_type": "stream",
     "text": [
      "2023-04-04 11:19:32 8m40s \u001b[1mINFO    \u001b[0m \u001b[36mart.attacks.evasion.projected_gradient_descent.projected_gradient_descent\u001b[0m:\u001b[36mgenerate\u001b[0m:\u001b[36m199\u001b[0m Creating adversarial samples.\n",
      "2023-04-04 11:19:35 8m43s \u001b[1mINFO    \u001b[0m \u001b[36mart.attacks.evasion.projected_gradient_descent.projected_gradient_descent_pytorch\u001b[0m:\u001b[36mgenerate\u001b[0m:\u001b[36m237\u001b[0m Success rate of attack: 81.25%\n"
     ]
    },
    {
     "name": "stderr",
     "output_type": "stream",
     "text": [
      "Evaluation:  56%|█████▌    | 88/157 [05:13<03:55,  3.41s/it]"
     ]
    },
    {
     "name": "stdout",
     "output_type": "stream",
     "text": [
      "2023-04-04 11:19:35 8m43s \u001b[1mINFO    \u001b[0m \u001b[36mart.attacks.evasion.projected_gradient_descent.projected_gradient_descent\u001b[0m:\u001b[36mgenerate\u001b[0m:\u001b[36m199\u001b[0m Creating adversarial samples.\n",
      "2023-04-04 11:19:39 8m47s \u001b[1mINFO    \u001b[0m \u001b[36mart.attacks.evasion.projected_gradient_descent.projected_gradient_descent_pytorch\u001b[0m:\u001b[36mgenerate\u001b[0m:\u001b[36m237\u001b[0m Success rate of attack: 71.88%\n"
     ]
    },
    {
     "name": "stderr",
     "output_type": "stream",
     "text": [
      "Evaluation:  57%|█████▋    | 89/157 [05:16<03:49,  3.37s/it]"
     ]
    },
    {
     "name": "stdout",
     "output_type": "stream",
     "text": [
      "2023-04-04 11:19:39 8m47s \u001b[1mINFO    \u001b[0m \u001b[36mart.attacks.evasion.projected_gradient_descent.projected_gradient_descent\u001b[0m:\u001b[36mgenerate\u001b[0m:\u001b[36m199\u001b[0m Creating adversarial samples.\n",
      "2023-04-04 11:19:42 8m50s \u001b[1mINFO    \u001b[0m \u001b[36mart.attacks.evasion.projected_gradient_descent.projected_gradient_descent_pytorch\u001b[0m:\u001b[36mgenerate\u001b[0m:\u001b[36m237\u001b[0m Success rate of attack: 62.50%\n"
     ]
    },
    {
     "name": "stderr",
     "output_type": "stream",
     "text": [
      "Evaluation:  57%|█████▋    | 90/157 [05:19<03:43,  3.34s/it]"
     ]
    },
    {
     "name": "stdout",
     "output_type": "stream",
     "text": [
      "2023-04-04 11:19:42 8m50s \u001b[1mINFO    \u001b[0m \u001b[36mart.attacks.evasion.projected_gradient_descent.projected_gradient_descent\u001b[0m:\u001b[36mgenerate\u001b[0m:\u001b[36m199\u001b[0m Creating adversarial samples.\n",
      "2023-04-04 11:19:45 8m53s \u001b[1mINFO    \u001b[0m \u001b[36mart.attacks.evasion.projected_gradient_descent.projected_gradient_descent_pytorch\u001b[0m:\u001b[36mgenerate\u001b[0m:\u001b[36m237\u001b[0m Success rate of attack: 73.44%\n"
     ]
    },
    {
     "name": "stderr",
     "output_type": "stream",
     "text": [
      "Evaluation:  58%|█████▊    | 91/157 [05:22<03:41,  3.36s/it]"
     ]
    },
    {
     "name": "stdout",
     "output_type": "stream",
     "text": [
      "2023-04-04 11:19:45 8m53s \u001b[1mINFO    \u001b[0m \u001b[36mart.attacks.evasion.projected_gradient_descent.projected_gradient_descent\u001b[0m:\u001b[36mgenerate\u001b[0m:\u001b[36m199\u001b[0m Creating adversarial samples.\n",
      "2023-04-04 11:19:49 8m57s \u001b[1mINFO    \u001b[0m \u001b[36mart.attacks.evasion.projected_gradient_descent.projected_gradient_descent_pytorch\u001b[0m:\u001b[36mgenerate\u001b[0m:\u001b[36m237\u001b[0m Success rate of attack: 73.44%\n"
     ]
    },
    {
     "name": "stderr",
     "output_type": "stream",
     "text": [
      "Evaluation:  59%|█████▊    | 92/157 [05:26<03:42,  3.42s/it]"
     ]
    },
    {
     "name": "stdout",
     "output_type": "stream",
     "text": [
      "2023-04-04 11:19:49 8m57s \u001b[1mINFO    \u001b[0m \u001b[36mart.attacks.evasion.projected_gradient_descent.projected_gradient_descent\u001b[0m:\u001b[36mgenerate\u001b[0m:\u001b[36m199\u001b[0m Creating adversarial samples.\n",
      "2023-04-04 11:19:52  9m \u001b[1mINFO    \u001b[0m \u001b[36mart.attacks.evasion.projected_gradient_descent.projected_gradient_descent_pytorch\u001b[0m:\u001b[36mgenerate\u001b[0m:\u001b[36m237\u001b[0m Success rate of attack: 81.25%\n"
     ]
    },
    {
     "name": "stderr",
     "output_type": "stream",
     "text": [
      "Evaluation:  59%|█████▉    | 93/157 [05:29<03:39,  3.43s/it]"
     ]
    },
    {
     "name": "stdout",
     "output_type": "stream",
     "text": [
      "2023-04-04 11:19:52  9m \u001b[1mINFO    \u001b[0m \u001b[36mart.attacks.evasion.projected_gradient_descent.projected_gradient_descent\u001b[0m:\u001b[36mgenerate\u001b[0m:\u001b[36m199\u001b[0m Creating adversarial samples.\n",
      "2023-04-04 11:19:56 9m3s \u001b[1mINFO    \u001b[0m \u001b[36mart.attacks.evasion.projected_gradient_descent.projected_gradient_descent_pytorch\u001b[0m:\u001b[36mgenerate\u001b[0m:\u001b[36m237\u001b[0m Success rate of attack: 70.31%\n"
     ]
    },
    {
     "name": "stderr",
     "output_type": "stream",
     "text": [
      "Evaluation:  60%|█████▉    | 94/157 [05:33<03:33,  3.38s/it]"
     ]
    },
    {
     "name": "stdout",
     "output_type": "stream",
     "text": [
      "2023-04-04 11:19:56 9m3s \u001b[1mINFO    \u001b[0m \u001b[36mart.attacks.evasion.projected_gradient_descent.projected_gradient_descent\u001b[0m:\u001b[36mgenerate\u001b[0m:\u001b[36m199\u001b[0m Creating adversarial samples.\n",
      "2023-04-04 11:19:59 9m7s \u001b[1mINFO    \u001b[0m \u001b[36mart.attacks.evasion.projected_gradient_descent.projected_gradient_descent_pytorch\u001b[0m:\u001b[36mgenerate\u001b[0m:\u001b[36m237\u001b[0m Success rate of attack: 75.00%\n"
     ]
    },
    {
     "name": "stderr",
     "output_type": "stream",
     "text": [
      "Evaluation:  61%|██████    | 95/157 [05:36<03:33,  3.44s/it]"
     ]
    },
    {
     "name": "stdout",
     "output_type": "stream",
     "text": [
      "2023-04-04 11:19:59 9m7s \u001b[1mINFO    \u001b[0m \u001b[36mart.attacks.evasion.projected_gradient_descent.projected_gradient_descent\u001b[0m:\u001b[36mgenerate\u001b[0m:\u001b[36m199\u001b[0m Creating adversarial samples.\n",
      "2023-04-04 11:20:03 9m11s \u001b[1mINFO    \u001b[0m \u001b[36mart.attacks.evasion.projected_gradient_descent.projected_gradient_descent_pytorch\u001b[0m:\u001b[36mgenerate\u001b[0m:\u001b[36m237\u001b[0m Success rate of attack: 71.88%\n"
     ]
    },
    {
     "name": "stderr",
     "output_type": "stream",
     "text": [
      "Evaluation:  61%|██████    | 96/157 [05:40<03:39,  3.60s/it]"
     ]
    },
    {
     "name": "stdout",
     "output_type": "stream",
     "text": [
      "2023-04-04 11:20:03 9m11s \u001b[1mINFO    \u001b[0m \u001b[36mart.attacks.evasion.projected_gradient_descent.projected_gradient_descent\u001b[0m:\u001b[36mgenerate\u001b[0m:\u001b[36m199\u001b[0m Creating adversarial samples.\n",
      "2023-04-04 11:20:07 9m15s \u001b[1mINFO    \u001b[0m \u001b[36mart.attacks.evasion.projected_gradient_descent.projected_gradient_descent_pytorch\u001b[0m:\u001b[36mgenerate\u001b[0m:\u001b[36m237\u001b[0m Success rate of attack: 64.06%\n"
     ]
    },
    {
     "name": "stderr",
     "output_type": "stream",
     "text": [
      "Evaluation:  62%|██████▏   | 97/157 [05:44<03:38,  3.65s/it]"
     ]
    },
    {
     "name": "stdout",
     "output_type": "stream",
     "text": [
      "2023-04-04 11:20:07 9m15s \u001b[1mINFO    \u001b[0m \u001b[36mart.attacks.evasion.projected_gradient_descent.projected_gradient_descent\u001b[0m:\u001b[36mgenerate\u001b[0m:\u001b[36m199\u001b[0m Creating adversarial samples.\n",
      "2023-04-04 11:20:11 9m19s \u001b[1mINFO    \u001b[0m \u001b[36mart.attacks.evasion.projected_gradient_descent.projected_gradient_descent_pytorch\u001b[0m:\u001b[36mgenerate\u001b[0m:\u001b[36m237\u001b[0m Success rate of attack: 67.19%\n"
     ]
    },
    {
     "name": "stderr",
     "output_type": "stream",
     "text": [
      "Evaluation:  62%|██████▏   | 98/157 [05:48<03:43,  3.78s/it]"
     ]
    },
    {
     "name": "stdout",
     "output_type": "stream",
     "text": [
      "2023-04-04 11:20:11 9m19s \u001b[1mINFO    \u001b[0m \u001b[36mart.attacks.evasion.projected_gradient_descent.projected_gradient_descent\u001b[0m:\u001b[36mgenerate\u001b[0m:\u001b[36m199\u001b[0m Creating adversarial samples.\n",
      "2023-04-04 11:20:15 9m22s \u001b[1mINFO    \u001b[0m \u001b[36mart.attacks.evasion.projected_gradient_descent.projected_gradient_descent_pytorch\u001b[0m:\u001b[36mgenerate\u001b[0m:\u001b[36m237\u001b[0m Success rate of attack: 75.00%\n"
     ]
    },
    {
     "name": "stderr",
     "output_type": "stream",
     "text": [
      "Evaluation:  63%|██████▎   | 99/157 [05:52<03:35,  3.72s/it]"
     ]
    },
    {
     "name": "stdout",
     "output_type": "stream",
     "text": [
      "2023-04-04 11:20:15 9m22s \u001b[1mINFO    \u001b[0m \u001b[36mart.attacks.evasion.projected_gradient_descent.projected_gradient_descent\u001b[0m:\u001b[36mgenerate\u001b[0m:\u001b[36m199\u001b[0m Creating adversarial samples.\n",
      "2023-04-04 11:20:18 9m26s \u001b[1mINFO    \u001b[0m \u001b[36mart.attacks.evasion.projected_gradient_descent.projected_gradient_descent_pytorch\u001b[0m:\u001b[36mgenerate\u001b[0m:\u001b[36m237\u001b[0m Success rate of attack: 78.12%\n"
     ]
    },
    {
     "name": "stderr",
     "output_type": "stream",
     "text": [
      "Evaluation:  64%|██████▎   | 100/157 [05:55<03:28,  3.67s/it]"
     ]
    },
    {
     "name": "stdout",
     "output_type": "stream",
     "text": [
      "2023-04-04 11:20:18 9m26s \u001b[1mINFO    \u001b[0m \u001b[36mart.attacks.evasion.projected_gradient_descent.projected_gradient_descent\u001b[0m:\u001b[36mgenerate\u001b[0m:\u001b[36m199\u001b[0m Creating adversarial samples.\n",
      "2023-04-04 11:20:22 9m30s \u001b[1mINFO    \u001b[0m \u001b[36mart.attacks.evasion.projected_gradient_descent.projected_gradient_descent_pytorch\u001b[0m:\u001b[36mgenerate\u001b[0m:\u001b[36m237\u001b[0m Success rate of attack: 62.50%\n"
     ]
    },
    {
     "name": "stderr",
     "output_type": "stream",
     "text": [
      "Evaluation:  64%|██████▍   | 101/157 [05:59<03:23,  3.63s/it]"
     ]
    },
    {
     "name": "stdout",
     "output_type": "stream",
     "text": [
      "2023-04-04 11:20:22 9m30s \u001b[1mINFO    \u001b[0m \u001b[36mart.attacks.evasion.projected_gradient_descent.projected_gradient_descent\u001b[0m:\u001b[36mgenerate\u001b[0m:\u001b[36m199\u001b[0m Creating adversarial samples.\n",
      "2023-04-04 11:20:25 9m33s \u001b[1mINFO    \u001b[0m \u001b[36mart.attacks.evasion.projected_gradient_descent.projected_gradient_descent_pytorch\u001b[0m:\u001b[36mgenerate\u001b[0m:\u001b[36m237\u001b[0m Success rate of attack: 81.25%\n"
     ]
    },
    {
     "name": "stderr",
     "output_type": "stream",
     "text": [
      "Evaluation:  65%|██████▍   | 102/157 [06:02<03:14,  3.53s/it]"
     ]
    },
    {
     "name": "stdout",
     "output_type": "stream",
     "text": [
      "2023-04-04 11:20:25 9m33s \u001b[1mINFO    \u001b[0m \u001b[36mart.attacks.evasion.projected_gradient_descent.projected_gradient_descent\u001b[0m:\u001b[36mgenerate\u001b[0m:\u001b[36m199\u001b[0m Creating adversarial samples.\n",
      "2023-04-04 11:20:28 9m36s \u001b[1mINFO    \u001b[0m \u001b[36mart.attacks.evasion.projected_gradient_descent.projected_gradient_descent_pytorch\u001b[0m:\u001b[36mgenerate\u001b[0m:\u001b[36m237\u001b[0m Success rate of attack: 76.56%\n"
     ]
    },
    {
     "name": "stderr",
     "output_type": "stream",
     "text": [
      "Evaluation:  66%|██████▌   | 103/157 [06:05<03:04,  3.41s/it]"
     ]
    },
    {
     "name": "stdout",
     "output_type": "stream",
     "text": [
      "2023-04-04 11:20:28 9m36s \u001b[1mINFO    \u001b[0m \u001b[36mart.attacks.evasion.projected_gradient_descent.projected_gradient_descent\u001b[0m:\u001b[36mgenerate\u001b[0m:\u001b[36m199\u001b[0m Creating adversarial samples.\n",
      "2023-04-04 11:20:31 9m39s \u001b[1mINFO    \u001b[0m \u001b[36mart.attacks.evasion.projected_gradient_descent.projected_gradient_descent_pytorch\u001b[0m:\u001b[36mgenerate\u001b[0m:\u001b[36m237\u001b[0m Success rate of attack: 68.75%\n"
     ]
    },
    {
     "name": "stderr",
     "output_type": "stream",
     "text": [
      "Evaluation:  66%|██████▌   | 104/157 [06:08<02:57,  3.36s/it]"
     ]
    },
    {
     "name": "stdout",
     "output_type": "stream",
     "text": [
      "2023-04-04 11:20:31 9m39s \u001b[1mINFO    \u001b[0m \u001b[36mart.attacks.evasion.projected_gradient_descent.projected_gradient_descent\u001b[0m:\u001b[36mgenerate\u001b[0m:\u001b[36m199\u001b[0m Creating adversarial samples.\n",
      "2023-04-04 11:20:35 9m42s \u001b[1mINFO    \u001b[0m \u001b[36mart.attacks.evasion.projected_gradient_descent.projected_gradient_descent_pytorch\u001b[0m:\u001b[36mgenerate\u001b[0m:\u001b[36m237\u001b[0m Success rate of attack: 70.31%\n"
     ]
    },
    {
     "name": "stderr",
     "output_type": "stream",
     "text": [
      "Evaluation:  67%|██████▋   | 105/157 [06:12<02:52,  3.31s/it]"
     ]
    },
    {
     "name": "stdout",
     "output_type": "stream",
     "text": [
      "2023-04-04 11:20:35 9m42s \u001b[1mINFO    \u001b[0m \u001b[36mart.attacks.evasion.projected_gradient_descent.projected_gradient_descent\u001b[0m:\u001b[36mgenerate\u001b[0m:\u001b[36m199\u001b[0m Creating adversarial samples.\n",
      "2023-04-04 11:20:38 9m46s \u001b[1mINFO    \u001b[0m \u001b[36mart.attacks.evasion.projected_gradient_descent.projected_gradient_descent_pytorch\u001b[0m:\u001b[36mgenerate\u001b[0m:\u001b[36m237\u001b[0m Success rate of attack: 67.19%\n"
     ]
    },
    {
     "name": "stderr",
     "output_type": "stream",
     "text": [
      "Evaluation:  68%|██████▊   | 106/157 [06:15<02:46,  3.27s/it]"
     ]
    },
    {
     "name": "stdout",
     "output_type": "stream",
     "text": [
      "2023-04-04 11:20:38 9m46s \u001b[1mINFO    \u001b[0m \u001b[36mart.attacks.evasion.projected_gradient_descent.projected_gradient_descent\u001b[0m:\u001b[36mgenerate\u001b[0m:\u001b[36m199\u001b[0m Creating adversarial samples.\n",
      "2023-04-04 11:20:41 9m49s \u001b[1mINFO    \u001b[0m \u001b[36mart.attacks.evasion.projected_gradient_descent.projected_gradient_descent_pytorch\u001b[0m:\u001b[36mgenerate\u001b[0m:\u001b[36m237\u001b[0m Success rate of attack: 70.31%\n"
     ]
    },
    {
     "name": "stderr",
     "output_type": "stream",
     "text": [
      "Evaluation:  68%|██████▊   | 107/157 [06:18<02:41,  3.23s/it]"
     ]
    },
    {
     "name": "stdout",
     "output_type": "stream",
     "text": [
      "2023-04-04 11:20:41 9m49s \u001b[1mINFO    \u001b[0m \u001b[36mart.attacks.evasion.projected_gradient_descent.projected_gradient_descent\u001b[0m:\u001b[36mgenerate\u001b[0m:\u001b[36m199\u001b[0m Creating adversarial samples.\n",
      "2023-04-04 11:20:44 9m52s \u001b[1mINFO    \u001b[0m \u001b[36mart.attacks.evasion.projected_gradient_descent.projected_gradient_descent_pytorch\u001b[0m:\u001b[36mgenerate\u001b[0m:\u001b[36m237\u001b[0m Success rate of attack: 75.00%\n"
     ]
    },
    {
     "name": "stderr",
     "output_type": "stream",
     "text": [
      "Evaluation:  69%|██████▉   | 108/157 [06:21<02:38,  3.24s/it]"
     ]
    },
    {
     "name": "stdout",
     "output_type": "stream",
     "text": [
      "2023-04-04 11:20:44 9m52s \u001b[1mINFO    \u001b[0m \u001b[36mart.attacks.evasion.projected_gradient_descent.projected_gradient_descent\u001b[0m:\u001b[36mgenerate\u001b[0m:\u001b[36m199\u001b[0m Creating adversarial samples.\n",
      "2023-04-04 11:20:47 9m55s \u001b[1mINFO    \u001b[0m \u001b[36mart.attacks.evasion.projected_gradient_descent.projected_gradient_descent_pytorch\u001b[0m:\u001b[36mgenerate\u001b[0m:\u001b[36m237\u001b[0m Success rate of attack: 59.38%\n"
     ]
    },
    {
     "name": "stderr",
     "output_type": "stream",
     "text": [
      "Evaluation:  69%|██████▉   | 109/157 [06:24<02:35,  3.23s/it]"
     ]
    },
    {
     "name": "stdout",
     "output_type": "stream",
     "text": [
      "2023-04-04 11:20:47 9m55s \u001b[1mINFO    \u001b[0m \u001b[36mart.attacks.evasion.projected_gradient_descent.projected_gradient_descent\u001b[0m:\u001b[36mgenerate\u001b[0m:\u001b[36m199\u001b[0m Creating adversarial samples.\n",
      "2023-04-04 11:20:50 9m58s \u001b[1mINFO    \u001b[0m \u001b[36mart.attacks.evasion.projected_gradient_descent.projected_gradient_descent_pytorch\u001b[0m:\u001b[36mgenerate\u001b[0m:\u001b[36m237\u001b[0m Success rate of attack: 62.50%\n"
     ]
    },
    {
     "name": "stderr",
     "output_type": "stream",
     "text": [
      "Evaluation:  70%|███████   | 110/157 [06:28<02:29,  3.19s/it]"
     ]
    },
    {
     "name": "stdout",
     "output_type": "stream",
     "text": [
      "2023-04-04 11:20:50 9m58s \u001b[1mINFO    \u001b[0m \u001b[36mart.attacks.evasion.projected_gradient_descent.projected_gradient_descent\u001b[0m:\u001b[36mgenerate\u001b[0m:\u001b[36m199\u001b[0m Creating adversarial samples.\n",
      "2023-04-04 11:20:54 10m2s \u001b[1mINFO    \u001b[0m \u001b[36mart.attacks.evasion.projected_gradient_descent.projected_gradient_descent_pytorch\u001b[0m:\u001b[36mgenerate\u001b[0m:\u001b[36m237\u001b[0m Success rate of attack: 75.00%\n"
     ]
    },
    {
     "name": "stderr",
     "output_type": "stream",
     "text": [
      "Evaluation:  71%|███████   | 111/157 [06:31<02:27,  3.21s/it]"
     ]
    },
    {
     "name": "stdout",
     "output_type": "stream",
     "text": [
      "2023-04-04 11:20:54 10m2s \u001b[1mINFO    \u001b[0m \u001b[36mart.attacks.evasion.projected_gradient_descent.projected_gradient_descent\u001b[0m:\u001b[36mgenerate\u001b[0m:\u001b[36m199\u001b[0m Creating adversarial samples.\n",
      "2023-04-04 11:20:57 10m5s \u001b[1mINFO    \u001b[0m \u001b[36mart.attacks.evasion.projected_gradient_descent.projected_gradient_descent_pytorch\u001b[0m:\u001b[36mgenerate\u001b[0m:\u001b[36m237\u001b[0m Success rate of attack: 67.19%\n"
     ]
    },
    {
     "name": "stderr",
     "output_type": "stream",
     "text": [
      "Evaluation:  71%|███████▏  | 112/157 [06:34<02:26,  3.26s/it]"
     ]
    },
    {
     "name": "stdout",
     "output_type": "stream",
     "text": [
      "2023-04-04 11:20:57 10m5s \u001b[1mINFO    \u001b[0m \u001b[36mart.attacks.evasion.projected_gradient_descent.projected_gradient_descent\u001b[0m:\u001b[36mgenerate\u001b[0m:\u001b[36m199\u001b[0m Creating adversarial samples.\n",
      "2023-04-04 11:21:01 10m9s \u001b[1mINFO    \u001b[0m \u001b[36mart.attacks.evasion.projected_gradient_descent.projected_gradient_descent_pytorch\u001b[0m:\u001b[36mgenerate\u001b[0m:\u001b[36m237\u001b[0m Success rate of attack: 59.38%\n"
     ]
    },
    {
     "name": "stderr",
     "output_type": "stream",
     "text": [
      "Evaluation:  72%|███████▏  | 113/157 [06:38<02:35,  3.53s/it]"
     ]
    },
    {
     "name": "stdout",
     "output_type": "stream",
     "text": [
      "2023-04-04 11:21:01 10m9s \u001b[1mINFO    \u001b[0m \u001b[36mart.attacks.evasion.projected_gradient_descent.projected_gradient_descent\u001b[0m:\u001b[36mgenerate\u001b[0m:\u001b[36m199\u001b[0m Creating adversarial samples.\n",
      "2023-04-04 11:21:05 10m13s \u001b[1mINFO    \u001b[0m \u001b[36mart.attacks.evasion.projected_gradient_descent.projected_gradient_descent_pytorch\u001b[0m:\u001b[36mgenerate\u001b[0m:\u001b[36m237\u001b[0m Success rate of attack: 70.31%\n"
     ]
    },
    {
     "name": "stderr",
     "output_type": "stream",
     "text": [
      "Evaluation:  73%|███████▎  | 114/157 [06:43<02:40,  3.74s/it]"
     ]
    },
    {
     "name": "stdout",
     "output_type": "stream",
     "text": [
      "2023-04-04 11:21:05 10m13s \u001b[1mINFO    \u001b[0m \u001b[36mart.attacks.evasion.projected_gradient_descent.projected_gradient_descent\u001b[0m:\u001b[36mgenerate\u001b[0m:\u001b[36m199\u001b[0m Creating adversarial samples.\n",
      "2023-04-04 11:21:10 10m18s \u001b[1mINFO    \u001b[0m \u001b[36mart.attacks.evasion.projected_gradient_descent.projected_gradient_descent_pytorch\u001b[0m:\u001b[36mgenerate\u001b[0m:\u001b[36m237\u001b[0m Success rate of attack: 70.31%\n"
     ]
    },
    {
     "name": "stderr",
     "output_type": "stream",
     "text": [
      "Evaluation:  73%|███████▎  | 115/157 [06:47<02:43,  3.90s/it]"
     ]
    },
    {
     "name": "stdout",
     "output_type": "stream",
     "text": [
      "2023-04-04 11:21:10 10m18s \u001b[1mINFO    \u001b[0m \u001b[36mart.attacks.evasion.projected_gradient_descent.projected_gradient_descent\u001b[0m:\u001b[36mgenerate\u001b[0m:\u001b[36m199\u001b[0m Creating adversarial samples.\n",
      "2023-04-04 11:21:13 10m21s \u001b[1mINFO    \u001b[0m \u001b[36mart.attacks.evasion.projected_gradient_descent.projected_gradient_descent_pytorch\u001b[0m:\u001b[36mgenerate\u001b[0m:\u001b[36m237\u001b[0m Success rate of attack: 76.56%\n"
     ]
    },
    {
     "name": "stderr",
     "output_type": "stream",
     "text": [
      "Evaluation:  74%|███████▍  | 116/157 [06:51<02:37,  3.84s/it]"
     ]
    },
    {
     "name": "stdout",
     "output_type": "stream",
     "text": [
      "2023-04-04 11:21:13 10m21s \u001b[1mINFO    \u001b[0m \u001b[36mart.attacks.evasion.projected_gradient_descent.projected_gradient_descent\u001b[0m:\u001b[36mgenerate\u001b[0m:\u001b[36m199\u001b[0m Creating adversarial samples.\n",
      "2023-04-04 11:21:17 10m25s \u001b[1mINFO    \u001b[0m \u001b[36mart.attacks.evasion.projected_gradient_descent.projected_gradient_descent_pytorch\u001b[0m:\u001b[36mgenerate\u001b[0m:\u001b[36m237\u001b[0m Success rate of attack: 73.44%\n"
     ]
    },
    {
     "name": "stderr",
     "output_type": "stream",
     "text": [
      "Evaluation:  75%|███████▍  | 117/157 [06:54<02:29,  3.75s/it]"
     ]
    },
    {
     "name": "stdout",
     "output_type": "stream",
     "text": [
      "2023-04-04 11:21:17 10m25s \u001b[1mINFO    \u001b[0m \u001b[36mart.attacks.evasion.projected_gradient_descent.projected_gradient_descent\u001b[0m:\u001b[36mgenerate\u001b[0m:\u001b[36m199\u001b[0m Creating adversarial samples.\n",
      "2023-04-04 11:21:20 10m28s \u001b[1mINFO    \u001b[0m \u001b[36mart.attacks.evasion.projected_gradient_descent.projected_gradient_descent_pytorch\u001b[0m:\u001b[36mgenerate\u001b[0m:\u001b[36m237\u001b[0m Success rate of attack: 62.50%\n"
     ]
    },
    {
     "name": "stderr",
     "output_type": "stream",
     "text": [
      "Evaluation:  75%|███████▌  | 118/157 [06:58<02:23,  3.68s/it]"
     ]
    },
    {
     "name": "stdout",
     "output_type": "stream",
     "text": [
      "2023-04-04 11:21:20 10m28s \u001b[1mINFO    \u001b[0m \u001b[36mart.attacks.evasion.projected_gradient_descent.projected_gradient_descent\u001b[0m:\u001b[36mgenerate\u001b[0m:\u001b[36m199\u001b[0m Creating adversarial samples.\n",
      "2023-04-04 11:21:24 10m32s \u001b[1mINFO    \u001b[0m \u001b[36mart.attacks.evasion.projected_gradient_descent.projected_gradient_descent_pytorch\u001b[0m:\u001b[36mgenerate\u001b[0m:\u001b[36m237\u001b[0m Success rate of attack: 71.88%\n"
     ]
    },
    {
     "name": "stderr",
     "output_type": "stream",
     "text": [
      "Evaluation:  76%|███████▌  | 119/157 [07:01<02:18,  3.64s/it]"
     ]
    },
    {
     "name": "stdout",
     "output_type": "stream",
     "text": [
      "2023-04-04 11:21:24 10m32s \u001b[1mINFO    \u001b[0m \u001b[36mart.attacks.evasion.projected_gradient_descent.projected_gradient_descent\u001b[0m:\u001b[36mgenerate\u001b[0m:\u001b[36m199\u001b[0m Creating adversarial samples.\n",
      "2023-04-04 11:21:28 10m35s \u001b[1mINFO    \u001b[0m \u001b[36mart.attacks.evasion.projected_gradient_descent.projected_gradient_descent_pytorch\u001b[0m:\u001b[36mgenerate\u001b[0m:\u001b[36m237\u001b[0m Success rate of attack: 71.88%\n"
     ]
    },
    {
     "name": "stderr",
     "output_type": "stream",
     "text": [
      "Evaluation:  76%|███████▋  | 120/157 [07:05<02:14,  3.64s/it]"
     ]
    },
    {
     "name": "stdout",
     "output_type": "stream",
     "text": [
      "2023-04-04 11:21:28 10m35s \u001b[1mINFO    \u001b[0m \u001b[36mart.attacks.evasion.projected_gradient_descent.projected_gradient_descent\u001b[0m:\u001b[36mgenerate\u001b[0m:\u001b[36m199\u001b[0m Creating adversarial samples.\n",
      "2023-04-04 11:21:31 10m39s \u001b[1mINFO    \u001b[0m \u001b[36mart.attacks.evasion.projected_gradient_descent.projected_gradient_descent_pytorch\u001b[0m:\u001b[36mgenerate\u001b[0m:\u001b[36m237\u001b[0m Success rate of attack: 65.62%\n"
     ]
    },
    {
     "name": "stderr",
     "output_type": "stream",
     "text": [
      "Evaluation:  77%|███████▋  | 121/157 [07:08<02:09,  3.59s/it]"
     ]
    },
    {
     "name": "stdout",
     "output_type": "stream",
     "text": [
      "2023-04-04 11:21:31 10m39s \u001b[1mINFO    \u001b[0m \u001b[36mart.attacks.evasion.projected_gradient_descent.projected_gradient_descent\u001b[0m:\u001b[36mgenerate\u001b[0m:\u001b[36m199\u001b[0m Creating adversarial samples.\n",
      "2023-04-04 11:21:35 10m42s \u001b[1mINFO    \u001b[0m \u001b[36mart.attacks.evasion.projected_gradient_descent.projected_gradient_descent_pytorch\u001b[0m:\u001b[36mgenerate\u001b[0m:\u001b[36m237\u001b[0m Success rate of attack: 78.12%\n"
     ]
    },
    {
     "name": "stderr",
     "output_type": "stream",
     "text": [
      "Evaluation:  78%|███████▊  | 122/157 [07:12<02:03,  3.54s/it]"
     ]
    },
    {
     "name": "stdout",
     "output_type": "stream",
     "text": [
      "2023-04-04 11:21:35 10m42s \u001b[1mINFO    \u001b[0m \u001b[36mart.attacks.evasion.projected_gradient_descent.projected_gradient_descent\u001b[0m:\u001b[36mgenerate\u001b[0m:\u001b[36m199\u001b[0m Creating adversarial samples.\n",
      "2023-04-04 11:21:38 10m46s \u001b[1mINFO    \u001b[0m \u001b[36mart.attacks.evasion.projected_gradient_descent.projected_gradient_descent_pytorch\u001b[0m:\u001b[36mgenerate\u001b[0m:\u001b[36m237\u001b[0m Success rate of attack: 68.75%\n"
     ]
    },
    {
     "name": "stderr",
     "output_type": "stream",
     "text": [
      "Evaluation:  78%|███████▊  | 123/157 [07:15<02:00,  3.55s/it]"
     ]
    },
    {
     "name": "stdout",
     "output_type": "stream",
     "text": [
      "2023-04-04 11:21:38 10m46s \u001b[1mINFO    \u001b[0m \u001b[36mart.attacks.evasion.projected_gradient_descent.projected_gradient_descent\u001b[0m:\u001b[36mgenerate\u001b[0m:\u001b[36m199\u001b[0m Creating adversarial samples.\n",
      "2023-04-04 11:21:42 10m50s \u001b[1mINFO    \u001b[0m \u001b[36mart.attacks.evasion.projected_gradient_descent.projected_gradient_descent_pytorch\u001b[0m:\u001b[36mgenerate\u001b[0m:\u001b[36m237\u001b[0m Success rate of attack: 68.75%\n"
     ]
    },
    {
     "name": "stderr",
     "output_type": "stream",
     "text": [
      "Evaluation:  79%|███████▉  | 124/157 [07:19<01:58,  3.60s/it]"
     ]
    },
    {
     "name": "stdout",
     "output_type": "stream",
     "text": [
      "2023-04-04 11:21:42 10m50s \u001b[1mINFO    \u001b[0m \u001b[36mart.attacks.evasion.projected_gradient_descent.projected_gradient_descent\u001b[0m:\u001b[36mgenerate\u001b[0m:\u001b[36m199\u001b[0m Creating adversarial samples.\n",
      "2023-04-04 11:21:45 10m53s \u001b[1mINFO    \u001b[0m \u001b[36mart.attacks.evasion.projected_gradient_descent.projected_gradient_descent_pytorch\u001b[0m:\u001b[36mgenerate\u001b[0m:\u001b[36m237\u001b[0m Success rate of attack: 79.69%\n"
     ]
    },
    {
     "name": "stderr",
     "output_type": "stream",
     "text": [
      "Evaluation:  80%|███████▉  | 125/157 [07:22<01:52,  3.52s/it]"
     ]
    },
    {
     "name": "stdout",
     "output_type": "stream",
     "text": [
      "2023-04-04 11:21:45 10m53s \u001b[1mINFO    \u001b[0m \u001b[36mart.attacks.evasion.projected_gradient_descent.projected_gradient_descent\u001b[0m:\u001b[36mgenerate\u001b[0m:\u001b[36m199\u001b[0m Creating adversarial samples.\n",
      "2023-04-04 11:21:48 10m56s \u001b[1mINFO    \u001b[0m \u001b[36mart.attacks.evasion.projected_gradient_descent.projected_gradient_descent_pytorch\u001b[0m:\u001b[36mgenerate\u001b[0m:\u001b[36m237\u001b[0m Success rate of attack: 70.31%\n"
     ]
    },
    {
     "name": "stderr",
     "output_type": "stream",
     "text": [
      "Evaluation:  80%|████████  | 126/157 [07:25<01:45,  3.40s/it]"
     ]
    },
    {
     "name": "stdout",
     "output_type": "stream",
     "text": [
      "2023-04-04 11:21:48 10m56s \u001b[1mINFO    \u001b[0m \u001b[36mart.attacks.evasion.projected_gradient_descent.projected_gradient_descent\u001b[0m:\u001b[36mgenerate\u001b[0m:\u001b[36m199\u001b[0m Creating adversarial samples.\n",
      "2023-04-04 11:21:52 10m59s \u001b[1mINFO    \u001b[0m \u001b[36mart.attacks.evasion.projected_gradient_descent.projected_gradient_descent_pytorch\u001b[0m:\u001b[36mgenerate\u001b[0m:\u001b[36m237\u001b[0m Success rate of attack: 76.56%\n"
     ]
    },
    {
     "name": "stderr",
     "output_type": "stream",
     "text": [
      "Evaluation:  81%|████████  | 127/157 [07:29<01:40,  3.36s/it]"
     ]
    },
    {
     "name": "stdout",
     "output_type": "stream",
     "text": [
      "2023-04-04 11:21:52 10m59s \u001b[1mINFO    \u001b[0m \u001b[36mart.attacks.evasion.projected_gradient_descent.projected_gradient_descent\u001b[0m:\u001b[36mgenerate\u001b[0m:\u001b[36m199\u001b[0m Creating adversarial samples.\n",
      "2023-04-04 11:21:55 11m3s \u001b[1mINFO    \u001b[0m \u001b[36mart.attacks.evasion.projected_gradient_descent.projected_gradient_descent_pytorch\u001b[0m:\u001b[36mgenerate\u001b[0m:\u001b[36m237\u001b[0m Success rate of attack: 81.25%\n"
     ]
    },
    {
     "name": "stderr",
     "output_type": "stream",
     "text": [
      "Evaluation:  82%|████████▏ | 128/157 [07:32<01:37,  3.35s/it]"
     ]
    },
    {
     "name": "stdout",
     "output_type": "stream",
     "text": [
      "2023-04-04 11:21:55 11m3s \u001b[1mINFO    \u001b[0m \u001b[36mart.attacks.evasion.projected_gradient_descent.projected_gradient_descent\u001b[0m:\u001b[36mgenerate\u001b[0m:\u001b[36m199\u001b[0m Creating adversarial samples.\n",
      "2023-04-04 11:21:59 11m7s \u001b[1mINFO    \u001b[0m \u001b[36mart.attacks.evasion.projected_gradient_descent.projected_gradient_descent_pytorch\u001b[0m:\u001b[36mgenerate\u001b[0m:\u001b[36m237\u001b[0m Success rate of attack: 81.25%\n"
     ]
    },
    {
     "name": "stderr",
     "output_type": "stream",
     "text": [
      "Evaluation:  82%|████████▏ | 129/157 [07:36<01:39,  3.54s/it]"
     ]
    },
    {
     "name": "stdout",
     "output_type": "stream",
     "text": [
      "2023-04-04 11:21:59 11m7s \u001b[1mINFO    \u001b[0m \u001b[36mart.attacks.evasion.projected_gradient_descent.projected_gradient_descent\u001b[0m:\u001b[36mgenerate\u001b[0m:\u001b[36m199\u001b[0m Creating adversarial samples.\n",
      "2023-04-04 11:22:03 11m11s \u001b[1mINFO    \u001b[0m \u001b[36mart.attacks.evasion.projected_gradient_descent.projected_gradient_descent_pytorch\u001b[0m:\u001b[36mgenerate\u001b[0m:\u001b[36m237\u001b[0m Success rate of attack: 70.31%\n"
     ]
    },
    {
     "name": "stderr",
     "output_type": "stream",
     "text": [
      "Evaluation:  83%|████████▎ | 130/157 [07:40<01:40,  3.72s/it]"
     ]
    },
    {
     "name": "stdout",
     "output_type": "stream",
     "text": [
      "2023-04-04 11:22:03 11m11s \u001b[1mINFO    \u001b[0m \u001b[36mart.attacks.evasion.projected_gradient_descent.projected_gradient_descent\u001b[0m:\u001b[36mgenerate\u001b[0m:\u001b[36m199\u001b[0m Creating adversarial samples.\n",
      "2023-04-04 11:22:07 11m15s \u001b[1mINFO    \u001b[0m \u001b[36mart.attacks.evasion.projected_gradient_descent.projected_gradient_descent_pytorch\u001b[0m:\u001b[36mgenerate\u001b[0m:\u001b[36m237\u001b[0m Success rate of attack: 73.44%\n"
     ]
    },
    {
     "name": "stderr",
     "output_type": "stream",
     "text": [
      "Evaluation:  83%|████████▎ | 131/157 [07:44<01:40,  3.88s/it]"
     ]
    },
    {
     "name": "stdout",
     "output_type": "stream",
     "text": [
      "2023-04-04 11:22:07 11m15s \u001b[1mINFO    \u001b[0m \u001b[36mart.attacks.evasion.projected_gradient_descent.projected_gradient_descent\u001b[0m:\u001b[36mgenerate\u001b[0m:\u001b[36m199\u001b[0m Creating adversarial samples.\n",
      "2023-04-04 11:22:11 11m19s \u001b[1mINFO    \u001b[0m \u001b[36mart.attacks.evasion.projected_gradient_descent.projected_gradient_descent_pytorch\u001b[0m:\u001b[36mgenerate\u001b[0m:\u001b[36m237\u001b[0m Success rate of attack: 70.31%\n"
     ]
    },
    {
     "name": "stderr",
     "output_type": "stream",
     "text": [
      "Evaluation:  84%|████████▍ | 132/157 [07:48<01:37,  3.90s/it]"
     ]
    },
    {
     "name": "stdout",
     "output_type": "stream",
     "text": [
      "2023-04-04 11:22:11 11m19s \u001b[1mINFO    \u001b[0m \u001b[36mart.attacks.evasion.projected_gradient_descent.projected_gradient_descent\u001b[0m:\u001b[36mgenerate\u001b[0m:\u001b[36m199\u001b[0m Creating adversarial samples.\n",
      "2023-04-04 11:22:15 11m22s \u001b[1mINFO    \u001b[0m \u001b[36mart.attacks.evasion.projected_gradient_descent.projected_gradient_descent_pytorch\u001b[0m:\u001b[36mgenerate\u001b[0m:\u001b[36m237\u001b[0m Success rate of attack: 76.56%\n"
     ]
    },
    {
     "name": "stderr",
     "output_type": "stream",
     "text": [
      "Evaluation:  85%|████████▍ | 133/157 [07:52<01:30,  3.76s/it]"
     ]
    },
    {
     "name": "stdout",
     "output_type": "stream",
     "text": [
      "2023-04-04 11:22:15 11m23s \u001b[1mINFO    \u001b[0m \u001b[36mart.attacks.evasion.projected_gradient_descent.projected_gradient_descent\u001b[0m:\u001b[36mgenerate\u001b[0m:\u001b[36m199\u001b[0m Creating adversarial samples.\n",
      "2023-04-04 11:22:18 11m26s \u001b[1mINFO    \u001b[0m \u001b[36mart.attacks.evasion.projected_gradient_descent.projected_gradient_descent_pytorch\u001b[0m:\u001b[36mgenerate\u001b[0m:\u001b[36m237\u001b[0m Success rate of attack: 76.56%\n"
     ]
    },
    {
     "name": "stderr",
     "output_type": "stream",
     "text": [
      "Evaluation:  85%|████████▌ | 134/157 [07:55<01:24,  3.65s/it]"
     ]
    },
    {
     "name": "stdout",
     "output_type": "stream",
     "text": [
      "2023-04-04 11:22:18 11m26s \u001b[1mINFO    \u001b[0m \u001b[36mart.attacks.evasion.projected_gradient_descent.projected_gradient_descent\u001b[0m:\u001b[36mgenerate\u001b[0m:\u001b[36m199\u001b[0m Creating adversarial samples.\n",
      "2023-04-04 11:22:21 11m29s \u001b[1mINFO    \u001b[0m \u001b[36mart.attacks.evasion.projected_gradient_descent.projected_gradient_descent_pytorch\u001b[0m:\u001b[36mgenerate\u001b[0m:\u001b[36m237\u001b[0m Success rate of attack: 70.31%\n"
     ]
    },
    {
     "name": "stderr",
     "output_type": "stream",
     "text": [
      "Evaluation:  86%|████████▌ | 135/157 [07:59<01:18,  3.58s/it]"
     ]
    },
    {
     "name": "stdout",
     "output_type": "stream",
     "text": [
      "2023-04-04 11:22:21 11m29s \u001b[1mINFO    \u001b[0m \u001b[36mart.attacks.evasion.projected_gradient_descent.projected_gradient_descent\u001b[0m:\u001b[36mgenerate\u001b[0m:\u001b[36m199\u001b[0m Creating adversarial samples.\n",
      "2023-04-04 11:22:25 11m33s \u001b[1mINFO    \u001b[0m \u001b[36mart.attacks.evasion.projected_gradient_descent.projected_gradient_descent_pytorch\u001b[0m:\u001b[36mgenerate\u001b[0m:\u001b[36m237\u001b[0m Success rate of attack: 67.19%\n"
     ]
    },
    {
     "name": "stderr",
     "output_type": "stream",
     "text": [
      "Evaluation:  87%|████████▋ | 136/157 [08:02<01:13,  3.50s/it]"
     ]
    },
    {
     "name": "stdout",
     "output_type": "stream",
     "text": [
      "2023-04-04 11:22:25 11m33s \u001b[1mINFO    \u001b[0m \u001b[36mart.attacks.evasion.projected_gradient_descent.projected_gradient_descent\u001b[0m:\u001b[36mgenerate\u001b[0m:\u001b[36m199\u001b[0m Creating adversarial samples.\n",
      "2023-04-04 11:22:28 11m36s \u001b[1mINFO    \u001b[0m \u001b[36mart.attacks.evasion.projected_gradient_descent.projected_gradient_descent_pytorch\u001b[0m:\u001b[36mgenerate\u001b[0m:\u001b[36m237\u001b[0m Success rate of attack: 67.19%\n"
     ]
    },
    {
     "name": "stderr",
     "output_type": "stream",
     "text": [
      "Evaluation:  87%|████████▋ | 137/157 [08:05<01:07,  3.39s/it]"
     ]
    },
    {
     "name": "stdout",
     "output_type": "stream",
     "text": [
      "2023-04-04 11:22:28 11m36s \u001b[1mINFO    \u001b[0m \u001b[36mart.attacks.evasion.projected_gradient_descent.projected_gradient_descent\u001b[0m:\u001b[36mgenerate\u001b[0m:\u001b[36m199\u001b[0m Creating adversarial samples.\n",
      "2023-04-04 11:22:31 11m39s \u001b[1mINFO    \u001b[0m \u001b[36mart.attacks.evasion.projected_gradient_descent.projected_gradient_descent_pytorch\u001b[0m:\u001b[36mgenerate\u001b[0m:\u001b[36m237\u001b[0m Success rate of attack: 67.19%\n"
     ]
    },
    {
     "name": "stderr",
     "output_type": "stream",
     "text": [
      "Evaluation:  88%|████████▊ | 138/157 [08:08<01:03,  3.36s/it]"
     ]
    },
    {
     "name": "stdout",
     "output_type": "stream",
     "text": [
      "2023-04-04 11:22:31 11m39s \u001b[1mINFO    \u001b[0m \u001b[36mart.attacks.evasion.projected_gradient_descent.projected_gradient_descent\u001b[0m:\u001b[36mgenerate\u001b[0m:\u001b[36m199\u001b[0m Creating adversarial samples.\n",
      "2023-04-04 11:22:34 11m42s \u001b[1mINFO    \u001b[0m \u001b[36mart.attacks.evasion.projected_gradient_descent.projected_gradient_descent_pytorch\u001b[0m:\u001b[36mgenerate\u001b[0m:\u001b[36m237\u001b[0m Success rate of attack: 78.12%\n"
     ]
    },
    {
     "name": "stderr",
     "output_type": "stream",
     "text": [
      "Evaluation:  89%|████████▊ | 139/157 [08:12<00:59,  3.33s/it]"
     ]
    },
    {
     "name": "stdout",
     "output_type": "stream",
     "text": [
      "2023-04-04 11:22:34 11m42s \u001b[1mINFO    \u001b[0m \u001b[36mart.attacks.evasion.projected_gradient_descent.projected_gradient_descent\u001b[0m:\u001b[36mgenerate\u001b[0m:\u001b[36m199\u001b[0m Creating adversarial samples.\n",
      "2023-04-04 11:22:38 11m46s \u001b[1mINFO    \u001b[0m \u001b[36mart.attacks.evasion.projected_gradient_descent.projected_gradient_descent_pytorch\u001b[0m:\u001b[36mgenerate\u001b[0m:\u001b[36m237\u001b[0m Success rate of attack: 71.88%\n"
     ]
    },
    {
     "name": "stderr",
     "output_type": "stream",
     "text": [
      "Evaluation:  89%|████████▉ | 140/157 [08:15<00:56,  3.31s/it]"
     ]
    },
    {
     "name": "stdout",
     "output_type": "stream",
     "text": [
      "2023-04-04 11:22:38 11m46s \u001b[1mINFO    \u001b[0m \u001b[36mart.attacks.evasion.projected_gradient_descent.projected_gradient_descent\u001b[0m:\u001b[36mgenerate\u001b[0m:\u001b[36m199\u001b[0m Creating adversarial samples.\n",
      "2023-04-04 11:22:41 11m49s \u001b[1mINFO    \u001b[0m \u001b[36mart.attacks.evasion.projected_gradient_descent.projected_gradient_descent_pytorch\u001b[0m:\u001b[36mgenerate\u001b[0m:\u001b[36m237\u001b[0m Success rate of attack: 81.25%\n"
     ]
    },
    {
     "name": "stderr",
     "output_type": "stream",
     "text": [
      "Evaluation:  90%|████████▉ | 141/157 [08:18<00:53,  3.34s/it]"
     ]
    },
    {
     "name": "stdout",
     "output_type": "stream",
     "text": [
      "2023-04-04 11:22:41 11m49s \u001b[1mINFO    \u001b[0m \u001b[36mart.attacks.evasion.projected_gradient_descent.projected_gradient_descent\u001b[0m:\u001b[36mgenerate\u001b[0m:\u001b[36m199\u001b[0m Creating adversarial samples.\n",
      "2023-04-04 11:22:45 11m52s \u001b[1mINFO    \u001b[0m \u001b[36mart.attacks.evasion.projected_gradient_descent.projected_gradient_descent_pytorch\u001b[0m:\u001b[36mgenerate\u001b[0m:\u001b[36m237\u001b[0m Success rate of attack: 65.62%\n"
     ]
    },
    {
     "name": "stderr",
     "output_type": "stream",
     "text": [
      "Evaluation:  90%|█████████ | 142/157 [08:22<00:50,  3.36s/it]"
     ]
    },
    {
     "name": "stdout",
     "output_type": "stream",
     "text": [
      "2023-04-04 11:22:45 11m52s \u001b[1mINFO    \u001b[0m \u001b[36mart.attacks.evasion.projected_gradient_descent.projected_gradient_descent\u001b[0m:\u001b[36mgenerate\u001b[0m:\u001b[36m199\u001b[0m Creating adversarial samples.\n",
      "2023-04-04 11:22:48 11m56s \u001b[1mINFO    \u001b[0m \u001b[36mart.attacks.evasion.projected_gradient_descent.projected_gradient_descent_pytorch\u001b[0m:\u001b[36mgenerate\u001b[0m:\u001b[36m237\u001b[0m Success rate of attack: 78.12%\n"
     ]
    },
    {
     "name": "stderr",
     "output_type": "stream",
     "text": [
      "Evaluation:  91%|█████████ | 143/157 [08:25<00:46,  3.33s/it]"
     ]
    },
    {
     "name": "stdout",
     "output_type": "stream",
     "text": [
      "2023-04-04 11:22:48 11m56s \u001b[1mINFO    \u001b[0m \u001b[36mart.attacks.evasion.projected_gradient_descent.projected_gradient_descent\u001b[0m:\u001b[36mgenerate\u001b[0m:\u001b[36m199\u001b[0m Creating adversarial samples.\n",
      "2023-04-04 11:22:51 11m59s \u001b[1mINFO    \u001b[0m \u001b[36mart.attacks.evasion.projected_gradient_descent.projected_gradient_descent_pytorch\u001b[0m:\u001b[36mgenerate\u001b[0m:\u001b[36m237\u001b[0m Success rate of attack: 62.50%\n"
     ]
    },
    {
     "name": "stderr",
     "output_type": "stream",
     "text": [
      "Evaluation:  92%|█████████▏| 144/157 [08:28<00:43,  3.32s/it]"
     ]
    },
    {
     "name": "stdout",
     "output_type": "stream",
     "text": [
      "2023-04-04 11:22:51 11m59s \u001b[1mINFO    \u001b[0m \u001b[36mart.attacks.evasion.projected_gradient_descent.projected_gradient_descent\u001b[0m:\u001b[36mgenerate\u001b[0m:\u001b[36m199\u001b[0m Creating adversarial samples.\n",
      "2023-04-04 11:22:54 12m2s \u001b[1mINFO    \u001b[0m \u001b[36mart.attacks.evasion.projected_gradient_descent.projected_gradient_descent_pytorch\u001b[0m:\u001b[36mgenerate\u001b[0m:\u001b[36m237\u001b[0m Success rate of attack: 67.19%\n"
     ]
    },
    {
     "name": "stderr",
     "output_type": "stream",
     "text": [
      "Evaluation:  92%|█████████▏| 145/157 [08:32<00:40,  3.35s/it]"
     ]
    },
    {
     "name": "stdout",
     "output_type": "stream",
     "text": [
      "2023-04-04 11:22:54 12m2s \u001b[1mINFO    \u001b[0m \u001b[36mart.attacks.evasion.projected_gradient_descent.projected_gradient_descent\u001b[0m:\u001b[36mgenerate\u001b[0m:\u001b[36m199\u001b[0m Creating adversarial samples.\n",
      "2023-04-04 11:22:58 12m6s \u001b[1mINFO    \u001b[0m \u001b[36mart.attacks.evasion.projected_gradient_descent.projected_gradient_descent_pytorch\u001b[0m:\u001b[36mgenerate\u001b[0m:\u001b[36m237\u001b[0m Success rate of attack: 81.25%\n"
     ]
    },
    {
     "name": "stderr",
     "output_type": "stream",
     "text": [
      "Evaluation:  93%|█████████▎| 146/157 [08:35<00:36,  3.36s/it]"
     ]
    },
    {
     "name": "stdout",
     "output_type": "stream",
     "text": [
      "2023-04-04 11:22:58 12m6s \u001b[1mINFO    \u001b[0m \u001b[36mart.attacks.evasion.projected_gradient_descent.projected_gradient_descent\u001b[0m:\u001b[36mgenerate\u001b[0m:\u001b[36m199\u001b[0m Creating adversarial samples.\n",
      "2023-04-04 11:23:01 12m9s \u001b[1mINFO    \u001b[0m \u001b[36mart.attacks.evasion.projected_gradient_descent.projected_gradient_descent_pytorch\u001b[0m:\u001b[36mgenerate\u001b[0m:\u001b[36m237\u001b[0m Success rate of attack: 70.31%\n"
     ]
    },
    {
     "name": "stderr",
     "output_type": "stream",
     "text": [
      "Evaluation:  94%|█████████▎| 147/157 [08:38<00:33,  3.38s/it]"
     ]
    },
    {
     "name": "stdout",
     "output_type": "stream",
     "text": [
      "2023-04-04 11:23:01 12m9s \u001b[1mINFO    \u001b[0m \u001b[36mart.attacks.evasion.projected_gradient_descent.projected_gradient_descent\u001b[0m:\u001b[36mgenerate\u001b[0m:\u001b[36m199\u001b[0m Creating adversarial samples.\n",
      "2023-04-04 11:23:05 12m13s \u001b[1mINFO    \u001b[0m \u001b[36mart.attacks.evasion.projected_gradient_descent.projected_gradient_descent_pytorch\u001b[0m:\u001b[36mgenerate\u001b[0m:\u001b[36m237\u001b[0m Success rate of attack: 62.50%\n"
     ]
    },
    {
     "name": "stderr",
     "output_type": "stream",
     "text": [
      "Evaluation:  94%|█████████▍| 148/157 [08:42<00:30,  3.43s/it]"
     ]
    },
    {
     "name": "stdout",
     "output_type": "stream",
     "text": [
      "2023-04-04 11:23:05 12m13s \u001b[1mINFO    \u001b[0m \u001b[36mart.attacks.evasion.projected_gradient_descent.projected_gradient_descent\u001b[0m:\u001b[36mgenerate\u001b[0m:\u001b[36m199\u001b[0m Creating adversarial samples.\n",
      "2023-04-04 11:23:08 12m16s \u001b[1mINFO    \u001b[0m \u001b[36mart.attacks.evasion.projected_gradient_descent.projected_gradient_descent_pytorch\u001b[0m:\u001b[36mgenerate\u001b[0m:\u001b[36m237\u001b[0m Success rate of attack: 65.62%\n"
     ]
    },
    {
     "name": "stderr",
     "output_type": "stream",
     "text": [
      "Evaluation:  95%|█████████▍| 149/157 [08:45<00:26,  3.37s/it]"
     ]
    },
    {
     "name": "stdout",
     "output_type": "stream",
     "text": [
      "2023-04-04 11:23:08 12m16s \u001b[1mINFO    \u001b[0m \u001b[36mart.attacks.evasion.projected_gradient_descent.projected_gradient_descent\u001b[0m:\u001b[36mgenerate\u001b[0m:\u001b[36m199\u001b[0m Creating adversarial samples.\n",
      "2023-04-04 11:23:11 12m19s \u001b[1mINFO    \u001b[0m \u001b[36mart.attacks.evasion.projected_gradient_descent.projected_gradient_descent_pytorch\u001b[0m:\u001b[36mgenerate\u001b[0m:\u001b[36m237\u001b[0m Success rate of attack: 67.19%\n"
     ]
    },
    {
     "name": "stderr",
     "output_type": "stream",
     "text": [
      "Evaluation:  96%|█████████▌| 150/157 [08:49<00:23,  3.34s/it]"
     ]
    },
    {
     "name": "stdout",
     "output_type": "stream",
     "text": [
      "2023-04-04 11:23:11 12m19s \u001b[1mINFO    \u001b[0m \u001b[36mart.attacks.evasion.projected_gradient_descent.projected_gradient_descent\u001b[0m:\u001b[36mgenerate\u001b[0m:\u001b[36m199\u001b[0m Creating adversarial samples.\n",
      "2023-04-04 11:23:15 12m22s \u001b[1mINFO    \u001b[0m \u001b[36mart.attacks.evasion.projected_gradient_descent.projected_gradient_descent_pytorch\u001b[0m:\u001b[36mgenerate\u001b[0m:\u001b[36m237\u001b[0m Success rate of attack: 67.19%\n"
     ]
    },
    {
     "name": "stderr",
     "output_type": "stream",
     "text": [
      "Evaluation:  96%|█████████▌| 151/157 [08:52<00:19,  3.29s/it]"
     ]
    },
    {
     "name": "stdout",
     "output_type": "stream",
     "text": [
      "2023-04-04 11:23:15 12m22s \u001b[1mINFO    \u001b[0m \u001b[36mart.attacks.evasion.projected_gradient_descent.projected_gradient_descent\u001b[0m:\u001b[36mgenerate\u001b[0m:\u001b[36m199\u001b[0m Creating adversarial samples.\n",
      "2023-04-04 11:23:18 12m25s \u001b[1mINFO    \u001b[0m \u001b[36mart.attacks.evasion.projected_gradient_descent.projected_gradient_descent_pytorch\u001b[0m:\u001b[36mgenerate\u001b[0m:\u001b[36m237\u001b[0m Success rate of attack: 76.56%\n"
     ]
    },
    {
     "name": "stderr",
     "output_type": "stream",
     "text": [
      "Evaluation:  97%|█████████▋| 152/157 [08:55<00:16,  3.21s/it]"
     ]
    },
    {
     "name": "stdout",
     "output_type": "stream",
     "text": [
      "2023-04-04 11:23:18 12m25s \u001b[1mINFO    \u001b[0m \u001b[36mart.attacks.evasion.projected_gradient_descent.projected_gradient_descent\u001b[0m:\u001b[36mgenerate\u001b[0m:\u001b[36m199\u001b[0m Creating adversarial samples.\n",
      "2023-04-04 11:23:21 12m28s \u001b[1mINFO    \u001b[0m \u001b[36mart.attacks.evasion.projected_gradient_descent.projected_gradient_descent_pytorch\u001b[0m:\u001b[36mgenerate\u001b[0m:\u001b[36m237\u001b[0m Success rate of attack: 64.06%\n"
     ]
    },
    {
     "name": "stderr",
     "output_type": "stream",
     "text": [
      "Evaluation:  97%|█████████▋| 153/157 [08:58<00:12,  3.16s/it]"
     ]
    },
    {
     "name": "stdout",
     "output_type": "stream",
     "text": [
      "2023-04-04 11:23:21 12m28s \u001b[1mINFO    \u001b[0m \u001b[36mart.attacks.evasion.projected_gradient_descent.projected_gradient_descent\u001b[0m:\u001b[36mgenerate\u001b[0m:\u001b[36m199\u001b[0m Creating adversarial samples.\n",
      "2023-04-04 11:23:24 12m32s \u001b[1mINFO    \u001b[0m \u001b[36mart.attacks.evasion.projected_gradient_descent.projected_gradient_descent_pytorch\u001b[0m:\u001b[36mgenerate\u001b[0m:\u001b[36m237\u001b[0m Success rate of attack: 68.75%\n"
     ]
    },
    {
     "name": "stderr",
     "output_type": "stream",
     "text": [
      "Evaluation:  98%|█████████▊| 154/157 [09:01<00:09,  3.25s/it]"
     ]
    },
    {
     "name": "stdout",
     "output_type": "stream",
     "text": [
      "2023-04-04 11:23:24 12m32s \u001b[1mINFO    \u001b[0m \u001b[36mart.attacks.evasion.projected_gradient_descent.projected_gradient_descent\u001b[0m:\u001b[36mgenerate\u001b[0m:\u001b[36m199\u001b[0m Creating adversarial samples.\n",
      "2023-04-04 11:23:27 12m35s \u001b[1mINFO    \u001b[0m \u001b[36mart.attacks.evasion.projected_gradient_descent.projected_gradient_descent_pytorch\u001b[0m:\u001b[36mgenerate\u001b[0m:\u001b[36m237\u001b[0m Success rate of attack: 68.75%\n"
     ]
    },
    {
     "name": "stderr",
     "output_type": "stream",
     "text": [
      "Evaluation:  99%|█████████▊| 155/157 [09:04<00:06,  3.26s/it]"
     ]
    },
    {
     "name": "stdout",
     "output_type": "stream",
     "text": [
      "2023-04-04 11:23:27 12m35s \u001b[1mINFO    \u001b[0m \u001b[36mart.attacks.evasion.projected_gradient_descent.projected_gradient_descent\u001b[0m:\u001b[36mgenerate\u001b[0m:\u001b[36m199\u001b[0m Creating adversarial samples.\n",
      "2023-04-04 11:23:30 12m38s \u001b[1mINFO    \u001b[0m \u001b[36mart.attacks.evasion.projected_gradient_descent.projected_gradient_descent_pytorch\u001b[0m:\u001b[36mgenerate\u001b[0m:\u001b[36m237\u001b[0m Success rate of attack: 68.75%\n"
     ]
    },
    {
     "name": "stderr",
     "output_type": "stream",
     "text": [
      "Evaluation:  99%|█████████▉| 156/157 [09:08<00:03,  3.21s/it]"
     ]
    },
    {
     "name": "stdout",
     "output_type": "stream",
     "text": [
      "2023-04-04 11:23:30 12m38s \u001b[1mINFO    \u001b[0m \u001b[36mart.attacks.evasion.projected_gradient_descent.projected_gradient_descent\u001b[0m:\u001b[36mgenerate\u001b[0m:\u001b[36m199\u001b[0m Creating adversarial samples.\n",
      "2023-04-04 11:23:31 12m39s \u001b[1mINFO    \u001b[0m \u001b[36mart.attacks.evasion.projected_gradient_descent.projected_gradient_descent_pytorch\u001b[0m:\u001b[36mgenerate\u001b[0m:\u001b[36m237\u001b[0m Success rate of attack: 68.75%\n"
     ]
    },
    {
     "name": "stderr",
     "output_type": "stream",
     "text": [
      "Evaluation: 100%|██████████| 157/157 [09:08<00:00,  3.50s/it]"
     ]
    },
    {
     "name": "stdout",
     "output_type": "stream",
     "text": [
      "2023-04-04 11:23:31 12m39s \u001b[34mMETRIC  \u001b[0m \u001b[36marmory.instrument.instrument\u001b[0m:\u001b[36m_write\u001b[0m:\u001b[36m743\u001b[0m benign_mean_categorical_accuracy on benign examples w.r.t. ground truth labels: 0.539\n",
      "2023-04-04 11:23:31 12m39s \u001b[34mMETRIC  \u001b[0m \u001b[36marmory.instrument.instrument\u001b[0m:\u001b[36m_write\u001b[0m:\u001b[36m743\u001b[0m adversarial_mean_categorical_accuracy on adversarial examples w.r.t. ground truth labels: 0.0002\n"
     ]
    },
    {
     "name": "stderr",
     "output_type": "stream",
     "text": [
      "\n"
     ]
    }
   ],
   "source": [
    "result = engine.run()"
   ]
  },
  {
   "cell_type": "code",
   "execution_count": 14,
   "metadata": {},
   "outputs": [
    {
     "name": "stdout",
     "output_type": "stream",
     "text": [
      "{'armory_version': '23.3.0.post4+gcd970d9e',\n",
      " 'config': {'attack': {'function': 'art.attacks.evasion:ProjectedGradientDescent',\n",
      "                       'knowledge': 'white',\n",
      "                       'kwargs': {'batch_size': 1,\n",
      "                                  'eps': 0.031,\n",
      "                                  'eps_step': 0.007,\n",
      "                                  'max_iter': 20,\n",
      "                                  'num_random_init': 1,\n",
      "                                  'random_eps': False,\n",
      "                                  'targeted': False,\n",
      "                                  'verbose': False},\n",
      "                       'type': None,\n",
      "                       'use_label': True},\n",
      "            'author': 'msw@example.com',\n",
      "            'dataset': {'batch_size': 64,\n",
      "                        'framework': 'numpy',\n",
      "                        'function': 'armory.data.datasets:cifar10'},\n",
      "            'defense': None,\n",
      "            'description': 'Baseline cifar10 image classification',\n",
      "            'metric': {'means': True,\n",
      "                       'perturbation': ['linf'],\n",
      "                       'profiler_type': 'basic',\n",
      "                       'record_metric_per_sample': False,\n",
      "                       'supported_metrics': ['accuracy'],\n",
      "                       'task': ['categorical_accuracy']},\n",
      "            'model': {'fit': True,\n",
      "                      'fit_kwargs': {'nb_epochs': 20},\n",
      "                      'function': 'armory.baseline_models.pytorch.cifar:get_art_model',\n",
      "                      'model_kwargs': {},\n",
      "                      'weights_file': None,\n",
      "                      'wrapper_kwargs': {}},\n",
      "            'name': 'cifar_baseline',\n",
      "            'scenario': {'function': 'armory.scenarios.image_classification:ImageClassificationTask',\n",
      "                         'kwargs': {}},\n",
      "            'sysconfig': {'gpus': ['all'], 'use_gpu': True}},\n",
      " 'results': {'adversarial_mean_categorical_accuracy': [0.0002],\n",
      "             'benign_mean_categorical_accuracy': [0.5394],\n",
      "             'compute': {'Avg. CPU time (s) for 157 executions of Attack': 3.489984106962609,\n",
      "                         'Avg. CPU time (s) for 157 executions of Inference': 0.0018184005223870112},\n",
      "             'perturbation_mean_linf': [0.031000018110871316]},\n",
      " 'timestamp': 1680621210}\n"
     ]
    }
   ],
   "source": [
    "from pprint import pprint\n",
    "pprint(result)"
   ]
  },
  {
   "attachments": {},
   "cell_type": "markdown",
   "metadata": {},
   "source": [
    "# Recap\n",
    "\n",
    "There is a bunch of explanation and debug prints in this notebook, but the\n",
    "working code used is quite short:"
   ]
  },
  {
   "cell_type": "code",
   "execution_count": null,
   "metadata": {},
   "outputs": [],
   "source": [
    "import charmory.blocks.cifar10\n",
    "import charmory.engine\n",
    "\n",
    "baseline = charmory.blocks.cifar10.baseline\n",
    "engine = charmory.engine.Engine(baseline)\n",
    "result = engine.run()"
   ]
  }
 ],
 "metadata": {
  "kernelspec": {
   "display_name": "cdao",
   "language": "python",
   "name": "cdao"
  },
  "language_info": {
   "codemirror_mode": {
    "name": "ipython",
    "version": 3
   },
   "file_extension": ".py",
   "mimetype": "text/x-python",
   "name": "python",
   "nbconvert_exporter": "python",
   "pygments_lexer": "ipython3",
   "version": "3.10.6"
  },
  "orig_nbformat": 4
 },
 "nbformat": 4,
 "nbformat_minor": 2
}
